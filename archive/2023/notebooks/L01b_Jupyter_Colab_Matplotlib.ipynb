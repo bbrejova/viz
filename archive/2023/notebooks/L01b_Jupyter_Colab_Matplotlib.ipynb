{
 "cells": [
  {
   "cell_type": "markdown",
   "metadata": {
    "id": "4lx4yrfBy7_k"
   },
   "source": [
    "# Lecture 1b: Introduction to Jupyter Notebooks, Google Colab and Matplotlib\n",
    "\n",
    "[Data Visualization · 1-DAV-105](http://compbio.fmph.uniba.sk/vyuka/viz/)\n",
    "\n",
    "Lecture by Broňa Brejová\n"
   ]
  },
  {
   "cell_type": "markdown",
   "metadata": {
    "id": "mhZgs9BLmdYV"
   },
   "source": [
    "## Jupyter Notebook\n",
    "\n",
    "* https://jupyter.org/\n",
    "* Jupyter Notebook is a web-based software for interactive work in Python.\n",
    "* It is frequently used for data processing and visualization.\n",
    "* A document called **notebook** consists of **cells**.\n",
    "* Each cell contains either text or Python code.\n",
    "* The text may include formatting in [Markdown](https://colab.research.google.com/notebooks/markdown_guide.ipynb) language.\n",
    "* A cell with Python code can be executed and the results display below, including images.\n",
    "* This presentation is a Jupyter notebook.\n"
   ]
  },
  {
   "cell_type": "markdown",
   "metadata": {
    "id": "o4eJCauQoVL1"
   },
   "source": [
    "## Google Colab\n",
    "\n",
    "* https://colab.research.google.com/\n",
    "* Colab stores your notebooks on Google drive, executes them on Google servers.\n",
    "* We will use it in this course.\n",
    "* There are also other notebook hosting services.\n",
    "* Alternatively you can install and run Jupyter Notebook software on your computer (e.g. for sensitive data)."
   ]
  },
  {
   "cell_type": "markdown",
   "metadata": {
    "id": "dy1aX9N7taDp"
   },
   "source": [
    "## How to use Notebooks\n",
    "\n",
    "* Notebooks have an intuitive interface with menus, toolbars, context menus (right-click) etc.\n",
    "* It is useful to learn some keyboard shortcuts.\n",
    "\n",
    "When you are not editting a cell:\n",
    "\n",
    "* use Up and Down arrows to move between cells\n",
    "* use **Enter** (or double-click) to start editing a cell\n",
    "* use **Esc** to stop editing a cell\n",
    "* use **Ctrl-Enter** to run a code in a cell, **Shift-Enter** to run the code and move to the next cell "
   ]
  },
  {
   "cell_type": "markdown",
   "metadata": {
    "id": "NBHGsQzB1hn6"
   },
   "source": [
    "### An example of a code cell\n",
    "\n",
    "* A cell can include imports, function definitions, commands.\n",
    "* Variables will be visible in other cells.\n",
    "* The results of print are shown below the cell when executed.\n",
    "* The last expression is printed below the cell when executed."
   ]
  },
  {
   "cell_type": "code",
   "execution_count": 1,
   "metadata": {
    "colab": {
     "base_uri": "https://localhost:8080/"
    },
    "executionInfo": {
     "elapsed": 793,
     "status": "ok",
     "timestamp": 1613476146026,
     "user": {
      "displayName": "Martina Bátorová",
      "photoUrl": "https://lh3.googleusercontent.com/a-/AOh14Gjbv3OQVZJrWKA2iFGyc5PpS6w_5aM9eOnt_wTxtw=s64",
      "userId": "10172390763661849094"
     },
     "user_tz": -60
    },
    "id": "iGspvlfayLUo",
    "outputId": "940ad252-a700-4184-82d4-a92ede2f4833"
   },
   "outputs": [
    {
     "name": "stdout",
     "output_type": "stream",
     "text": [
      "[0, 1, 2, 3, 4, 5, 6, 7, 8, 9, 10, 11, 12, 13, 14, 15, 16, 17, 18, 19]\n",
      "[0, 1, 4, 9, 16, 25, 36, 49, 64, 81, 100, 121, 144, 169, 196, 225, 256, 289, 324, 361]\n"
     ]
    },
    {
     "data": {
      "text/plain": [
       "[0,\n",
       " 1,\n",
       " 4,\n",
       " 9,\n",
       " 16,\n",
       " 25,\n",
       " 36,\n",
       " 49,\n",
       " 64,\n",
       " 81,\n",
       " 100,\n",
       " 121,\n",
       " 144,\n",
       " 169,\n",
       " 196,\n",
       " 225,\n",
       " 256,\n",
       " 289,\n",
       " 324,\n",
       " 361]"
      ]
     },
     "execution_count": 1,
     "metadata": {},
     "output_type": "execute_result"
    }
   ],
   "source": [
    "# create variable x with list of numbers 0,1,...,19\n",
    "x = list(range(20))\n",
    "# variable y will contain squares of values in x\n",
    "y = [xval * xval for xval in x]\n",
    "# print x and y\n",
    "print(x)\n",
    "print(y)\n",
    "# the last value (y) is also printed automatically\n",
    "y"
   ]
  },
  {
   "cell_type": "markdown",
   "metadata": {
    "id": "4HcZ4ysz1-wY"
   },
   "source": [
    "### Example of a cell with a plot\n",
    "\n",
    "* The plot uses variables `x` and `y` from the previous cell to plot the quadratic function."
   ]
  },
  {
   "cell_type": "code",
   "execution_count": 2,
   "metadata": {
    "colab": {
     "base_uri": "https://localhost:8080/",
     "height": 265
    },
    "executionInfo": {
     "elapsed": 1174,
     "status": "ok",
     "timestamp": 1613476146418,
     "user": {
      "displayName": "Martina Bátorová",
      "photoUrl": "https://lh3.googleusercontent.com/a-/AOh14Gjbv3OQVZJrWKA2iFGyc5PpS6w_5aM9eOnt_wTxtw=s64",
      "userId": "10172390763661849094"
     },
     "user_tz": -60
    },
    "id": "k5dVQG5szPO2",
    "outputId": "90ad7ecb-92ba-4585-f748-cf1907278b17"
   },
   "outputs": [
    {
     "data": {
      "image/png": "[encoded data removed]",
      "text/plain": [
       "<Figure size 432x288 with 1 Axes>"
      ]
     },
     "metadata": {
      "needs_background": "light"
     },
     "output_type": "display_data"
    }
   ],
   "source": [
    "import matplotlib.pyplot as plt\n",
    "# create figure with a single plot (axes)\n",
    "figure, axes = plt.subplots()\n",
    "# plot x vs y\n",
    "axes.plot(x, y, '.')\n",
    "# command pass to suppress unwanted output from plot\n",
    "pass"
   ]
  },
  {
   "cell_type": "markdown",
   "metadata": {
    "id": "aRd_vXBtwAup"
   },
   "source": [
    "## Matplotlib library\n",
    "\n",
    "* https://matplotlib.org/\n",
    "* Matplotlib is a Python library for creating plots.\n",
    "* In the code above, axes is the Matplotlib name for a single plot.\n",
    "* Let us now plot two functions: quadratic and cubic in the same plot."
   ]
  },
  {
   "cell_type": "code",
   "execution_count": 3,
   "metadata": {
    "colab": {
     "base_uri": "https://localhost:8080/",
     "height": 266
    },
    "executionInfo": {
     "elapsed": 1563,
     "status": "ok",
     "timestamp": 1613476146813,
     "user": {
      "displayName": "Martina Bátorová",
      "photoUrl": "https://lh3.googleusercontent.com/a-/AOh14Gjbv3OQVZJrWKA2iFGyc5PpS6w_5aM9eOnt_wTxtw=s64",
      "userId": "10172390763661849094"
     },
     "user_tz": -60
    },
    "id": "7230ADYov_yM",
    "outputId": "08647c9f-f9dc-488b-edef-586eea620df7"
   },
   "outputs": [
    {
     "data": {
      "image/png": "[encoded data removed]",
      "text/plain": [
       "<Figure size 432x288 with 1 Axes>"
      ]
     },
     "metadata": {
      "needs_background": "light"
     },
     "output_type": "display_data"
    }
   ],
   "source": [
    "# x_dense is values from 0 to 10 with step 0.1\n",
    "x_dense = [val / 10 for val in range(0, 100)]\n",
    "# values in y2_dense are values from x_dense squared\n",
    "y2_dense = [xval ** 2 for xval in x_dense]\n",
    "# values in y3_dense are values from x_dense to the power of 3\n",
    "y3_dense = [xval ** 3 for xval in x_dense]\n",
    "# plot the quadratic and cubic function in a single plot\n",
    "figure, axes = plt.subplots()\n",
    "axes.plot(x_dense, y2_dense, '.')\n",
    "axes.plot(x_dense, y3_dense, '.')\n",
    "pass "
   ]
  },
  {
   "cell_type": "markdown",
   "metadata": {
    "id": "baJytmn-zVTR"
   },
   "source": [
    "### Setting labels and titles in Matplotlib"
   ]
  },
  {
   "cell_type": "code",
   "execution_count": 4,
   "metadata": {
    "colab": {
     "base_uri": "https://localhost:8080/",
     "height": 295
    },
    "executionInfo": {
     "elapsed": 2043,
     "status": "ok",
     "timestamp": 1613476147300,
     "user": {
      "displayName": "Martina Bátorová",
      "photoUrl": "https://lh3.googleusercontent.com/a-/AOh14Gjbv3OQVZJrWKA2iFGyc5PpS6w_5aM9eOnt_wTxtw=s64",
      "userId": "10172390763661849094"
     },
     "user_tz": -60
    },
    "id": "IzHJe9I-zbwY",
    "outputId": "fea49bda-2ad0-45f7-b26c-14bcb7bc3dd7"
   },
   "outputs": [
    {
     "data": {
      "image/png": "[encoded data removed]",
      "text/plain": [
       "<Figure size 432x288 with 1 Axes>"
      ]
     },
     "metadata": {
      "needs_background": "light"
     },
     "output_type": "display_data"
    }
   ],
   "source": [
    "# the same plot as before, but name the two sets of points by label\n",
    "figure, axes = plt.subplots()\n",
    "axes.plot(x_dense, y2_dense, '.', label=\"quadratic\")\n",
    "axes.plot(x_dense, y3_dense, '.', label=\"cubic\")\n",
    "# add titles for axes, usually use a more descriptive titles\n",
    "axes.set_xlabel(\"x\")  \n",
    "axes.set_ylabel(\"f(x)\")\n",
    "# legend (which plot is which function), uses the labels set in plt.plot\n",
    "axes.legend()  \n",
    "# a title of the whole plot\n",
    "axes.set_title(\"A plot of the quadratic and cubic functions\")\n",
    "pass # to prevent unwanted output"
   ]
  },
  {
   "cell_type": "markdown",
   "metadata": {
    "id": "yg2Vs5fOMvyp"
   },
   "source": [
    "### Setting lines/markers/colors\n",
    "\n",
    "* In the `axes.plot` command, `'.'` represents formatting, in this case a small dot.\n",
    "* The formatting string has three optional parts: marker, line, color.\n",
    "* Examples: `'or'` red circle, `'-g'` green solid line, `'--'` dashed line.\n",
    "* See more in [documentation](https://matplotlib.org/stable/api/_as_gen/matplotlib.pyplot.plot.html).\n",
    "\n"
   ]
  },
  {
   "cell_type": "code",
   "execution_count": 5,
   "metadata": {
    "colab": {
     "base_uri": "https://localhost:8080/",
     "height": 265
    },
    "executionInfo": {
     "elapsed": 2036,
     "status": "ok",
     "timestamp": 1613476147300,
     "user": {
      "displayName": "Martina Bátorová",
      "photoUrl": "https://lh3.googleusercontent.com/a-/AOh14Gjbv3OQVZJrWKA2iFGyc5PpS6w_5aM9eOnt_wTxtw=s64",
      "userId": "10172390763661849094"
     },
     "user_tz": -60
    },
    "id": "86qz6GfxM9Ie",
    "outputId": "916b2ef2-8661-49f5-eb0c-4f66e43280ad"
   },
   "outputs": [
    {
     "data": {
      "image/png": "[encoded data removed]",
      "text/plain": [
       "<Figure size 432x288 with 1 Axes>"
      ]
     },
     "metadata": {
      "needs_background": "light"
     },
     "output_type": "display_data"
    }
   ],
   "source": [
    "x_sparse = range(0, 10)\n",
    "y2_sparse = [xval ** 2 for xval in x_sparse]\n",
    "y3_sparse = [xval ** 3 for xval in x_sparse]\n",
    "figure, axes = plt.subplots()\n",
    "axes.plot(x_sparse, y2_sparse, 'o-')\n",
    "axes.plot(x_sparse, y3_sparse, '.--')\n",
    "pass"
   ]
  },
  {
   "cell_type": "markdown",
   "metadata": {
    "id": "KmDslVWpRN02"
   },
   "source": [
    "### Multiple plots per image\n",
    "* Function [plt.subplots](https://matplotlib.org/stable/api/_as_gen/matplotlib.pyplot.subplots.html) can take as arguments the number of rows and the number of columns and creates multiple subplots per image\n",
    "* Why is this figure not an ideal visual comparison of the quadratic and cubic function?"
   ]
  },
  {
   "cell_type": "code",
   "execution_count": 6,
   "metadata": {
    "colab": {
     "base_uri": "https://localhost:8080/",
     "height": 265
    },
    "executionInfo": {
     "elapsed": 2550,
     "status": "ok",
     "timestamp": 1613476147822,
     "user": {
      "displayName": "Martina Bátorová",
      "photoUrl": "https://lh3.googleusercontent.com/a-/AOh14Gjbv3OQVZJrWKA2iFGyc5PpS6w_5aM9eOnt_wTxtw=s64",
      "userId": "10172390763661849094"
     },
     "user_tz": -60
    },
    "id": "VHn6fIquRYyk",
    "outputId": "dc2a371a-501c-4e1f-fb19-028846861f71"
   },
   "outputs": [
    {
     "data": {
      "image/png": "[encoded data removed]",
      "text/plain": [
       "<Figure size 432x288 with 2 Axes>"
      ]
     },
     "metadata": {
      "needs_background": "light"
     },
     "output_type": "display_data"
    }
   ],
   "source": [
    "figure, axes = plt.subplots(1, 2)\n",
    "axes[0].plot(x_dense, y2_dense)\n",
    "axes[1].plot(x_dense, y3_dense)\n",
    "pass"
   ]
  },
  {
   "cell_type": "markdown",
   "metadata": {},
   "source": [
    "* Each plot has different y-axis, which is not good, because we do not immediately see that the cubic function grows much faster than the quadratic.\n",
    "* We will fix this in the next plot using `sharey=True` setting (`sharex=True` also exists but here not needed).\n"
   ]
  },
  {
   "cell_type": "code",
   "execution_count": 7,
   "metadata": {
    "colab": {
     "base_uri": "https://localhost:8080/",
     "height": 265
    },
    "executionInfo": {
     "elapsed": 2544,
     "status": "ok",
     "timestamp": 1613476147824,
     "user": {
      "displayName": "Martina Bátorová",
      "photoUrl": "https://lh3.googleusercontent.com/a-/AOh14Gjbv3OQVZJrWKA2iFGyc5PpS6w_5aM9eOnt_wTxtw=s64",
      "userId": "10172390763661849094"
     },
     "user_tz": -60
    },
    "id": "QAZuXoDsTpub",
    "outputId": "47e99fae-4afa-4855-8929-0bb9fba94295"
   },
   "outputs": [
    {
     "data": {
      "image/png": "[encoded data removed]",
      "text/plain": [
       "<Figure size 432x288 with 2 Axes>"
      ]
     },
     "metadata": {
      "needs_background": "light"
     },
     "output_type": "display_data"
    }
   ],
   "source": [
    "# fixing the problem with different y-axis\n",
    "figure, axes = plt.subplots(1, 2, sharey=True)\n",
    "axes[0].plot(x_dense, y2_dense)\n",
    "axes[1].plot(x_dense, y3_dense)\n",
    "pass"
   ]
  },
  {
   "cell_type": "markdown",
   "metadata": {},
   "source": [
    "## Dangers of notebooks\n",
    "\n",
    "* Frequent use pattern: the users have several cells finished and executed, they work on the last cell in the notebook, and run it repeatedly until it works correctly. This avoids repeated execution of the top cells, which may be slow.\n",
    "* Notebooks do not force you to run cells in order from top to bottom. This generates problems if you skip some cells or execute them repeatedly.\n",
    "\n",
    "Good practice suggestions:\n",
    "\n",
    "* Do not modify variables introduced in previous cells.\n",
    "* Refactor bigger or repeated parts of code to functions. This also hides local variables from the rest of the notebook and thus prevents clashes.\n",
    "* Ideally move functions to modules but this is harder in Colab.\n",
    "* Avoid running cells out of order and occasionally restart the kernel (to remove variables) and run all cells (using a menu function).\n",
    "\n",
    "Below we see an example not obeying the first recommendation; the value printed will depened on how many times we execute the second cell. This can lead to hard-to-find errors in a more complex case."
   ]
  },
  {
   "cell_type": "code",
   "execution_count": 8,
   "metadata": {},
   "outputs": [],
   "source": [
    "value = 0"
   ]
  },
  {
   "cell_type": "code",
   "execution_count": 9,
   "metadata": {},
   "outputs": [
    {
     "name": "stdout",
     "output_type": "stream",
     "text": [
      "1\n"
     ]
    }
   ],
   "source": [
    "value += 1\n",
    "print(value)"
   ]
  },
  {
   "cell_type": "markdown",
   "metadata": {
    "id": "eNDHwwz1CgRW"
   },
   "source": [
    "## Additional resources\n",
    "\n",
    "\n",
    "*  Python Data Science Handbook by Jake VanderPlas,  O'Reilly 2016\n",
    "https://jakevdp.github.io/PythonDataScienceHandbook/\n",
    "*  Jupyter Notebook documentation https://jupyter-notebook.readthedocs.io/en/stable/\n",
    "* Google Colab website https://colab.research.google.com/ and introductory video https://www.youtube.com/watch?v=inN8seMm7UI\n",
    "* Matplotlib tutorials https://matplotlib.org/stable/tutorials/index.html\n",
    "* I don't like notebooks by Joel Grus https://www.youtube.com/watch?v=7jiPeIFXb6U  \n",
    "\n",
    "\n"
   ]
  }
 ],
 "metadata": {
  "celltoolbar": "Slideshow",
  "colab": {
   "collapsed_sections": [],
   "name": "L01b_Jupyter_Colab_Matplotlib.ipynb",
   "provenance": [],
   "toc_visible": true
  },
  "kernelspec": {
   "display_name": "Python 3",
   "language": "python",
   "name": "python3"
  },
  "language_info": {
   "codemirror_mode": {
    "name": "ipython",
    "version": 3
   },
   "file_extension": ".py",
   "mimetype": "text/x-python",
   "name": "python",
   "nbconvert_exporter": "python",
   "pygments_lexer": "ipython3",
   "version": "3.8.10"
  }
 },
 "nbformat": 4,
 "nbformat_minor": 1
}
