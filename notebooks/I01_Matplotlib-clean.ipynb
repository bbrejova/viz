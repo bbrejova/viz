{
 "cells": [
  {
   "cell_type": "markdown",
   "metadata": {
    "id": "kgp0XR2xIqRM"
   },
   "source": [
    "# Individual Tasks, Set 1\n",
    "\n",
    "Please **follow the [guidelines](https://bbrejova.github.io/viz/Tutorial1.html\\#pokyny-k-zadaniam)** for submitting notebooks. \n",
    "\n",
    "**Do not import any other libraries** other than the six below."
   ]
  },
  {
   "cell_type": "code",
   "execution_count": null,
   "metadata": {
    "executionInfo": {
     "elapsed": 826,
     "status": "ok",
     "timestamp": 1644950997752,
     "user": {
      "displayName": "Brona Brejova",
      "photoUrl": "https://lh3.googleusercontent.com/a-/AOh14GjGyr69ecECqZOZ-_5-o1v7SpP5TdLQGU7-pHl4UQ=s64",
      "userId": "10789993073610145432"
     },
     "user_tz": -60
    },
    "id": "GymhumhpBbd7"
   },
   "outputs": [],
   "source": [
    "import matplotlib.pyplot as plt\n",
    "import random\n",
    "import math\n",
    "import urllib.request\n",
    "import csv\n",
    "from IPython.display import Markdown"
   ]
  },
  {
   "cell_type": "markdown",
   "metadata": {
    "id": "nr5gC8buZL_-"
   },
   "source": [
    "## Task 1: Plotting two functions\n",
    "\n",
    "* Create a plot of the quadratic and cubic functions for `x` between -2 and 2. Your plot should look as [this figure](https://bbrejova.github.io/viz/img/I01-t1.png). \n",
    "* We will proceed in two parts.\n",
    "\n"
   ]
  },
  {
   "cell_type": "markdown",
   "metadata": {
    "id": "R424U_KpOVy-"
   },
   "source": [
    "### Task 1a\n",
    "\n",
    "Create three lists `x`, `y2` and `y3` as follows:\n",
    "\n",
    "* `x` contains values between -2 and 2 inclusive with step 0.1,\n",
    "* `y2` contains second powers of the numbers in `x`, and\n",
    "* `y3` contains the third powers of the numbers in `x`,"
   ]
  },
  {
   "cell_type": "code",
   "execution_count": null,
   "metadata": {
    "executionInfo": {
     "elapsed": 36,
     "status": "ok",
     "timestamp": 1644950997761,
     "user": {
      "displayName": "Brona Brejova",
      "photoUrl": "https://lh3.googleusercontent.com/a-/AOh14GjGyr69ecECqZOZ-_5-o1v7SpP5TdLQGU7-pHl4UQ=s64",
      "userId": "10789993073610145432"
     },
     "user_tz": -60
    },
    "id": "w01a3VISVhJu"
   },
   "outputs": [],
   "source": [
    "### TASK 1a START\n",
    "# Uncomment the three lines below and add your code.\n",
    "# x = \n",
    "# y2 = \n",
    "# y3 =  \n",
    "### TASK 1a END"
   ]
  },
  {
   "cell_type": "markdown",
   "metadata": {
    "id": "0_gjvgHaMmAm"
   },
   "source": [
    "Run the next cell to check that your lists are correct."
   ]
  },
  {
   "cell_type": "code",
   "execution_count": null,
   "metadata": {
    "colab": {
     "base_uri": "https://localhost:8080/",
     "height": 225
    },
    "executionInfo": {
     "elapsed": 34,
     "status": "ok",
     "timestamp": 1644950997761,
     "user": {
      "displayName": "Brona Brejova",
      "photoUrl": "https://lh3.googleusercontent.com/a-/AOh14GjGyr69ecECqZOZ-_5-o1v7SpP5TdLQGU7-pHl4UQ=s64",
      "userId": "10789993073610145432"
     },
     "user_tz": -60
    },
    "id": "8EnQpnyCMlog",
    "outputId": "b292aa6d-61a3-4b99-c6ec-5ac3fa1fc32e"
   },
   "outputs": [],
   "source": [
    "display(Markdown(\"**Displaying the first and last 5 numbers in x**\"))\n",
    "display(x[0:5])\n",
    "display(x[35:41])\n",
    "display(Markdown(\"**Displaying the first numbers in y2 and y3**\"))\n",
    "display(y2[0:5])\n",
    "display(y3[0:5])\n",
    "display(Markdown(\"**Running some checks**\"))\n",
    "assert len(x) == 41 and len(y2) == 41 and len(y3) == 41\n",
    "assert x[0]==-2 and y2[0]==4.0 and y3[0]==-8.0\n",
    "assert x[40]==2 and y2[40]==4.0 and y3[40]==8.0\n",
    "assert x[20]==0 and y2[20]==0 and y3[20]==0\n",
    "print(\"OK\")"
   ]
  },
  {
   "cell_type": "markdown",
   "metadata": {
    "id": "-O19qkbMOmqf"
   },
   "source": [
    "### Task 1b\n",
    "* Plot the two functions using lists `x`, `y2` and `y3` (similarly as in the [lecture](https://colab.research.google.com/github/bbrejova/viz//blob/master/notebooks/L01b_Jupyter_Colab_Matplotlib.ipynb)).\n",
    "* Function $x^2$ should be drawn as a black line, $x^3$ as a red line.\n",
    "* The area between these functions should be filled with gray. For this use [`axes.fill_between`](https://matplotlib.org/stable/api/_as_gen/matplotlib.axes.Axes.fill_between.html) function, and set `facecolor='gray'`.\n",
    "* Show the legend stating which line is quadratic and which cubic.\n",
    "* Your plot should look like [this figure](https://bbrejova.github.io/viz/img/I01-t1.png). "
   ]
  },
  {
   "cell_type": "code",
   "execution_count": null,
   "metadata": {
    "colab": {
     "base_uri": "https://localhost:8080/",
     "height": 265
    },
    "executionInfo": {
     "elapsed": 28,
     "status": "ok",
     "timestamp": 1644950997762,
     "user": {
      "displayName": "Brona Brejova",
      "photoUrl": "https://lh3.googleusercontent.com/a-/AOh14GjGyr69ecECqZOZ-_5-o1v7SpP5TdLQGU7-pHl4UQ=s64",
      "userId": "10789993073610145432"
     },
     "user_tz": -60
    },
    "id": "IGg6gAj5LQR2",
    "outputId": "05902292-4cec-454d-a315-fb7f6866f4c5"
   },
   "outputs": [],
   "source": [
    "figure, axes = plt.subplots()\n",
    "### TASK 1b START\n",
    "# add commands for drawing the two functions \n",
    "# filling area between them and showing the legend\n",
    "\n",
    "### TASK 1b END\n",
    "pass"
   ]
  },
  {
   "cell_type": "markdown",
   "metadata": {
    "id": "0Oq95CCGg89u"
   },
   "source": [
    "## Task 2: Plotting random points\n",
    "The goal in this task is to generate random points in a square of size $2\\times 2$ and to check, which of these point are inside the circle with radius 1 inscribed inside this square. The points inside the circle will be drawn in red, the remaining ones in black. The result should look as [this figure](https://bbrejova.github.io/viz/img/I01-t2.png).\n"
   ]
  },
  {
   "cell_type": "code",
   "execution_count": null,
   "metadata": {
    "executionInfo": {
     "elapsed": 26,
     "status": "ok",
     "timestamp": 1644950997763,
     "user": {
      "displayName": "Brona Brejova",
      "photoUrl": "https://lh3.googleusercontent.com/a-/AOh14GjGyr69ecECqZOZ-_5-o1v7SpP5TdLQGU7-pHl4UQ=s64",
      "userId": "10789993073610145432"
     },
     "user_tz": -60
    },
    "id": "BWa0l5LDQwa0"
   },
   "outputs": [],
   "source": [
    "# the number of points to be drawn\n",
    "n = 1000"
   ]
  },
  {
   "cell_type": "markdown",
   "metadata": {
    "id": "3AFay6GYQ7Dl"
   },
   "source": [
    "### Task 2a\n",
    "\n",
    "* Generate a list `x` of `n` random real numbers between -1 and 1 using function [random.uniform](https://docs.python.org/3/library/random.html#random.uniform).\n",
    "* Similarly generate a list `y` of such numbers."
   ]
  },
  {
   "cell_type": "code",
   "execution_count": null,
   "metadata": {
    "colab": {
     "base_uri": "https://localhost:8080/",
     "height": 243
    },
    "executionInfo": {
     "elapsed": 25,
     "status": "ok",
     "timestamp": 1644950997763,
     "user": {
      "displayName": "Brona Brejova",
      "photoUrl": "https://lh3.googleusercontent.com/a-/AOh14GjGyr69ecECqZOZ-_5-o1v7SpP5TdLQGU7-pHl4UQ=s64",
      "userId": "10789993073610145432"
     },
     "user_tz": -60
    },
    "id": "9C9u60OjdNFg",
    "outputId": "ae806c2c-95c6-475e-d410-b3e7bbf90923"
   },
   "outputs": [],
   "source": [
    "### TASK 2a START\n",
    "# uncomment and finish the code. Use n defined above.\n",
    "# x = \n",
    "# y = \n",
    "### TASK 2a END\n",
    "\n",
    "display(Markdown(\"**Displaying the first 5 elements of x and y**\"))\n",
    "display(x[0:5])\n",
    "display(y[0:5])\n",
    "display(Markdown(\"**Running some checks**\"))\n",
    "assert len(x) == n and len(y) == n\n",
    "for i in range(n):\n",
    "  assert x[i] >= -1.0 and x[i] <= 1.0 and y[i] >= -1.0 and y[i] <= 1.0\n",
    "print(\"OK\")\n"
   ]
  },
  {
   "cell_type": "markdown",
   "metadata": {
    "id": "cxy2JhDZSnWT"
   },
   "source": [
    "### Task 2b\n",
    "Implement function `get_colors` which gets lists `x` and `y` of the same length and returns list `c` of the same length such that `c[i]` is string `'red'` if the distance of point `(x[i], y[i])` from point `(0,0)` is less than 1. Otherwise the value of `c[i]` is string `'black'`.\n",
    "\n",
    "Note that the distance of $(x,y)$ from $(0,0)$ is $\\sqrt{x^2 + y^2}$, but in our case it is sufficient to check if $x_i^2 + y_i^2 < 1$ without the square root (why?). "
   ]
  },
  {
   "cell_type": "code",
   "execution_count": null,
   "metadata": {
    "colab": {
     "base_uri": "https://localhost:8080/",
     "height": 139
    },
    "executionInfo": {
     "elapsed": 22,
     "status": "ok",
     "timestamp": 1644950997764,
     "user": {
      "displayName": "Brona Brejova",
      "photoUrl": "https://lh3.googleusercontent.com/a-/AOh14GjGyr69ecECqZOZ-_5-o1v7SpP5TdLQGU7-pHl4UQ=s64",
      "userId": "10789993073610145432"
     },
     "user_tz": -60
    },
    "id": "b_t_ja4sSMFS",
    "outputId": "0848b2a7-3f58-41e3-aa1f-4a7aadf74bc4"
   },
   "outputs": [],
   "source": [
    "def get_colors(x, y):\n",
    "  \"\"\"Gets lists of numbers x and y of the same length and returns\n",
    "  a list c of strings of the same length defined in the text above.\"\"\"\n",
    "  assert len(x) == len(y)\n",
    "  ### TASK 2b START\n",
    "  # finish or modify as needed\n",
    "  # c = \n",
    "  # return c\n",
    "  ### TASK 2b END\n",
    "\n",
    "display(Markdown(\"**Running a test with a small input**\"))\n",
    "c_test = get_colors([0, 1, -1, 1, 0.5], [0, 1, -1, 0, 0.5])\n",
    "display(c_test)\n",
    "assert c_test == [\"red\", \"black\", \"black\", \"black\", \"red\"]\n",
    "print(\"OK\")\n",
    "\n",
    "display(Markdown(\"**Setting the final list of colors and printing the first 5 values**\"))\n",
    "c = get_colors(x, y)\n",
    "print(c[0:5])\n",
    "\n",
    "display(Markdown(\"**Running some checks**\"))\n",
    "assert len(c) == len(x)\n",
    "for i in range(len(c)):\n",
    "  assert c[i] == 'red' or c[i] == 'black'\n",
    "print(\"OK\")\n",
    "\n"
   ]
  },
  {
   "cell_type": "markdown",
   "metadata": {
    "id": "DjKay6rUXiQ_"
   },
   "source": [
    "### Task 2c\n",
    "Now create the plot which should look as [this figure](https://bbrejova.github.io/viz/img/I01-t2.png), although the exact position of points will vary with each run.\n",
    "* Setup figure using subplots\n",
    "* Use command [`axes.scatter`](https://matplotlib.org/stable/api/_as_gen/matplotlib.axes.Axes.scatter.html)`(x, y, c=c)` to plot each point `(x[i], y[i])` with color `c[i]`\n",
    "* Use method [`axes.set_aspect`](https://matplotlib.org/stable/api/_as_gen/matplotlib.axes.Axes.set_aspect.html)`('equal')` from the `Axes` class to make the x and y axis to have the same scale. "
   ]
  },
  {
   "cell_type": "code",
   "execution_count": null,
   "metadata": {
    "colab": {
     "base_uri": "https://localhost:8080/",
     "height": 265
    },
    "executionInfo": {
     "elapsed": 417,
     "status": "ok",
     "timestamp": 1644950998164,
     "user": {
      "displayName": "Brona Brejova",
      "photoUrl": "https://lh3.googleusercontent.com/a-/AOh14GjGyr69ecECqZOZ-_5-o1v7SpP5TdLQGU7-pHl4UQ=s64",
      "userId": "10789993073610145432"
     },
     "user_tz": -60
    },
    "id": "3ggiwfEkUwI1",
    "outputId": "98bcc1d3-41e0-4c1c-9f69-f2a116b15d2d"
   },
   "outputs": [],
   "source": [
    "### TASK 2c START\n",
    "# add your commands using instructions above\n",
    "# TASK 2c END\n",
    "pass"
   ]
  },
  {
   "cell_type": "markdown",
   "metadata": {
    "id": "BOaWbqP1cOS4"
   },
   "source": [
    "Note: The percentage of red points out of all points should be similar to the percentage of area within circle ($\\pi)$ out of the whole square ($2^2=4$). Here we compare the two quantities. The first of them will change each time we generate new lists `x` and `y`."
   ]
  },
  {
   "cell_type": "code",
   "execution_count": null,
   "metadata": {
    "colab": {
     "base_uri": "https://localhost:8080/"
    },
    "executionInfo": {
     "elapsed": 11,
     "status": "ok",
     "timestamp": 1644950998165,
     "user": {
      "displayName": "Brona Brejova",
      "photoUrl": "https://lh3.googleusercontent.com/a-/AOh14GjGyr69ecECqZOZ-_5-o1v7SpP5TdLQGU7-pHl4UQ=s64",
      "userId": "10789993073610145432"
     },
     "user_tz": -60
    },
    "id": "WP3GZzYJcQwn",
    "outputId": "d11f3846-c263-49cc-be1c-bdc7c046155c"
   },
   "outputs": [],
   "source": [
    "display(Markdown(\"**The percentage of red points out of all:**\"))\n",
    "print(sum([color=='red' for color in c]) / len(c))\n",
    "display(Markdown(\"**The percentage of area within circle out of square**\"))\n",
    "print(math.pi / 4)"
   ]
  },
  {
   "cell_type": "markdown",
   "metadata": {
    "id": "siTu1p37aoyH"
   },
   "source": [
    "## Task 3: Life expectancy\n",
    "\n",
    "In this task, we will use life expectancy data provided free by the [Gapminder foundation](https://www.gapminder.org/data/) and [World Bank](https://databank.worldbank.org/reports.aspx?source=2&series=SP.DYN.LE00.IN&country=#) under the CC-BY license. We have a table which gives for each year and each country an estimate of how may years would newborn babies live on average if the trends in mortality of different age groups that were prevailing in the year of their birth would prevail throughout their entire life.\n",
    "\n",
    "In the next section of code, we use [`urllib.request`](https://docs.python.org/3/library/urllib.request.html) library to download the data from an URL and [`csv`](https://docs.python.org/3/library/csv.html) library to parse it. In the rest of the semester, we will instead use Pandas library to simplify such tasks, and therefore you do not need to study the code below in detail. We will inspect the resulting table in the next cell."
   ]
  },
  {
   "cell_type": "code",
   "execution_count": null,
   "metadata": {
    "executionInfo": {
     "elapsed": 523,
     "status": "ok",
     "timestamp": 1644950998682,
     "user": {
      "displayName": "Brona Brejova",
      "photoUrl": "https://lh3.googleusercontent.com/a-/AOh14GjGyr69ecECqZOZ-_5-o1v7SpP5TdLQGU7-pHl4UQ=s64",
      "userId": "10789993073610145432"
     },
     "user_tz": -60
    },
    "id": "8e1HFkJlAMLd"
   },
   "outputs": [],
   "source": [
    "url = \"https://bbrejova.github.io/viz/data/life_expectancy_years.csv\"\n",
    "with urllib.request.urlopen(url) as response:\n",
    "  csv_data = response.read().decode('utf-8')\n",
    "\n",
    "reader = csv.reader(csv_data.split('\\n'), delimiter=',')\n",
    "rows = [row for row in reader if len(row) > 0]\n",
    "\n",
    "pass"
   ]
  },
  {
   "cell_type": "markdown",
   "metadata": {
    "id": "GYQpmobITy8h"
   },
   "source": [
    "Variable `rows` is a list of rows, one row per country. The very first row is the header of the table with word `'Country'` in the first cell, word `'ISO3'` in the second cell, and strings denoting individual years in subsequent cells. Each subsequent row lists one country, with its name in the first cell, its 3-ltter code in the second cell and life expectancy values in all the subsequent cells."
   ]
  },
  {
   "cell_type": "code",
   "execution_count": null,
   "metadata": {
    "colab": {
     "base_uri": "https://localhost:8080/",
     "height": 191
    },
    "executionInfo": {
     "elapsed": 17,
     "status": "ok",
     "timestamp": 1644950998684,
     "user": {
      "displayName": "Brona Brejova",
      "photoUrl": "https://lh3.googleusercontent.com/a-/AOh14GjGyr69ecECqZOZ-_5-o1v7SpP5TdLQGU7-pHl4UQ=s64",
      "userId": "10789993073610145432"
     },
     "user_tz": -60
    },
    "id": "ny8rZmbbU027",
    "outputId": "41aba5ec-5cc8-47ae-a260-5a4f21ee63d3"
   },
   "outputs": [],
   "source": [
    "display(Markdown(\"**The first five values in row[0]**\"))\n",
    "display(rows[0][0:5])\n",
    "display(Markdown(\"**The last five values in row[0]**\"))\n",
    "display(rows[0][-5:])\n",
    "display(Markdown(\"**The first and last five values in row[1]**\"))\n",
    "display(rows[1][0:5])\n",
    "display(rows[1][-5:])\n",
    "display(Markdown(\"**The first and last five values in the last row**\"))\n",
    "display(rows[-1][0:5])\n",
    "display(rows[-1][-5:])"
   ]
  },
  {
   "cell_type": "markdown",
   "metadata": {
    "id": "dNdF7jlQWS63"
   },
   "source": [
    "### Task 3a\n",
    "Find out which row corresponds to Slovakia (it will have `'Slovak Republic'` in the first cell) and display a plot which has the year as the x-coordinate and the life expectancy in Slovakia as the y coordinate. Add appropriate labels for the axes and title for the plot.\n",
    "\n",
    "Hint: use `row[0]` except the first two values as x-axis. Convert values from string to numbers."
   ]
  },
  {
   "cell_type": "code",
   "execution_count": null,
   "metadata": {
    "colab": {
     "base_uri": "https://localhost:8080/",
     "height": 295
    },
    "executionInfo": {
     "elapsed": 13,
     "status": "ok",
     "timestamp": 1644950998684,
     "user": {
      "displayName": "Brona Brejova",
      "photoUrl": "https://lh3.googleusercontent.com/a-/AOh14GjGyr69ecECqZOZ-_5-o1v7SpP5TdLQGU7-pHl4UQ=s64",
      "userId": "10789993073610145432"
     },
     "user_tz": -60
    },
    "id": "DcV5xjKdGDJd",
    "outputId": "6e2b4941-bda7-4592-ed38-74c69d7f39ec"
   },
   "outputs": [],
   "source": [
    "### TASK 3a START\n",
    "### TASK 3a END\n",
    "pass"
   ]
  },
  {
   "cell_type": "markdown",
   "metadata": {
    "id": "yRQmKRNLYZS3"
   },
   "source": [
    "### Task 3b\n",
    "Briefly comment on the plot. What trend do you observe? Sudden dips correspond to periods when many people die. If they would continue to die at such a rate, the average lifespan would be indeed low. What do you think were the causes of these dips in the Slovak history?"
   ]
  },
  {
   "cell_type": "markdown",
   "metadata": {
    "id": "BcxE_NwzZEHm"
   },
   "source": [
    "### TASK 3b START\n",
    "Write your answer here (in Slovak or English) \n",
    "\n",
    "### TASK 3b END"
   ]
  }
 ],
 "metadata": {
  "celltoolbar": "Slideshow",
  "colab": {
   "collapsed_sections": [],
   "name": "I01_Matplotlib.ipynb",
   "provenance": [],
   "toc_visible": true
  },
  "kernelspec": {
   "display_name": "Python 3 (ipykernel)",
   "language": "python",
   "name": "python3"
  },
  "language_info": {
   "codemirror_mode": {
    "name": "ipython",
    "version": 3
   },
   "file_extension": ".py",
   "mimetype": "text/x-python",
   "name": "python",
   "nbconvert_exporter": "python",
   "pygments_lexer": "ipython3",
   "version": "3.8.10"
  }
 },
 "nbformat": 4,
 "nbformat_minor": 4
}
