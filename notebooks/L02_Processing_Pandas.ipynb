{
 "cells": [
  {
   "cell_type": "markdown",
   "metadata": {
    "id": "4lx4yrfBy7_k"
   },
   "source": [
    "# Lecture 2: Data processing in Pandas library\n",
    "\n",
    "[Data Visualization · 1-DAV-105](https://bbrejova.github.io/viz/)\n",
    "\n",
    "Lecture by Broňa Brejová"
   ]
  },
  {
   "cell_type": "markdown",
   "metadata": {
    "id": "eBlfBhPp4X4j"
   },
   "source": [
    "## Tabular data\n",
    "\n",
    "* We will often work with data in the form of tables.\n",
    "* Columns represent different features / variables (príznaky, atribúty, veličiny, premenné).\n",
    "* Rows represent different items / data points / observations (countries, people, dates of measurement, ...).\n",
    "* A small example:\n",
    "\n",
    "| Country | Region\t| Population\t| Area (km<sup>2</sup>) | Landlocked |\n",
    "|--|--|--|--|--|\n",
    "| Slovakia\t| Europe\t| 5450421\t| 49035 | yes |\n",
    "| Czech Republic\t| Europe\t| 10649800\t| 78866 | yes |\n",
    "| Hungary\t| Europe\t| 9772756\t| 93030 | yes |\n",
    "| Poland\t| Europe\t| 38386000\t| 312696 | no |\n",
    "\n",
    "\n"
   ]
  },
  {
   "cell_type": "markdown",
   "metadata": {
    "id": "tKrYR4XYoH0T"
   },
   "source": [
    "## Pandas library\n",
    "\n",
    "* [Pandas](https://pandas.pydata.org/) is a Python library for data manipulation and analysis.\n",
    "* It is fast and has many functions for data import and export in various formats.\n",
    "* [Documentation](https://pandas.pydata.org/pandas-docs/stable/), [overview](https://pandas.pydata.org/pandas-docs/stable/getting_started/overview.html#overview), [tutorial](https://pandas.pydata.org/pandas-docs/stable/user_guide/10min.html)\n",
    "\n",
    "\n",
    "Basic data structures \n",
    "\n",
    "* `Series`: 1D table, all elements of the same type. \n",
    "* `DataFrame`: 2D table, elements within each column of the same type.\n",
    "\n",
    "**NumPy library**\n",
    "\n",
    "* [NumPy](https://numpy.org/) is a library of efficient multi-dimensional arrays used for numerical computations.\n",
    "* We will mostly use Pandas, but some NumPy functions will be useful.\n",
    "* [Tutorial](https://numpy.org/devdocs/user/quickstart.html), [reference](https://numpy.org/devdocs/reference/index.html)\n"
   ]
  },
  {
   "cell_type": "code",
   "execution_count": 1,
   "metadata": {},
   "outputs": [],
   "source": [
    "import numpy as np\n",
    "import pandas as pd\n",
    "from IPython.display import Markdown \n",
    "import matplotlib.pyplot as plt"
   ]
  },
  {
   "cell_type": "markdown",
   "metadata": {
    "id": "XNFPQUmzyXdI"
   },
   "source": [
    "### Creating Series and DataFrames"
   ]
  },
  {
   "cell_type": "markdown",
   "metadata": {},
   "source": [
    "* Bellow we show two manual ways of creating a DataFrame containing the small table of countries above.\n",
    "* The first way gets a Series for each column, the second way gets a dictionary (or a tuple) for each row.\n",
    "* We will usually read tabular data from files, see an example in the second half this lecture."
   ]
  },
  {
   "cell_type": "code",
   "execution_count": 2,
   "metadata": {
    "colab": {
     "base_uri": "https://localhost:8080/",
     "height": 174
    },
    "executionInfo": {
     "elapsed": 18,
     "status": "ok",
     "timestamp": 1645380945449,
     "user": {
      "displayName": "Brona Brejova",
      "photoUrl": "https://lh3.googleusercontent.com/a-/AOh14GjGyr69ecECqZOZ-_5-o1v7SpP5TdLQGU7-pHl4UQ=s64",
      "userId": "10789993073610145432"
     },
     "user_tz": -60
    },
    "id": "p8Mkn7xy5CfU",
    "outputId": "56ceece6-0585-43f7-ea84-31d9be97a25b"
   },
   "outputs": [
    {
     "data": {
      "text/html": [
       "<div>\n",
       "<style scoped>\n",
       "    .dataframe tbody tr th:only-of-type {\n",
       "        vertical-align: middle;\n",
       "    }\n",
       "\n",
       "    .dataframe tbody tr th {\n",
       "        vertical-align: top;\n",
       "    }\n",
       "\n",
       "    .dataframe thead th {\n",
       "        text-align: right;\n",
       "    }\n",
       "</style>\n",
       "<table border=\"1\" class=\"dataframe\">\n",
       "  <thead>\n",
       "    <tr style=\"text-align: right;\">\n",
       "      <th></th>\n",
       "      <th>country</th>\n",
       "      <th>region</th>\n",
       "      <th>population</th>\n",
       "      <th>area</th>\n",
       "      <th>landlocked</th>\n",
       "    </tr>\n",
       "  </thead>\n",
       "  <tbody>\n",
       "    <tr>\n",
       "      <th>0</th>\n",
       "      <td>Slovakia</td>\n",
       "      <td>Europe</td>\n",
       "      <td>5450421</td>\n",
       "      <td>49035</td>\n",
       "      <td>True</td>\n",
       "    </tr>\n",
       "    <tr>\n",
       "      <th>1</th>\n",
       "      <td>Czech Republic</td>\n",
       "      <td>Europe</td>\n",
       "      <td>10649800</td>\n",
       "      <td>78866</td>\n",
       "      <td>True</td>\n",
       "    </tr>\n",
       "    <tr>\n",
       "      <th>2</th>\n",
       "      <td>Hungary</td>\n",
       "      <td>Europe</td>\n",
       "      <td>9772756</td>\n",
       "      <td>93030</td>\n",
       "      <td>True</td>\n",
       "    </tr>\n",
       "    <tr>\n",
       "      <th>3</th>\n",
       "      <td>Poland</td>\n",
       "      <td>Europe</td>\n",
       "      <td>38386000</td>\n",
       "      <td>312696</td>\n",
       "      <td>False</td>\n",
       "    </tr>\n",
       "  </tbody>\n",
       "</table>\n",
       "</div>"
      ],
      "text/plain": [
       "          country  region  population    area  landlocked\n",
       "0        Slovakia  Europe     5450421   49035        True\n",
       "1  Czech Republic  Europe    10649800   78866        True\n",
       "2         Hungary  Europe     9772756   93030        True\n",
       "3          Poland  Europe    38386000  312696       False"
      ]
     },
     "metadata": {},
     "output_type": "display_data"
    }
   ],
   "source": [
    "# create Series for each column\n",
    "countries = pd.Series(['Slovakia', 'Czech Republic', 'Hungary', 'Poland'])\n",
    "regions = pd.Series(['Europe', 'Europe', 'Europe', 'Europe'])\n",
    "populations = pd.Series([5450421, 10649800, 9772756, 38386000])\n",
    "areas = pd.Series([49035, 78866, 93030, 312696])\n",
    "landlocked = pd.Series([True, True, True, False])\n",
    "# combine columns into a DataFrame\n",
    "table = pd.DataFrame({'country':countries,\n",
    "                    'region':regions, \n",
    "                    'population':populations, \n",
    "                    'area':areas,\n",
    "                    'landlocked':landlocked})\n",
    "# display: special notebook command for pretty-printing data\n",
    "display(table)"
   ]
  },
  {
   "cell_type": "code",
   "execution_count": 3,
   "metadata": {},
   "outputs": [
    {
     "data": {
      "text/html": [
       "<div>\n",
       "<style scoped>\n",
       "    .dataframe tbody tr th:only-of-type {\n",
       "        vertical-align: middle;\n",
       "    }\n",
       "\n",
       "    .dataframe tbody tr th {\n",
       "        vertical-align: top;\n",
       "    }\n",
       "\n",
       "    .dataframe thead th {\n",
       "        text-align: right;\n",
       "    }\n",
       "</style>\n",
       "<table border=\"1\" class=\"dataframe\">\n",
       "  <thead>\n",
       "    <tr style=\"text-align: right;\">\n",
       "      <th></th>\n",
       "      <th>country</th>\n",
       "      <th>region</th>\n",
       "      <th>population</th>\n",
       "      <th>area</th>\n",
       "      <th>landlocked</th>\n",
       "    </tr>\n",
       "  </thead>\n",
       "  <tbody>\n",
       "    <tr>\n",
       "      <th>0</th>\n",
       "      <td>Slovakia</td>\n",
       "      <td>Europe</td>\n",
       "      <td>5450421</td>\n",
       "      <td>49035</td>\n",
       "      <td>True</td>\n",
       "    </tr>\n",
       "    <tr>\n",
       "      <th>1</th>\n",
       "      <td>Czech Republic</td>\n",
       "      <td>Europe</td>\n",
       "      <td>10649800</td>\n",
       "      <td>78866</td>\n",
       "      <td>True</td>\n",
       "    </tr>\n",
       "    <tr>\n",
       "      <th>2</th>\n",
       "      <td>Hungary</td>\n",
       "      <td>Europe</td>\n",
       "      <td>9772756</td>\n",
       "      <td>93030</td>\n",
       "      <td>True</td>\n",
       "    </tr>\n",
       "    <tr>\n",
       "      <th>3</th>\n",
       "      <td>Poland</td>\n",
       "      <td>Europe</td>\n",
       "      <td>38386000</td>\n",
       "      <td>312696</td>\n",
       "      <td>False</td>\n",
       "    </tr>\n",
       "  </tbody>\n",
       "</table>\n",
       "</div>"
      ],
      "text/plain": [
       "          country  region  population    area  landlocked\n",
       "0        Slovakia  Europe     5450421   49035        True\n",
       "1  Czech Republic  Europe    10649800   78866        True\n",
       "2         Hungary  Europe     9772756   93030        True\n",
       "3          Poland  Europe    38386000  312696       False"
      ]
     },
     "metadata": {},
     "output_type": "display_data"
    }
   ],
   "source": [
    "list_of_dicts = [\n",
    "    {'country':'Slovakia', 'region':'Europe', 'population':5450421, 'area':49035, 'landlocked':True},\n",
    "    {'country':'Czech Republic', 'region':'Europe', 'population':10649800, 'area':78866, 'landlocked':True},\n",
    "    {'country':'Hungary', 'region':'Europe', 'population':9772756, 'area':93030, 'landlocked':True},\n",
    "    {'country':'Poland', 'region':'Europe', 'population':38386000, 'area':312696, 'landlocked':False},\n",
    "]\n",
    "table_from_list = pd.DataFrame.from_records(list_of_dicts)\n",
    "display(table_from_list)"
   ]
  },
  {
   "cell_type": "markdown",
   "metadata": {
    "id": "alUnROwHIJUc"
   },
   "source": [
    "### Accessing elements of Series and DataFrame by position\n",
    "\n",
    "* Attribute `ndim` is the number of dimensions. E.g. `areas.ndim` is `1`, `table.ndim` is `2`.\n",
    "* Attribute `shape` is a tuple holding the size in each dimension. E.g. `areas.shape` is `(4,)`, `table.shape` is `(4,5)`.\n",
    "* Rows and columns are numbered 0, 1, ...\n",
    "* To access a particular column / row, use `some_series.`[`iloc`](https://pandas.pydata.org/pandas-docs/stable/reference/api/pandas.Series.iloc.html)`[row]` or `some_table.`[`iloc`](https://pandas.pydata.org/pandas-docs/stable/reference/api/pandas.DataFrame.iloc.html)`[row, column]`.\n",
    "* Rows and columns in `iloc` can be \n",
    "    * a single number e.g. `0`, \n",
    "    * a slice (range) e.g. `0:2` or `:` for everything, \n",
    "    * a list of positions e.g. `[0, 2, 3]` \n",
    "    * a list of boolean values `[True, False, True, True]`.\n",
    "* The result is a single element or a Series / DataFrame of a smaller size.\n"
   ]
  },
  {
   "cell_type": "code",
   "execution_count": 4,
   "metadata": {
    "colab": {
     "base_uri": "https://localhost:8080/",
     "height": 515
    },
    "executionInfo": {
     "elapsed": 12,
     "status": "ok",
     "timestamp": 1645380945450,
     "user": {
      "displayName": "Brona Brejova",
      "photoUrl": "https://lh3.googleusercontent.com/a-/AOh14GjGyr69ecECqZOZ-_5-o1v7SpP5TdLQGU7-pHl4UQ=s64",
      "userId": "10789993073610145432"
     },
     "user_tz": -60
    },
    "id": "jFhs-cQkJdTu",
    "outputId": "bddd97f4-b81d-45e4-f0e8-765059b01346"
   },
   "outputs": [
    {
     "data": {
      "text/markdown": [
       "**table:**"
      ],
      "text/plain": [
       "<IPython.core.display.Markdown object>"
      ]
     },
     "metadata": {},
     "output_type": "display_data"
    },
    {
     "data": {
      "text/html": [
       "<div>\n",
       "<style scoped>\n",
       "    .dataframe tbody tr th:only-of-type {\n",
       "        vertical-align: middle;\n",
       "    }\n",
       "\n",
       "    .dataframe tbody tr th {\n",
       "        vertical-align: top;\n",
       "    }\n",
       "\n",
       "    .dataframe thead th {\n",
       "        text-align: right;\n",
       "    }\n",
       "</style>\n",
       "<table border=\"1\" class=\"dataframe\">\n",
       "  <thead>\n",
       "    <tr style=\"text-align: right;\">\n",
       "      <th></th>\n",
       "      <th>country</th>\n",
       "      <th>region</th>\n",
       "      <th>population</th>\n",
       "      <th>area</th>\n",
       "      <th>landlocked</th>\n",
       "    </tr>\n",
       "  </thead>\n",
       "  <tbody>\n",
       "    <tr>\n",
       "      <th>0</th>\n",
       "      <td>Slovakia</td>\n",
       "      <td>Europe</td>\n",
       "      <td>5450421</td>\n",
       "      <td>49035</td>\n",
       "      <td>True</td>\n",
       "    </tr>\n",
       "    <tr>\n",
       "      <th>1</th>\n",
       "      <td>Czech Republic</td>\n",
       "      <td>Europe</td>\n",
       "      <td>10649800</td>\n",
       "      <td>78866</td>\n",
       "      <td>True</td>\n",
       "    </tr>\n",
       "    <tr>\n",
       "      <th>2</th>\n",
       "      <td>Hungary</td>\n",
       "      <td>Europe</td>\n",
       "      <td>9772756</td>\n",
       "      <td>93030</td>\n",
       "      <td>True</td>\n",
       "    </tr>\n",
       "    <tr>\n",
       "      <th>3</th>\n",
       "      <td>Poland</td>\n",
       "      <td>Europe</td>\n",
       "      <td>38386000</td>\n",
       "      <td>312696</td>\n",
       "      <td>False</td>\n",
       "    </tr>\n",
       "  </tbody>\n",
       "</table>\n",
       "</div>"
      ],
      "text/plain": [
       "          country  region  population    area  landlocked\n",
       "0        Slovakia  Europe     5450421   49035        True\n",
       "1  Czech Republic  Europe    10649800   78866        True\n",
       "2         Hungary  Europe     9772756   93030        True\n",
       "3          Poland  Europe    38386000  312696       False"
      ]
     },
     "metadata": {},
     "output_type": "display_data"
    },
    {
     "data": {
      "text/markdown": [
       "**table.iloc[1, 2]:**"
      ],
      "text/plain": [
       "<IPython.core.display.Markdown object>"
      ]
     },
     "metadata": {},
     "output_type": "display_data"
    },
    {
     "data": {
      "text/plain": [
       "np.int64(10649800)"
      ]
     },
     "metadata": {},
     "output_type": "display_data"
    },
    {
     "data": {
      "text/markdown": [
       "**table.iloc[[0, 2, 3], 0:2]**"
      ],
      "text/plain": [
       "<IPython.core.display.Markdown object>"
      ]
     },
     "metadata": {},
     "output_type": "display_data"
    },
    {
     "data": {
      "text/html": [
       "<div>\n",
       "<style scoped>\n",
       "    .dataframe tbody tr th:only-of-type {\n",
       "        vertical-align: middle;\n",
       "    }\n",
       "\n",
       "    .dataframe tbody tr th {\n",
       "        vertical-align: top;\n",
       "    }\n",
       "\n",
       "    .dataframe thead th {\n",
       "        text-align: right;\n",
       "    }\n",
       "</style>\n",
       "<table border=\"1\" class=\"dataframe\">\n",
       "  <thead>\n",
       "    <tr style=\"text-align: right;\">\n",
       "      <th></th>\n",
       "      <th>country</th>\n",
       "      <th>region</th>\n",
       "    </tr>\n",
       "  </thead>\n",
       "  <tbody>\n",
       "    <tr>\n",
       "      <th>0</th>\n",
       "      <td>Slovakia</td>\n",
       "      <td>Europe</td>\n",
       "    </tr>\n",
       "    <tr>\n",
       "      <th>2</th>\n",
       "      <td>Hungary</td>\n",
       "      <td>Europe</td>\n",
       "    </tr>\n",
       "    <tr>\n",
       "      <th>3</th>\n",
       "      <td>Poland</td>\n",
       "      <td>Europe</td>\n",
       "    </tr>\n",
       "  </tbody>\n",
       "</table>\n",
       "</div>"
      ],
      "text/plain": [
       "    country  region\n",
       "0  Slovakia  Europe\n",
       "2   Hungary  Europe\n",
       "3    Poland  Europe"
      ]
     },
     "metadata": {},
     "output_type": "display_data"
    },
    {
     "data": {
      "text/markdown": [
       "**table.iloc[[True, False, True, True], :]**"
      ],
      "text/plain": [
       "<IPython.core.display.Markdown object>"
      ]
     },
     "metadata": {},
     "output_type": "display_data"
    },
    {
     "data": {
      "text/html": [
       "<div>\n",
       "<style scoped>\n",
       "    .dataframe tbody tr th:only-of-type {\n",
       "        vertical-align: middle;\n",
       "    }\n",
       "\n",
       "    .dataframe tbody tr th {\n",
       "        vertical-align: top;\n",
       "    }\n",
       "\n",
       "    .dataframe thead th {\n",
       "        text-align: right;\n",
       "    }\n",
       "</style>\n",
       "<table border=\"1\" class=\"dataframe\">\n",
       "  <thead>\n",
       "    <tr style=\"text-align: right;\">\n",
       "      <th></th>\n",
       "      <th>country</th>\n",
       "      <th>region</th>\n",
       "      <th>population</th>\n",
       "      <th>area</th>\n",
       "      <th>landlocked</th>\n",
       "    </tr>\n",
       "  </thead>\n",
       "  <tbody>\n",
       "    <tr>\n",
       "      <th>0</th>\n",
       "      <td>Slovakia</td>\n",
       "      <td>Europe</td>\n",
       "      <td>5450421</td>\n",
       "      <td>49035</td>\n",
       "      <td>True</td>\n",
       "    </tr>\n",
       "    <tr>\n",
       "      <th>2</th>\n",
       "      <td>Hungary</td>\n",
       "      <td>Europe</td>\n",
       "      <td>9772756</td>\n",
       "      <td>93030</td>\n",
       "      <td>True</td>\n",
       "    </tr>\n",
       "    <tr>\n",
       "      <th>3</th>\n",
       "      <td>Poland</td>\n",
       "      <td>Europe</td>\n",
       "      <td>38386000</td>\n",
       "      <td>312696</td>\n",
       "      <td>False</td>\n",
       "    </tr>\n",
       "  </tbody>\n",
       "</table>\n",
       "</div>"
      ],
      "text/plain": [
       "    country  region  population    area  landlocked\n",
       "0  Slovakia  Europe     5450421   49035        True\n",
       "2   Hungary  Europe     9772756   93030        True\n",
       "3    Poland  Europe    38386000  312696       False"
      ]
     },
     "metadata": {},
     "output_type": "display_data"
    }
   ],
   "source": [
    "display(Markdown(\"**table:**\"), table)\n",
    "display(Markdown(\"**table.iloc[1, 2]:**\"), table.iloc[1, 2])\n",
    "display(Markdown(\"**table.iloc[[0, 2, 3], 0:2]**\"), table.iloc[[0, 2, 3],  0:2])\n",
    "display(Markdown(\"**table.iloc[[True, False, True, True], :]**\"), \n",
    "        table.iloc[[True, False, True, True], :])\n"
   ]
  },
  {
   "cell_type": "markdown",
   "metadata": {
    "id": "fnD5wWHggAZa"
   },
   "source": [
    "### Views vs. copies\n",
    "\n",
    "* Accessing parts of tables by `iloc` may return a partial copy or simply a \"view\".\n",
    "* If we later modify this result, it is not clear if the original table is modified.\n",
    "* Direct assignment of new values to a part of the table works: `some_table.iloc[row, column] = new_value` modifies `some_table`.\n",
    "* To copy a table, use `other_table = some_table.copy(deep=True)`. "
   ]
  },
  {
   "cell_type": "code",
   "execution_count": null,
   "metadata": {
    "colab": {
     "base_uri": "https://localhost:8080/",
     "height": 439
    },
    "executionInfo": {
     "elapsed": 503,
     "status": "ok",
     "timestamp": 1645380945945,
     "user": {
      "displayName": "Brona Brejova",
      "photoUrl": "https://lh3.googleusercontent.com/a-/AOh14GjGyr69ecECqZOZ-_5-o1v7SpP5TdLQGU7-pHl4UQ=s64",
      "userId": "10789993073610145432"
     },
     "user_tz": -60
    },
    "id": "P-836Xy6iZAn",
    "outputId": "e74b0e03-62d6-4183-b685-9d3fae20fd04"
   },
   "outputs": [
    {
     "data": {
      "text/html": [
       "<div>\n",
       "<style scoped>\n",
       "    .dataframe tbody tr th:only-of-type {\n",
       "        vertical-align: middle;\n",
       "    }\n",
       "\n",
       "    .dataframe tbody tr th {\n",
       "        vertical-align: top;\n",
       "    }\n",
       "\n",
       "    .dataframe thead th {\n",
       "        text-align: right;\n",
       "    }\n",
       "</style>\n",
       "<table border=\"1\" class=\"dataframe\">\n",
       "  <thead>\n",
       "    <tr style=\"text-align: right;\">\n",
       "      <th></th>\n",
       "      <th>country</th>\n",
       "      <th>region</th>\n",
       "      <th>population</th>\n",
       "      <th>area</th>\n",
       "      <th>landlocked</th>\n",
       "    </tr>\n",
       "  </thead>\n",
       "  <tbody>\n",
       "    <tr>\n",
       "      <th>0</th>\n",
       "      <td>Slovensko</td>\n",
       "      <td>Europe</td>\n",
       "      <td>5450421</td>\n",
       "      <td>49035</td>\n",
       "      <td>True</td>\n",
       "    </tr>\n",
       "    <tr>\n",
       "      <th>1</th>\n",
       "      <td>Czech Republic</td>\n",
       "      <td>Europe</td>\n",
       "      <td>10649800</td>\n",
       "      <td>78866</td>\n",
       "      <td>True</td>\n",
       "    </tr>\n",
       "    <tr>\n",
       "      <th>2</th>\n",
       "      <td>Hungary</td>\n",
       "      <td>Europe</td>\n",
       "      <td>9772756</td>\n",
       "      <td>93030</td>\n",
       "      <td>True</td>\n",
       "    </tr>\n",
       "    <tr>\n",
       "      <th>3</th>\n",
       "      <td>Poland</td>\n",
       "      <td>Europe</td>\n",
       "      <td>38386000</td>\n",
       "      <td>312696</td>\n",
       "      <td>False</td>\n",
       "    </tr>\n",
       "  </tbody>\n",
       "</table>\n",
       "</div>"
      ],
      "text/plain": [
       "          country  region  population    area  landlocked\n",
       "0       Slovensko  Europe     5450421   49035        True\n",
       "1  Czech Republic  Europe    10649800   78866        True\n",
       "2         Hungary  Europe     9772756   93030        True\n",
       "3          Poland  Europe    38386000  312696       False"
      ]
     },
     "metadata": {},
     "output_type": "display_data"
    },
    {
     "name": "stderr",
     "output_type": "stream",
     "text": [
      "/tmp/ipykernel_858765/2667016646.py:10: SettingWithCopyWarning: \n",
      "A value is trying to be set on a copy of a slice from a DataFrame\n",
      "\n",
      "See the caveats in the documentation: https://pandas.pydata.org/pandas-docs/stable/user_guide/indexing.html#returning-a-view-versus-a-copy\n",
      "  countries2.iloc[2] = 'Maďarsko'\n"
     ]
    },
    {
     "data": {
      "text/html": [
       "<div>\n",
       "<style scoped>\n",
       "    .dataframe tbody tr th:only-of-type {\n",
       "        vertical-align: middle;\n",
       "    }\n",
       "\n",
       "    .dataframe tbody tr th {\n",
       "        vertical-align: top;\n",
       "    }\n",
       "\n",
       "    .dataframe thead th {\n",
       "        text-align: right;\n",
       "    }\n",
       "</style>\n",
       "<table border=\"1\" class=\"dataframe\">\n",
       "  <thead>\n",
       "    <tr style=\"text-align: right;\">\n",
       "      <th></th>\n",
       "      <th>country</th>\n",
       "      <th>region</th>\n",
       "      <th>population</th>\n",
       "      <th>area</th>\n",
       "      <th>landlocked</th>\n",
       "    </tr>\n",
       "  </thead>\n",
       "  <tbody>\n",
       "    <tr>\n",
       "      <th>0</th>\n",
       "      <td>Slovensko</td>\n",
       "      <td>Europe</td>\n",
       "      <td>5450421</td>\n",
       "      <td>49035</td>\n",
       "      <td>True</td>\n",
       "    </tr>\n",
       "    <tr>\n",
       "      <th>1</th>\n",
       "      <td>Czech Republic</td>\n",
       "      <td>Europe</td>\n",
       "      <td>10649800</td>\n",
       "      <td>78866</td>\n",
       "      <td>True</td>\n",
       "    </tr>\n",
       "    <tr>\n",
       "      <th>2</th>\n",
       "      <td>Maďarsko</td>\n",
       "      <td>Europe</td>\n",
       "      <td>9772756</td>\n",
       "      <td>93030</td>\n",
       "      <td>True</td>\n",
       "    </tr>\n",
       "    <tr>\n",
       "      <th>3</th>\n",
       "      <td>Poland</td>\n",
       "      <td>Europe</td>\n",
       "      <td>38386000</td>\n",
       "      <td>312696</td>\n",
       "      <td>False</td>\n",
       "    </tr>\n",
       "  </tbody>\n",
       "</table>\n",
       "</div>"
      ],
      "text/plain": [
       "          country  region  population    area  landlocked\n",
       "0       Slovensko  Europe     5450421   49035        True\n",
       "1  Czech Republic  Europe    10649800   78866        True\n",
       "2        Maďarsko  Europe     9772756   93030        True\n",
       "3          Poland  Europe    38386000  312696       False"
      ]
     },
     "metadata": {},
     "output_type": "display_data"
    }
   ],
   "source": [
    "table2 = table.copy(deep=True)\n",
    "# create a copy of the original table\n",
    "\n",
    "table2.iloc[0,0] = 'Slovensko'\n",
    "display(table2)\n",
    "# table2 now has Slovensko instead of Slovakia\n",
    "\n",
    "countries2 = table2.iloc[: , 0]\n",
    "# countries2 is now a view or a copy of one column of table2\n",
    "countries2.iloc[2] = 'Maďarsko'\n",
    "display(table2)\n",
    "# table2 now can have Hungary or Maďarsko\n",
    "# we get a warning"
   ]
  },
  {
   "cell_type": "markdown",
   "metadata": {
    "id": "l8p5dlPe89Gc"
   },
   "source": [
    "### Inplace operations\n",
    "\n",
    "* Many operations return a new table.\n",
    "* If you do not need the original table, you can specify option `inplace=True`.\n",
    "* The example below sorts a table by a specified column, returning a new table or replacing the old one."
   ]
  },
  {
   "cell_type": "code",
   "execution_count": 6,
   "metadata": {
    "colab": {
     "base_uri": "https://localhost:8080/",
     "height": 542
    },
    "executionInfo": {
     "elapsed": 27,
     "status": "ok",
     "timestamp": 1645380945947,
     "user": {
      "displayName": "Brona Brejova",
      "photoUrl": "https://lh3.googleusercontent.com/a-/AOh14GjGyr69ecECqZOZ-_5-o1v7SpP5TdLQGU7-pHl4UQ=s64",
      "userId": "10789993073610145432"
     },
     "user_tz": -60
    },
    "id": "O6XE7I5s942h",
    "outputId": "5c4ce3f9-04c1-452e-fd5e-f9a1be0d5c89"
   },
   "outputs": [
    {
     "data": {
      "text/markdown": [
       "**Original table2:**"
      ],
      "text/plain": [
       "<IPython.core.display.Markdown object>"
      ]
     },
     "metadata": {},
     "output_type": "display_data"
    },
    {
     "data": {
      "text/html": [
       "<div>\n",
       "<style scoped>\n",
       "    .dataframe tbody tr th:only-of-type {\n",
       "        vertical-align: middle;\n",
       "    }\n",
       "\n",
       "    .dataframe tbody tr th {\n",
       "        vertical-align: top;\n",
       "    }\n",
       "\n",
       "    .dataframe thead th {\n",
       "        text-align: right;\n",
       "    }\n",
       "</style>\n",
       "<table border=\"1\" class=\"dataframe\">\n",
       "  <thead>\n",
       "    <tr style=\"text-align: right;\">\n",
       "      <th></th>\n",
       "      <th>country</th>\n",
       "      <th>region</th>\n",
       "      <th>population</th>\n",
       "      <th>area</th>\n",
       "      <th>landlocked</th>\n",
       "    </tr>\n",
       "  </thead>\n",
       "  <tbody>\n",
       "    <tr>\n",
       "      <th>0</th>\n",
       "      <td>Slovakia</td>\n",
       "      <td>Europe</td>\n",
       "      <td>5450421</td>\n",
       "      <td>49035</td>\n",
       "      <td>True</td>\n",
       "    </tr>\n",
       "    <tr>\n",
       "      <th>1</th>\n",
       "      <td>Czech Republic</td>\n",
       "      <td>Europe</td>\n",
       "      <td>10649800</td>\n",
       "      <td>78866</td>\n",
       "      <td>True</td>\n",
       "    </tr>\n",
       "    <tr>\n",
       "      <th>2</th>\n",
       "      <td>Hungary</td>\n",
       "      <td>Europe</td>\n",
       "      <td>9772756</td>\n",
       "      <td>93030</td>\n",
       "      <td>True</td>\n",
       "    </tr>\n",
       "    <tr>\n",
       "      <th>3</th>\n",
       "      <td>Poland</td>\n",
       "      <td>Europe</td>\n",
       "      <td>38386000</td>\n",
       "      <td>312696</td>\n",
       "      <td>False</td>\n",
       "    </tr>\n",
       "  </tbody>\n",
       "</table>\n",
       "</div>"
      ],
      "text/plain": [
       "          country  region  population    area  landlocked\n",
       "0        Slovakia  Europe     5450421   49035        True\n",
       "1  Czech Republic  Europe    10649800   78866        True\n",
       "2         Hungary  Europe     9772756   93030        True\n",
       "3          Poland  Europe    38386000  312696       False"
      ]
     },
     "metadata": {},
     "output_type": "display_data"
    },
    {
     "data": {
      "text/markdown": [
       "**Sorted table3:**"
      ],
      "text/plain": [
       "<IPython.core.display.Markdown object>"
      ]
     },
     "metadata": {},
     "output_type": "display_data"
    },
    {
     "data": {
      "text/html": [
       "<div>\n",
       "<style scoped>\n",
       "    .dataframe tbody tr th:only-of-type {\n",
       "        vertical-align: middle;\n",
       "    }\n",
       "\n",
       "    .dataframe tbody tr th {\n",
       "        vertical-align: top;\n",
       "    }\n",
       "\n",
       "    .dataframe thead th {\n",
       "        text-align: right;\n",
       "    }\n",
       "</style>\n",
       "<table border=\"1\" class=\"dataframe\">\n",
       "  <thead>\n",
       "    <tr style=\"text-align: right;\">\n",
       "      <th></th>\n",
       "      <th>country</th>\n",
       "      <th>region</th>\n",
       "      <th>population</th>\n",
       "      <th>area</th>\n",
       "      <th>landlocked</th>\n",
       "    </tr>\n",
       "  </thead>\n",
       "  <tbody>\n",
       "    <tr>\n",
       "      <th>0</th>\n",
       "      <td>Slovakia</td>\n",
       "      <td>Europe</td>\n",
       "      <td>5450421</td>\n",
       "      <td>49035</td>\n",
       "      <td>True</td>\n",
       "    </tr>\n",
       "    <tr>\n",
       "      <th>2</th>\n",
       "      <td>Hungary</td>\n",
       "      <td>Europe</td>\n",
       "      <td>9772756</td>\n",
       "      <td>93030</td>\n",
       "      <td>True</td>\n",
       "    </tr>\n",
       "    <tr>\n",
       "      <th>1</th>\n",
       "      <td>Czech Republic</td>\n",
       "      <td>Europe</td>\n",
       "      <td>10649800</td>\n",
       "      <td>78866</td>\n",
       "      <td>True</td>\n",
       "    </tr>\n",
       "    <tr>\n",
       "      <th>3</th>\n",
       "      <td>Poland</td>\n",
       "      <td>Europe</td>\n",
       "      <td>38386000</td>\n",
       "      <td>312696</td>\n",
       "      <td>False</td>\n",
       "    </tr>\n",
       "  </tbody>\n",
       "</table>\n",
       "</div>"
      ],
      "text/plain": [
       "          country  region  population    area  landlocked\n",
       "0        Slovakia  Europe     5450421   49035        True\n",
       "2         Hungary  Europe     9772756   93030        True\n",
       "1  Czech Republic  Europe    10649800   78866        True\n",
       "3          Poland  Europe    38386000  312696       False"
      ]
     },
     "metadata": {},
     "output_type": "display_data"
    },
    {
     "data": {
      "text/markdown": [
       "**Sorted table2:**"
      ],
      "text/plain": [
       "<IPython.core.display.Markdown object>"
      ]
     },
     "metadata": {},
     "output_type": "display_data"
    },
    {
     "data": {
      "text/html": [
       "<div>\n",
       "<style scoped>\n",
       "    .dataframe tbody tr th:only-of-type {\n",
       "        vertical-align: middle;\n",
       "    }\n",
       "\n",
       "    .dataframe tbody tr th {\n",
       "        vertical-align: top;\n",
       "    }\n",
       "\n",
       "    .dataframe thead th {\n",
       "        text-align: right;\n",
       "    }\n",
       "</style>\n",
       "<table border=\"1\" class=\"dataframe\">\n",
       "  <thead>\n",
       "    <tr style=\"text-align: right;\">\n",
       "      <th></th>\n",
       "      <th>country</th>\n",
       "      <th>region</th>\n",
       "      <th>population</th>\n",
       "      <th>area</th>\n",
       "      <th>landlocked</th>\n",
       "    </tr>\n",
       "  </thead>\n",
       "  <tbody>\n",
       "    <tr>\n",
       "      <th>1</th>\n",
       "      <td>Czech Republic</td>\n",
       "      <td>Europe</td>\n",
       "      <td>10649800</td>\n",
       "      <td>78866</td>\n",
       "      <td>True</td>\n",
       "    </tr>\n",
       "    <tr>\n",
       "      <th>2</th>\n",
       "      <td>Hungary</td>\n",
       "      <td>Europe</td>\n",
       "      <td>9772756</td>\n",
       "      <td>93030</td>\n",
       "      <td>True</td>\n",
       "    </tr>\n",
       "    <tr>\n",
       "      <th>3</th>\n",
       "      <td>Poland</td>\n",
       "      <td>Europe</td>\n",
       "      <td>38386000</td>\n",
       "      <td>312696</td>\n",
       "      <td>False</td>\n",
       "    </tr>\n",
       "    <tr>\n",
       "      <th>0</th>\n",
       "      <td>Slovakia</td>\n",
       "      <td>Europe</td>\n",
       "      <td>5450421</td>\n",
       "      <td>49035</td>\n",
       "      <td>True</td>\n",
       "    </tr>\n",
       "  </tbody>\n",
       "</table>\n",
       "</div>"
      ],
      "text/plain": [
       "          country  region  population    area  landlocked\n",
       "1  Czech Republic  Europe    10649800   78866        True\n",
       "2         Hungary  Europe     9772756   93030        True\n",
       "3          Poland  Europe    38386000  312696       False\n",
       "0        Slovakia  Europe     5450421   49035        True"
      ]
     },
     "metadata": {},
     "output_type": "display_data"
    }
   ],
   "source": [
    "# copy original table to table2\n",
    "table2 = table.copy(deep=True)\n",
    "\n",
    "# table3 is a copy of table2 sorted by population size\n",
    "table3 = table2.sort_values(by=\"population\")\n",
    "\n",
    "# display both table2 and table3\n",
    "display(Markdown(\"**Original table2:**\"), table2)\n",
    "display(Markdown(\"**Sorted table3:**\"), table3)\n",
    "\n",
    "# now change table2 to be sorted by name of the country\n",
    "table2.sort_values(by=\"country\", inplace=True)\n",
    "display(Markdown(\"**Sorted table2:**\"), table2)"
   ]
  },
  {
   "cell_type": "markdown",
   "metadata": {
    "id": "yeWcfJj5-p-v"
   },
   "source": [
    "### Indexes\n",
    "\n",
    "* Rows and columns have both an integer location (0,1,2,...)  and an index (name).\n",
    "* In our table, column names are `'country'`, `'region'` etc.\n",
    "* We have not named rows, so a default location-based index was constructed.\n",
    "    * See the sorted tables above—their index labels are kept from the original.\n",
    "* Indexes can be obtained by attributes `index` and `columns`.\n",
    "* We can set the country name as an index using [`set_index`](https://pandas.pydata.org/pandas-docs/stable/reference/api/pandas.DataFrame.set_index.html), the opposite is [`reset_index`](https://pandas.pydata.org/pandas-docs/stable/reference/api/pandas.DataFrame.reset_index.html) (in Series, use [`set_axis`](https://pandas.pydata.org/pandas-docs/stable/reference/api/pandas.Series.set_axis.html) and [`reset_index`](https://pandas.pydata.org/pandas-docs/stable/reference/api/pandas.Series.reset_index.html)).\n",
    "* Index can be more complex (multiindex), we will see later.\n",
    "\n"
   ]
  },
  {
   "cell_type": "code",
   "execution_count": 7,
   "metadata": {
    "colab": {
     "base_uri": "https://localhost:8080/",
     "height": 641
    },
    "executionInfo": {
     "elapsed": 685,
     "status": "ok",
     "timestamp": 1645380946610,
     "user": {
      "displayName": "Brona Brejova",
      "photoUrl": "https://lh3.googleusercontent.com/a-/AOh14GjGyr69ecECqZOZ-_5-o1v7SpP5TdLQGU7-pHl4UQ=s64",
      "userId": "10789993073610145432"
     },
     "user_tz": -60
    },
    "id": "ol5rcYL3Dlwp",
    "outputId": "f83c8522-8682-4eb8-ce08-046061486a1e"
   },
   "outputs": [
    {
     "data": {
      "text/markdown": [
       "**`table.columns` is an object of class `Index`:**"
      ],
      "text/plain": [
       "<IPython.core.display.Markdown object>"
      ]
     },
     "metadata": {},
     "output_type": "display_data"
    },
    {
     "data": {
      "text/plain": [
       "Index(['country', 'region', 'population', 'area', 'landlocked'], dtype='object')"
      ]
     },
     "metadata": {},
     "output_type": "display_data"
    },
    {
     "data": {
      "text/markdown": [
       "**`table.columns.values` is an array of column names:**"
      ],
      "text/plain": [
       "<IPython.core.display.Markdown object>"
      ]
     },
     "metadata": {},
     "output_type": "display_data"
    },
    {
     "data": {
      "text/plain": [
       "array(['country', 'region', 'population', 'area', 'landlocked'],\n",
       "      dtype=object)"
      ]
     },
     "metadata": {},
     "output_type": "display_data"
    },
    {
     "data": {
      "text/markdown": [
       "**`table.index.values` is an array of row names, here equal to location:**"
      ],
      "text/plain": [
       "<IPython.core.display.Markdown object>"
      ]
     },
     "metadata": {},
     "output_type": "display_data"
    },
    {
     "data": {
      "text/plain": [
       "array([0, 1, 2, 3])"
      ]
     },
     "metadata": {},
     "output_type": "display_data"
    },
    {
     "data": {
      "text/markdown": [
       "**`index` for Series `areas`:**"
      ],
      "text/plain": [
       "<IPython.core.display.Markdown object>"
      ]
     },
     "metadata": {},
     "output_type": "display_data"
    },
    {
     "data": {
      "text/plain": [
       "array([0, 1, 2, 3])"
      ]
     },
     "metadata": {},
     "output_type": "display_data"
    },
    {
     "data": {
      "text/markdown": [
       "**`table` after setting country name as index:**"
      ],
      "text/plain": [
       "<IPython.core.display.Markdown object>"
      ]
     },
     "metadata": {},
     "output_type": "display_data"
    },
    {
     "data": {
      "text/html": [
       "<div>\n",
       "<style scoped>\n",
       "    .dataframe tbody tr th:only-of-type {\n",
       "        vertical-align: middle;\n",
       "    }\n",
       "\n",
       "    .dataframe tbody tr th {\n",
       "        vertical-align: top;\n",
       "    }\n",
       "\n",
       "    .dataframe thead th {\n",
       "        text-align: right;\n",
       "    }\n",
       "</style>\n",
       "<table border=\"1\" class=\"dataframe\">\n",
       "  <thead>\n",
       "    <tr style=\"text-align: right;\">\n",
       "      <th></th>\n",
       "      <th>region</th>\n",
       "      <th>population</th>\n",
       "      <th>area</th>\n",
       "      <th>landlocked</th>\n",
       "    </tr>\n",
       "    <tr>\n",
       "      <th>country</th>\n",
       "      <th></th>\n",
       "      <th></th>\n",
       "      <th></th>\n",
       "      <th></th>\n",
       "    </tr>\n",
       "  </thead>\n",
       "  <tbody>\n",
       "    <tr>\n",
       "      <th>Slovakia</th>\n",
       "      <td>Europe</td>\n",
       "      <td>5450421</td>\n",
       "      <td>49035</td>\n",
       "      <td>True</td>\n",
       "    </tr>\n",
       "    <tr>\n",
       "      <th>Czech Republic</th>\n",
       "      <td>Europe</td>\n",
       "      <td>10649800</td>\n",
       "      <td>78866</td>\n",
       "      <td>True</td>\n",
       "    </tr>\n",
       "    <tr>\n",
       "      <th>Hungary</th>\n",
       "      <td>Europe</td>\n",
       "      <td>9772756</td>\n",
       "      <td>93030</td>\n",
       "      <td>True</td>\n",
       "    </tr>\n",
       "    <tr>\n",
       "      <th>Poland</th>\n",
       "      <td>Europe</td>\n",
       "      <td>38386000</td>\n",
       "      <td>312696</td>\n",
       "      <td>False</td>\n",
       "    </tr>\n",
       "  </tbody>\n",
       "</table>\n",
       "</div>"
      ],
      "text/plain": [
       "                region  population    area  landlocked\n",
       "country                                               \n",
       "Slovakia        Europe     5450421   49035        True\n",
       "Czech Republic  Europe    10649800   78866        True\n",
       "Hungary         Europe     9772756   93030        True\n",
       "Poland          Europe    38386000  312696       False"
      ]
     },
     "metadata": {},
     "output_type": "display_data"
    },
    {
     "data": {
      "text/markdown": [
       "**`reset_index` will put the index back as a column:**"
      ],
      "text/plain": [
       "<IPython.core.display.Markdown object>"
      ]
     },
     "metadata": {},
     "output_type": "display_data"
    },
    {
     "data": {
      "text/html": [
       "<div>\n",
       "<style scoped>\n",
       "    .dataframe tbody tr th:only-of-type {\n",
       "        vertical-align: middle;\n",
       "    }\n",
       "\n",
       "    .dataframe tbody tr th {\n",
       "        vertical-align: top;\n",
       "    }\n",
       "\n",
       "    .dataframe thead th {\n",
       "        text-align: right;\n",
       "    }\n",
       "</style>\n",
       "<table border=\"1\" class=\"dataframe\">\n",
       "  <thead>\n",
       "    <tr style=\"text-align: right;\">\n",
       "      <th></th>\n",
       "      <th>country</th>\n",
       "      <th>region</th>\n",
       "      <th>population</th>\n",
       "      <th>area</th>\n",
       "      <th>landlocked</th>\n",
       "    </tr>\n",
       "  </thead>\n",
       "  <tbody>\n",
       "    <tr>\n",
       "      <th>0</th>\n",
       "      <td>Slovakia</td>\n",
       "      <td>Europe</td>\n",
       "      <td>5450421</td>\n",
       "      <td>49035</td>\n",
       "      <td>True</td>\n",
       "    </tr>\n",
       "    <tr>\n",
       "      <th>1</th>\n",
       "      <td>Czech Republic</td>\n",
       "      <td>Europe</td>\n",
       "      <td>10649800</td>\n",
       "      <td>78866</td>\n",
       "      <td>True</td>\n",
       "    </tr>\n",
       "    <tr>\n",
       "      <th>2</th>\n",
       "      <td>Hungary</td>\n",
       "      <td>Europe</td>\n",
       "      <td>9772756</td>\n",
       "      <td>93030</td>\n",
       "      <td>True</td>\n",
       "    </tr>\n",
       "    <tr>\n",
       "      <th>3</th>\n",
       "      <td>Poland</td>\n",
       "      <td>Europe</td>\n",
       "      <td>38386000</td>\n",
       "      <td>312696</td>\n",
       "      <td>False</td>\n",
       "    </tr>\n",
       "  </tbody>\n",
       "</table>\n",
       "</div>"
      ],
      "text/plain": [
       "          country  region  population    area  landlocked\n",
       "0        Slovakia  Europe     5450421   49035        True\n",
       "1  Czech Republic  Europe    10649800   78866        True\n",
       "2         Hungary  Europe     9772756   93030        True\n",
       "3          Poland  Europe    38386000  312696       False"
      ]
     },
     "metadata": {},
     "output_type": "display_data"
    }
   ],
   "source": [
    "display(Markdown(\"**`table.columns` is an object of class `Index`:**\"), \n",
    "        table.columns)\n",
    "display(Markdown(\"**`table.columns.values` is an array of column names:**\"), \n",
    "        table.columns.values)\n",
    "\n",
    "display(Markdown(\"**`table.index.values` is an array of row names, \"\n",
    "                 + \"here equal to location:**\"),\n",
    "        table.index.values)\n",
    "display(Markdown(\"**`index` for Series `areas`:**\"), areas.index.values)\n",
    "\n",
    "display(Markdown(\"**`table` after setting country name as index:**\"))\n",
    "table2 = table.set_index('country')\n",
    "display(table2)\n",
    "\n",
    "display(Markdown(\"**`reset_index` will put the index back as a column:**\"))\n",
    "table3 = table2.reset_index()\n",
    "display(table3)"
   ]
  },
  {
   "cell_type": "markdown",
   "metadata": {
    "id": "Ya8Ae_CgRL0Q"
   },
   "source": [
    "### Accessing elements by index\n",
    "\n",
    "* Method `some_table.loc[row, column]` is an analog of `iloc`, but using indexes rather than locations.\n",
    "* You can use just `[]` instead of `loc`, but this is sometimes ambiguous whether you mean `iloc` or `loc`.\n",
    "* Some examples for `Series`:"
   ]
  },
  {
   "cell_type": "code",
   "execution_count": 8,
   "metadata": {
    "colab": {
     "base_uri": "https://localhost:8080/",
     "height": 330
    },
    "executionInfo": {
     "elapsed": 41,
     "status": "ok",
     "timestamp": 1645380946612,
     "user": {
      "displayName": "Brona Brejova",
      "photoUrl": "https://lh3.googleusercontent.com/a-/AOh14GjGyr69ecECqZOZ-_5-o1v7SpP5TdLQGU7-pHl4UQ=s64",
      "userId": "10789993073610145432"
     },
     "user_tz": -60
    },
    "id": "Bip2D4FyRo90",
    "outputId": "bfcb45f2-8607-4182-9c50-41c0881b29ad"
   },
   "outputs": [
    {
     "data": {
      "text/markdown": [
       "**`populations2` Series with index:**"
      ],
      "text/plain": [
       "<IPython.core.display.Markdown object>"
      ]
     },
     "metadata": {},
     "output_type": "display_data"
    },
    {
     "data": {
      "text/plain": [
       "Slovakia           5450421\n",
       "Czech Republic    10649800\n",
       "Hungary            9772756\n",
       "Poland            38386000\n",
       "dtype: int64"
      ]
     },
     "metadata": {},
     "output_type": "display_data"
    },
    {
     "data": {
      "text/markdown": [
       "**`populations2.loc['Slovakia']`**:"
      ],
      "text/plain": [
       "<IPython.core.display.Markdown object>"
      ]
     },
     "metadata": {},
     "output_type": "display_data"
    },
    {
     "data": {
      "text/plain": [
       "np.int64(5450421)"
      ]
     },
     "metadata": {},
     "output_type": "display_data"
    },
    {
     "data": {
      "text/markdown": [
       "**`populations2.loc[['Slovakia','Poland']]`**:"
      ],
      "text/plain": [
       "<IPython.core.display.Markdown object>"
      ]
     },
     "metadata": {},
     "output_type": "display_data"
    },
    {
     "data": {
      "text/plain": [
       "Slovakia     5450421\n",
       "Poland      38386000\n",
       "dtype: int64"
      ]
     },
     "metadata": {},
     "output_type": "display_data"
    },
    {
     "data": {
      "text/markdown": [
       "**`populations2['Czech Republic']`**:"
      ],
      "text/plain": [
       "<IPython.core.display.Markdown object>"
      ]
     },
     "metadata": {},
     "output_type": "display_data"
    },
    {
     "data": {
      "text/plain": [
       "np.int64(10649800)"
      ]
     },
     "metadata": {},
     "output_type": "display_data"
    }
   ],
   "source": [
    "populations2 = populations.set_axis(countries)\n",
    "display(Markdown(\"**`populations2` Series with index:**\"), populations2)\n",
    "display(Markdown(\"**`populations2.loc['Slovakia']`**:\"), \n",
    "        populations2.loc['Slovakia'])\n",
    "display(Markdown(\"**`populations2.loc[['Slovakia','Poland']]`**:\"), \n",
    "        populations2.loc[['Slovakia','Poland']])\n",
    "\n",
    "display(Markdown(\"**`populations2['Czech Republic']`**:\"),\n",
    "        populations2['Czech Republic'])"
   ]
  },
  {
   "cell_type": "markdown",
   "metadata": {
    "id": "k5i-ihp2PYe7"
   },
   "source": [
    "### Operations and functions on Series\n",
    "\n",
    "* Operations such as `+`, `*` can be applied on two Series, causing them to be used on each corresponding pair of elements. \n",
    "* For example, `populations / areas` will compute population density for each country.\n",
    "* You can also use a single number (scalar) as an operand, e.g. `populations / 1e6` will get population in millions.\n",
    "* NumPy also contains functions that can be applied to each element of a series, e.g. `np.log(populations)`.\n",
    "* Relational operators such as `populations < 10e6` produce Series of boolean values.\n",
    "    * Those can be then used in `loc`, `[]`."
   ]
  },
  {
   "cell_type": "code",
   "execution_count": 9,
   "metadata": {
    "colab": {
     "base_uri": "https://localhost:8080/",
     "height": 573
    },
    "executionInfo": {
     "elapsed": 34,
     "status": "ok",
     "timestamp": 1645380946612,
     "user": {
      "displayName": "Brona Brejova",
      "photoUrl": "https://lh3.googleusercontent.com/a-/AOh14GjGyr69ecECqZOZ-_5-o1v7SpP5TdLQGU7-pHl4UQ=s64",
      "userId": "10789993073610145432"
     },
     "user_tz": -60
    },
    "id": "vHkuK4B3kBUO",
    "outputId": "47c812d3-a81e-4b3d-abf2-ccf8e1a113f6"
   },
   "outputs": [
    {
     "data": {
      "text/markdown": [
       "**`populations2 / areas2`:**"
      ],
      "text/plain": [
       "<IPython.core.display.Markdown object>"
      ]
     },
     "metadata": {},
     "output_type": "display_data"
    },
    {
     "data": {
      "text/plain": [
       "Slovakia          111.153686\n",
       "Czech Republic    135.036644\n",
       "Hungary           105.049511\n",
       "Poland            122.758206\n",
       "dtype: float64"
      ]
     },
     "metadata": {},
     "output_type": "display_data"
    },
    {
     "data": {
      "text/markdown": [
       "**`populations2 / 1e6`:**"
      ],
      "text/plain": [
       "<IPython.core.display.Markdown object>"
      ]
     },
     "metadata": {},
     "output_type": "display_data"
    },
    {
     "data": {
      "text/plain": [
       "Slovakia           5.450421\n",
       "Czech Republic    10.649800\n",
       "Hungary            9.772756\n",
       "Poland            38.386000\n",
       "dtype: float64"
      ]
     },
     "metadata": {},
     "output_type": "display_data"
    },
    {
     "data": {
      "text/markdown": [
       "**`populations2 > 10e6`:**"
      ],
      "text/plain": [
       "<IPython.core.display.Markdown object>"
      ]
     },
     "metadata": {},
     "output_type": "display_data"
    },
    {
     "data": {
      "text/plain": [
       "Slovakia          False\n",
       "Czech Republic     True\n",
       "Hungary           False\n",
       "Poland             True\n",
       "dtype: bool"
      ]
     },
     "metadata": {},
     "output_type": "display_data"
    },
    {
     "data": {
      "text/markdown": [
       "**`areas2[populations2 > 10e6]`:**"
      ],
      "text/plain": [
       "<IPython.core.display.Markdown object>"
      ]
     },
     "metadata": {},
     "output_type": "display_data"
    },
    {
     "data": {
      "text/plain": [
       "Czech Republic     78866\n",
       "Poland            312696\n",
       "dtype: int64"
      ]
     },
     "metadata": {},
     "output_type": "display_data"
    },
    {
     "data": {
      "text/markdown": [
       "**`np.log10(populations2)`:**"
      ],
      "text/plain": [
       "<IPython.core.display.Markdown object>"
      ]
     },
     "metadata": {},
     "output_type": "display_data"
    },
    {
     "data": {
      "text/plain": [
       "Slovakia          6.736430\n",
       "Czech Republic    7.027341\n",
       "Hungary           6.990017\n",
       "Poland            7.584173\n",
       "dtype: float64"
      ]
     },
     "metadata": {},
     "output_type": "display_data"
    }
   ],
   "source": [
    "# creating two Series with country as index\n",
    "populations2 = populations.set_axis(countries)\n",
    "areas2 = areas.set_axis(countries)\n",
    "display(Markdown(\"**`populations2 / areas2`:**\"), populations2 / areas2)\n",
    "display(Markdown(\"**`populations2 / 1e6`:**\"), populations2 / 1e6)\n",
    "display(Markdown(\"**`populations2 > 10e6`:**\"), populations2 > 10e6)\n",
    "display(Markdown(\"**`areas2[populations2 > 10e6]`:**\"), \n",
    "        areas2.loc[populations2 > 10e6])\n",
    "display(Markdown(\"**`np.log10(populations2)`:**\"), np.log10(populations2))"
   ]
  },
  {
   "cell_type": "markdown",
   "metadata": {
    "id": "inMmqspQmGrJ"
   },
   "source": [
    "**Beware:** when we combine two Series, e.g. by +, Pandas will use index, not position, to pair up elements. "
   ]
  },
  {
   "cell_type": "code",
   "execution_count": 10,
   "metadata": {
    "colab": {
     "base_uri": "https://localhost:8080/",
     "height": 540
    },
    "executionInfo": {
     "elapsed": 29,
     "status": "ok",
     "timestamp": 1645380946613,
     "user": {
      "displayName": "Brona Brejova",
      "photoUrl": "https://lh3.googleusercontent.com/a-/AOh14GjGyr69ecECqZOZ-_5-o1v7SpP5TdLQGU7-pHl4UQ=s64",
      "userId": "10789993073610145432"
     },
     "user_tz": -60
    },
    "id": "3pJlpJweLkhr",
    "outputId": "4aa42663-12d9-4366-a7e2-4ce90966cc70"
   },
   "outputs": [
    {
     "data": {
      "text/markdown": [
       "**Series a:**"
      ],
      "text/plain": [
       "<IPython.core.display.Markdown object>"
      ]
     },
     "metadata": {},
     "output_type": "display_data"
    },
    {
     "data": {
      "text/plain": [
       "a    1\n",
       "b    2\n",
       "c    3\n",
       "d    4\n",
       "dtype: int64"
      ]
     },
     "metadata": {},
     "output_type": "display_data"
    },
    {
     "data": {
      "text/markdown": [
       "**Series b:**"
      ],
      "text/plain": [
       "<IPython.core.display.Markdown object>"
      ]
     },
     "metadata": {},
     "output_type": "display_data"
    },
    {
     "data": {
      "text/plain": [
       "c    10\n",
       "a    20\n",
       "e    30\n",
       "dtype: int64"
      ]
     },
     "metadata": {},
     "output_type": "display_data"
    },
    {
     "data": {
      "text/markdown": [
       "**Series c:**"
      ],
      "text/plain": [
       "<IPython.core.display.Markdown object>"
      ]
     },
     "metadata": {},
     "output_type": "display_data"
    },
    {
     "data": {
      "text/plain": [
       "0    100\n",
       "1    200\n",
       "dtype: int64"
      ]
     },
     "metadata": {},
     "output_type": "display_data"
    },
    {
     "data": {
      "text/markdown": [
       "**Series a+b:**"
      ],
      "text/plain": [
       "<IPython.core.display.Markdown object>"
      ]
     },
     "metadata": {},
     "output_type": "display_data"
    },
    {
     "data": {
      "text/plain": [
       "a    21.0\n",
       "b     NaN\n",
       "c    13.0\n",
       "d     NaN\n",
       "e     NaN\n",
       "dtype: float64"
      ]
     },
     "metadata": {},
     "output_type": "display_data"
    },
    {
     "data": {
      "text/markdown": [
       "**Series a+c:**"
      ],
      "text/plain": [
       "<IPython.core.display.Markdown object>"
      ]
     },
     "metadata": {},
     "output_type": "display_data"
    },
    {
     "data": {
      "text/plain": [
       "a   NaN\n",
       "b   NaN\n",
       "c   NaN\n",
       "d   NaN\n",
       "0   NaN\n",
       "1   NaN\n",
       "dtype: float64"
      ]
     },
     "metadata": {},
     "output_type": "display_data"
    }
   ],
   "source": [
    "a = pd.Series([1, 2, 3, 4], index=['a', 'b', 'c', 'd'])\n",
    "b = pd.Series([10, 20, 30], index=['c', 'a', 'e'])\n",
    "c = pd.Series([100, 200])\n",
    "display(Markdown(\"**Series a:**\"), a)\n",
    "display(Markdown(\"**Series b:**\"), b)\n",
    "display(Markdown(\"**Series c:**\"), c)\n",
    "display(Markdown(\"**Series a+b:**\"), a + b)\n",
    "display(Markdown(\"**Series a+c:**\"), a + c)"
   ]
  },
  {
   "cell_type": "markdown",
   "metadata": {
    "id": "zmr7UauEnhfE"
   },
   "source": [
    "### Working with DataFrame columns\n",
    "\n",
    "* `DataFrame` is similar to a dictionary of `Series` objects (columns).\n",
    "* For example, `table['area']` or `table.area` is the **column** of country areas.\n",
    "* New columns can be added to a DataFrame: `table['density'] = table['population'] / table['area']`\n",
    "* By `table[table['population'] > 1e7]` we get countries with more that 10 million people (CZ, PL)."
   ]
  },
  {
   "cell_type": "code",
   "execution_count": 11,
   "metadata": {
    "colab": {
     "base_uri": "https://localhost:8080/",
     "height": 554
    },
    "executionInfo": {
     "elapsed": 26,
     "status": "ok",
     "timestamp": 1645380946614,
     "user": {
      "displayName": "Brona Brejova",
      "photoUrl": "https://lh3.googleusercontent.com/a-/AOh14GjGyr69ecECqZOZ-_5-o1v7SpP5TdLQGU7-pHl4UQ=s64",
      "userId": "10789993073610145432"
     },
     "user_tz": -60
    },
    "id": "g9RnRz8CpPpr",
    "outputId": "0b35ff50-864f-4909-d039-59cd807fa205"
   },
   "outputs": [
    {
     "data": {
      "text/markdown": [
       "**`table['area']`:**"
      ],
      "text/plain": [
       "<IPython.core.display.Markdown object>"
      ]
     },
     "metadata": {},
     "output_type": "display_data"
    },
    {
     "data": {
      "text/plain": [
       "0     49035\n",
       "1     78866\n",
       "2     93030\n",
       "3    312696\n",
       "Name: area, dtype: int64"
      ]
     },
     "metadata": {},
     "output_type": "display_data"
    },
    {
     "data": {
      "text/markdown": [
       "**`table.area`:**"
      ],
      "text/plain": [
       "<IPython.core.display.Markdown object>"
      ]
     },
     "metadata": {},
     "output_type": "display_data"
    },
    {
     "data": {
      "text/plain": [
       "0     49035\n",
       "1     78866\n",
       "2     93030\n",
       "3    312696\n",
       "Name: area, dtype: int64"
      ]
     },
     "metadata": {},
     "output_type": "display_data"
    },
    {
     "data": {
      "text/markdown": [
       "**Adding density:**"
      ],
      "text/plain": [
       "<IPython.core.display.Markdown object>"
      ]
     },
     "metadata": {},
     "output_type": "display_data"
    },
    {
     "data": {
      "text/markdown": [
       "`table['density'] = table['population'] / table['area']`"
      ],
      "text/plain": [
       "<IPython.core.display.Markdown object>"
      ]
     },
     "metadata": {},
     "output_type": "display_data"
    },
    {
     "data": {
      "text/markdown": [
       "**`table[table['population'] > 1e7]`:**"
      ],
      "text/plain": [
       "<IPython.core.display.Markdown object>"
      ]
     },
     "metadata": {},
     "output_type": "display_data"
    },
    {
     "data": {
      "text/html": [
       "<div>\n",
       "<style scoped>\n",
       "    .dataframe tbody tr th:only-of-type {\n",
       "        vertical-align: middle;\n",
       "    }\n",
       "\n",
       "    .dataframe tbody tr th {\n",
       "        vertical-align: top;\n",
       "    }\n",
       "\n",
       "    .dataframe thead th {\n",
       "        text-align: right;\n",
       "    }\n",
       "</style>\n",
       "<table border=\"1\" class=\"dataframe\">\n",
       "  <thead>\n",
       "    <tr style=\"text-align: right;\">\n",
       "      <th></th>\n",
       "      <th>country</th>\n",
       "      <th>region</th>\n",
       "      <th>population</th>\n",
       "      <th>area</th>\n",
       "      <th>landlocked</th>\n",
       "      <th>density</th>\n",
       "    </tr>\n",
       "  </thead>\n",
       "  <tbody>\n",
       "    <tr>\n",
       "      <th>1</th>\n",
       "      <td>Czech Republic</td>\n",
       "      <td>Europe</td>\n",
       "      <td>10649800</td>\n",
       "      <td>78866</td>\n",
       "      <td>True</td>\n",
       "      <td>135.036644</td>\n",
       "    </tr>\n",
       "    <tr>\n",
       "      <th>3</th>\n",
       "      <td>Poland</td>\n",
       "      <td>Europe</td>\n",
       "      <td>38386000</td>\n",
       "      <td>312696</td>\n",
       "      <td>False</td>\n",
       "      <td>122.758206</td>\n",
       "    </tr>\n",
       "  </tbody>\n",
       "</table>\n",
       "</div>"
      ],
      "text/plain": [
       "          country  region  population    area  landlocked     density\n",
       "1  Czech Republic  Europe    10649800   78866        True  135.036644\n",
       "3          Poland  Europe    38386000  312696       False  122.758206"
      ]
     },
     "metadata": {},
     "output_type": "display_data"
    }
   ],
   "source": [
    "display(Markdown(\"**`table['area']`:**\"), table['area'])\n",
    "display(Markdown(\"**`table.area`:**\"), table.area)\n",
    "display(Markdown(\"**Adding density:**\"))\n",
    "display(Markdown(\"`table['density'] = table['population'] / table['area']`\"))\n",
    "table['density'] = table['population'] / table['area']\n",
    "display(Markdown(\"**`table[table['population'] > 1e7]`:**\"), \n",
    "        table[table['population'] > 1e7])"
   ]
  },
  {
   "cell_type": "markdown",
   "metadata": {
    "id": "XMS3zZcguCoQ"
   },
   "source": [
    "### Selecting table rows with query\n",
    "\n",
    "* Method [`query`](https://pandas.pydata.org/pandas-docs/stable/reference/api/pandas.DataFrame.query.html) is very useful for selecting `DataFrame` rows satisfying some properties.\n",
    "* In examples below, `@` substitutes variable value.\n",
    "* While `loc[]` and `iloc[]` raise an exception if the requested value is not found, `query` can return an empty table."
   ]
  },
  {
   "cell_type": "code",
   "execution_count": 12,
   "metadata": {
    "colab": {
     "base_uri": "https://localhost:8080/",
     "height": 262
    },
    "executionInfo": {
     "elapsed": 21,
     "status": "ok",
     "timestamp": 1645380946614,
     "user": {
      "displayName": "Brona Brejova",
      "photoUrl": "https://lh3.googleusercontent.com/a-/AOh14GjGyr69ecECqZOZ-_5-o1v7SpP5TdLQGU7-pHl4UQ=s64",
      "userId": "10789993073610145432"
     },
     "user_tz": -60
    },
    "id": "gihKP0rpuUKM",
    "outputId": "06023dff-d8b2-43c5-8bd4-523a2fb98897"
   },
   "outputs": [
    {
     "data": {
      "text/markdown": [
       "**`table.query(\"country=='Slovakia'\")`:**"
      ],
      "text/plain": [
       "<IPython.core.display.Markdown object>"
      ]
     },
     "metadata": {},
     "output_type": "display_data"
    },
    {
     "data": {
      "text/html": [
       "<div>\n",
       "<style scoped>\n",
       "    .dataframe tbody tr th:only-of-type {\n",
       "        vertical-align: middle;\n",
       "    }\n",
       "\n",
       "    .dataframe tbody tr th {\n",
       "        vertical-align: top;\n",
       "    }\n",
       "\n",
       "    .dataframe thead th {\n",
       "        text-align: right;\n",
       "    }\n",
       "</style>\n",
       "<table border=\"1\" class=\"dataframe\">\n",
       "  <thead>\n",
       "    <tr style=\"text-align: right;\">\n",
       "      <th></th>\n",
       "      <th>country</th>\n",
       "      <th>region</th>\n",
       "      <th>population</th>\n",
       "      <th>area</th>\n",
       "      <th>landlocked</th>\n",
       "      <th>density</th>\n",
       "    </tr>\n",
       "  </thead>\n",
       "  <tbody>\n",
       "    <tr>\n",
       "      <th>0</th>\n",
       "      <td>Slovakia</td>\n",
       "      <td>Europe</td>\n",
       "      <td>5450421</td>\n",
       "      <td>49035</td>\n",
       "      <td>True</td>\n",
       "      <td>111.153686</td>\n",
       "    </tr>\n",
       "  </tbody>\n",
       "</table>\n",
       "</div>"
      ],
      "text/plain": [
       "    country  region  population   area  landlocked     density\n",
       "0  Slovakia  Europe     5450421  49035        True  111.153686"
      ]
     },
     "metadata": {},
     "output_type": "display_data"
    },
    {
     "data": {
      "text/markdown": [
       "**The same but for Hungary and using a function:**"
      ],
      "text/plain": [
       "<IPython.core.display.Markdown object>"
      ]
     },
     "metadata": {},
     "output_type": "display_data"
    },
    {
     "data": {
      "text/html": [
       "<div>\n",
       "<style scoped>\n",
       "    .dataframe tbody tr th:only-of-type {\n",
       "        vertical-align: middle;\n",
       "    }\n",
       "\n",
       "    .dataframe tbody tr th {\n",
       "        vertical-align: top;\n",
       "    }\n",
       "\n",
       "    .dataframe thead th {\n",
       "        text-align: right;\n",
       "    }\n",
       "</style>\n",
       "<table border=\"1\" class=\"dataframe\">\n",
       "  <thead>\n",
       "    <tr style=\"text-align: right;\">\n",
       "      <th></th>\n",
       "      <th>country</th>\n",
       "      <th>region</th>\n",
       "      <th>population</th>\n",
       "      <th>area</th>\n",
       "      <th>landlocked</th>\n",
       "      <th>density</th>\n",
       "    </tr>\n",
       "  </thead>\n",
       "  <tbody>\n",
       "    <tr>\n",
       "      <th>2</th>\n",
       "      <td>Hungary</td>\n",
       "      <td>Europe</td>\n",
       "      <td>9772756</td>\n",
       "      <td>93030</td>\n",
       "      <td>True</td>\n",
       "      <td>105.049511</td>\n",
       "    </tr>\n",
       "  </tbody>\n",
       "</table>\n",
       "</div>"
      ],
      "text/plain": [
       "   country  region  population   area  landlocked     density\n",
       "2  Hungary  Europe     9772756  93030        True  105.049511"
      ]
     },
     "metadata": {},
     "output_type": "display_data"
    },
    {
     "data": {
      "text/markdown": [
       "**Query with an empty result:**"
      ],
      "text/plain": [
       "<IPython.core.display.Markdown object>"
      ]
     },
     "metadata": {},
     "output_type": "display_data"
    },
    {
     "data": {
      "text/markdown": [
       "`table.query(\"population < 10e6 and not landlocked\")`:"
      ],
      "text/plain": [
       "<IPython.core.display.Markdown object>"
      ]
     },
     "metadata": {},
     "output_type": "display_data"
    },
    {
     "data": {
      "text/html": [
       "<div>\n",
       "<style scoped>\n",
       "    .dataframe tbody tr th:only-of-type {\n",
       "        vertical-align: middle;\n",
       "    }\n",
       "\n",
       "    .dataframe tbody tr th {\n",
       "        vertical-align: top;\n",
       "    }\n",
       "\n",
       "    .dataframe thead th {\n",
       "        text-align: right;\n",
       "    }\n",
       "</style>\n",
       "<table border=\"1\" class=\"dataframe\">\n",
       "  <thead>\n",
       "    <tr style=\"text-align: right;\">\n",
       "      <th></th>\n",
       "      <th>country</th>\n",
       "      <th>region</th>\n",
       "      <th>population</th>\n",
       "      <th>area</th>\n",
       "      <th>landlocked</th>\n",
       "      <th>density</th>\n",
       "    </tr>\n",
       "  </thead>\n",
       "  <tbody>\n",
       "  </tbody>\n",
       "</table>\n",
       "</div>"
      ],
      "text/plain": [
       "Empty DataFrame\n",
       "Columns: [country, region, population, area, landlocked, density]\n",
       "Index: []"
      ]
     },
     "metadata": {},
     "output_type": "display_data"
    }
   ],
   "source": [
    "display(Markdown(\"**`table.query(\\\"country=='Slovakia'\\\")`:**\"), \n",
    "        table.query(\"country=='Slovakia'\"))\n",
    "\n",
    "def get_country(table, country):\n",
    "  \"\"\"Get a given country from the table\"\"\"\n",
    "  return table.query(\"country == @country\")\n",
    "display(Markdown(\"**The same but for Hungary and using a function:**\"),\n",
    "        get_country(table, 'Hungary'))\n",
    "\n",
    "display(Markdown(\"**Query with an empty result:**\")) \n",
    "display(Markdown(\"`table.query(\\\"population < 10e6 and not landlocked\\\")`:\"))\n",
    "display(table.query(\"population < 10e6 and not landlocked\"))\n"
   ]
  },
  {
   "cell_type": "markdown",
   "metadata": {
    "id": "0FSJjWsDbRiq"
   },
   "source": [
    "### Importing and exporting data\n",
    "\n",
    "* Import and export is possible using many [file formats](https://pandas.pydata.org/pandas-docs/stable/user_guide/io.html) (text-based CSV, JSON, HTML; binary Excel, HDF5 etc.).\n",
    "* We will mostly use CSV (=comma separated values) format.\n",
    "  * Each table row is one line of the file.\n",
    "  * Columns are separated by commas.\n",
    "  * Columns containing commas or end-of-line characters may be enclosed in quotation marks.\n",
    "  * Sometimes a different column separator is used, e.g. tab `\"\\t\"`.\n",
    "  * We have used a CSV file in Homework 1: a [table](https://bbrejova.github.io/viz/data/life_expectancy_years.csv) with life expectancies of different countries in different years.\n",
    "* Writing our table to a csv file: `table.to_csv(\"countries.csv\")`.\n",
    "  * If run in Colab, this will create a temporary file, which you can save on your computer (see the right panel, tab Files).\n",
    "* Conversely, `table2 = pd.read_csv(\"countries.csv\", index_col=0)` will read data from the file to a new `DataFrame` called `table2`.\n",
    "* Input and output functions allow you to set many optional arguments to tweak the format."
   ]
  },
  {
   "cell_type": "markdown",
   "metadata": {
    "id": "igXG6LJW4SO4"
   },
   "source": [
    "## Example: a table of country populations from the United Nations\n",
    "\n",
    "* Obtained from the UN webpage https://data.un.org/\n",
    "* We will read the table in CSV format directly from a URL.\n",
    "* We need to play a bit with settings:\n",
    "  * We skip the top two lines.\n",
    "  * We supply our own (simpler) column names.\n",
    "  * We specify character encoding (default is UTF8) and that thousands are separted by a comma in numerical values, such as 1,000,000.\n",
    "  * Note that empty fields (missing values) are imported as `np.NaN`."
   ]
  },
  {
   "cell_type": "code",
   "execution_count": 13,
   "metadata": {
    "colab": {
     "base_uri": "https://localhost:8080/",
     "height": 441
    },
    "executionInfo": {
     "elapsed": 13730,
     "status": "ok",
     "timestamp": 1645380960326,
     "user": {
      "displayName": "Brona Brejova",
      "photoUrl": "https://lh3.googleusercontent.com/a-/AOh14GjGyr69ecECqZOZ-_5-o1v7SpP5TdLQGU7-pHl4UQ=s64",
      "userId": "10789993073610145432"
     },
     "user_tz": -60
    },
    "id": "zm5P3QCbo_mB",
    "outputId": "114aa122-6c7c-45c4-94ac-68dbc781dd73"
   },
   "outputs": [
    {
     "data": {
      "text/html": [
       "<div>\n",
       "<style scoped>\n",
       "    .dataframe tbody tr th:only-of-type {\n",
       "        vertical-align: middle;\n",
       "    }\n",
       "\n",
       "    .dataframe tbody tr th {\n",
       "        vertical-align: top;\n",
       "    }\n",
       "\n",
       "    .dataframe thead th {\n",
       "        text-align: right;\n",
       "    }\n",
       "</style>\n",
       "<table border=\"1\" class=\"dataframe\">\n",
       "  <thead>\n",
       "    <tr style=\"text-align: right;\">\n",
       "      <th></th>\n",
       "      <th>Region ID</th>\n",
       "      <th>Region</th>\n",
       "      <th>Year</th>\n",
       "      <th>Series</th>\n",
       "      <th>Value</th>\n",
       "      <th>Footnotes</th>\n",
       "      <th>Source</th>\n",
       "    </tr>\n",
       "  </thead>\n",
       "  <tbody>\n",
       "    <tr>\n",
       "      <th>0</th>\n",
       "      <td>1</td>\n",
       "      <td>Total, all countries or areas</td>\n",
       "      <td>2010</td>\n",
       "      <td>Population mid-year estimates (millions)</td>\n",
       "      <td>6985.60</td>\n",
       "      <td>NaN</td>\n",
       "      <td>United Nations Population Division, New York, ...</td>\n",
       "    </tr>\n",
       "    <tr>\n",
       "      <th>1</th>\n",
       "      <td>1</td>\n",
       "      <td>Total, all countries or areas</td>\n",
       "      <td>2010</td>\n",
       "      <td>Population mid-year estimates for males (milli...</td>\n",
       "      <td>3514.41</td>\n",
       "      <td>NaN</td>\n",
       "      <td>United Nations Population Division, New York, ...</td>\n",
       "    </tr>\n",
       "    <tr>\n",
       "      <th>2</th>\n",
       "      <td>1</td>\n",
       "      <td>Total, all countries or areas</td>\n",
       "      <td>2010</td>\n",
       "      <td>Population mid-year estimates for females (mil...</td>\n",
       "      <td>3471.20</td>\n",
       "      <td>NaN</td>\n",
       "      <td>United Nations Population Division, New York, ...</td>\n",
       "    </tr>\n",
       "    <tr>\n",
       "      <th>3</th>\n",
       "      <td>1</td>\n",
       "      <td>Total, all countries or areas</td>\n",
       "      <td>2010</td>\n",
       "      <td>Sex ratio (males per 100 females)</td>\n",
       "      <td>101.20</td>\n",
       "      <td>NaN</td>\n",
       "      <td>United Nations Population Division, New York, ...</td>\n",
       "    </tr>\n",
       "    <tr>\n",
       "      <th>4</th>\n",
       "      <td>1</td>\n",
       "      <td>Total, all countries or areas</td>\n",
       "      <td>2010</td>\n",
       "      <td>Population aged 0 to 14 years old (percentage)</td>\n",
       "      <td>27.10</td>\n",
       "      <td>NaN</td>\n",
       "      <td>United Nations Population Division, New York, ...</td>\n",
       "    </tr>\n",
       "  </tbody>\n",
       "</table>\n",
       "</div>"
      ],
      "text/plain": [
       "   Region ID                         Region  Year  \\\n",
       "0          1  Total, all countries or areas  2010   \n",
       "1          1  Total, all countries or areas  2010   \n",
       "2          1  Total, all countries or areas  2010   \n",
       "3          1  Total, all countries or areas  2010   \n",
       "4          1  Total, all countries or areas  2010   \n",
       "\n",
       "                                              Series    Value Footnotes  \\\n",
       "0           Population mid-year estimates (millions)  6985.60       NaN   \n",
       "1  Population mid-year estimates for males (milli...  3514.41       NaN   \n",
       "2  Population mid-year estimates for females (mil...  3471.20       NaN   \n",
       "3                  Sex ratio (males per 100 females)   101.20       NaN   \n",
       "4     Population aged 0 to 14 years old (percentage)    27.10       NaN   \n",
       "\n",
       "                                              Source  \n",
       "0  United Nations Population Division, New York, ...  \n",
       "1  United Nations Population Division, New York, ...  \n",
       "2  United Nations Population Division, New York, ...  \n",
       "3  United Nations Population Division, New York, ...  \n",
       "4  United Nations Population Division, New York, ...  "
      ]
     },
     "execution_count": 13,
     "metadata": {},
     "output_type": "execute_result"
    }
   ],
   "source": [
    "# original source:\n",
    "# url = 'https://data.un.org/_Docs/SYB/CSV/SYB65_1_202209_Population,%20Surface%20Area%20and%20Density.csv'\n",
    "# our local copy:\n",
    "url = 'https://bbrejova.github.io/viz/data/Un_population.csv'\n",
    "column_names = ['Region ID', 'Region', 'Year',\n",
    "                'Series', 'Value', 'Footnotes', 'Source']\n",
    "un_table = pd.read_csv(url, encoding='latin-1', names=column_names, \n",
    "                       skiprows=2, thousands=\",\")\n",
    "# print the first 5 rows to check the result\n",
    "un_table.head()"
   ]
  },
  {
   "cell_type": "code",
   "execution_count": 14,
   "metadata": {
    "colab": {
     "base_uri": "https://localhost:8080/",
     "height": 441
    },
    "executionInfo": {
     "elapsed": 38,
     "status": "ok",
     "timestamp": 1645380960328,
     "user": {
      "displayName": "Brona Brejova",
      "photoUrl": "https://lh3.googleusercontent.com/a-/AOh14GjGyr69ecECqZOZ-_5-o1v7SpP5TdLQGU7-pHl4UQ=s64",
      "userId": "10789993073610145432"
     },
     "user_tz": -60
    },
    "id": "oOVfpzGW5qdU",
    "outputId": "41b1a837-0fed-4124-c111-dba9cfd5db69"
   },
   "outputs": [
    {
     "data": {
      "text/html": [
       "<div>\n",
       "<style scoped>\n",
       "    .dataframe tbody tr th:only-of-type {\n",
       "        vertical-align: middle;\n",
       "    }\n",
       "\n",
       "    .dataframe tbody tr th {\n",
       "        vertical-align: top;\n",
       "    }\n",
       "\n",
       "    .dataframe thead th {\n",
       "        text-align: right;\n",
       "    }\n",
       "</style>\n",
       "<table border=\"1\" class=\"dataframe\">\n",
       "  <thead>\n",
       "    <tr style=\"text-align: right;\">\n",
       "      <th></th>\n",
       "      <th>Region ID</th>\n",
       "      <th>Region</th>\n",
       "      <th>Year</th>\n",
       "      <th>Series</th>\n",
       "      <th>Value</th>\n",
       "      <th>Footnotes</th>\n",
       "      <th>Source</th>\n",
       "    </tr>\n",
       "  </thead>\n",
       "  <tbody>\n",
       "    <tr>\n",
       "      <th>7868</th>\n",
       "      <td>716</td>\n",
       "      <td>Zimbabwe</td>\n",
       "      <td>2022</td>\n",
       "      <td>Population mid-year estimates for females (mil...</td>\n",
       "      <td>8.61</td>\n",
       "      <td>Projected estimate (medium fertility variant).</td>\n",
       "      <td>United Nations Population Division, New York, ...</td>\n",
       "    </tr>\n",
       "    <tr>\n",
       "      <th>7869</th>\n",
       "      <td>716</td>\n",
       "      <td>Zimbabwe</td>\n",
       "      <td>2022</td>\n",
       "      <td>Sex ratio (males per 100 females)</td>\n",
       "      <td>89.40</td>\n",
       "      <td>Projected estimate (medium fertility variant).</td>\n",
       "      <td>United Nations Population Division, New York, ...</td>\n",
       "    </tr>\n",
       "    <tr>\n",
       "      <th>7870</th>\n",
       "      <td>716</td>\n",
       "      <td>Zimbabwe</td>\n",
       "      <td>2022</td>\n",
       "      <td>Population aged 0 to 14 years old (percentage)</td>\n",
       "      <td>40.60</td>\n",
       "      <td>Projected estimate (medium fertility variant).</td>\n",
       "      <td>United Nations Population Division, New York, ...</td>\n",
       "    </tr>\n",
       "    <tr>\n",
       "      <th>7871</th>\n",
       "      <td>716</td>\n",
       "      <td>Zimbabwe</td>\n",
       "      <td>2022</td>\n",
       "      <td>Population aged 60+ years old (percentage)</td>\n",
       "      <td>4.80</td>\n",
       "      <td>Projected estimate (medium fertility variant).</td>\n",
       "      <td>United Nations Population Division, New York, ...</td>\n",
       "    </tr>\n",
       "    <tr>\n",
       "      <th>7872</th>\n",
       "      <td>716</td>\n",
       "      <td>Zimbabwe</td>\n",
       "      <td>2022</td>\n",
       "      <td>Population density</td>\n",
       "      <td>42.20</td>\n",
       "      <td>Projected estimate (medium fertility variant).</td>\n",
       "      <td>United Nations Population Division, New York, ...</td>\n",
       "    </tr>\n",
       "  </tbody>\n",
       "</table>\n",
       "</div>"
      ],
      "text/plain": [
       "      Region ID    Region  Year  \\\n",
       "7868        716  Zimbabwe  2022   \n",
       "7869        716  Zimbabwe  2022   \n",
       "7870        716  Zimbabwe  2022   \n",
       "7871        716  Zimbabwe  2022   \n",
       "7872        716  Zimbabwe  2022   \n",
       "\n",
       "                                                 Series  Value  \\\n",
       "7868  Population mid-year estimates for females (mil...   8.61   \n",
       "7869                  Sex ratio (males per 100 females)  89.40   \n",
       "7870     Population aged 0 to 14 years old (percentage)  40.60   \n",
       "7871         Population aged 60+ years old (percentage)   4.80   \n",
       "7872                                 Population density  42.20   \n",
       "\n",
       "                                           Footnotes  \\\n",
       "7868  Projected estimate (medium fertility variant).   \n",
       "7869  Projected estimate (medium fertility variant).   \n",
       "7870  Projected estimate (medium fertility variant).   \n",
       "7871  Projected estimate (medium fertility variant).   \n",
       "7872  Projected estimate (medium fertility variant).   \n",
       "\n",
       "                                                 Source  \n",
       "7868  United Nations Population Division, New York, ...  \n",
       "7869  United Nations Population Division, New York, ...  \n",
       "7870  United Nations Population Division, New York, ...  \n",
       "7871  United Nations Population Division, New York, ...  \n",
       "7872  United Nations Population Division, New York, ...  "
      ]
     },
     "execution_count": 14,
     "metadata": {},
     "output_type": "execute_result"
    }
   ],
   "source": [
    "# print the last 5 rows, to see if the bottom looks ok\n",
    "un_table.tail()  "
   ]
  },
  {
   "cell_type": "code",
   "execution_count": 15,
   "metadata": {
    "colab": {
     "base_uri": "https://localhost:8080/"
    },
    "executionInfo": {
     "elapsed": 34,
     "status": "ok",
     "timestamp": 1645380960330,
     "user": {
      "displayName": "Brona Brejova",
      "photoUrl": "https://lh3.googleusercontent.com/a-/AOh14GjGyr69ecECqZOZ-_5-o1v7SpP5TdLQGU7-pHl4UQ=s64",
      "userId": "10789993073610145432"
     },
     "user_tz": -60
    },
    "id": "onWLeUjK6pkc",
    "outputId": "43b3b916-0929-408b-8d63-aee3448339ee"
   },
   "outputs": [
    {
     "data": {
      "text/plain": [
       "Region ID      int64\n",
       "Region        object\n",
       "Year           int64\n",
       "Series        object\n",
       "Value        float64\n",
       "Footnotes     object\n",
       "Source        object\n",
       "dtype: object"
      ]
     },
     "execution_count": 15,
     "metadata": {},
     "output_type": "execute_result"
    }
   ],
   "source": [
    "# check types of columns; strings are imported as object, which is expected\n",
    "un_table.dtypes  "
   ]
  },
  {
   "cell_type": "markdown",
   "metadata": {
    "id": "wtxg5Yr25veh"
   },
   "source": [
    "* Each country has data for several years.\n",
    "* There are several values per country and year, e.g. total population, the number of men and women, sizes of three age groups.\n",
    "* The first part of the table contains various continents and regions, later individual countries arranged alphabetically from `'Afghanistan'` to `'Zimbabwe'`."
   ]
  },
  {
   "cell_type": "markdown",
   "metadata": {
    "id": "NuwsW5o8uh71"
   },
   "source": [
    "### A simple table with total population across years\n",
    "\n",
    "We will create a simpler table `country_pop`.\n",
    "\n",
    "* It will contain only countries, not regions.\n",
    "* It will contain only rows with total population, all available years.\n",
    "* It will contain columns `Country` (originally `Region`) , `Year`, and `Population` (originally `Value`)."
   ]
  },
  {
   "cell_type": "code",
   "execution_count": 16,
   "metadata": {
    "colab": {
     "base_uri": "https://localhost:8080/",
     "height": 206
    },
    "executionInfo": {
     "elapsed": 29,
     "status": "ok",
     "timestamp": 1645380960331,
     "user": {
      "displayName": "Brona Brejova",
      "photoUrl": "https://lh3.googleusercontent.com/a-/AOh14GjGyr69ecECqZOZ-_5-o1v7SpP5TdLQGU7-pHl4UQ=s64",
      "userId": "10789993073610145432"
     },
     "user_tz": -60
    },
    "id": "8gzrvZB98LQt",
    "outputId": "ef11205a-353a-4c12-ff79-9ba4e5768259"
   },
   "outputs": [
    {
     "data": {
      "text/html": [
       "<div>\n",
       "<style scoped>\n",
       "    .dataframe tbody tr th:only-of-type {\n",
       "        vertical-align: middle;\n",
       "    }\n",
       "\n",
       "    .dataframe tbody tr th {\n",
       "        vertical-align: top;\n",
       "    }\n",
       "\n",
       "    .dataframe thead th {\n",
       "        text-align: right;\n",
       "    }\n",
       "</style>\n",
       "<table border=\"1\" class=\"dataframe\">\n",
       "  <thead>\n",
       "    <tr style=\"text-align: right;\">\n",
       "      <th></th>\n",
       "      <th>Country</th>\n",
       "      <th>Year</th>\n",
       "      <th>Population</th>\n",
       "    </tr>\n",
       "  </thead>\n",
       "  <tbody>\n",
       "    <tr>\n",
       "      <th>930</th>\n",
       "      <td>Afghanistan</td>\n",
       "      <td>2010</td>\n",
       "      <td>28.19</td>\n",
       "    </tr>\n",
       "    <tr>\n",
       "      <th>937</th>\n",
       "      <td>Afghanistan</td>\n",
       "      <td>2015</td>\n",
       "      <td>33.75</td>\n",
       "    </tr>\n",
       "    <tr>\n",
       "      <th>945</th>\n",
       "      <td>Afghanistan</td>\n",
       "      <td>2020</td>\n",
       "      <td>38.97</td>\n",
       "    </tr>\n",
       "    <tr>\n",
       "      <th>953</th>\n",
       "      <td>Afghanistan</td>\n",
       "      <td>2022</td>\n",
       "      <td>41.13</td>\n",
       "    </tr>\n",
       "    <tr>\n",
       "      <th>960</th>\n",
       "      <td>Albania</td>\n",
       "      <td>2010</td>\n",
       "      <td>2.91</td>\n",
       "    </tr>\n",
       "  </tbody>\n",
       "</table>\n",
       "</div>"
      ],
      "text/plain": [
       "         Country  Year  Population\n",
       "930  Afghanistan  2010       28.19\n",
       "937  Afghanistan  2015       33.75\n",
       "945  Afghanistan  2020       38.97\n",
       "953  Afghanistan  2022       41.13\n",
       "960      Albania  2010        2.91"
      ]
     },
     "execution_count": 16,
     "metadata": {},
     "output_type": "execute_result"
    }
   ],
   "source": [
    "# get all rows for Afghanistan, choose the label for the first of them\n",
    "first_country = un_table.query('Region == \"Afghanistan\"').index[0]\n",
    "# get all rows from the first Afghanistan onwards and all columns\n",
    "un_countries = un_table.iloc[first_country:, :]\n",
    "# get only rows with total population and select only some columns using loc\n",
    "country_pop = (un_countries\n",
    "               .query('Series==\"Population mid-year estimates (millions)\"')\n",
    "               .loc[:, ['Region', 'Year', 'Value']]\n",
    "               .rename(columns={'Value':'Population', 'Region':'Country'}))\n",
    "# print the start of the result\n",
    "country_pop.head()"
   ]
  },
  {
   "cell_type": "markdown",
   "metadata": {
    "id": "ZR3g-i2nLGeD"
   },
   "source": [
    "## Tidy data, wide and long tables\n",
    "\n",
    "* The original UN table has in `Value` column various values, including population size, sex ratio, population density, etc.\n",
    "* In general, one column of a table should contain values of the same type.\n",
    "* This is true in our `country_pop` table with columns `Country`, `Year`, and `Population`.\n",
    "* This type of table is called **long**, and it is usually preferable.\n",
    "* For some analysis, we may want to have countries as rows and years as columns; this is called a **wide table**.\n",
    "* Pandas has methods to convert between the two formats, e.g. [`wide_to_long`](https://pandas.pydata.org/pandas-docs/stable/reference/api/pandas.wide_to_long.html), [`melt`](https://pandas.pydata.org/pandas-docs/stable/reference/api/pandas.melt.html#pandas.melt), [`pivot`](https://pandas.pydata.org/pandas-docs/stable/reference/api/pandas.DataFrame.pivot.html#pandas.DataFrame.pivot), [`unstack`](https://pandas.pydata.org/pandas-docs/stable/reference/api/pandas.DataFrame.unstack.html#pandas.DataFrame.unstack) etc.\n",
    "\n",
    "* See the article [Tidy data](https://www.jstatsoft.org/article/view/v059i10/v59i10.pdf) by Hadley Wickham for a longer discussion."
   ]
  },
  {
   "cell_type": "markdown",
   "metadata": {
    "id": "2BV3voIutsM4"
   },
   "source": [
    "## Back to example: comparing populations in 2010 and 2022\n",
    "\n",
    "* We select only two years from `country_pop`.\n",
    "* Function [pivot](https://pandas.pydata.org/pandas-docs/stable/reference/api/pandas.DataFrame.pivot.html) will use the column `Country` as the row index, values from column `Year` as new column names and values from column `Population` as values to populate the table itself.\n",
    "* Finally we rename the columns so that they are strings starting with a letter; otherwise they are harder to be used in `query`."
   ]
  },
  {
   "cell_type": "code",
   "execution_count": 17,
   "metadata": {
    "colab": {
     "base_uri": "https://localhost:8080/",
     "height": 478
    },
    "executionInfo": {
     "elapsed": 27,
     "status": "ok",
     "timestamp": 1645380960332,
     "user": {
      "displayName": "Brona Brejova",
      "photoUrl": "https://lh3.googleusercontent.com/a-/AOh14GjGyr69ecECqZOZ-_5-o1v7SpP5TdLQGU7-pHl4UQ=s64",
      "userId": "10789993073610145432"
     },
     "user_tz": -60
    },
    "id": "MVq2m34IOqD_",
    "outputId": "1f657122-98f4-49a4-e420-38909c67a7f5"
   },
   "outputs": [
    {
     "data": {
      "text/markdown": [
       "**Original `country_pop` table:**"
      ],
      "text/plain": [
       "<IPython.core.display.Markdown object>"
      ]
     },
     "metadata": {},
     "output_type": "display_data"
    },
    {
     "data": {
      "text/html": [
       "<div>\n",
       "<style scoped>\n",
       "    .dataframe tbody tr th:only-of-type {\n",
       "        vertical-align: middle;\n",
       "    }\n",
       "\n",
       "    .dataframe tbody tr th {\n",
       "        vertical-align: top;\n",
       "    }\n",
       "\n",
       "    .dataframe thead th {\n",
       "        text-align: right;\n",
       "    }\n",
       "</style>\n",
       "<table border=\"1\" class=\"dataframe\">\n",
       "  <thead>\n",
       "    <tr style=\"text-align: right;\">\n",
       "      <th></th>\n",
       "      <th>Country</th>\n",
       "      <th>Year</th>\n",
       "      <th>Population</th>\n",
       "    </tr>\n",
       "  </thead>\n",
       "  <tbody>\n",
       "    <tr>\n",
       "      <th>930</th>\n",
       "      <td>Afghanistan</td>\n",
       "      <td>2010</td>\n",
       "      <td>28.19</td>\n",
       "    </tr>\n",
       "    <tr>\n",
       "      <th>937</th>\n",
       "      <td>Afghanistan</td>\n",
       "      <td>2015</td>\n",
       "      <td>33.75</td>\n",
       "    </tr>\n",
       "    <tr>\n",
       "      <th>945</th>\n",
       "      <td>Afghanistan</td>\n",
       "      <td>2020</td>\n",
       "      <td>38.97</td>\n",
       "    </tr>\n",
       "    <tr>\n",
       "      <th>953</th>\n",
       "      <td>Afghanistan</td>\n",
       "      <td>2022</td>\n",
       "      <td>41.13</td>\n",
       "    </tr>\n",
       "    <tr>\n",
       "      <th>960</th>\n",
       "      <td>Albania</td>\n",
       "      <td>2010</td>\n",
       "      <td>2.91</td>\n",
       "    </tr>\n",
       "  </tbody>\n",
       "</table>\n",
       "</div>"
      ],
      "text/plain": [
       "         Country  Year  Population\n",
       "930  Afghanistan  2010       28.19\n",
       "937  Afghanistan  2015       33.75\n",
       "945  Afghanistan  2020       38.97\n",
       "953  Afghanistan  2022       41.13\n",
       "960      Albania  2010        2.91"
      ]
     },
     "metadata": {},
     "output_type": "display_data"
    },
    {
     "data": {
      "text/markdown": [
       "**New `pop` table:**"
      ],
      "text/plain": [
       "<IPython.core.display.Markdown object>"
      ]
     },
     "metadata": {},
     "output_type": "display_data"
    },
    {
     "data": {
      "text/html": [
       "<div>\n",
       "<style scoped>\n",
       "    .dataframe tbody tr th:only-of-type {\n",
       "        vertical-align: middle;\n",
       "    }\n",
       "\n",
       "    .dataframe tbody tr th {\n",
       "        vertical-align: top;\n",
       "    }\n",
       "\n",
       "    .dataframe thead th {\n",
       "        text-align: right;\n",
       "    }\n",
       "</style>\n",
       "<table border=\"1\" class=\"dataframe\">\n",
       "  <thead>\n",
       "    <tr style=\"text-align: right;\">\n",
       "      <th>Year</th>\n",
       "      <th>pop2010</th>\n",
       "      <th>pop2022</th>\n",
       "    </tr>\n",
       "    <tr>\n",
       "      <th>Country</th>\n",
       "      <th></th>\n",
       "      <th></th>\n",
       "    </tr>\n",
       "  </thead>\n",
       "  <tbody>\n",
       "    <tr>\n",
       "      <th>Afghanistan</th>\n",
       "      <td>28.19</td>\n",
       "      <td>41.13</td>\n",
       "    </tr>\n",
       "    <tr>\n",
       "      <th>Albania</th>\n",
       "      <td>2.91</td>\n",
       "      <td>2.84</td>\n",
       "    </tr>\n",
       "    <tr>\n",
       "      <th>Algeria</th>\n",
       "      <td>35.86</td>\n",
       "      <td>44.90</td>\n",
       "    </tr>\n",
       "    <tr>\n",
       "      <th>American Samoa</th>\n",
       "      <td>0.05</td>\n",
       "      <td>0.04</td>\n",
       "    </tr>\n",
       "    <tr>\n",
       "      <th>Andorra</th>\n",
       "      <td>0.07</td>\n",
       "      <td>0.08</td>\n",
       "    </tr>\n",
       "  </tbody>\n",
       "</table>\n",
       "</div>"
      ],
      "text/plain": [
       "Year            pop2010  pop2022\n",
       "Country                         \n",
       "Afghanistan       28.19    41.13\n",
       "Albania            2.91     2.84\n",
       "Algeria           35.86    44.90\n",
       "American Samoa     0.05     0.04\n",
       "Andorra            0.07     0.08"
      ]
     },
     "metadata": {},
     "output_type": "display_data"
    }
   ],
   "source": [
    "display(Markdown(\"**Original `country_pop` table:**\"), country_pop.head())\n",
    "\n",
    "\n",
    "pop = (country_pop.query(\"Year==2010 or Year==2022\")\n",
    "       .pivot(index='Country', columns=['Year'], values='Population')\n",
    "       .rename(columns={2010:'pop2010', 2022:'pop2022'}))\n",
    "\n",
    "display(Markdown(\"**New `pop` table:**\"), pop.head())"
   ]
  },
  {
   "cell_type": "code",
   "execution_count": 18,
   "metadata": {
    "colab": {
     "base_uri": "https://localhost:8080/",
     "height": 237
    },
    "executionInfo": {
     "elapsed": 22,
     "status": "ok",
     "timestamp": 1645380960333,
     "user": {
      "displayName": "Brona Brejova",
      "photoUrl": "https://lh3.googleusercontent.com/a-/AOh14GjGyr69ecECqZOZ-_5-o1v7SpP5TdLQGU7-pHl4UQ=s64",
      "userId": "10789993073610145432"
     },
     "user_tz": -60
    },
    "id": "vOwphfKy_PsK",
    "outputId": "c5b19e5b-6130-4502-a5ca-8c9a4cc90c08"
   },
   "outputs": [
    {
     "data": {
      "text/html": [
       "<div>\n",
       "<style scoped>\n",
       "    .dataframe tbody tr th:only-of-type {\n",
       "        vertical-align: middle;\n",
       "    }\n",
       "\n",
       "    .dataframe tbody tr th {\n",
       "        vertical-align: top;\n",
       "    }\n",
       "\n",
       "    .dataframe thead th {\n",
       "        text-align: right;\n",
       "    }\n",
       "</style>\n",
       "<table border=\"1\" class=\"dataframe\">\n",
       "  <thead>\n",
       "    <tr style=\"text-align: right;\">\n",
       "      <th>Year</th>\n",
       "      <th>pop2010</th>\n",
       "      <th>pop2022</th>\n",
       "      <th>difference</th>\n",
       "      <th>relDifference</th>\n",
       "    </tr>\n",
       "    <tr>\n",
       "      <th>Country</th>\n",
       "      <th></th>\n",
       "      <th></th>\n",
       "      <th></th>\n",
       "      <th></th>\n",
       "    </tr>\n",
       "  </thead>\n",
       "  <tbody>\n",
       "    <tr>\n",
       "      <th>Afghanistan</th>\n",
       "      <td>28.19</td>\n",
       "      <td>41.13</td>\n",
       "      <td>12.94</td>\n",
       "      <td>0.459028</td>\n",
       "    </tr>\n",
       "    <tr>\n",
       "      <th>Albania</th>\n",
       "      <td>2.91</td>\n",
       "      <td>2.84</td>\n",
       "      <td>-0.07</td>\n",
       "      <td>-0.024055</td>\n",
       "    </tr>\n",
       "    <tr>\n",
       "      <th>Algeria</th>\n",
       "      <td>35.86</td>\n",
       "      <td>44.90</td>\n",
       "      <td>9.04</td>\n",
       "      <td>0.252091</td>\n",
       "    </tr>\n",
       "    <tr>\n",
       "      <th>American Samoa</th>\n",
       "      <td>0.05</td>\n",
       "      <td>0.04</td>\n",
       "      <td>-0.01</td>\n",
       "      <td>-0.200000</td>\n",
       "    </tr>\n",
       "    <tr>\n",
       "      <th>Andorra</th>\n",
       "      <td>0.07</td>\n",
       "      <td>0.08</td>\n",
       "      <td>0.01</td>\n",
       "      <td>0.142857</td>\n",
       "    </tr>\n",
       "  </tbody>\n",
       "</table>\n",
       "</div>"
      ],
      "text/plain": [
       "Year            pop2010  pop2022  difference  relDifference\n",
       "Country                                                    \n",
       "Afghanistan       28.19    41.13       12.94       0.459028\n",
       "Albania            2.91     2.84       -0.07      -0.024055\n",
       "Algeria           35.86    44.90        9.04       0.252091\n",
       "American Samoa     0.05     0.04       -0.01      -0.200000\n",
       "Andorra            0.07     0.08        0.01       0.142857"
      ]
     },
     "execution_count": 18,
     "metadata": {},
     "output_type": "execute_result"
    }
   ],
   "source": [
    "# compute the difference between years for each country (positive = increase)\n",
    "pop['difference'] = pop['pop2022'] - pop['pop2010']\n",
    "# relative difference, as a fraction of population in 2010\n",
    "#  (value 1 means 100% increase)\n",
    "pop['relDifference'] = pop['difference'] / pop['pop2010']\n",
    "pop.head()"
   ]
  },
  {
   "cell_type": "markdown",
   "metadata": {
    "id": "1PxYxIwKxC3k"
   },
   "source": [
    "Now we will use this table to create some plots and tables.\n",
    "\n",
    "* What can you observe from these data displays?\n",
    "* Are some of these visualizations more useful than others or are they complementary? How could we improve them?\n",
    "* What other questions you could ask about this table and how would you answer them using plots or tables?"
   ]
  },
  {
   "cell_type": "code",
   "execution_count": 19,
   "metadata": {
    "colab": {
     "base_uri": "https://localhost:8080/",
     "height": 279
    },
    "executionInfo": {
     "elapsed": 817,
     "status": "ok",
     "timestamp": 1645380961130,
     "user": {
      "displayName": "Brona Brejova",
      "photoUrl": "https://lh3.googleusercontent.com/a-/AOh14GjGyr69ecECqZOZ-_5-o1v7SpP5TdLQGU7-pHl4UQ=s64",
      "userId": "10789993073610145432"
     },
     "user_tz": -60
    },
    "id": "0CtJoVucs5oe",
    "outputId": "81836ab5-8182-4356-cb77-9abd820fd8a0"
   },
   "outputs": [
    {
     "data": {
      "image/png": "[encoded data removed]",
      "text/plain": [
       "<Figure size 640x480 with 1 Axes>"
      ]
     },
     "metadata": {},
     "output_type": "display_data"
    }
   ],
   "source": [
    "figure, axes = plt.subplots()\n",
    "axes.plot(pop.pop2010, pop.pop2022, '.')\n",
    "axes.set_aspect('equal')\n",
    "axes.set_xlabel('Population in 2010')\n",
    "axes.set_ylabel('Population in 2022')\n",
    "pass"
   ]
  },
  {
   "cell_type": "code",
   "execution_count": 20,
   "metadata": {
    "colab": {
     "base_uri": "https://localhost:8080/",
     "height": 279
    },
    "executionInfo": {
     "elapsed": 1204,
     "status": "ok",
     "timestamp": 1645380962324,
     "user": {
      "displayName": "Brona Brejova",
      "photoUrl": "https://lh3.googleusercontent.com/a-/AOh14GjGyr69ecECqZOZ-_5-o1v7SpP5TdLQGU7-pHl4UQ=s64",
      "userId": "10789993073610145432"
     },
     "user_tz": -60
    },
    "id": "lBQuzuw4oXH0",
    "outputId": "bf289442-4d74-4061-d738-885b47bab88d"
   },
   "outputs": [
    {
     "data": {
      "image/png": "[encoded data removed]",
      "text/plain": [
       "<Figure size 640x480 with 1 Axes>"
      ]
     },
     "metadata": {},
     "output_type": "display_data"
    }
   ],
   "source": [
    "figure, axes = plt.subplots()\n",
    "axes.axhline(0, color=\"lightgrey\")\n",
    "axes.plot(pop.pop2010, pop.difference, '.')\n",
    "axes.set_xlabel('Population in 2010')\n",
    "axes.set_ylabel('Change from 2010 to 2022')\n",
    "pass"
   ]
  },
  {
   "cell_type": "code",
   "execution_count": 21,
   "metadata": {
    "colab": {
     "base_uri": "https://localhost:8080/",
     "height": 279
    },
    "executionInfo": {
     "elapsed": 880,
     "status": "ok",
     "timestamp": 1645380963200,
     "user": {
      "displayName": "Brona Brejova",
      "photoUrl": "https://lh3.googleusercontent.com/a-/AOh14GjGyr69ecECqZOZ-_5-o1v7SpP5TdLQGU7-pHl4UQ=s64",
      "userId": "10789993073610145432"
     },
     "user_tz": -60
    },
    "id": "y3Y57mzOocgI",
    "outputId": "9bb8d151-31b8-47cf-ab6f-fc1bd6466ebf"
   },
   "outputs": [
    {
     "data": {
      "image/png": "[encoded data removed]",
      "text/plain": [
       "<Figure size 640x480 with 1 Axes>"
      ]
     },
     "metadata": {},
     "output_type": "display_data"
    }
   ],
   "source": [
    "figure, axes = plt.subplots()\n",
    "axes.axhline(0, color=\"lightgrey\")\n",
    "axes.plot(pop.pop2010, pop.relDifference, '.')\n",
    "axes.set_xlabel('Population in 2010')\n",
    "axes.set_ylabel('Rel. change from 2010 to 2022')\n",
    "pass"
   ]
  },
  {
   "cell_type": "code",
   "execution_count": 22,
   "metadata": {
    "colab": {
     "base_uri": "https://localhost:8080/",
     "height": 394
    },
    "executionInfo": {
     "elapsed": 21,
     "status": "ok",
     "timestamp": 1645380963201,
     "user": {
      "displayName": "Brona Brejova",
      "photoUrl": "https://lh3.googleusercontent.com/a-/AOh14GjGyr69ecECqZOZ-_5-o1v7SpP5TdLQGU7-pHl4UQ=s64",
      "userId": "10789993073610145432"
     },
     "user_tz": -60
    },
    "id": "HzhHt-VOotmN",
    "outputId": "326d881c-279b-4866-d6b2-88a7d3392620"
   },
   "outputs": [
    {
     "data": {
      "text/html": [
       "<div>\n",
       "<style scoped>\n",
       "    .dataframe tbody tr th:only-of-type {\n",
       "        vertical-align: middle;\n",
       "    }\n",
       "\n",
       "    .dataframe tbody tr th {\n",
       "        vertical-align: top;\n",
       "    }\n",
       "\n",
       "    .dataframe thead th {\n",
       "        text-align: right;\n",
       "    }\n",
       "</style>\n",
       "<table border=\"1\" class=\"dataframe\">\n",
       "  <thead>\n",
       "    <tr style=\"text-align: right;\">\n",
       "      <th>Year</th>\n",
       "      <th>pop2010</th>\n",
       "      <th>pop2022</th>\n",
       "      <th>difference</th>\n",
       "      <th>relDifference</th>\n",
       "    </tr>\n",
       "    <tr>\n",
       "      <th>Country</th>\n",
       "      <th></th>\n",
       "      <th></th>\n",
       "      <th></th>\n",
       "      <th></th>\n",
       "    </tr>\n",
       "  </thead>\n",
       "  <tbody>\n",
       "    <tr>\n",
       "      <th>Saint Martin (French part)</th>\n",
       "      <td>0.04</td>\n",
       "      <td>0.03</td>\n",
       "      <td>-0.01</td>\n",
       "      <td>-0.250000</td>\n",
       "    </tr>\n",
       "    <tr>\n",
       "      <th>American Samoa</th>\n",
       "      <td>0.05</td>\n",
       "      <td>0.04</td>\n",
       "      <td>-0.01</td>\n",
       "      <td>-0.200000</td>\n",
       "    </tr>\n",
       "    <tr>\n",
       "      <th>Marshall Islands</th>\n",
       "      <td>0.05</td>\n",
       "      <td>0.04</td>\n",
       "      <td>-0.01</td>\n",
       "      <td>-0.200000</td>\n",
       "    </tr>\n",
       "    <tr>\n",
       "      <th>Bosnia and Herzegovina</th>\n",
       "      <td>3.81</td>\n",
       "      <td>3.23</td>\n",
       "      <td>-0.58</td>\n",
       "      <td>-0.152231</td>\n",
       "    </tr>\n",
       "    <tr>\n",
       "      <th>Ukraine</th>\n",
       "      <td>45.68</td>\n",
       "      <td>39.70</td>\n",
       "      <td>-5.98</td>\n",
       "      <td>-0.130911</td>\n",
       "    </tr>\n",
       "    <tr>\n",
       "      <th>Puerto Rico</th>\n",
       "      <td>3.72</td>\n",
       "      <td>3.25</td>\n",
       "      <td>-0.47</td>\n",
       "      <td>-0.126344</td>\n",
       "    </tr>\n",
       "    <tr>\n",
       "      <th>Lithuania</th>\n",
       "      <td>3.14</td>\n",
       "      <td>2.75</td>\n",
       "      <td>-0.39</td>\n",
       "      <td>-0.124204</td>\n",
       "    </tr>\n",
       "    <tr>\n",
       "      <th>Latvia</th>\n",
       "      <td>2.10</td>\n",
       "      <td>1.85</td>\n",
       "      <td>-0.25</td>\n",
       "      <td>-0.119048</td>\n",
       "    </tr>\n",
       "    <tr>\n",
       "      <th>Republic of Moldova</th>\n",
       "      <td>3.68</td>\n",
       "      <td>3.27</td>\n",
       "      <td>-0.41</td>\n",
       "      <td>-0.111413</td>\n",
       "    </tr>\n",
       "    <tr>\n",
       "      <th>Bulgaria</th>\n",
       "      <td>7.59</td>\n",
       "      <td>6.78</td>\n",
       "      <td>-0.81</td>\n",
       "      <td>-0.106719</td>\n",
       "    </tr>\n",
       "  </tbody>\n",
       "</table>\n",
       "</div>"
      ],
      "text/plain": [
       "Year                        pop2010  pop2022  difference  relDifference\n",
       "Country                                                                \n",
       "Saint Martin (French part)     0.04     0.03       -0.01      -0.250000\n",
       "American Samoa                 0.05     0.04       -0.01      -0.200000\n",
       "Marshall Islands               0.05     0.04       -0.01      -0.200000\n",
       "Bosnia and Herzegovina         3.81     3.23       -0.58      -0.152231\n",
       "Ukraine                       45.68    39.70       -5.98      -0.130911\n",
       "Puerto Rico                    3.72     3.25       -0.47      -0.126344\n",
       "Lithuania                      3.14     2.75       -0.39      -0.124204\n",
       "Latvia                         2.10     1.85       -0.25      -0.119048\n",
       "Republic of Moldova            3.68     3.27       -0.41      -0.111413\n",
       "Bulgaria                       7.59     6.78       -0.81      -0.106719"
      ]
     },
     "execution_count": 22,
     "metadata": {},
     "output_type": "execute_result"
    }
   ],
   "source": [
    "pop.sort_values('relDifference').head(10)"
   ]
  },
  {
   "cell_type": "code",
   "execution_count": 23,
   "metadata": {
    "colab": {
     "base_uri": "https://localhost:8080/",
     "height": 394
    },
    "executionInfo": {
     "elapsed": 18,
     "status": "ok",
     "timestamp": 1645380963201,
     "user": {
      "displayName": "Brona Brejova",
      "photoUrl": "https://lh3.googleusercontent.com/a-/AOh14GjGyr69ecECqZOZ-_5-o1v7SpP5TdLQGU7-pHl4UQ=s64",
      "userId": "10789993073610145432"
     },
     "user_tz": -60
    },
    "id": "HZE6p7umpFYJ",
    "outputId": "e2ac2a61-b1d0-46ba-e1ad-0931260e3986"
   },
   "outputs": [
    {
     "data": {
      "text/html": [
       "<div>\n",
       "<style scoped>\n",
       "    .dataframe tbody tr th:only-of-type {\n",
       "        vertical-align: middle;\n",
       "    }\n",
       "\n",
       "    .dataframe tbody tr th {\n",
       "        vertical-align: top;\n",
       "    }\n",
       "\n",
       "    .dataframe thead th {\n",
       "        text-align: right;\n",
       "    }\n",
       "</style>\n",
       "<table border=\"1\" class=\"dataframe\">\n",
       "  <thead>\n",
       "    <tr style=\"text-align: right;\">\n",
       "      <th>Year</th>\n",
       "      <th>pop2010</th>\n",
       "      <th>pop2022</th>\n",
       "      <th>difference</th>\n",
       "      <th>relDifference</th>\n",
       "    </tr>\n",
       "    <tr>\n",
       "      <th>Country</th>\n",
       "      <th></th>\n",
       "      <th></th>\n",
       "      <th></th>\n",
       "      <th></th>\n",
       "    </tr>\n",
       "  </thead>\n",
       "  <tbody>\n",
       "    <tr>\n",
       "      <th>Anguilla</th>\n",
       "      <td>0.01</td>\n",
       "      <td>0.02</td>\n",
       "      <td>0.01</td>\n",
       "      <td>1.000000</td>\n",
       "    </tr>\n",
       "    <tr>\n",
       "      <th>Turks and Caicos Islands</th>\n",
       "      <td>0.03</td>\n",
       "      <td>0.05</td>\n",
       "      <td>0.02</td>\n",
       "      <td>0.666667</td>\n",
       "    </tr>\n",
       "    <tr>\n",
       "      <th>Jordan</th>\n",
       "      <td>6.93</td>\n",
       "      <td>11.29</td>\n",
       "      <td>4.36</td>\n",
       "      <td>0.629149</td>\n",
       "    </tr>\n",
       "    <tr>\n",
       "      <th>Oman</th>\n",
       "      <td>2.88</td>\n",
       "      <td>4.58</td>\n",
       "      <td>1.70</td>\n",
       "      <td>0.590278</td>\n",
       "    </tr>\n",
       "    <tr>\n",
       "      <th>Qatar</th>\n",
       "      <td>1.71</td>\n",
       "      <td>2.70</td>\n",
       "      <td>0.99</td>\n",
       "      <td>0.578947</td>\n",
       "    </tr>\n",
       "    <tr>\n",
       "      <th>Niger</th>\n",
       "      <td>16.65</td>\n",
       "      <td>26.21</td>\n",
       "      <td>9.56</td>\n",
       "      <td>0.574174</td>\n",
       "    </tr>\n",
       "    <tr>\n",
       "      <th>Mayotte</th>\n",
       "      <td>0.21</td>\n",
       "      <td>0.33</td>\n",
       "      <td>0.12</td>\n",
       "      <td>0.571429</td>\n",
       "    </tr>\n",
       "    <tr>\n",
       "      <th>Equatorial Guinea</th>\n",
       "      <td>1.09</td>\n",
       "      <td>1.67</td>\n",
       "      <td>0.58</td>\n",
       "      <td>0.532110</td>\n",
       "    </tr>\n",
       "    <tr>\n",
       "      <th>Angola</th>\n",
       "      <td>23.36</td>\n",
       "      <td>35.59</td>\n",
       "      <td>12.23</td>\n",
       "      <td>0.523545</td>\n",
       "    </tr>\n",
       "    <tr>\n",
       "      <th>Bonaire, St. Eustatius &amp; Saba</th>\n",
       "      <td>0.02</td>\n",
       "      <td>0.03</td>\n",
       "      <td>0.01</td>\n",
       "      <td>0.500000</td>\n",
       "    </tr>\n",
       "  </tbody>\n",
       "</table>\n",
       "</div>"
      ],
      "text/plain": [
       "Year                           pop2010  pop2022  difference  relDifference\n",
       "Country                                                                   \n",
       "Anguilla                          0.01     0.02        0.01       1.000000\n",
       "Turks and Caicos Islands          0.03     0.05        0.02       0.666667\n",
       "Jordan                            6.93    11.29        4.36       0.629149\n",
       "Oman                              2.88     4.58        1.70       0.590278\n",
       "Qatar                             1.71     2.70        0.99       0.578947\n",
       "Niger                            16.65    26.21        9.56       0.574174\n",
       "Mayotte                           0.21     0.33        0.12       0.571429\n",
       "Equatorial Guinea                 1.09     1.67        0.58       0.532110\n",
       "Angola                           23.36    35.59       12.23       0.523545\n",
       "Bonaire, St. Eustatius & Saba     0.02     0.03        0.01       0.500000"
      ]
     },
     "execution_count": 23,
     "metadata": {},
     "output_type": "execute_result"
    }
   ],
   "source": [
    "pop.sort_values('relDifference', ascending=False).head(10)"
   ]
  },
  {
   "cell_type": "code",
   "execution_count": null,
   "metadata": {
    "colab": {
     "base_uri": "https://localhost:8080/",
     "height": 269
    },
    "executionInfo": {
     "elapsed": 17,
     "status": "ok",
     "timestamp": 1645380963202,
     "user": {
      "displayName": "Brona Brejova",
      "photoUrl": "https://lh3.googleusercontent.com/a-/AOh14GjGyr69ecECqZOZ-_5-o1v7SpP5TdLQGU7-pHl4UQ=s64",
      "userId": "10789993073610145432"
     },
     "user_tz": -60
    },
    "id": "AzpLs9q0pS6X",
    "outputId": "f4b7c617-f609-4356-daf1-8c7b4afebf60"
   },
   "outputs": [
    {
     "data": {
      "text/html": [
       "<div>\n",
       "<style scoped>\n",
       "    .dataframe tbody tr th:only-of-type {\n",
       "        vertical-align: middle;\n",
       "    }\n",
       "\n",
       "    .dataframe tbody tr th {\n",
       "        vertical-align: top;\n",
       "    }\n",
       "\n",
       "    .dataframe thead th {\n",
       "        text-align: right;\n",
       "    }\n",
       "</style>\n",
       "<table border=\"1\" class=\"dataframe\">\n",
       "  <thead>\n",
       "    <tr style=\"text-align: right;\">\n",
       "      <th>Year</th>\n",
       "      <th>pop2010</th>\n",
       "      <th>pop2022</th>\n",
       "      <th>difference</th>\n",
       "      <th>relDifference</th>\n",
       "    </tr>\n",
       "    <tr>\n",
       "      <th>Country</th>\n",
       "      <th></th>\n",
       "      <th></th>\n",
       "      <th></th>\n",
       "      <th></th>\n",
       "    </tr>\n",
       "  </thead>\n",
       "  <tbody>\n",
       "    <tr>\n",
       "      <th>Slovakia</th>\n",
       "      <td>5.40</td>\n",
       "      <td>5.64</td>\n",
       "      <td>0.24</td>\n",
       "      <td>0.044444</td>\n",
       "    </tr>\n",
       "    <tr>\n",
       "      <th>Czechia</th>\n",
       "      <td>10.46</td>\n",
       "      <td>10.49</td>\n",
       "      <td>0.03</td>\n",
       "      <td>0.002868</td>\n",
       "    </tr>\n",
       "    <tr>\n",
       "      <th>Hungary</th>\n",
       "      <td>9.99</td>\n",
       "      <td>9.97</td>\n",
       "      <td>-0.02</td>\n",
       "      <td>-0.002002</td>\n",
       "    </tr>\n",
       "    <tr>\n",
       "      <th>Poland</th>\n",
       "      <td>38.60</td>\n",
       "      <td>39.86</td>\n",
       "      <td>1.26</td>\n",
       "      <td>0.032642</td>\n",
       "    </tr>\n",
       "    <tr>\n",
       "      <th>Austria</th>\n",
       "      <td>8.36</td>\n",
       "      <td>8.94</td>\n",
       "      <td>0.58</td>\n",
       "      <td>0.069378</td>\n",
       "    </tr>\n",
       "    <tr>\n",
       "      <th>Ukraine</th>\n",
       "      <td>45.68</td>\n",
       "      <td>39.70</td>\n",
       "      <td>-5.98</td>\n",
       "      <td>-0.130911</td>\n",
       "    </tr>\n",
       "  </tbody>\n",
       "</table>\n",
       "</div>"
      ],
      "text/plain": [
       "Year      pop2010  pop2022  difference  relDifference\n",
       "Country                                              \n",
       "Slovakia     5.40     5.64        0.24       0.044444\n",
       "Czechia     10.46    10.49        0.03       0.002868\n",
       "Hungary      9.99     9.97       -0.02      -0.002002\n",
       "Poland      38.60    39.86        1.26       0.032642\n",
       "Austria      8.36     8.94        0.58       0.069378\n",
       "Ukraine     45.68    39.70       -5.98      -0.130911"
      ]
     },
     "metadata": {},
     "output_type": "display_data"
    }
   ],
   "source": [
    "neighbor_countries = ['Slovakia', 'Czechia', 'Hungary', 'Poland', 'Austria', 'Ukraine'] \n",
    "neighbors = pop.loc[neighbor_countries, : ]\n",
    "display(neighbors)"
   ]
  },
  {
   "cell_type": "markdown",
   "metadata": {
    "id": "wpI05Ey_wTAv"
   },
   "source": [
    "## Summary and outlook\n",
    "* We will work mostly with tabular data.\n",
    "* We will store them in `DataFrame` from Pandas library.\n",
    "* This is more convenient and more efficient than regular Python lists.\n",
    "* We have seen several functions for basic manipulation:\n",
    "    * `iloc[]`, `loc[]`, `query`, `head`, `set_index`, `reset_index`, `rename`, `pivot`, `copy`, `sort_values`, operations and functions on `Series`.\n",
    "* Next lecture will be focused on examples of different chart types.\n",
    "* More Pandas later."
   ]
  }
 ],
 "metadata": {
  "celltoolbar": "Slideshow",
  "colab": {
   "collapsed_sections": [],
   "name": "L02_Processing_Pandas.ipynb",
   "provenance": [],
   "toc_visible": true
  },
  "kernelspec": {
   "display_name": "venv",
   "language": "python",
   "name": "python3"
  },
  "language_info": {
   "codemirror_mode": {
    "name": "ipython",
    "version": 3
   },
   "file_extension": ".py",
   "mimetype": "text/x-python",
   "name": "python",
   "nbconvert_exporter": "python",
   "pygments_lexer": "ipython3",
   "version": "3.10.12"
  }
 },
 "nbformat": 4,
 "nbformat_minor": 1
}
