{
 "cells": [
  {
   "cell_type": "markdown",
   "metadata": {
    "id": "YFsMtjqaQ3p5"
   },
   "source": [
    "# Lecture 4: Summary statistics\n",
    "\n",
    "[Data Visualization · 1-DAV-105](https://bbrejova.github.io/viz/)\n",
    "\n",
    "Lecture by Broňa Brejová"
   ]
  },
  {
   "cell_type": "markdown",
   "metadata": {
    "id": "WQqcH7KrTs5G"
   },
   "source": [
    "## Introduction\n",
    "\n",
    "* Summary statistics (popisné charakteristiky / štatistiky) are quantities that summarize basic properties of a single variable (a table column), such as the mean.\n",
    "* We can also characterize dependencies between pairs of variables.\n",
    "* Together with simple plots, such as histograms, they give us the first glimpse at the data when working with a new data set.\n",
    "* We start by loading the movie data set, which we use to illustrate these terms."
   ]
  },
  {
   "cell_type": "markdown",
   "metadata": {
    "id": "TEKO_ISWSa1q"
   },
   "source": [
    "## Importing the movie data set\n",
    "\n",
    "* The same data set as in group tasks 03. \n",
    "* The data set  describes 2049 movies. \n",
    "* The data set was downloaded from https://www.kaggle.com/rounakbanik/the-movies-dataset and preprocessed, keeping only movies with at least 500 viewer votes."
   ]
  },
  {
   "cell_type": "code",
   "execution_count": 1,
   "metadata": {
    "executionInfo": {
     "elapsed": 770,
     "status": "ok",
     "timestamp": 1641638697409,
     "user": {
      "displayName": "Brona Brejova",
      "photoUrl": "https://lh3.googleusercontent.com/a-/AOh14GjGyr69ecECqZOZ-_5-o1v7SpP5TdLQGU7-pHl4UQ=s64",
      "userId": "10789993073610145432"
     },
     "user_tz": -60
    },
    "id": "8IBzAHz3RFZa"
   },
   "outputs": [],
   "source": [
    "import numpy as np\n",
    "import pandas as pd\n",
    "from IPython.display import Markdown\n",
    "import matplotlib.pyplot as plt\n",
    "import seaborn as sns"
   ]
  },
  {
   "cell_type": "code",
   "execution_count": 2,
   "metadata": {
    "colab": {
     "base_uri": "https://localhost:8080/",
     "height": 337
    },
    "executionInfo": {
     "elapsed": 1047,
     "status": "ok",
     "timestamp": 1641638698662,
     "user": {
      "displayName": "Brona Brejova",
      "photoUrl": "https://lh3.googleusercontent.com/a-/AOh14GjGyr69ecECqZOZ-_5-o1v7SpP5TdLQGU7-pHl4UQ=s64",
      "userId": "10789993073610145432"
     },
     "user_tz": -60
    },
    "id": "6BGj_2H4QIEQ",
    "outputId": "7fbf9ba1-4010-471e-e927-7751df524115"
   },
   "outputs": [
    {
     "data": {
      "text/html": [
       "<div>\n",
       "<style scoped>\n",
       "    .dataframe tbody tr th:only-of-type {\n",
       "        vertical-align: middle;\n",
       "    }\n",
       "\n",
       "    .dataframe tbody tr th {\n",
       "        vertical-align: top;\n",
       "    }\n",
       "\n",
       "    .dataframe thead th {\n",
       "        text-align: right;\n",
       "    }\n",
       "</style>\n",
       "<table border=\"1\" class=\"dataframe\">\n",
       "  <thead>\n",
       "    <tr style=\"text-align: right;\">\n",
       "      <th></th>\n",
       "      <th>title</th>\n",
       "      <th>year</th>\n",
       "      <th>budget</th>\n",
       "      <th>revenue</th>\n",
       "      <th>original_language</th>\n",
       "      <th>runtime</th>\n",
       "      <th>release_date</th>\n",
       "      <th>vote_average</th>\n",
       "      <th>vote_count</th>\n",
       "      <th>overview</th>\n",
       "    </tr>\n",
       "  </thead>\n",
       "  <tbody>\n",
       "    <tr>\n",
       "      <th>0</th>\n",
       "      <td>Toy Story</td>\n",
       "      <td>1995</td>\n",
       "      <td>30000000.0</td>\n",
       "      <td>373554033.0</td>\n",
       "      <td>en</td>\n",
       "      <td>81.0</td>\n",
       "      <td>1995-10-30</td>\n",
       "      <td>7.7</td>\n",
       "      <td>5415.0</td>\n",
       "      <td>Led by Woody, Andy's toys live happily in his ...</td>\n",
       "    </tr>\n",
       "    <tr>\n",
       "      <th>1</th>\n",
       "      <td>Jumanji</td>\n",
       "      <td>1995</td>\n",
       "      <td>65000000.0</td>\n",
       "      <td>262797249.0</td>\n",
       "      <td>en</td>\n",
       "      <td>104.0</td>\n",
       "      <td>1995-12-15</td>\n",
       "      <td>6.9</td>\n",
       "      <td>2413.0</td>\n",
       "      <td>When siblings Judy and Peter discover an encha...</td>\n",
       "    </tr>\n",
       "    <tr>\n",
       "      <th>2</th>\n",
       "      <td>Heat</td>\n",
       "      <td>1995</td>\n",
       "      <td>60000000.0</td>\n",
       "      <td>187436818.0</td>\n",
       "      <td>en</td>\n",
       "      <td>170.0</td>\n",
       "      <td>1995-12-15</td>\n",
       "      <td>7.7</td>\n",
       "      <td>1886.0</td>\n",
       "      <td>Obsessive master thief, Neil McCauley leads a ...</td>\n",
       "    </tr>\n",
       "    <tr>\n",
       "      <th>3</th>\n",
       "      <td>GoldenEye</td>\n",
       "      <td>1995</td>\n",
       "      <td>58000000.0</td>\n",
       "      <td>352194034.0</td>\n",
       "      <td>en</td>\n",
       "      <td>130.0</td>\n",
       "      <td>1995-11-16</td>\n",
       "      <td>6.6</td>\n",
       "      <td>1194.0</td>\n",
       "      <td>James Bond must unmask the mysterious head of ...</td>\n",
       "    </tr>\n",
       "    <tr>\n",
       "      <th>4</th>\n",
       "      <td>Casino</td>\n",
       "      <td>1995</td>\n",
       "      <td>52000000.0</td>\n",
       "      <td>116112375.0</td>\n",
       "      <td>en</td>\n",
       "      <td>178.0</td>\n",
       "      <td>1995-11-22</td>\n",
       "      <td>7.8</td>\n",
       "      <td>1343.0</td>\n",
       "      <td>The life of the gambling paradise – Las Vegas ...</td>\n",
       "    </tr>\n",
       "  </tbody>\n",
       "</table>\n",
       "</div>"
      ],
      "text/plain": [
       "       title  year      budget      revenue original_language  runtime  \\\n",
       "0  Toy Story  1995  30000000.0  373554033.0                en     81.0   \n",
       "1    Jumanji  1995  65000000.0  262797249.0                en    104.0   \n",
       "2       Heat  1995  60000000.0  187436818.0                en    170.0   \n",
       "3  GoldenEye  1995  58000000.0  352194034.0                en    130.0   \n",
       "4     Casino  1995  52000000.0  116112375.0                en    178.0   \n",
       "\n",
       "  release_date  vote_average  vote_count  \\\n",
       "0   1995-10-30           7.7      5415.0   \n",
       "1   1995-12-15           6.9      2413.0   \n",
       "2   1995-12-15           7.7      1886.0   \n",
       "3   1995-11-16           6.6      1194.0   \n",
       "4   1995-11-22           7.8      1343.0   \n",
       "\n",
       "                                            overview  \n",
       "0  Led by Woody, Andy's toys live happily in his ...  \n",
       "1  When siblings Judy and Peter discover an encha...  \n",
       "2  Obsessive master thief, Neil McCauley leads a ...  \n",
       "3  James Bond must unmask the mysterious head of ...  \n",
       "4  The life of the gambling paradise – Las Vegas ...  "
      ]
     },
     "metadata": {},
     "output_type": "display_data"
    }
   ],
   "source": [
    "url = 'http://compbio.fmph.uniba.sk/vyuka/viz/images/e/e5/Movies_small.csv'\n",
    "table = pd.read_csv(url)\n",
    "display(table.head())"
   ]
  },
  {
   "cell_type": "markdown",
   "metadata": {
    "id": "P-ZZaNYzThKJ"
   },
   "source": [
    "## Measures of central tendency (miery stredu / polohy)\n",
    "\n",
    "These represent a typical value in a sample $x$ with values $x_1,\\dots, x_n$ (one numerical column of a table).\n",
    "\n",
    "* **Mean (priemer)** $\\bar{x}=\\frac{\\sum_{i=1}^n x_i}{n}$\n",
    "  * This is the arithmetic mean, there are also geometric and harmonic means.\n",
    "* **Median (medián)** is the middle value when the values ordered from smallest to largest.\n",
    "  * For even $n$ usually defined as the average of the two middle values.\n",
    "  * Median of 10, 12, 15, 16, 16 is 15.\n",
    "  * Median of 10, 12, 15, 16, 16, 20 is 15.5.\n",
    "* **Mode (modus)** is the most frequent value (for a discrete variable).\n",
    "  * Mode of 10,12,15,16,16 is 16.\n",
    "  * For continuous variables, we may look for a mode in a histogram (this is sensitive to bin size).\n",
    "\n",
    "<img src=\"https://upload.wikimedia.org/wikipedia/commons/thumb/3/33/Visualisation_mode_median_mean.svg/280px-Visualisation_mode_median_mean.svg.png\n",
    "\">\n",
    "\n",
    "<small>https://commons.wikimedia.org/wiki/File:Visualisation_mode_median_mean.svg Cmglee, CC BY-SA 3.0</small> "
   ]
  },
  {
   "cell_type": "markdown",
   "metadata": {
    "id": "NXKQ8lWIdECD"
   },
   "source": [
    "### Computation in Pandas\n",
    "\n",
    "Below we apply functions [`mean`](https://pandas.pydata.org/pandas-docs/stable/reference/api/pandas.DataFrame.mean.html), [`median`](https://pandas.pydata.org/pandas-docs/stable/reference/api/pandas.DataFrame.median.html), [`mode`](https://pandas.pydata.org/pandas-docs/stable/reference/api/pandas.DataFrame.mode.html) to a single Series (column `year` of our table).\n",
    "\n",
    "Note that `mode` returns a Series of results (for case of ties).\n",
    "\n",
    "Note the use of [Python f-strings](https://docs.python.org/3/tutorial/inputoutput.html#tut-f-strings) to print results."
   ]
  },
  {
   "cell_type": "code",
   "execution_count": 3,
   "metadata": {
    "colab": {
     "base_uri": "https://localhost:8080/"
    },
    "executionInfo": {
     "elapsed": 8,
     "status": "ok",
     "timestamp": 1641638698663,
     "user": {
      "displayName": "Brona Brejova",
      "photoUrl": "https://lh3.googleusercontent.com/a-/AOh14GjGyr69ecECqZOZ-_5-o1v7SpP5TdLQGU7-pHl4UQ=s64",
      "userId": "10789993073610145432"
     },
     "user_tz": -60
    },
    "id": "LBuOJttkcexN",
    "outputId": "676198a4-fa80-4e86-d518-9efbc1fb382d"
   },
   "outputs": [
    {
     "data": {
      "text/markdown": [
       "**Properties of the column `year` in our table:**"
      ],
      "text/plain": [
       "<IPython.core.display.Markdown object>"
      ]
     },
     "metadata": {},
     "output_type": "display_data"
    },
    {
     "name": "stdout",
     "output_type": "stream",
     "text": [
      "Mean: 2004.14\n",
      "Median: 2008.0\n",
      "Mode:\n",
      "0    2013\n",
      "Name: year, dtype: int64\n"
     ]
    }
   ],
   "source": [
    "display(Markdown(\"**Properties of the column `year` in our table:**\"))\n",
    "print(f\"Mean: {table['year'].mean():.2f}\")\n",
    "print(f\"Median: {table['year'].median()}\")\n",
    "print(f\"Mode:\\n{table['year'].mode()}\")"
   ]
  },
  {
   "cell_type": "markdown",
   "metadata": {
    "id": "OanrcluZ1GxD"
   },
   "source": [
    "Let us see these values in a histogram of the column values (overall view and detail)."
   ]
  },
  {
   "cell_type": "code",
   "execution_count": 4,
   "metadata": {
    "colab": {
     "base_uri": "https://localhost:8080/",
     "height": 241
    },
    "executionInfo": {
     "elapsed": 1091,
     "status": "ok",
     "timestamp": 1641638699750,
     "user": {
      "displayName": "Brona Brejova",
      "photoUrl": "https://lh3.googleusercontent.com/a-/AOh14GjGyr69ecECqZOZ-_5-o1v7SpP5TdLQGU7-pHl4UQ=s64",
      "userId": "10789993073610145432"
     },
     "user_tz": -60
    },
    "id": "YuOy4pICdCqT",
    "outputId": "1911bb1e-3225-45ee-d037-268c5eeaf448"
   },
   "outputs": [
    {
     "data": {
      "image/png": "[encoded data removed]",
      "text/plain": [
       "<Figure size 800x300 with 2 Axes>"
      ]
     },
     "metadata": {},
     "output_type": "display_data"
    }
   ],
   "source": [
    "# set up figure with two plots\n",
    "figure, axes = plt.subplots(1, 2, figsize=(8,3), sharey=True)\n",
    "\n",
    "# plot histograms, use discrete=True to have each year in one bin\n",
    "sns.histplot(data=table, x='year', discrete=True, ax=axes[0])\n",
    "sns.histplot(x=table.query('year>=2000')['year'], discrete=True, ax=axes[1])\n",
    "\n",
    "# titles and axis labels\n",
    "axes[0].set_ylabel(\"The number of movies\")\n",
    "axes[0].set_title('All years in the dataset')\n",
    "axes[1].set_title('Years 2000-2017')\n",
    "\n",
    "# compute three summary statics, set up their color and label\n",
    "stats = [{'label':'mean', 'value':table['year'].mean(), 'color':'red'},\n",
    "         {'label':'median', 'value':table['year'].median(), 'color':'green'},\n",
    "         {'label':'mode', 'value':table['year'].mode(), 'color':'black'}]\n",
    "# add dots for all statistics to both plots (at y=5)\n",
    "for a in axes:\n",
    "  for s in stats:\n",
    "    a.plot(s['value'], 5, 'o', color=s['color'], label=s['label'])\n",
    "  a.legend()\n",
    "\n",
    "pass"
   ]
  },
  {
   "cell_type": "markdown",
   "metadata": {
    "id": "PT-pOWMU1aoL"
   },
   "source": [
    "* Functions `mean` and `median` can be applied to a whole table, in which case the summary of very numerical column will be computed.\n",
    "* With `axis=1` we can compute means or medians in rows."
   ]
  },
  {
   "cell_type": "code",
   "execution_count": 5,
   "metadata": {
    "colab": {
     "base_uri": "https://localhost:8080/",
     "height": 336
    },
    "executionInfo": {
     "elapsed": 10,
     "status": "ok",
     "timestamp": 1641638699751,
     "user": {
      "displayName": "Brona Brejova",
      "photoUrl": "https://lh3.googleusercontent.com/a-/AOh14GjGyr69ecECqZOZ-_5-o1v7SpP5TdLQGU7-pHl4UQ=s64",
      "userId": "10789993073610145432"
     },
     "user_tz": -60
    },
    "id": "KpCyJ9A_1Ut8",
    "outputId": "fb4de5ee-7d53-4258-c199-964677349808"
   },
   "outputs": [
    {
     "data": {
      "text/markdown": [
       "**`table.mean(numeric_only=True)`:**"
      ],
      "text/plain": [
       "<IPython.core.display.Markdown object>"
      ]
     },
     "metadata": {},
     "output_type": "display_data"
    },
    {
     "data": {
      "text/plain": [
       "year            2.004145e+03\n",
       "budget          5.510894e+07\n",
       "revenue         1.985651e+08\n",
       "runtime         1.126559e+02\n",
       "vote_average    6.629673e+00\n",
       "vote_count      1.704642e+03\n",
       "dtype: float64"
      ]
     },
     "metadata": {},
     "output_type": "display_data"
    },
    {
     "data": {
      "text/markdown": [
       "**`table.median(numeric_only=True)`:**"
      ],
      "text/plain": [
       "<IPython.core.display.Markdown object>"
      ]
     },
     "metadata": {},
     "output_type": "display_data"
    },
    {
     "data": {
      "text/plain": [
       "year                 2008.0\n",
       "budget           38000000.0\n",
       "revenue         122200000.0\n",
       "runtime               109.0\n",
       "vote_average            6.6\n",
       "vote_count           1092.0\n",
       "dtype: float64"
      ]
     },
     "metadata": {},
     "output_type": "display_data"
    }
   ],
   "source": [
    "display(Markdown(\"**`table.mean(numeric_only=True)`:**\"), table.mean(numeric_only=True))\n",
    "display(Markdown(\"**`table.median(numeric_only=True)`:**\"), table.median(numeric_only=True))"
   ]
  },
  {
   "cell_type": "markdown",
   "metadata": {
    "id": "sg50OAVJgXbB"
   },
   "source": [
    "### Properties of the measures\n",
    "\n",
    "* If we apply linear transformation $a\\cdot x_i +b$ with the same constants $a$ and $b$ to all values $x_i$, mean, median and mode will be also transformed in the same way.\n",
    "  * This corresponds e.g. to the change in the units of measurement (grams vs kilograms, degrees C vs degrees F)\n",
    "* Mean can be heavily influenced by outliers.\n",
    "  * Mean of 800, 1000, 1100, 1200, 1800, 2000 and 30000 is 5414.3, median 1200.\n",
    "  * Mean of 800, 1000, 1100, 1200, 1800, 2000 and 10000 is 2557.1, median 1200.\n",
    "* Therefore we often prefer median (e.g. median salary).\n"
   ]
  },
  {
   "cell_type": "markdown",
   "metadata": {
    "id": "b56eOgfWi-W3"
   },
   "source": [
    "## Quantiles, percentiles and quartiles (kvantily, percentily, kvartily)\n",
    "\n",
    "* Median is the middle value in a sorted order.\n",
    "* Therefore about 50% of values are smaller and 50% larger.\n",
    "* For a different percentage $p$, the $p$th **percentile** is at position roughly $(p/100)\\cdot n$ in the sorted order of values.\n",
    "* Similarly **quantile** (in [Pandas](https://pandas.pydata.org/pandas-docs/stable/reference/api/pandas.DataFrame.quantile.html)), but we give fraction between 0 and 1 rather than percentage.\n",
    "* Specifically **quartiles** are three values $Q_1$, $Q_2$ and $Q_3$ that split input data into quarters.\n",
    "  * Therefore, $Q_2$ is the median.\n",
    "* Many definitions exist regarding situations when the desired fraction falls between two values (we can take lower, higher, mean, weighted mean etc).\n",
    "\n"
   ]
  },
  {
   "cell_type": "markdown",
   "metadata": {
    "id": "Bc-_sayeppc0"
   },
   "source": [
    "### Computation in Pandas\n",
    "\n",
    "* Function [`quantile`](https://pandas.pydata.org/pandas-docs/stable/reference/api/pandas.DataFrame.quantile.html) gets a single value between 0 and 1 or a list of values and returns corresponding quantiles. \n",
    "* We can generate a regular sequence of values using [`np.arange`](https://numpy.org/doc/stable/reference/generated/numpy.arange.html)."
   ]
  },
  {
   "cell_type": "code",
   "execution_count": 6,
   "metadata": {
    "colab": {
     "base_uri": "https://localhost:8080/",
     "height": 336
    },
    "executionInfo": {
     "elapsed": 578,
     "status": "ok",
     "timestamp": 1641638700322,
     "user": {
      "displayName": "Brona Brejova",
      "photoUrl": "https://lh3.googleusercontent.com/a-/AOh14GjGyr69ecECqZOZ-_5-o1v7SpP5TdLQGU7-pHl4UQ=s64",
      "userId": "10789993073610145432"
     },
     "user_tz": -60
    },
    "id": "hWedFxhQm8tQ",
    "outputId": "8baed56b-d148-436b-fdbe-da837a4dec63"
   },
   "outputs": [
    {
     "data": {
      "text/markdown": [
       "**Median:**"
      ],
      "text/plain": [
       "<IPython.core.display.Markdown object>"
      ]
     },
     "metadata": {},
     "output_type": "display_data"
    },
    {
     "data": {
      "text/plain": [
       "2008.0"
      ]
     },
     "metadata": {},
     "output_type": "display_data"
    },
    {
     "data": {
      "text/markdown": [
       "**Quantile for 0.5:**"
      ],
      "text/plain": [
       "<IPython.core.display.Markdown object>"
      ]
     },
     "metadata": {},
     "output_type": "display_data"
    },
    {
     "data": {
      "text/plain": [
       "2008.0"
      ]
     },
     "metadata": {},
     "output_type": "display_data"
    },
    {
     "data": {
      "text/markdown": [
       "**All quartiles:**"
      ],
      "text/plain": [
       "<IPython.core.display.Markdown object>"
      ]
     },
     "metadata": {},
     "output_type": "display_data"
    },
    {
     "data": {
      "text/plain": [
       "0.25    2000.0\n",
       "0.50    2008.0\n",
       "0.75    2013.0\n",
       "Name: year, dtype: float64"
      ]
     },
     "metadata": {},
     "output_type": "display_data"
    },
    {
     "data": {
      "text/markdown": [
       "**With step 0.1:**"
      ],
      "text/plain": [
       "<IPython.core.display.Markdown object>"
      ]
     },
     "metadata": {},
     "output_type": "display_data"
    },
    {
     "data": {
      "text/plain": [
       "0.1    1988.8\n",
       "0.2    1998.0\n",
       "0.3    2002.0\n",
       "0.4    2005.0\n",
       "0.5    2008.0\n",
       "0.6    2010.0\n",
       "0.7    2012.0\n",
       "0.8    2014.0\n",
       "0.9    2015.0\n",
       "Name: year, dtype: float64"
      ]
     },
     "metadata": {},
     "output_type": "display_data"
    }
   ],
   "source": [
    "display(Markdown(\"**Median:**\"), table['year'].median())\n",
    "display(Markdown(\"**Quantile for 0.5:**\"), table['year'].quantile(0.5))\n",
    "display(Markdown(\"**All quartiles:**\"), table['year'].quantile([0.25, 0.5, 0.75]))\n",
    "display(Markdown(\"**With step 0.1:**\"), table['year'].quantile(np.arange(0.1, 1, 0.1)))"
   ]
  },
  {
   "cell_type": "markdown",
   "metadata": {
    "id": "G20oxo614hCb"
   },
   "source": [
    "The code below plots the quartiles highlighted in a histogram."
   ]
  },
  {
   "cell_type": "code",
   "execution_count": 7,
   "metadata": {
    "colab": {
     "base_uri": "https://localhost:8080/",
     "height": 241
    },
    "executionInfo": {
     "elapsed": 843,
     "status": "ok",
     "timestamp": 1641638701159,
     "user": {
      "displayName": "Brona Brejova",
      "photoUrl": "https://lh3.googleusercontent.com/a-/AOh14GjGyr69ecECqZOZ-_5-o1v7SpP5TdLQGU7-pHl4UQ=s64",
      "userId": "10789993073610145432"
     },
     "user_tz": -60
    },
    "id": "niUyWM-IoI5t",
    "outputId": "4ba5b037-665e-4494-fe16-a9052b48cd25"
   },
   "outputs": [
    {
     "data": {
      "image/png": "[encoded data removed]",
      "text/plain": [
       "<Figure size 800x300 with 2 Axes>"
      ]
     },
     "metadata": {},
     "output_type": "display_data"
    }
   ],
   "source": [
    "# setup histograms\n",
    "figure, axes = plt.subplots(1, 2, figsize=(8,3), sharey=True)\n",
    "sns.histplot(data=table, x='year', discrete=True, ax=axes[0])\n",
    "sns.histplot(x=table.query('year>=1985')['year'], discrete=True, ax=axes[1])\n",
    "axes[0].set_ylabel(\"The number of movies\")\n",
    "axes[0].set_title('All years in the dataset')\n",
    "axes[1].set_title('Years 1985-2017')\n",
    "\n",
    "# compute and display quartiles\n",
    "quartiles = table['year'].quantile([0.25, 0.5, 0.75])\n",
    "for a in axes:\n",
    "    a.plot(quartiles, [5] * len(quartiles), 'o', color='black')                 \n",
    "pass"
   ]
  },
  {
   "cell_type": "markdown",
   "metadata": {
    "id": "YN1oswMY5ymb"
   },
   "source": [
    "* The code below illustrates how the [`quantile`](https://pandas.pydata.org/pandas-docs/stable/reference/api/pandas.DataFrame.quantile.html) function works when returning quantiles which do not correspond to a single input value.\n",
    "* Optional parameter `interpolation` accepts values `‘linear’ (default), ‘lower’, ‘higher’, ‘midpoint’, ‘nearest’`.\n",
    "* Imagine the lowest element at quantile 0, highest element at quantile 1 and the rest evenly spaced between. The quantile at position between two elements is influenced only by its two neighbors."
   ]
  },
  {
   "cell_type": "code",
   "execution_count": 30,
   "metadata": {
    "colab": {
     "base_uri": "https://localhost:8080/",
     "height": 371
    },
    "executionInfo": {
     "elapsed": 27,
     "status": "ok",
     "timestamp": 1641638701161,
     "user": {
      "displayName": "Brona Brejova",
      "photoUrl": "https://lh3.googleusercontent.com/a-/AOh14GjGyr69ecECqZOZ-_5-o1v7SpP5TdLQGU7-pHl4UQ=s64",
      "userId": "10789993073610145432"
     },
     "user_tz": -60
    },
    "id": "fYT8ZZ5n4kBK",
    "outputId": "c183f631-8daf-4ec5-9fad-39f4503b14dc"
   },
   "outputs": [
    {
     "data": {
      "text/markdown": [
       "**Quantiles for [0, 100]**"
      ],
      "text/plain": [
       "<IPython.core.display.Markdown object>"
      ]
     },
     "metadata": {},
     "output_type": "display_data"
    },
    {
     "data": {
      "text/plain": [
       "0.01     1.0\n",
       "0.25    25.0\n",
       "0.50    50.0\n",
       "0.75    75.0\n",
       "dtype: float64"
      ]
     },
     "metadata": {},
     "output_type": "display_data"
    },
    {
     "data": {
      "text/markdown": [
       "**Quantiles for [0, 10, 20, 30, 100]**"
      ],
      "text/plain": [
       "<IPython.core.display.Markdown object>"
      ]
     },
     "metadata": {},
     "output_type": "display_data"
    },
    {
     "data": {
      "text/plain": [
       "0.01     0.4\n",
       "0.25    10.0\n",
       "0.50    20.0\n",
       "0.75    30.0\n",
       "dtype: float64"
      ]
     },
     "metadata": {},
     "output_type": "display_data"
    },
    {
     "data": {
      "text/markdown": [
       "**Quantiles for [0, 10, 20, 100]**"
      ],
      "text/plain": [
       "<IPython.core.display.Markdown object>"
      ]
     },
     "metadata": {},
     "output_type": "display_data"
    },
    {
     "data": {
      "text/plain": [
       "0.01     0.3\n",
       "0.25     7.5\n",
       "0.50    15.0\n",
       "0.75    40.0\n",
       "dtype: float64"
      ]
     },
     "metadata": {},
     "output_type": "display_data"
    },
    {
     "data": {
      "text/markdown": [
       "**Quantiles for [0, 10, 20, 100] with `interpolation='lower'`**"
      ],
      "text/plain": [
       "<IPython.core.display.Markdown object>"
      ]
     },
     "metadata": {},
     "output_type": "display_data"
    },
    {
     "data": {
      "text/plain": [
       "0.01     0\n",
       "0.25     0\n",
       "0.50    10\n",
       "0.75    20\n",
       "dtype: int64"
      ]
     },
     "metadata": {},
     "output_type": "display_data"
    }
   ],
   "source": [
    "a = pd.Series([0, 100])\n",
    "b = pd.Series([0, 10, 20, 30, 100])\n",
    "c = pd.Series([0, 10, 20, 100])\n",
    "quantiles = [0.01, 0.25, 0.5, 0.75]\n",
    "display(Markdown(f\"**Quantiles for {list(a)}**\"), a.quantile(quantiles))\n",
    "display(Markdown(f\"**Quantiles for {list(b)}**\"), b.quantile(quantiles))\n",
    "display(Markdown(f\"**Quantiles for {list(c)}**\"), c.quantile(quantiles))\n",
    "display(Markdown(f\"**Quantiles for {list(c)} with `interpolation='lower'`**\"), \n",
    "        c.quantile(quantiles, interpolation='lower'))"
   ]
  },
  {
   "cell_type": "markdown",
   "metadata": {
    "id": "G0SA2CVwo-fy"
   },
   "source": [
    "## Measures of variability (miery variability)\n",
    "\n",
    "* Values in the sample may be close to their mean or median, or they can spread widely.\n",
    "* It is important to consider how representative is the mean or median of the whole set.\n",
    "\n",
    "Examples of measures:\n",
    "\n",
    "* Range of values from **minimum** to **maximum** (sensitive to outliers).\n",
    "* **Interquantile range IQR (kvartilové rozpätie)**: range between $Q_1$ and $Q_3$ (contains the middle half of the data).\n",
    "* Variance and standard deviation (described next).\n"
   ]
  },
  {
   "cell_type": "markdown",
   "metadata": {
    "id": "NyluWVi-66th"
   },
   "source": [
    "### Variance and standard deviation (rozptyl a smerodajná odchýlka)\n",
    "\n",
    "**Variance**\n",
    "\n",
    "* For each value in the sample compute its difference from the mean and square it: $(x_i-\\bar{x})^2$.\n",
    "* After squaring, we get non-negative values (and squares are easier to work with mathematically than absolute values).\n",
    "* Variance is the mean of these squares, but we divide by $n-1$ rather than $n$:\n",
    "\n",
    "$$s^2 = \\frac{\\sum_{i=1}^n (x_i-\\bar{x})^2}{n-1}$$\n",
    "\n",
    "* We divide by $n-1$ rather than $n$, because we would otherwise underestimate the true variance of the underlying population (more in the statistics course).\n",
    "* For large $n$, the difference between dividing by $n$ and $n-1$ is negligible.\n",
    "\n",
    "**Standard deviation**\n",
    "\n",
    "* Square root of the variance\n",
    "$$s=\\sqrt{s^2}$$\n",
    "* It is expressed in the same units as the original values (variance is in units squared).\n",
    "\n",
    "**Properties**\n",
    "\n",
    "* Larger variance and standard deviation mean that data are spread farther from the mean\n",
    "* If we apply linear transformation $a\\cdot x_i +b$ with the same constants $a$ and $b$ to all values $x_i$:\n",
    "  * Neither variance nor standard deviation change with $b$.\n",
    "  * Variance is multipled by $a^2$, standard deviation by $|a|$.\n",
    "* These measures are strongly influenced by outliers:\n",
    "  * For 800, 1000, 1100, 1200, 1800, 2000, 30000 st. dev. is 10850.0, IQR 850.\n",
    "  * For 800, 1000, 1100, 1200, 1800, 2000, 10000 st. dev. is 3310.5,  IQR 850.\n"
   ]
  },
  {
   "cell_type": "markdown",
   "metadata": {
    "id": "OEFixUEOAz1O"
   },
   "source": [
    "### Computation in Pandas\n",
    "\n",
    "We can use functions [`min`](https://pandas.pydata.org/pandas-docs/stable/reference/api/pandas.DataFrame.min.html), [`max`](https://pandas.pydata.org/pandas-docs/stable/reference/api/pandas.DataFrame.max.html), [`std`](https://pandas.pydata.org/pandas-docs/stable/reference/api/pandas.DataFrame.std.html), [`var`](https://pandas.pydata.org/pandas-docs/stable/reference/api/pandas.DataFrame.var.html), which work similarly to `mean`."
   ]
  },
  {
   "cell_type": "code",
   "execution_count": 32,
   "metadata": {
    "colab": {
     "base_uri": "https://localhost:8080/",
     "height": 267
    },
    "executionInfo": {
     "elapsed": 20,
     "status": "ok",
     "timestamp": 1641638701161,
     "user": {
      "displayName": "Brona Brejova",
      "photoUrl": "https://lh3.googleusercontent.com/a-/AOh14GjGyr69ecECqZOZ-_5-o1v7SpP5TdLQGU7-pHl4UQ=s64",
      "userId": "10789993073610145432"
     },
     "user_tz": -60
    },
    "id": "LsvROJxJD0vK",
    "outputId": "1d839839-16ad-4657-d52e-b34c97ff5a4b"
   },
   "outputs": [
    {
     "data": {
      "text/markdown": [
       "**Minimum**"
      ],
      "text/plain": [
       "<IPython.core.display.Markdown object>"
      ]
     },
     "metadata": {},
     "output_type": "display_data"
    },
    {
     "data": {
      "text/plain": [
       "1927"
      ]
     },
     "metadata": {},
     "output_type": "display_data"
    },
    {
     "data": {
      "text/markdown": [
       "**Maximum**"
      ],
      "text/plain": [
       "<IPython.core.display.Markdown object>"
      ]
     },
     "metadata": {},
     "output_type": "display_data"
    },
    {
     "data": {
      "text/plain": [
       "2017"
      ]
     },
     "metadata": {},
     "output_type": "display_data"
    },
    {
     "data": {
      "text/markdown": [
       "**Mean**"
      ],
      "text/plain": [
       "<IPython.core.display.Markdown object>"
      ]
     },
     "metadata": {},
     "output_type": "display_data"
    },
    {
     "data": {
      "text/plain": [
       "2004.1449487554905"
      ]
     },
     "metadata": {},
     "output_type": "display_data"
    },
    {
     "data": {
      "text/markdown": [
       "**Variance**"
      ],
      "text/plain": [
       "<IPython.core.display.Markdown object>"
      ]
     },
     "metadata": {},
     "output_type": "display_data"
    },
    {
     "data": {
      "text/plain": [
       "161.2714600681735"
      ]
     },
     "metadata": {},
     "output_type": "display_data"
    },
    {
     "data": {
      "text/markdown": [
       "**Standard deviation**"
      ],
      "text/plain": [
       "<IPython.core.display.Markdown object>"
      ]
     },
     "metadata": {},
     "output_type": "display_data"
    },
    {
     "data": {
      "text/plain": [
       "12.699270060447313"
      ]
     },
     "metadata": {},
     "output_type": "display_data"
    },
    {
     "data": {
      "text/markdown": [
       "**Q1, Q3 and interquantile range:**"
      ],
      "text/plain": [
       "<IPython.core.display.Markdown object>"
      ]
     },
     "metadata": {},
     "output_type": "display_data"
    },
    {
     "data": {
      "text/plain": [
       "2000.0"
      ]
     },
     "metadata": {},
     "output_type": "display_data"
    },
    {
     "data": {
      "text/plain": [
       "2013.0"
      ]
     },
     "metadata": {},
     "output_type": "display_data"
    },
    {
     "data": {
      "text/plain": [
       "13.0"
      ]
     },
     "metadata": {},
     "output_type": "display_data"
    }
   ],
   "source": [
    "display(Markdown(\"**Minimum**\"), table['year'].min())\n",
    "display(Markdown(\"**Maximum**\"), table['year'].max())\n",
    "display(Markdown(\"**Mean**\"), table['year'].mean())\n",
    "display(Markdown(\"**Variance**\"), table['year'].var())\n",
    "display(Markdown(\"**Standard deviation**\"), table['year'].std())\n",
    "q1 = table['year'].quantile(0.25)\n",
    "q3 = table['year'].quantile(0.75)\n",
    "display(Markdown(\"**Q1, Q3 and interquantile range:**\"), q1, q3, q3-q1)\n"
   ]
  },
  {
   "cell_type": "markdown",
   "metadata": {
    "id": "dcipAsspAfkO"
   },
   "source": [
    "## Outliers (odľahlé hodnoty)\n",
    "\n",
    "* Outliers are the values which are far from the typical range of values.\n",
    "* These can be either extreme phenomena or results of errors in measumement or data processing.\n",
    "* In data analysis, it is important to check these outliers.\n",
    "* If they represent errors, it might be useful to remove them.\n",
    "* They can also represent interesting anomalies.\n",
    "* Different definitions of outliers may be appropriate in different situations.\n",
    "* The criterion by statistician John Tukey is often used:\n",
    "  * Outliers are the values outside of the range  $Q_1-k\\cdot IQR, Q_3+k\\cdot IQR$, e.g. for $k=1.5$.\n",
    "* In our example 800, 1000, 1100, 1200, 1800, 2000, 30000:\n",
    "  * $Q_1=1050$, $Q_3=1900$, $IQR=850$.\n",
    "  * $Q_1-1.5\\cdot IQR = -225$, $Q_3+1.5\\cdot IQR = 3175$.\n",
    "  * Outliers are values smaller than $-225$ or larger than $3175$; here only $30000$.\n",
    "  * The range of outliers is not influenced if we change the outlier."
   ]
  },
  {
   "cell_type": "markdown",
   "metadata": {
    "id": "4Oh5QXI8QnSp"
   },
   "source": [
    "### Computation in Pandas\n",
    "\n",
    "* The code below finds outliers in the `year` column.\n",
    "* We compute the lower and upper thresholds manually from quartiles.\n",
    "* Then we use `query` to select rows and count how many there are.\n",
    "* Function [`count`](https://pandas.pydata.org/pandas-docs/stable/reference/api/pandas.DataFrame.count.html) counts the values in a Series or columns of a DataFrame, ignoring missing values."
   ]
  },
  {
   "cell_type": "code",
   "execution_count": 35,
   "metadata": {
    "colab": {
     "base_uri": "https://localhost:8080/"
    },
    "executionInfo": {
     "elapsed": 17,
     "status": "ok",
     "timestamp": 1641638701162,
     "user": {
      "displayName": "Brona Brejova",
      "photoUrl": "https://lh3.googleusercontent.com/a-/AOh14GjGyr69ecECqZOZ-_5-o1v7SpP5TdLQGU7-pHl4UQ=s64",
      "userId": "10789993073610145432"
     },
     "user_tz": -60
    },
    "id": "cQjGUL7jPa2I",
    "outputId": "43533dc8-3f25-42f8-da55-8e63a1910327"
   },
   "outputs": [
    {
     "data": {
      "text/markdown": [
       "**Outliers outside of range:** [1980.5, 2032.5]"
      ],
      "text/plain": [
       "<IPython.core.display.Markdown object>"
      ]
     },
     "metadata": {},
     "output_type": "display_data"
    },
    {
     "data": {
      "text/markdown": [
       "**Outlier count:** 112"
      ],
      "text/plain": [
       "<IPython.core.display.Markdown object>"
      ]
     },
     "metadata": {},
     "output_type": "display_data"
    },
    {
     "data": {
      "text/markdown": [
       "**Total count:** 2049"
      ],
      "text/plain": [
       "<IPython.core.display.Markdown object>"
      ]
     },
     "metadata": {},
     "output_type": "display_data"
    }
   ],
   "source": [
    "# get quartiles and iqr\n",
    "q1 = table['year'].quantile(0.25)\n",
    "q3 = table['year'].quantile(0.75)\n",
    "iqr = q3 - q1\n",
    "# compute thresholds for outliers\n",
    "lower = q1 - 1.5 * iqr\n",
    "upper = q3 + 1.5 * iqr\n",
    "# count outliers\n",
    "count = table.query('year < @lower or year > @upper')['year'].count()\n",
    "# print results\n",
    "display(Markdown(f\"**Outliers outside of range:** [{lower}, {upper}]\"))\n",
    "display(Markdown(f\"**Outlier count:** {count}\"))\n",
    "display(Markdown(f\"**Total count:** {table['year'].count()}\"))"
   ]
  },
  {
   "cell_type": "markdown",
   "metadata": {
    "id": "P76VJaE8RCvd"
   },
   "source": [
    "## Boxplot (krabicový graf)\n",
    "\n",
    "* A plot developed by Mary Eleanor Hunt Spear and John Tukey \n",
    "* For a single numerical variable shows the **five-number summary** consisting of the minimum, $Q_1$, median ($Q_2$), $Q_3$ and the maximum.\n",
    "* Median is shown as a thick line, $Q_1$ and $Q_3$ as a box and minimum and maximum as \"whiskers\".\n",
    "* Outliers are often excluded from the whiskers and shown as individual points.\n",
    "* Summaries of different samples are often compared in a single boxplot.\n",
    "* Boxplots allow clear comparison of basic characteristics."
   ]
  },
  {
   "cell_type": "markdown",
   "metadata": {
    "id": "tCDaTKwYj0WM"
   },
   "source": [
    "### Boxplots in Seaborn\n",
    "\n",
    "* We use [`boxplot`](https://seaborn.pydata.org/generated/seaborn.boxplot.html) finction from Seaborn.\n",
    "* Below is a simple horizontal boxplot of the `year` column.\n",
    "* Recall that quartiles are 2000, 2008 and 2013, minimum 1927, maximum 2017, outliers outside of [1980.5, 2032.5]."
   ]
  },
  {
   "cell_type": "code",
   "execution_count": 11,
   "metadata": {
    "colab": {
     "base_uri": "https://localhost:8080/",
     "height": 171
    },
    "executionInfo": {
     "elapsed": 16,
     "status": "ok",
     "timestamp": 1641638701164,
     "user": {
      "displayName": "Brona Brejova",
      "photoUrl": "https://lh3.googleusercontent.com/a-/AOh14GjGyr69ecECqZOZ-_5-o1v7SpP5TdLQGU7-pHl4UQ=s64",
      "userId": "10789993073610145432"
     },
     "user_tz": -60
    },
    "id": "MAQDpLDNj5ML",
    "outputId": "8d7c9ada-fc74-4077-e713-bd002e951252"
   },
   "outputs": [
    {
     "data": {
      "image/png": "[encoded data removed]",
      "text/plain": [
       "<Figure size 800x200 with 1 Axes>"
      ]
     },
     "metadata": {},
     "output_type": "display_data"
    }
   ],
   "source": [
    "axes = sns.boxplot(data=table, x='year')\n",
    "axes.figure.set_size_inches(8,2)"
   ]
  },
  {
   "cell_type": "markdown",
   "metadata": {
    "id": "exmxYnP9lLnR"
   },
   "source": [
    "* Below is a vertical boxplot of the `year` column split into groups according to language.\n",
    "* This is achieved by specifying both `x` and `y` options."
   ]
  },
  {
   "cell_type": "code",
   "execution_count": 12,
   "metadata": {
    "colab": {
     "base_uri": "https://localhost:8080/",
     "height": 281
    },
    "executionInfo": {
     "elapsed": 242,
     "status": "ok",
     "timestamp": 1641638701391,
     "user": {
      "displayName": "Brona Brejova",
      "photoUrl": "https://lh3.googleusercontent.com/a-/AOh14GjGyr69ecECqZOZ-_5-o1v7SpP5TdLQGU7-pHl4UQ=s64",
      "userId": "10789993073610145432"
     },
     "user_tz": -60
    },
    "id": "L4k9WkxtW_pI",
    "outputId": "a027e5e9-90d3-4001-c0d9-b8e66112007a"
   },
   "outputs": [
    {
     "data": {
      "image/png": "[encoded data removed]",
      "text/plain": [
       "<Figure size 640x480 with 1 Axes>"
      ]
     },
     "metadata": {},
     "output_type": "display_data"
    }
   ],
   "source": [
    "sns.boxplot(data=table, x='original_language', y='year')\n",
    "pass"
   ]
  },
  {
   "cell_type": "markdown",
   "metadata": {
    "id": "rKqTbQB1pTAc"
   },
   "source": [
    "* Below we draw a striplot on top of the boxplot. \n",
    "* This allows us to see both individual data points and the summary.\n",
    "* Here it does not work very well (particularly for `en`), better suited for smaller datasets."
   ]
  },
  {
   "cell_type": "code",
   "execution_count": 13,
   "metadata": {
    "colab": {
     "base_uri": "https://localhost:8080/",
     "height": 389
    },
    "executionInfo": {
     "elapsed": 703,
     "status": "ok",
     "timestamp": 1641638702090,
     "user": {
      "displayName": "Brona Brejova",
      "photoUrl": "https://lh3.googleusercontent.com/a-/AOh14GjGyr69ecECqZOZ-_5-o1v7SpP5TdLQGU7-pHl4UQ=s64",
      "userId": "10789993073610145432"
     },
     "user_tz": -60
    },
    "id": "6czjic4toIyu",
    "outputId": "c43ed091-94f0-4f2d-afc1-9a76f40b5f05"
   },
   "outputs": [
    {
     "data": {
      "image/png": "[encoded data removed]",
      "text/plain": [
       "<Figure size 1000x600 with 1 Axes>"
      ]
     },
     "metadata": {},
     "output_type": "display_data"
    }
   ],
   "source": [
    "axes = sns.boxplot(data=table, x='original_language', y='year', color='C1')\n",
    "sns.stripplot(data=table, x='original_language', y='year', color='C0', \n",
    "              alpha=0.5, size=5, jitter=0.2)\n",
    "axes.figure.set_size_inches(10,6)\n",
    "pass"
   ]
  },
  {
   "cell_type": "markdown",
   "metadata": {
    "id": "9KIXBy1Cr__x"
   },
   "source": [
    "## Quick overview of a data set: `describe` in Pandas\n",
    "\n",
    "Function [`describe`](https://pandas.pydata.org/pandas-docs/stable/reference/api/pandas.DataFrame.describe.html) gives a quick overview of a data set with many statistics described today."
   ]
  },
  {
   "cell_type": "code",
   "execution_count": 36,
   "metadata": {
    "colab": {
     "base_uri": "https://localhost:8080/",
     "height": 300
    },
    "executionInfo": {
     "elapsed": 645,
     "status": "ok",
     "timestamp": 1641638702729,
     "user": {
      "displayName": "Brona Brejova",
      "photoUrl": "https://lh3.googleusercontent.com/a-/AOh14GjGyr69ecECqZOZ-_5-o1v7SpP5TdLQGU7-pHl4UQ=s64",
      "userId": "10789993073610145432"
     },
     "user_tz": -60
    },
    "id": "yxwM1PgssEsW",
    "outputId": "02104b14-c10d-4c8d-86ea-a5cfcb29f113"
   },
   "outputs": [
    {
     "data": {
      "text/html": [
       "<div>\n",
       "<style scoped>\n",
       "    .dataframe tbody tr th:only-of-type {\n",
       "        vertical-align: middle;\n",
       "    }\n",
       "\n",
       "    .dataframe tbody tr th {\n",
       "        vertical-align: top;\n",
       "    }\n",
       "\n",
       "    .dataframe thead th {\n",
       "        text-align: right;\n",
       "    }\n",
       "</style>\n",
       "<table border=\"1\" class=\"dataframe\">\n",
       "  <thead>\n",
       "    <tr style=\"text-align: right;\">\n",
       "      <th></th>\n",
       "      <th>year</th>\n",
       "      <th>budget</th>\n",
       "      <th>revenue</th>\n",
       "      <th>runtime</th>\n",
       "      <th>vote_average</th>\n",
       "      <th>vote_count</th>\n",
       "    </tr>\n",
       "  </thead>\n",
       "  <tbody>\n",
       "    <tr>\n",
       "      <th>count</th>\n",
       "      <td>2049.000000</td>\n",
       "      <td>1.959000e+03</td>\n",
       "      <td>1.965000e+03</td>\n",
       "      <td>2049.000000</td>\n",
       "      <td>2049.000000</td>\n",
       "      <td>2049.000000</td>\n",
       "    </tr>\n",
       "    <tr>\n",
       "      <th>mean</th>\n",
       "      <td>2004.144949</td>\n",
       "      <td>5.510894e+07</td>\n",
       "      <td>1.985651e+08</td>\n",
       "      <td>112.655930</td>\n",
       "      <td>6.629673</td>\n",
       "      <td>1704.642265</td>\n",
       "    </tr>\n",
       "    <tr>\n",
       "      <th>std</th>\n",
       "      <td>12.699270</td>\n",
       "      <td>5.313966e+07</td>\n",
       "      <td>2.330287e+08</td>\n",
       "      <td>24.760379</td>\n",
       "      <td>0.771652</td>\n",
       "      <td>1607.894196</td>\n",
       "    </tr>\n",
       "    <tr>\n",
       "      <th>min</th>\n",
       "      <td>1927.000000</td>\n",
       "      <td>1.000000e+00</td>\n",
       "      <td>1.500000e+01</td>\n",
       "      <td>7.000000</td>\n",
       "      <td>4.000000</td>\n",
       "      <td>501.000000</td>\n",
       "    </tr>\n",
       "    <tr>\n",
       "      <th>25%</th>\n",
       "      <td>2000.000000</td>\n",
       "      <td>1.600000e+07</td>\n",
       "      <td>5.288202e+07</td>\n",
       "      <td>97.000000</td>\n",
       "      <td>6.100000</td>\n",
       "      <td>709.000000</td>\n",
       "    </tr>\n",
       "    <tr>\n",
       "      <th>50%</th>\n",
       "      <td>2008.000000</td>\n",
       "      <td>3.800000e+07</td>\n",
       "      <td>1.222000e+08</td>\n",
       "      <td>109.000000</td>\n",
       "      <td>6.600000</td>\n",
       "      <td>1092.000000</td>\n",
       "    </tr>\n",
       "    <tr>\n",
       "      <th>75%</th>\n",
       "      <td>2013.000000</td>\n",
       "      <td>7.500000e+07</td>\n",
       "      <td>2.502000e+08</td>\n",
       "      <td>124.000000</td>\n",
       "      <td>7.200000</td>\n",
       "      <td>2000.000000</td>\n",
       "    </tr>\n",
       "    <tr>\n",
       "      <th>max</th>\n",
       "      <td>2017.000000</td>\n",
       "      <td>3.800000e+08</td>\n",
       "      <td>2.787965e+09</td>\n",
       "      <td>705.000000</td>\n",
       "      <td>9.100000</td>\n",
       "      <td>14075.000000</td>\n",
       "    </tr>\n",
       "  </tbody>\n",
       "</table>\n",
       "</div>"
      ],
      "text/plain": [
       "              year        budget       revenue      runtime  vote_average  \\\n",
       "count  2049.000000  1.959000e+03  1.965000e+03  2049.000000   2049.000000   \n",
       "mean   2004.144949  5.510894e+07  1.985651e+08   112.655930      6.629673   \n",
       "std      12.699270  5.313966e+07  2.330287e+08    24.760379      0.771652   \n",
       "min    1927.000000  1.000000e+00  1.500000e+01     7.000000      4.000000   \n",
       "25%    2000.000000  1.600000e+07  5.288202e+07    97.000000      6.100000   \n",
       "50%    2008.000000  3.800000e+07  1.222000e+08   109.000000      6.600000   \n",
       "75%    2013.000000  7.500000e+07  2.502000e+08   124.000000      7.200000   \n",
       "max    2017.000000  3.800000e+08  2.787965e+09   705.000000      9.100000   \n",
       "\n",
       "         vote_count  \n",
       "count   2049.000000  \n",
       "mean    1704.642265  \n",
       "std     1607.894196  \n",
       "min      501.000000  \n",
       "25%      709.000000  \n",
       "50%     1092.000000  \n",
       "75%     2000.000000  \n",
       "max    14075.000000  "
      ]
     },
     "execution_count": 36,
     "metadata": {},
     "output_type": "execute_result"
    }
   ],
   "source": [
    "table.describe()"
   ]
  },
  {
   "cell_type": "markdown",
   "metadata": {
    "id": "oIsPZ5_PtNmd"
   },
   "source": [
    "* By default `describe` only considers numerical columns.\n",
    "* Other columns can be included by `include='all'`.\n",
    "* Different statistics reported for categorical columns (`unique`, `top`, `freq`)."
   ]
  },
  {
   "cell_type": "code",
   "execution_count": 37,
   "metadata": {
    "colab": {
     "base_uri": "https://localhost:8080/",
     "height": 424
    },
    "executionInfo": {
     "elapsed": 18,
     "status": "ok",
     "timestamp": 1641638702730,
     "user": {
      "displayName": "Brona Brejova",
      "photoUrl": "https://lh3.googleusercontent.com/a-/AOh14GjGyr69ecECqZOZ-_5-o1v7SpP5TdLQGU7-pHl4UQ=s64",
      "userId": "10789993073610145432"
     },
     "user_tz": -60
    },
    "id": "ZkubBNousWkc",
    "outputId": "4ba127ef-2012-4450-d0a4-82e0db3faafc"
   },
   "outputs": [
    {
     "data": {
      "text/html": [
       "<div>\n",
       "<style scoped>\n",
       "    .dataframe tbody tr th:only-of-type {\n",
       "        vertical-align: middle;\n",
       "    }\n",
       "\n",
       "    .dataframe tbody tr th {\n",
       "        vertical-align: top;\n",
       "    }\n",
       "\n",
       "    .dataframe thead th {\n",
       "        text-align: right;\n",
       "    }\n",
       "</style>\n",
       "<table border=\"1\" class=\"dataframe\">\n",
       "  <thead>\n",
       "    <tr style=\"text-align: right;\">\n",
       "      <th></th>\n",
       "      <th>count</th>\n",
       "      <th>unique</th>\n",
       "      <th>top</th>\n",
       "      <th>freq</th>\n",
       "      <th>mean</th>\n",
       "      <th>std</th>\n",
       "      <th>min</th>\n",
       "      <th>25%</th>\n",
       "      <th>50%</th>\n",
       "      <th>75%</th>\n",
       "      <th>max</th>\n",
       "    </tr>\n",
       "  </thead>\n",
       "  <tbody>\n",
       "    <tr>\n",
       "      <th>title</th>\n",
       "      <td>2049</td>\n",
       "      <td>2018</td>\n",
       "      <td>Beauty and the Beast</td>\n",
       "      <td>3</td>\n",
       "      <td>NaN</td>\n",
       "      <td>NaN</td>\n",
       "      <td>NaN</td>\n",
       "      <td>NaN</td>\n",
       "      <td>NaN</td>\n",
       "      <td>NaN</td>\n",
       "      <td>NaN</td>\n",
       "    </tr>\n",
       "    <tr>\n",
       "      <th>year</th>\n",
       "      <td>2049.0</td>\n",
       "      <td>NaN</td>\n",
       "      <td>NaN</td>\n",
       "      <td>NaN</td>\n",
       "      <td>2004.144949</td>\n",
       "      <td>12.69927</td>\n",
       "      <td>1927.0</td>\n",
       "      <td>2000.0</td>\n",
       "      <td>2008.0</td>\n",
       "      <td>2013.0</td>\n",
       "      <td>2017.0</td>\n",
       "    </tr>\n",
       "    <tr>\n",
       "      <th>budget</th>\n",
       "      <td>1959.0</td>\n",
       "      <td>NaN</td>\n",
       "      <td>NaN</td>\n",
       "      <td>NaN</td>\n",
       "      <td>55108939.696274</td>\n",
       "      <td>53139663.860699</td>\n",
       "      <td>1.0</td>\n",
       "      <td>16000000.0</td>\n",
       "      <td>38000000.0</td>\n",
       "      <td>75000000.0</td>\n",
       "      <td>380000000.0</td>\n",
       "    </tr>\n",
       "    <tr>\n",
       "      <th>revenue</th>\n",
       "      <td>1965.0</td>\n",
       "      <td>NaN</td>\n",
       "      <td>NaN</td>\n",
       "      <td>NaN</td>\n",
       "      <td>198565134.284478</td>\n",
       "      <td>233028732.941663</td>\n",
       "      <td>15.0</td>\n",
       "      <td>52882018.0</td>\n",
       "      <td>122200000.0</td>\n",
       "      <td>250200000.0</td>\n",
       "      <td>2787965087.0</td>\n",
       "    </tr>\n",
       "    <tr>\n",
       "      <th>original_language</th>\n",
       "      <td>2049</td>\n",
       "      <td>16</td>\n",
       "      <td>en</td>\n",
       "      <td>1958</td>\n",
       "      <td>NaN</td>\n",
       "      <td>NaN</td>\n",
       "      <td>NaN</td>\n",
       "      <td>NaN</td>\n",
       "      <td>NaN</td>\n",
       "      <td>NaN</td>\n",
       "      <td>NaN</td>\n",
       "    </tr>\n",
       "    <tr>\n",
       "      <th>runtime</th>\n",
       "      <td>2049.0</td>\n",
       "      <td>NaN</td>\n",
       "      <td>NaN</td>\n",
       "      <td>NaN</td>\n",
       "      <td>112.65593</td>\n",
       "      <td>24.760379</td>\n",
       "      <td>7.0</td>\n",
       "      <td>97.0</td>\n",
       "      <td>109.0</td>\n",
       "      <td>124.0</td>\n",
       "      <td>705.0</td>\n",
       "    </tr>\n",
       "    <tr>\n",
       "      <th>release_date</th>\n",
       "      <td>2049</td>\n",
       "      <td>1740</td>\n",
       "      <td>2014-12-25</td>\n",
       "      <td>6</td>\n",
       "      <td>NaN</td>\n",
       "      <td>NaN</td>\n",
       "      <td>NaN</td>\n",
       "      <td>NaN</td>\n",
       "      <td>NaN</td>\n",
       "      <td>NaN</td>\n",
       "      <td>NaN</td>\n",
       "    </tr>\n",
       "    <tr>\n",
       "      <th>vote_average</th>\n",
       "      <td>2049.0</td>\n",
       "      <td>NaN</td>\n",
       "      <td>NaN</td>\n",
       "      <td>NaN</td>\n",
       "      <td>6.629673</td>\n",
       "      <td>0.771652</td>\n",
       "      <td>4.0</td>\n",
       "      <td>6.1</td>\n",
       "      <td>6.6</td>\n",
       "      <td>7.2</td>\n",
       "      <td>9.1</td>\n",
       "    </tr>\n",
       "    <tr>\n",
       "      <th>vote_count</th>\n",
       "      <td>2049.0</td>\n",
       "      <td>NaN</td>\n",
       "      <td>NaN</td>\n",
       "      <td>NaN</td>\n",
       "      <td>1704.642265</td>\n",
       "      <td>1607.894196</td>\n",
       "      <td>501.0</td>\n",
       "      <td>709.0</td>\n",
       "      <td>1092.0</td>\n",
       "      <td>2000.0</td>\n",
       "      <td>14075.0</td>\n",
       "    </tr>\n",
       "    <tr>\n",
       "      <th>overview</th>\n",
       "      <td>2049</td>\n",
       "      <td>2049</td>\n",
       "      <td>Led by Woody, Andy's toys live happily in his ...</td>\n",
       "      <td>1</td>\n",
       "      <td>NaN</td>\n",
       "      <td>NaN</td>\n",
       "      <td>NaN</td>\n",
       "      <td>NaN</td>\n",
       "      <td>NaN</td>\n",
       "      <td>NaN</td>\n",
       "      <td>NaN</td>\n",
       "    </tr>\n",
       "  </tbody>\n",
       "</table>\n",
       "</div>"
      ],
      "text/plain": [
       "                    count unique  \\\n",
       "title                2049   2018   \n",
       "year               2049.0    NaN   \n",
       "budget             1959.0    NaN   \n",
       "revenue            1965.0    NaN   \n",
       "original_language    2049     16   \n",
       "runtime            2049.0    NaN   \n",
       "release_date         2049   1740   \n",
       "vote_average       2049.0    NaN   \n",
       "vote_count         2049.0    NaN   \n",
       "overview             2049   2049   \n",
       "\n",
       "                                                                 top  freq  \\\n",
       "title                                           Beauty and the Beast     3   \n",
       "year                                                             NaN   NaN   \n",
       "budget                                                           NaN   NaN   \n",
       "revenue                                                          NaN   NaN   \n",
       "original_language                                                 en  1958   \n",
       "runtime                                                          NaN   NaN   \n",
       "release_date                                              2014-12-25     6   \n",
       "vote_average                                                     NaN   NaN   \n",
       "vote_count                                                       NaN   NaN   \n",
       "overview           Led by Woody, Andy's toys live happily in his ...     1   \n",
       "\n",
       "                               mean               std     min         25%  \\\n",
       "title                           NaN               NaN     NaN         NaN   \n",
       "year                    2004.144949          12.69927  1927.0      2000.0   \n",
       "budget              55108939.696274   53139663.860699     1.0  16000000.0   \n",
       "revenue            198565134.284478  233028732.941663    15.0  52882018.0   \n",
       "original_language               NaN               NaN     NaN         NaN   \n",
       "runtime                   112.65593         24.760379     7.0        97.0   \n",
       "release_date                    NaN               NaN     NaN         NaN   \n",
       "vote_average               6.629673          0.771652     4.0         6.1   \n",
       "vote_count              1704.642265       1607.894196   501.0       709.0   \n",
       "overview                        NaN               NaN     NaN         NaN   \n",
       "\n",
       "                           50%          75%           max  \n",
       "title                      NaN          NaN           NaN  \n",
       "year                    2008.0       2013.0        2017.0  \n",
       "budget              38000000.0   75000000.0   380000000.0  \n",
       "revenue            122200000.0  250200000.0  2787965087.0  \n",
       "original_language          NaN          NaN           NaN  \n",
       "runtime                  109.0        124.0         705.0  \n",
       "release_date               NaN          NaN           NaN  \n",
       "vote_average               6.6          7.2           9.1  \n",
       "vote_count              1092.0       2000.0       14075.0  \n",
       "overview                   NaN          NaN           NaN  "
      ]
     },
     "execution_count": 37,
     "metadata": {},
     "output_type": "execute_result"
    }
   ],
   "source": [
    "table.describe(include='all').transpose()"
   ]
  },
  {
   "cell_type": "markdown",
   "metadata": {
    "id": "tSQetwMT2_8M"
   },
   "source": [
    "## Correlation (korelácia)\n",
    "\n",
    "* We are often interested in relationships among different variables (data columns).\n",
    "* We will see two correlation coefficients that measure strength of such relationships.\n",
    "* Beware: **correlation does not imply causation**.\n",
    "  * If electricity consumption grows in a very cold weather, there might be **cause-and-effect** relationship: the cold weather is causing people to use more electricity for heating.\n",
    "  * If healthier people tend to be happier, which is the cause and which is effect?\n",
    "  * Both studied variables can be also influenced by some third, unknown factor. For example, within a year, deaths by drowning increase with increased ice cream consumption. Both increases are spurred by warm weather.\n",
    "  * The observed correlation can be just a coincidence, see the [Redskins rule](https://en.wikipedia.org/wiki/Redskins_Rule)."
   ]
  },
  {
   "cell_type": "markdown",
   "metadata": {
    "id": "Yvbp47c0tgue"
   },
   "source": [
    "### Pearson correlation coefficient\n",
    "* It measures linear relationship between two variables.\n",
    "* Consider pairs of values $(x_1,y_1),\\dots, (x_n,y_n)$, where $(x_i,y_i)$ are two different features of the same object.\n",
    "$$r = \\frac{\\sum_{i=1}^n (x_i-\\bar{x})(y_i-\\bar{y})}{\\sqrt{\\sum_{i=1}^n (x_i-\\bar{x})^2}\\sqrt{\\sum_{i=1}^n (y_i-\\bar{y})^2}}$$\n",
    "* Or equivalently:\n",
    "$$r = \\frac{1}{n-1}\\sum_{i=1}^n \\left(\\frac{x_i-\\bar{x}}{s_x}\\right)\\left(\\frac{y_i-\\bar{y}}{s_y}\\right).$$\n",
    "* where $s_x$ is the standard deviation of variable $x$.\n",
    "* Expression $(x_i-\\bar{x})/s_x$ is called **standard score** or **z-score**, and it tells us how many standard deviations above or below the mean value $x_i$ is.\n",
    "* The product of $(x_i-\\bar{x})/s_x$ and $(y_i-\\bar{y})/s_y$ is positive if $x_i$ and $y_i$ lie on the same side of the respective means of $x$ and $y$ and negative if they lie on the opposite sides.\n",
    "\n"
   ]
  },
  {
   "cell_type": "markdown",
   "metadata": {
    "id": "BJQQ2lYZEH8c"
   },
   "source": [
    "### Properties of Pearson correlation coefficient\n",
    "\n",
    "**Values of Pearson correlation coefficient**\n",
    "\n",
    "* The value of $r$ is always from interval $[-1,1]$.\n",
    "* It is 1 if $y$ grows linearly with $x$, -1 of $y$ decreases linearly with increasing $x$. \n",
    "* Zero means no correlation.\n",
    "* Values between 0 and 1 mean intermediate value of positive correlation, values between -1 and 0 negative correlation.\n",
    "\n",
    "<img src=\"https://upload.wikimedia.org/wikipedia/commons/thumb/3/34/Correlation_coefficient.png/640px-Correlation_coefficient.png\">\n",
    "\n",
    "<small>https://commons.wikimedia.org/wiki/File:Correlation_coefficient.png Kiatdd, CC BY-SA 3.0</small>\n",
    "\n",
    "**Some cautions**\n",
    "\n",
    "* Pearson correlation measures only linear relatioships (x and y in the bottom row have non-linear relationships but their correlation is 0).\n",
    "* Pearson correlation does not depend on the slope of the best-fit line (see the middle row below).\n",
    "\n",
    "<img src=\"https://upload.wikimedia.org/wikipedia/commons/thumb/d/d4/Correlation_examples2.svg/640px-Correlation_examples2.svg.png\">\n",
    "\n",
    "<small>https://commons.wikimedia.org/wiki/File:Correlation_examples2.svg public domain</small>\n",
    "\n",
    "**Other properties**\n",
    "\n",
    "* Pearson correlation does not change if we linearly scale each variable, i.e. $a x_i+b$, $c y_i+d$ (for $a,c>0$).\n",
    "* Pearson correlation is symmetric.\n",
    "\n",
    "**Linear regression**\n",
    "\n",
    "* The process of finding the line best representing the relationship of $x$ and $y$ is called linear regression.\n",
    "* It can be used in higher dimensions to predict one variable as a linear combination of many others.\n",
    "* You will study linear regression in later courses, but we may draw regression lines in some plots."
   ]
  },
  {
   "cell_type": "markdown",
   "metadata": {
    "id": "dmtM7JpQFZdj"
   },
   "source": [
    "### Spearman's rank correlation coefficient\n",
    "\n",
    "* It can detect non-linear relationships.\n",
    "* We first convert each variable into ranks:\n",
    "  * Rank of $x_i$ is its index in the sorted order of $x_1,\\dots,  x_n$.\n",
    "  * Equal values get the same (average) rank.\n",
    "  * For example, the ranks of 10, 0, 10, 20, 10, 20 are 3, 1, 3, 5.5, 3, 5.5.\n",
    "* Then we compute Pearson correlation coefficent of the two rank sequences.\n",
    "* Values of 1, -1 if $y$ monotonicaly increases or decreases with $x$.\n",
    "* It is less sensitive to distant outliers (actual values of $x$ and $y$ are not important).\n",
    "\n",
    "<img src=\"https://upload.wikimedia.org/wikipedia/commons/thumb/4/4e/Spearman_fig1.svg/360px-Spearman_fig1.svg.png\">\n",
    "\n",
    "<small>https://commons.wikimedia.org/wiki/File:Spearman_fig1.svg Skbkekas, CC BY-SA 3.0 </small>\n"
   ]
  },
  {
   "cell_type": "markdown",
   "metadata": {
    "id": "kjDSTOQC0Eyw"
   },
   "source": [
    "### Computation in Pandas\n",
    "\n",
    "Function [`corr`](https://pandas.pydata.org/pandas-docs/stable/reference/api/pandas.DataFrame.corr.html) computes correlation between all pairs of numerical columns. There is also a [version](https://pandas.pydata.org/pandas-docs/stable/reference/api/pandas.Series.corr.html) to compare two Series.\n",
    "\n",
    "In our table, the highest Pearson correlation is 0.69 for pairs (`budget`, `revenue`), (`vote_count`, `revenue`)"
   ]
  },
  {
   "cell_type": "code",
   "execution_count": 38,
   "metadata": {
    "colab": {
     "base_uri": "https://localhost:8080/",
     "height": 237
    },
    "executionInfo": {
     "elapsed": 16,
     "status": "ok",
     "timestamp": 1641638702731,
     "user": {
      "displayName": "Brona Brejova",
      "photoUrl": "https://lh3.googleusercontent.com/a-/AOh14GjGyr69ecECqZOZ-_5-o1v7SpP5TdLQGU7-pHl4UQ=s64",
      "userId": "10789993073610145432"
     },
     "user_tz": -60
    },
    "id": "rra8Z_eizzrt",
    "outputId": "899a81ca-8bc2-42e0-be4c-3af45b41e2ca"
   },
   "outputs": [
    {
     "data": {
      "text/html": [
       "<div>\n",
       "<style scoped>\n",
       "    .dataframe tbody tr th:only-of-type {\n",
       "        vertical-align: middle;\n",
       "    }\n",
       "\n",
       "    .dataframe tbody tr th {\n",
       "        vertical-align: top;\n",
       "    }\n",
       "\n",
       "    .dataframe thead th {\n",
       "        text-align: right;\n",
       "    }\n",
       "</style>\n",
       "<table border=\"1\" class=\"dataframe\">\n",
       "  <thead>\n",
       "    <tr style=\"text-align: right;\">\n",
       "      <th></th>\n",
       "      <th>year</th>\n",
       "      <th>budget</th>\n",
       "      <th>revenue</th>\n",
       "      <th>runtime</th>\n",
       "      <th>vote_average</th>\n",
       "      <th>vote_count</th>\n",
       "    </tr>\n",
       "  </thead>\n",
       "  <tbody>\n",
       "    <tr>\n",
       "      <th>year</th>\n",
       "      <td>1.000000</td>\n",
       "      <td>0.279617</td>\n",
       "      <td>0.118325</td>\n",
       "      <td>-0.073865</td>\n",
       "      <td>-0.340791</td>\n",
       "      <td>0.118408</td>\n",
       "    </tr>\n",
       "    <tr>\n",
       "      <th>budget</th>\n",
       "      <td>0.279617</td>\n",
       "      <td>1.000000</td>\n",
       "      <td>0.690863</td>\n",
       "      <td>0.222595</td>\n",
       "      <td>-0.179042</td>\n",
       "      <td>0.472068</td>\n",
       "    </tr>\n",
       "    <tr>\n",
       "      <th>revenue</th>\n",
       "      <td>0.118325</td>\n",
       "      <td>0.690863</td>\n",
       "      <td>1.000000</td>\n",
       "      <td>0.252526</td>\n",
       "      <td>0.062549</td>\n",
       "      <td>0.690146</td>\n",
       "    </tr>\n",
       "    <tr>\n",
       "      <th>runtime</th>\n",
       "      <td>-0.073865</td>\n",
       "      <td>0.222595</td>\n",
       "      <td>0.252526</td>\n",
       "      <td>1.000000</td>\n",
       "      <td>0.310132</td>\n",
       "      <td>0.253497</td>\n",
       "    </tr>\n",
       "    <tr>\n",
       "      <th>vote_average</th>\n",
       "      <td>-0.340791</td>\n",
       "      <td>-0.179042</td>\n",
       "      <td>0.062549</td>\n",
       "      <td>0.310132</td>\n",
       "      <td>1.000000</td>\n",
       "      <td>0.328994</td>\n",
       "    </tr>\n",
       "    <tr>\n",
       "      <th>vote_count</th>\n",
       "      <td>0.118408</td>\n",
       "      <td>0.472068</td>\n",
       "      <td>0.690146</td>\n",
       "      <td>0.253497</td>\n",
       "      <td>0.328994</td>\n",
       "      <td>1.000000</td>\n",
       "    </tr>\n",
       "  </tbody>\n",
       "</table>\n",
       "</div>"
      ],
      "text/plain": [
       "                  year    budget   revenue   runtime  vote_average  vote_count\n",
       "year          1.000000  0.279617  0.118325 -0.073865     -0.340791    0.118408\n",
       "budget        0.279617  1.000000  0.690863  0.222595     -0.179042    0.472068\n",
       "revenue       0.118325  0.690863  1.000000  0.252526      0.062549    0.690146\n",
       "runtime      -0.073865  0.222595  0.252526  1.000000      0.310132    0.253497\n",
       "vote_average -0.340791 -0.179042  0.062549  0.310132      1.000000    0.328994\n",
       "vote_count    0.118408  0.472068  0.690146  0.253497      0.328994    1.000000"
      ]
     },
     "execution_count": 38,
     "metadata": {},
     "output_type": "execute_result"
    }
   ],
   "source": [
    "table.corr(numeric_only=True)"
   ]
  },
  {
   "cell_type": "markdown",
   "metadata": {
    "id": "26QwrhjPKfcG"
   },
   "source": [
    "With Spearman rank correlation, the correlation between `revenue` and `budget` remains similar, but correlation between `vote_count` and `budget` decreases from 0.69 to 0.56."
   ]
  },
  {
   "cell_type": "code",
   "execution_count": 39,
   "metadata": {
    "colab": {
     "base_uri": "https://localhost:8080/",
     "height": 237
    },
    "executionInfo": {
     "elapsed": 15,
     "status": "ok",
     "timestamp": 1641638702732,
     "user": {
      "displayName": "Brona Brejova",
      "photoUrl": "https://lh3.googleusercontent.com/a-/AOh14GjGyr69ecECqZOZ-_5-o1v7SpP5TdLQGU7-pHl4UQ=s64",
      "userId": "10789993073610145432"
     },
     "user_tz": -60
    },
    "id": "Y_SbhBPDKN-A",
    "outputId": "f07eda61-5716-4ece-ae29-824a5747c637"
   },
   "outputs": [
    {
     "data": {
      "text/html": [
       "<div>\n",
       "<style scoped>\n",
       "    .dataframe tbody tr th:only-of-type {\n",
       "        vertical-align: middle;\n",
       "    }\n",
       "\n",
       "    .dataframe tbody tr th {\n",
       "        vertical-align: top;\n",
       "    }\n",
       "\n",
       "    .dataframe thead th {\n",
       "        text-align: right;\n",
       "    }\n",
       "</style>\n",
       "<table border=\"1\" class=\"dataframe\">\n",
       "  <thead>\n",
       "    <tr style=\"text-align: right;\">\n",
       "      <th></th>\n",
       "      <th>year</th>\n",
       "      <th>budget</th>\n",
       "      <th>revenue</th>\n",
       "      <th>runtime</th>\n",
       "      <th>vote_average</th>\n",
       "      <th>vote_count</th>\n",
       "    </tr>\n",
       "  </thead>\n",
       "  <tbody>\n",
       "    <tr>\n",
       "      <th>year</th>\n",
       "      <td>1.000000</td>\n",
       "      <td>0.213075</td>\n",
       "      <td>0.020755</td>\n",
       "      <td>-0.032247</td>\n",
       "      <td>-0.270501</td>\n",
       "      <td>0.139107</td>\n",
       "    </tr>\n",
       "    <tr>\n",
       "      <th>budget</th>\n",
       "      <td>0.213075</td>\n",
       "      <td>1.000000</td>\n",
       "      <td>0.681560</td>\n",
       "      <td>0.242132</td>\n",
       "      <td>-0.278357</td>\n",
       "      <td>0.374016</td>\n",
       "    </tr>\n",
       "    <tr>\n",
       "      <th>revenue</th>\n",
       "      <td>0.020755</td>\n",
       "      <td>0.681560</td>\n",
       "      <td>1.000000</td>\n",
       "      <td>0.206116</td>\n",
       "      <td>-0.083111</td>\n",
       "      <td>0.563574</td>\n",
       "    </tr>\n",
       "    <tr>\n",
       "      <th>runtime</th>\n",
       "      <td>-0.032247</td>\n",
       "      <td>0.242132</td>\n",
       "      <td>0.206116</td>\n",
       "      <td>1.000000</td>\n",
       "      <td>0.318093</td>\n",
       "      <td>0.270584</td>\n",
       "    </tr>\n",
       "    <tr>\n",
       "      <th>vote_average</th>\n",
       "      <td>-0.270501</td>\n",
       "      <td>-0.278357</td>\n",
       "      <td>-0.083111</td>\n",
       "      <td>0.318093</td>\n",
       "      <td>1.000000</td>\n",
       "      <td>0.286933</td>\n",
       "    </tr>\n",
       "    <tr>\n",
       "      <th>vote_count</th>\n",
       "      <td>0.139107</td>\n",
       "      <td>0.374016</td>\n",
       "      <td>0.563574</td>\n",
       "      <td>0.270584</td>\n",
       "      <td>0.286933</td>\n",
       "      <td>1.000000</td>\n",
       "    </tr>\n",
       "  </tbody>\n",
       "</table>\n",
       "</div>"
      ],
      "text/plain": [
       "                  year    budget   revenue   runtime  vote_average  vote_count\n",
       "year          1.000000  0.213075  0.020755 -0.032247     -0.270501    0.139107\n",
       "budget        0.213075  1.000000  0.681560  0.242132     -0.278357    0.374016\n",
       "revenue       0.020755  0.681560  1.000000  0.206116     -0.083111    0.563574\n",
       "runtime      -0.032247  0.242132  0.206116  1.000000      0.318093    0.270584\n",
       "vote_average -0.270501 -0.278357 -0.083111  0.318093      1.000000    0.286933\n",
       "vote_count    0.139107  0.374016  0.563574  0.270584      0.286933    1.000000"
      ]
     },
     "execution_count": 39,
     "metadata": {},
     "output_type": "execute_result"
    }
   ],
   "source": [
    "table.corr(method='spearman', numeric_only=True)"
   ]
  },
  {
   "cell_type": "markdown",
   "metadata": {
    "id": "uoQUXtb-T5HC"
   },
   "source": [
    "* Here we illustrate the regression line for `revenue` versus `vote_count`. \n",
    "* We use Seaborn [`regplot`](https://seaborn.pydata.org/generated/seaborn.regplot.html) to draw scatterplot together with the reression line.\n",
    "* Points are made smaller and transparent by `scatter_kws={'alpha':0.7, 's':5}`.\n",
    "* The plot on the right shows ranks instead of actual values.\n",
    "* Ranks are computed using [rank](https://pandas.pydata.org/pandas-docs/stable/reference/api/pandas.Series.rank.html) function for Series.\n",
    "* Pearson correlation coefficient probably benefits from outliers."
   ]
  },
  {
   "cell_type": "code",
   "execution_count": 40,
   "metadata": {
    "colab": {
     "base_uri": "https://localhost:8080/",
     "height": 337
    },
    "executionInfo": {
     "elapsed": 1249,
     "status": "ok",
     "timestamp": 1641638703969,
     "user": {
      "displayName": "Brona Brejova",
      "photoUrl": "https://lh3.googleusercontent.com/a-/AOh14GjGyr69ecECqZOZ-_5-o1v7SpP5TdLQGU7-pHl4UQ=s64",
      "userId": "10789993073610145432"
     },
     "user_tz": -60
    },
    "id": "0eFZ9MYfK6Yl",
    "outputId": "f575dbf6-55f4-4bbb-b55a-b22f8961f8b8"
   },
   "outputs": [
    {
     "data": {
      "image/png": "[encoded data removed]",
      "text/plain": [
       "<Figure size 1000x500 with 2 Axes>"
      ]
     },
     "metadata": {},
     "output_type": "display_data"
    }
   ],
   "source": [
    "# figure with two plots\n",
    "figure, axes = plt.subplots(1, 2, figsize=(10,5))\n",
    "# plot of values\n",
    "sns.regplot(x=table['revenue'] / 1e6, y=table['vote_count'], \n",
    "            ax=axes[0], scatter_kws={'alpha':0.7, 's':5})\n",
    "axes[0].set_xlabel('revenue in millions')\n",
    "axes[0].set_ylabel('vote count')\n",
    "# compute ranks\n",
    "revenue_rank = table['revenue'].rank()\n",
    "vote_count_rank = table['vote_count'].rank()\n",
    "# plot of ranks\n",
    "sns.regplot(x=revenue_rank, y=vote_count_rank, \n",
    "            ax=axes[1], scatter_kws={'alpha':0.7, 's':5})\n",
    "axes[1].set_xlabel('rank of revenue')\n",
    "axes[1].set_ylabel('rank of vote count')\n",
    "pass"
   ]
  },
  {
   "cell_type": "markdown",
   "metadata": {
    "id": "C9vCnlS9Fj6a"
   },
   "source": [
    "## Anscombe's quartet and importance of visualization\n",
    "\n",
    "* Four artificial [data sets](https://matplotlib.org/stable/gallery/specialty_plots/anscombe.html) designed by [Francis Anscombe](https://doi.org/10.1080%2F00031305.1973.10478966)\n",
    "* All have the same or very similar values of means and variances of both $x$ and $y$, Pearson correlation coefficient (0.816) and linear regression line.\n",
    "* But visually we see each has a very different character.\n",
    "* The bottom row illustrates the influence of outliers on correlation and regression.\n",
    "* Overall this shows that plots give us a much better idea of the properties of a data set than simple numerical summaries.\n",
    "\n",
    "<img src=\"https://upload.wikimedia.org/wikipedia/commons/thumb/e/ec/Anscombe%27s_quartet_3.svg/640px-Anscombe%27s_quartet_3.svg.png\">\n",
    "\n",
    "<small>https://commons.wikimedia.org/wiki/File:Anscombe%27s_quartet_3.svg Schutz and Avenue, GPL</small>\n",
    "https://en.wikipedia.org/wiki/Anscombe%27s_quartet\n",
    "\n"
   ]
  },
  {
   "cell_type": "markdown",
   "metadata": {
    "id": "3ajbZ91ZMIdX"
   },
   "source": [
    "### Visual overview of a data set: `pairplot` in Seaborn\n",
    "\n",
    "* Seaborn [`pairplot`](https://seaborn.pydata.org/generated/seaborn.pairplot.html) generates a matrix of plots for all numerical columns.\n",
    "* The diagonal contains histograms of individual colunms.\n",
    "* Off-diagonal entries are scatterplots of two columns.\n",
    "* Here only 3 columns shown for simpler examination."
   ]
  },
  {
   "cell_type": "code",
   "execution_count": 19,
   "metadata": {
    "colab": {
     "base_uri": "https://localhost:8080/",
     "height": 550
    },
    "executionInfo": {
     "elapsed": 4461,
     "status": "ok",
     "timestamp": 1641638708426,
     "user": {
      "displayName": "Brona Brejova",
      "photoUrl": "https://lh3.googleusercontent.com/a-/AOh14GjGyr69ecECqZOZ-_5-o1v7SpP5TdLQGU7-pHl4UQ=s64",
      "userId": "10789993073610145432"
     },
     "user_tz": -60
    },
    "id": "n_E57cVPTLoY",
    "outputId": "6c814b1a-28dd-4616-ec55-69d67e69850b"
   },
   "outputs": [
    {
     "data": {
      "image/png": "[encoded data removed]",
      "text/plain": [
       "<Figure size 750x750 with 12 Axes>"
      ]
     },
     "metadata": {},
     "output_type": "display_data"
    }
   ],
   "source": [
    "subset = table.loc[:,  ['vote_count', 'budget', 'revenue']]\n",
    "grid = sns.pairplot(subset, height=2.5)\n",
    "pass"
   ]
  },
  {
   "cell_type": "markdown",
   "metadata": {
    "id": "8dNmYvG0QOTm"
   },
   "source": [
    "## Computing summaries of subsets of data: `groupby` from Pandas\n",
    "\n",
    "* We have seen that Seaborn can create plots where data are split into groups according to a categorical variable.\n",
    "* One example are boxplots, which we have seen today.\n",
    "* How can we compute summary statistics for each such group in Pandas?\n"
   ]
  },
  {
   "cell_type": "code",
   "execution_count": 20,
   "metadata": {
    "colab": {
     "base_uri": "https://localhost:8080/",
     "height": 281
    },
    "executionInfo": {
     "elapsed": 303,
     "status": "ok",
     "timestamp": 1641638708724,
     "user": {
      "displayName": "Brona Brejova",
      "photoUrl": "https://lh3.googleusercontent.com/a-/AOh14GjGyr69ecECqZOZ-_5-o1v7SpP5TdLQGU7-pHl4UQ=s64",
      "userId": "10789993073610145432"
     },
     "user_tz": -60
    },
    "id": "jxA4nTvzB5PN",
    "outputId": "fad94a50-f27e-4252-becf-b70fad01e1d9"
   },
   "outputs": [
    {
     "data": {
      "image/png": "[encoded data removed]",
      "text/plain": [
       "<Figure size 640x480 with 1 Axes>"
      ]
     },
     "metadata": {},
     "output_type": "display_data"
    }
   ],
   "source": [
    "sns.boxplot(data=table, x='original_language', y='year')\n",
    "pass"
   ]
  },
  {
   "cell_type": "markdown",
   "metadata": {
    "id": "OI-grsT-E-1N"
   },
   "source": [
    "* Pandas DataFrame supports function `groupby` which splits the table into groups based on values of some column.\n",
    "* We can apply a summary statistics function on each group.\n",
    "* Below we compute medians of all numerical columns for each language and show the furst 5 languages."
   ]
  },
  {
   "cell_type": "code",
   "execution_count": 41,
   "metadata": {
    "colab": {
     "base_uri": "https://localhost:8080/",
     "height": 237
    },
    "executionInfo": {
     "elapsed": 20,
     "status": "ok",
     "timestamp": 1641638708726,
     "user": {
      "displayName": "Brona Brejova",
      "photoUrl": "https://lh3.googleusercontent.com/a-/AOh14GjGyr69ecECqZOZ-_5-o1v7SpP5TdLQGU7-pHl4UQ=s64",
      "userId": "10789993073610145432"
     },
     "user_tz": -60
    },
    "id": "CzhNJB6k8Tec",
    "outputId": "a28b2f88-aafe-4838-9f32-074c83140e1f"
   },
   "outputs": [
    {
     "data": {
      "text/html": [
       "<div>\n",
       "<style scoped>\n",
       "    .dataframe tbody tr th:only-of-type {\n",
       "        vertical-align: middle;\n",
       "    }\n",
       "\n",
       "    .dataframe tbody tr th {\n",
       "        vertical-align: top;\n",
       "    }\n",
       "\n",
       "    .dataframe thead th {\n",
       "        text-align: right;\n",
       "    }\n",
       "</style>\n",
       "<table border=\"1\" class=\"dataframe\">\n",
       "  <thead>\n",
       "    <tr style=\"text-align: right;\">\n",
       "      <th></th>\n",
       "      <th>year</th>\n",
       "      <th>budget</th>\n",
       "      <th>revenue</th>\n",
       "      <th>runtime</th>\n",
       "      <th>vote_average</th>\n",
       "      <th>vote_count</th>\n",
       "    </tr>\n",
       "    <tr>\n",
       "      <th>original_language</th>\n",
       "      <th></th>\n",
       "      <th></th>\n",
       "      <th></th>\n",
       "      <th></th>\n",
       "      <th></th>\n",
       "      <th></th>\n",
       "    </tr>\n",
       "  </thead>\n",
       "  <tbody>\n",
       "    <tr>\n",
       "      <th>cn</th>\n",
       "      <td>2006.0</td>\n",
       "      <td>12902809.0</td>\n",
       "      <td>39388380.0</td>\n",
       "      <td>108.5</td>\n",
       "      <td>7.2</td>\n",
       "      <td>762.5</td>\n",
       "    </tr>\n",
       "    <tr>\n",
       "      <th>da</th>\n",
       "      <td>2010.0</td>\n",
       "      <td>10000000.0</td>\n",
       "      <td>16740418.0</td>\n",
       "      <td>119.0</td>\n",
       "      <td>6.8</td>\n",
       "      <td>867.5</td>\n",
       "    </tr>\n",
       "    <tr>\n",
       "      <th>de</th>\n",
       "      <td>2003.5</td>\n",
       "      <td>6250000.0</td>\n",
       "      <td>70000000.0</td>\n",
       "      <td>129.0</td>\n",
       "      <td>7.6</td>\n",
       "      <td>669.0</td>\n",
       "    </tr>\n",
       "    <tr>\n",
       "      <th>en</th>\n",
       "      <td>2008.0</td>\n",
       "      <td>40000000.0</td>\n",
       "      <td>126397819.0</td>\n",
       "      <td>109.0</td>\n",
       "      <td>6.6</td>\n",
       "      <td>1126.0</td>\n",
       "    </tr>\n",
       "    <tr>\n",
       "      <th>es</th>\n",
       "      <td>2007.0</td>\n",
       "      <td>2000000.0</td>\n",
       "      <td>30448000.0</td>\n",
       "      <td>118.0</td>\n",
       "      <td>7.6</td>\n",
       "      <td>797.0</td>\n",
       "    </tr>\n",
       "  </tbody>\n",
       "</table>\n",
       "</div>"
      ],
      "text/plain": [
       "                     year      budget      revenue  runtime  vote_average  \\\n",
       "original_language                                                           \n",
       "cn                 2006.0  12902809.0   39388380.0    108.5           7.2   \n",
       "da                 2010.0  10000000.0   16740418.0    119.0           6.8   \n",
       "de                 2003.5   6250000.0   70000000.0    129.0           7.6   \n",
       "en                 2008.0  40000000.0  126397819.0    109.0           6.6   \n",
       "es                 2007.0   2000000.0   30448000.0    118.0           7.6   \n",
       "\n",
       "                   vote_count  \n",
       "original_language              \n",
       "cn                      762.5  \n",
       "da                      867.5  \n",
       "de                      669.0  \n",
       "en                     1126.0  \n",
       "es                      797.0  "
      ]
     },
     "execution_count": 41,
     "metadata": {},
     "output_type": "execute_result"
    }
   ],
   "source": [
    "table.groupby('original_language').median(numeric_only=True).head()"
   ]
  },
  {
   "cell_type": "markdown",
   "metadata": {
    "id": "TedL3qhyQH4P"
   },
   "source": [
    "* We can also apply `describe` on the `groupby` groups.\n",
    "* Here only two columns of the original table are shown."
   ]
  },
  {
   "cell_type": "code",
   "execution_count": 42,
   "metadata": {
    "colab": {
     "base_uri": "https://localhost:8080/",
     "height": 333
    },
    "executionInfo": {
     "elapsed": 15,
     "status": "ok",
     "timestamp": 1641638708728,
     "user": {
      "displayName": "Brona Brejova",
      "photoUrl": "https://lh3.googleusercontent.com/a-/AOh14GjGyr69ecECqZOZ-_5-o1v7SpP5TdLQGU7-pHl4UQ=s64",
      "userId": "10789993073610145432"
     },
     "user_tz": -60
    },
    "id": "AQstbeZ0JrxK",
    "outputId": "59a655cf-41ff-4292-95b7-91aa70095011"
   },
   "outputs": [
    {
     "data": {
      "text/html": [
       "<div>\n",
       "<style scoped>\n",
       "    .dataframe tbody tr th:only-of-type {\n",
       "        vertical-align: middle;\n",
       "    }\n",
       "\n",
       "    .dataframe tbody tr th {\n",
       "        vertical-align: top;\n",
       "    }\n",
       "\n",
       "    .dataframe thead tr th {\n",
       "        text-align: left;\n",
       "    }\n",
       "\n",
       "    .dataframe thead tr:last-of-type th {\n",
       "        text-align: right;\n",
       "    }\n",
       "</style>\n",
       "<table border=\"1\" class=\"dataframe\">\n",
       "  <thead>\n",
       "    <tr>\n",
       "      <th></th>\n",
       "      <th colspan=\"8\" halign=\"left\">year</th>\n",
       "      <th colspan=\"8\" halign=\"left\">budget</th>\n",
       "    </tr>\n",
       "    <tr>\n",
       "      <th></th>\n",
       "      <th>count</th>\n",
       "      <th>mean</th>\n",
       "      <th>std</th>\n",
       "      <th>min</th>\n",
       "      <th>25%</th>\n",
       "      <th>50%</th>\n",
       "      <th>75%</th>\n",
       "      <th>max</th>\n",
       "      <th>count</th>\n",
       "      <th>mean</th>\n",
       "      <th>std</th>\n",
       "      <th>min</th>\n",
       "      <th>25%</th>\n",
       "      <th>50%</th>\n",
       "      <th>75%</th>\n",
       "      <th>max</th>\n",
       "    </tr>\n",
       "    <tr>\n",
       "      <th>original_language</th>\n",
       "      <th></th>\n",
       "      <th></th>\n",
       "      <th></th>\n",
       "      <th></th>\n",
       "      <th></th>\n",
       "      <th></th>\n",
       "      <th></th>\n",
       "      <th></th>\n",
       "      <th></th>\n",
       "      <th></th>\n",
       "      <th></th>\n",
       "      <th></th>\n",
       "      <th></th>\n",
       "      <th></th>\n",
       "      <th></th>\n",
       "      <th></th>\n",
       "    </tr>\n",
       "  </thead>\n",
       "  <tbody>\n",
       "    <tr>\n",
       "      <th>cn</th>\n",
       "      <td>4.0</td>\n",
       "      <td>2005.750000</td>\n",
       "      <td>4.031129</td>\n",
       "      <td>2001.0</td>\n",
       "      <td>2003.25</td>\n",
       "      <td>2006.0</td>\n",
       "      <td>2008.50</td>\n",
       "      <td>2010.0</td>\n",
       "      <td>3.0</td>\n",
       "      <td>1.487280e+07</td>\n",
       "      <td>4.479793e+06</td>\n",
       "      <td>11715578.0</td>\n",
       "      <td>12309193.5</td>\n",
       "      <td>12902809.0</td>\n",
       "      <td>16451404.5</td>\n",
       "      <td>20000000.0</td>\n",
       "    </tr>\n",
       "    <tr>\n",
       "      <th>da</th>\n",
       "      <td>6.0</td>\n",
       "      <td>2009.333333</td>\n",
       "      <td>3.614784</td>\n",
       "      <td>2003.0</td>\n",
       "      <td>2008.25</td>\n",
       "      <td>2010.0</td>\n",
       "      <td>2011.75</td>\n",
       "      <td>2013.0</td>\n",
       "      <td>5.0</td>\n",
       "      <td>1.344000e+07</td>\n",
       "      <td>1.236964e+07</td>\n",
       "      <td>3800000.0</td>\n",
       "      <td>7400000.0</td>\n",
       "      <td>10000000.0</td>\n",
       "      <td>11000000.0</td>\n",
       "      <td>35000000.0</td>\n",
       "    </tr>\n",
       "    <tr>\n",
       "      <th>de</th>\n",
       "      <td>8.0</td>\n",
       "      <td>1992.500000</td>\n",
       "      <td>28.127262</td>\n",
       "      <td>1927.0</td>\n",
       "      <td>1993.75</td>\n",
       "      <td>2003.5</td>\n",
       "      <td>2006.50</td>\n",
       "      <td>2013.0</td>\n",
       "      <td>8.0</td>\n",
       "      <td>1.822372e+07</td>\n",
       "      <td>3.062354e+07</td>\n",
       "      <td>1530000.0</td>\n",
       "      <td>4100000.0</td>\n",
       "      <td>6250000.0</td>\n",
       "      <td>15084937.5</td>\n",
       "      <td>92620000.0</td>\n",
       "    </tr>\n",
       "    <tr>\n",
       "      <th>en</th>\n",
       "      <td>1958.0</td>\n",
       "      <td>2004.296731</td>\n",
       "      <td>12.536805</td>\n",
       "      <td>1936.0</td>\n",
       "      <td>2000.00</td>\n",
       "      <td>2008.0</td>\n",
       "      <td>2013.00</td>\n",
       "      <td>2017.0</td>\n",
       "      <td>1891.0</td>\n",
       "      <td>5.663720e+07</td>\n",
       "      <td>5.339483e+07</td>\n",
       "      <td>1.0</td>\n",
       "      <td>18000000.0</td>\n",
       "      <td>40000000.0</td>\n",
       "      <td>80000000.0</td>\n",
       "      <td>380000000.0</td>\n",
       "    </tr>\n",
       "    <tr>\n",
       "      <th>es</th>\n",
       "      <td>7.0</td>\n",
       "      <td>2007.714286</td>\n",
       "      <td>4.386125</td>\n",
       "      <td>2000.0</td>\n",
       "      <td>2006.50</td>\n",
       "      <td>2007.0</td>\n",
       "      <td>2010.00</td>\n",
       "      <td>2014.0</td>\n",
       "      <td>5.0</td>\n",
       "      <td>7.500000e+06</td>\n",
       "      <td>8.046738e+06</td>\n",
       "      <td>1500000.0</td>\n",
       "      <td>2000000.0</td>\n",
       "      <td>2000000.0</td>\n",
       "      <td>13000000.0</td>\n",
       "      <td>19000000.0</td>\n",
       "    </tr>\n",
       "  </tbody>\n",
       "</table>\n",
       "</div>"
      ],
      "text/plain": [
       "                     year                                                   \\\n",
       "                    count         mean        std     min      25%     50%   \n",
       "original_language                                                            \n",
       "cn                    4.0  2005.750000   4.031129  2001.0  2003.25  2006.0   \n",
       "da                    6.0  2009.333333   3.614784  2003.0  2008.25  2010.0   \n",
       "de                    8.0  1992.500000  28.127262  1927.0  1993.75  2003.5   \n",
       "en                 1958.0  2004.296731  12.536805  1936.0  2000.00  2008.0   \n",
       "es                    7.0  2007.714286   4.386125  2000.0  2006.50  2007.0   \n",
       "\n",
       "                                    budget                              \\\n",
       "                       75%     max   count          mean           std   \n",
       "original_language                                                        \n",
       "cn                 2008.50  2010.0     3.0  1.487280e+07  4.479793e+06   \n",
       "da                 2011.75  2013.0     5.0  1.344000e+07  1.236964e+07   \n",
       "de                 2006.50  2013.0     8.0  1.822372e+07  3.062354e+07   \n",
       "en                 2013.00  2017.0  1891.0  5.663720e+07  5.339483e+07   \n",
       "es                 2010.00  2014.0     5.0  7.500000e+06  8.046738e+06   \n",
       "\n",
       "                                                                                \n",
       "                          min         25%         50%         75%          max  \n",
       "original_language                                                               \n",
       "cn                 11715578.0  12309193.5  12902809.0  16451404.5   20000000.0  \n",
       "da                  3800000.0   7400000.0  10000000.0  11000000.0   35000000.0  \n",
       "de                  1530000.0   4100000.0   6250000.0  15084937.5   92620000.0  \n",
       "en                        1.0  18000000.0  40000000.0  80000000.0  380000000.0  \n",
       "es                  1500000.0   2000000.0   2000000.0  13000000.0   19000000.0  "
      ]
     },
     "execution_count": 42,
     "metadata": {},
     "output_type": "execute_result"
    }
   ],
   "source": [
    "subset = table.loc[:, ['original_language', 'year', 'budget']]\n",
    "subset.groupby('original_language').describe().head()"
   ]
  },
  {
   "cell_type": "markdown",
   "metadata": {
    "id": "cU_TmrTiQ94-"
   },
   "source": [
    "## Summary\n",
    "\n",
    "We have seen several summary statistics:\n",
    "\n",
    "* mean, median, mode\n",
    "* percentiles, quantiles, quartiles\n",
    "* min, max, interquantile range, variance, standard deviation\n",
    "* Pearson and Spearman correlation\n",
    "\n",
    "Visualization:\n",
    "\n",
    "* boxplot\n",
    "* scatter plots with regression lines \n",
    "* pairplot\n",
    "\n",
    "Pandas:\n",
    "\n",
    "* functions for computing statistics, `describe`\n",
    "* `groupby`\n",
    "* next week: more Pandas\n",
    "\n",
    "More details in a statistics course.\n"
   ]
  }
 ],
 "metadata": {
  "colab": {
   "authorship_tag": "ABX9TyOKGIjhSd5Y8wUuxyuowH6t",
   "collapsed_sections": [],
   "name": "L04_Summary_statistics.ipynb",
   "provenance": []
  },
  "kernelspec": {
   "display_name": "Python 3 (ipykernel)",
   "language": "python",
   "name": "python3"
  },
  "language_info": {
   "codemirror_mode": {
    "name": "ipython",
    "version": 3
   },
   "file_extension": ".py",
   "mimetype": "text/x-python",
   "name": "python",
   "nbconvert_exporter": "python",
   "pygments_lexer": "ipython3",
   "version": "3.8.10"
  }
 },
 "nbformat": 4,
 "nbformat_minor": 1
}
