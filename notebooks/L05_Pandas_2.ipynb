{
 "cells": [
  {
   "cell_type": "markdown",
   "metadata": {
    "id": "oFDW_KLSoCMT"
   },
   "source": [
    "# Lecture 5: Advanced Pandas\n",
    "\n",
    "[Data Visualization · 1-DAV-105](https://bbrejova.github.io/viz/)\n",
    "\n",
    "Lecture by Broňa Brejová"
   ]
  },
  {
   "cell_type": "markdown",
   "metadata": {},
   "source": [
    "In this lecture we cover some more advanced parts of Pandas which are often used in data processing."
   ]
  },
  {
   "cell_type": "markdown",
   "metadata": {
    "id": "7Wh_dY4voIKp"
   },
   "source": [
    "As usual, we start by importing libraries. We also import the country data set from World Bank https://databank.worldbank.org/home under CC BY 4.0 license (see Lecture 03).\n"
   ]
  },
  {
   "cell_type": "code",
   "execution_count": 60,
   "metadata": {
    "id": "d4IujUHNqM6y"
   },
   "outputs": [],
   "source": [
    "import numpy as np\n",
    "import pandas as pd\n",
    "from IPython.display import Markdown\n",
    "import matplotlib.pyplot as plt\n",
    "import seaborn as sns\n",
    "pd.options.display.float_format = '{:,.2f}'.format"
   ]
  },
  {
   "cell_type": "code",
   "execution_count": 61,
   "metadata": {
    "id": "puB0lqRSyXk0"
   },
   "outputs": [],
   "source": [
    "url = 'https://bbrejova.github.io/viz/data/World_bank.csv'\n",
    "countries = pd.read_csv(url).set_index('Country')"
   ]
  },
  {
   "cell_type": "markdown",
   "metadata": {
    "id": "z61tIyOxyFt9"
   },
   "source": [
    "## Hierarchical index (MultiIndex)\n"
   ]
  },
  {
   "cell_type": "markdown",
   "metadata": {
    "id": "oOBT6bzYFr2Q"
   },
   "source": [
    "### A small example table\n",
    "\n",
    "To illustrate a hierarchical index, we first create a very small table consisting of two countries and their population in two years, and convert this table from wide to long format."
   ]
  },
  {
   "cell_type": "code",
   "execution_count": 62,
   "metadata": {
    "colab": {
     "base_uri": "https://localhost:8080/",
     "height": 354
    },
    "executionInfo": {
     "elapsed": 2220,
     "status": "ok",
     "timestamp": 1615829146871,
     "user": {
      "displayName": "Brona Brejova",
      "photoUrl": "https://lh3.googleusercontent.com/a-/AOh14GjGyr69ecECqZOZ-_5-o1v7SpP5TdLQGU7-pHl4UQ=s64",
      "userId": "10789993073610145432"
     },
     "user_tz": -60
    },
    "id": "zwOteqhkyLVh",
    "outputId": "2ec5634d-49ee-4751-dd0c-6f84abb5d9d8"
   },
   "outputs": [
    {
     "data": {
      "text/markdown": [
       "**A small subset of countries table:**"
      ],
      "text/plain": [
       "<IPython.core.display.Markdown object>"
      ]
     },
     "metadata": {},
     "output_type": "display_data"
    },
    {
     "data": {
      "text/html": [
       "<div>\n",
       "<style scoped>\n",
       "    .dataframe tbody tr th:only-of-type {\n",
       "        vertical-align: middle;\n",
       "    }\n",
       "\n",
       "    .dataframe tbody tr th {\n",
       "        vertical-align: top;\n",
       "    }\n",
       "\n",
       "    .dataframe thead th {\n",
       "        text-align: right;\n",
       "    }\n",
       "</style>\n",
       "<table border=\"1\" class=\"dataframe\">\n",
       "  <thead>\n",
       "    <tr style=\"text-align: right;\">\n",
       "      <th></th>\n",
       "      <th>Population2010</th>\n",
       "      <th>Population2020</th>\n",
       "    </tr>\n",
       "    <tr>\n",
       "      <th>Country</th>\n",
       "      <th></th>\n",
       "      <th></th>\n",
       "    </tr>\n",
       "  </thead>\n",
       "  <tbody>\n",
       "    <tr>\n",
       "      <th>Slovak Republic</th>\n",
       "      <td>5,391,428.00</td>\n",
       "      <td>5,458,827.00</td>\n",
       "    </tr>\n",
       "    <tr>\n",
       "      <th>Austria</th>\n",
       "      <td>8,363,404.00</td>\n",
       "      <td>8,916,864.00</td>\n",
       "    </tr>\n",
       "  </tbody>\n",
       "</table>\n",
       "</div>"
      ],
      "text/plain": [
       "                 Population2010  Population2020\n",
       "Country                                        \n",
       "Slovak Republic    5,391,428.00    5,458,827.00\n",
       "Austria            8,363,404.00    8,916,864.00"
      ]
     },
     "metadata": {},
     "output_type": "display_data"
    },
    {
     "data": {
      "text/markdown": [
       "**Changed to long format:**"
      ],
      "text/plain": [
       "<IPython.core.display.Markdown object>"
      ]
     },
     "metadata": {},
     "output_type": "display_data"
    },
    {
     "data": {
      "text/html": [
       "<div>\n",
       "<style scoped>\n",
       "    .dataframe tbody tr th:only-of-type {\n",
       "        vertical-align: middle;\n",
       "    }\n",
       "\n",
       "    .dataframe tbody tr th {\n",
       "        vertical-align: top;\n",
       "    }\n",
       "\n",
       "    .dataframe thead th {\n",
       "        text-align: right;\n",
       "    }\n",
       "</style>\n",
       "<table border=\"1\" class=\"dataframe\">\n",
       "  <thead>\n",
       "    <tr style=\"text-align: right;\">\n",
       "      <th></th>\n",
       "      <th>Country</th>\n",
       "      <th>Year</th>\n",
       "      <th>Population</th>\n",
       "    </tr>\n",
       "  </thead>\n",
       "  <tbody>\n",
       "    <tr>\n",
       "      <th>0</th>\n",
       "      <td>Slovak Republic</td>\n",
       "      <td>2010</td>\n",
       "      <td>5,391,428.00</td>\n",
       "    </tr>\n",
       "    <tr>\n",
       "      <th>1</th>\n",
       "      <td>Austria</td>\n",
       "      <td>2010</td>\n",
       "      <td>8,363,404.00</td>\n",
       "    </tr>\n",
       "    <tr>\n",
       "      <th>2</th>\n",
       "      <td>Slovak Republic</td>\n",
       "      <td>2020</td>\n",
       "      <td>5,458,827.00</td>\n",
       "    </tr>\n",
       "    <tr>\n",
       "      <th>3</th>\n",
       "      <td>Austria</td>\n",
       "      <td>2020</td>\n",
       "      <td>8,916,864.00</td>\n",
       "    </tr>\n",
       "  </tbody>\n",
       "</table>\n",
       "</div>"
      ],
      "text/plain": [
       "           Country  Year   Population\n",
       "0  Slovak Republic  2010 5,391,428.00\n",
       "1          Austria  2010 8,363,404.00\n",
       "2  Slovak Republic  2020 5,458,827.00\n",
       "3          Austria  2020 8,916,864.00"
      ]
     },
     "metadata": {},
     "output_type": "display_data"
    }
   ],
   "source": [
    "example_countries = countries.loc[[\"Slovak Republic\", \"Austria\"], \n",
    "                                  [\"Population2010\", \"Population2020\"]]\n",
    "display(Markdown(\"**A small subset of countries table:**\"), example_countries)\n",
    "# change to long format\n",
    "example_long = (example_countries.reset_index()\n",
    "                                 .melt(id_vars=['Country'], \n",
    "                                       var_name='Year', \n",
    "                                       value_name='Population'))\n",
    "# change year from string such as \"Population2010\" to int 2010\n",
    "example_long.Year = example_long.Year.apply(lambda x : int(x[-4:]))\n",
    "display(Markdown(\"**Changed to long format:**\"), example_long)"
   ]
  },
  {
   "cell_type": "markdown",
   "metadata": {
    "id": "-l_XpvIhE_2o"
   },
   "source": [
    "### An index with duplicate labels\n",
    "\n",
    "The original wide table had country as index, but in the long table, each country can have multiple rows. Pandas still allows us to use country as index with [duplicate values](https://pandas.pydata.org/docs/user_guide/duplicates.html). Selecting the name of the country then gives us multiple rows."
   ]
  },
  {
   "cell_type": "code",
   "execution_count": 63,
   "metadata": {
    "colab": {
     "base_uri": "https://localhost:8080/",
     "height": 385
    },
    "executionInfo": {
     "elapsed": 2214,
     "status": "ok",
     "timestamp": 1615829146873,
     "user": {
      "displayName": "Brona Brejova",
      "photoUrl": "https://lh3.googleusercontent.com/a-/AOh14GjGyr69ecECqZOZ-_5-o1v7SpP5TdLQGU7-pHl4UQ=s64",
      "userId": "10789993073610145432"
     },
     "user_tz": -60
    },
    "id": "-3socJuT1Ttr",
    "outputId": "b6e44fb5-4e0b-4905-c3ae-839e7fe1ec73"
   },
   "outputs": [
    {
     "data": {
      "text/markdown": [
       "**Table with country as index:**"
      ],
      "text/plain": [
       "<IPython.core.display.Markdown object>"
      ]
     },
     "metadata": {},
     "output_type": "display_data"
    },
    {
     "data": {
      "text/html": [
       "<div>\n",
       "<style scoped>\n",
       "    .dataframe tbody tr th:only-of-type {\n",
       "        vertical-align: middle;\n",
       "    }\n",
       "\n",
       "    .dataframe tbody tr th {\n",
       "        vertical-align: top;\n",
       "    }\n",
       "\n",
       "    .dataframe thead th {\n",
       "        text-align: right;\n",
       "    }\n",
       "</style>\n",
       "<table border=\"1\" class=\"dataframe\">\n",
       "  <thead>\n",
       "    <tr style=\"text-align: right;\">\n",
       "      <th></th>\n",
       "      <th>Year</th>\n",
       "      <th>Population</th>\n",
       "    </tr>\n",
       "    <tr>\n",
       "      <th>Country</th>\n",
       "      <th></th>\n",
       "      <th></th>\n",
       "    </tr>\n",
       "  </thead>\n",
       "  <tbody>\n",
       "    <tr>\n",
       "      <th>Slovak Republic</th>\n",
       "      <td>2010</td>\n",
       "      <td>5,391,428.00</td>\n",
       "    </tr>\n",
       "    <tr>\n",
       "      <th>Austria</th>\n",
       "      <td>2010</td>\n",
       "      <td>8,363,404.00</td>\n",
       "    </tr>\n",
       "    <tr>\n",
       "      <th>Slovak Republic</th>\n",
       "      <td>2020</td>\n",
       "      <td>5,458,827.00</td>\n",
       "    </tr>\n",
       "    <tr>\n",
       "      <th>Austria</th>\n",
       "      <td>2020</td>\n",
       "      <td>8,916,864.00</td>\n",
       "    </tr>\n",
       "  </tbody>\n",
       "</table>\n",
       "</div>"
      ],
      "text/plain": [
       "                 Year   Population\n",
       "Country                           \n",
       "Slovak Republic  2010 5,391,428.00\n",
       "Austria          2010 8,363,404.00\n",
       "Slovak Republic  2020 5,458,827.00\n",
       "Austria          2020 8,916,864.00"
      ]
     },
     "metadata": {},
     "output_type": "display_data"
    },
    {
     "data": {
      "text/markdown": [
       "**Selecting multiple rows using `example_long_indexed.loc['Slovak Republic']`:**"
      ],
      "text/plain": [
       "<IPython.core.display.Markdown object>"
      ]
     },
     "metadata": {},
     "output_type": "display_data"
    },
    {
     "data": {
      "text/html": [
       "<div>\n",
       "<style scoped>\n",
       "    .dataframe tbody tr th:only-of-type {\n",
       "        vertical-align: middle;\n",
       "    }\n",
       "\n",
       "    .dataframe tbody tr th {\n",
       "        vertical-align: top;\n",
       "    }\n",
       "\n",
       "    .dataframe thead th {\n",
       "        text-align: right;\n",
       "    }\n",
       "</style>\n",
       "<table border=\"1\" class=\"dataframe\">\n",
       "  <thead>\n",
       "    <tr style=\"text-align: right;\">\n",
       "      <th></th>\n",
       "      <th>Year</th>\n",
       "      <th>Population</th>\n",
       "    </tr>\n",
       "    <tr>\n",
       "      <th>Country</th>\n",
       "      <th></th>\n",
       "      <th></th>\n",
       "    </tr>\n",
       "  </thead>\n",
       "  <tbody>\n",
       "    <tr>\n",
       "      <th>Slovak Republic</th>\n",
       "      <td>2010</td>\n",
       "      <td>5,391,428.00</td>\n",
       "    </tr>\n",
       "    <tr>\n",
       "      <th>Slovak Republic</th>\n",
       "      <td>2020</td>\n",
       "      <td>5,458,827.00</td>\n",
       "    </tr>\n",
       "  </tbody>\n",
       "</table>\n",
       "</div>"
      ],
      "text/plain": [
       "                 Year   Population\n",
       "Country                           \n",
       "Slovak Republic  2010 5,391,428.00\n",
       "Slovak Republic  2020 5,458,827.00"
      ]
     },
     "metadata": {},
     "output_type": "display_data"
    }
   ],
   "source": [
    "# set country name as index in a copy of the table\n",
    "example_long_indexed = example_long.set_index('Country')\n",
    "# display table with index\n",
    "display(Markdown(\"**Table with country as index:**\"), example_long_indexed)\n",
    "# select Slovakia from this table\n",
    "display(Markdown(\"**Selecting multiple rows using `example_long_indexed.loc['Slovak Republic']`:**\"))\n",
    "display(example_long_indexed.loc['Slovak Republic'])"
   ]
  },
  {
   "cell_type": "markdown",
   "metadata": {
    "id": "rBNh1-z5GrC2"
   },
   "source": [
    "### Finally the hierarchical index\n",
    "\n",
    "Our table can be more naturally indexed by a pair (country, year), which uniquely specifies a row. An index consisting of two or more levels is called [hierarchical or multi-level](https://pandas.pydata.org/docs/user_guide/advanced.html). \n",
    "\n",
    "* MultiIndex can be created by `set_index` with a list of columns to use as index.\n",
    "* For faster operations, it is a good idea to sort the table by the index using [`sort_index`](https://pandas.pydata.org/docs/reference/api/pandas.DataFrame.sort_index.html).\n",
    "* In `loc` use a tuple with one value per level, or only several initial levels.\n",
    "* To specify other levels, use [`xs`](https://pandas.pydata.org/docs/reference/api/pandas.DataFrame.xs.html)."
   ]
  },
  {
   "cell_type": "code",
   "execution_count": 64,
   "metadata": {},
   "outputs": [
    {
     "data": {
      "text/markdown": [
       "**Table with a multiindex:**"
      ],
      "text/plain": [
       "<IPython.core.display.Markdown object>"
      ]
     },
     "metadata": {},
     "output_type": "display_data"
    },
    {
     "data": {
      "text/html": [
       "<div>\n",
       "<style scoped>\n",
       "    .dataframe tbody tr th:only-of-type {\n",
       "        vertical-align: middle;\n",
       "    }\n",
       "\n",
       "    .dataframe tbody tr th {\n",
       "        vertical-align: top;\n",
       "    }\n",
       "\n",
       "    .dataframe thead th {\n",
       "        text-align: right;\n",
       "    }\n",
       "</style>\n",
       "<table border=\"1\" class=\"dataframe\">\n",
       "  <thead>\n",
       "    <tr style=\"text-align: right;\">\n",
       "      <th></th>\n",
       "      <th></th>\n",
       "      <th>Population</th>\n",
       "    </tr>\n",
       "    <tr>\n",
       "      <th>Country</th>\n",
       "      <th>Year</th>\n",
       "      <th></th>\n",
       "    </tr>\n",
       "  </thead>\n",
       "  <tbody>\n",
       "    <tr>\n",
       "      <th rowspan=\"2\" valign=\"top\">Austria</th>\n",
       "      <th>2010</th>\n",
       "      <td>8,363,404.00</td>\n",
       "    </tr>\n",
       "    <tr>\n",
       "      <th>2020</th>\n",
       "      <td>8,916,864.00</td>\n",
       "    </tr>\n",
       "    <tr>\n",
       "      <th rowspan=\"2\" valign=\"top\">Slovak Republic</th>\n",
       "      <th>2010</th>\n",
       "      <td>5,391,428.00</td>\n",
       "    </tr>\n",
       "    <tr>\n",
       "      <th>2020</th>\n",
       "      <td>5,458,827.00</td>\n",
       "    </tr>\n",
       "  </tbody>\n",
       "</table>\n",
       "</div>"
      ],
      "text/plain": [
       "                       Population\n",
       "Country         Year             \n",
       "Austria         2010 8,363,404.00\n",
       "                2020 8,916,864.00\n",
       "Slovak Republic 2010 5,391,428.00\n",
       "                2020 5,458,827.00"
      ]
     },
     "metadata": {},
     "output_type": "display_data"
    }
   ],
   "source": [
    "# create MultiIndex by choosing a list of columns\n",
    "example_multiindexed = example_long.set_index(['Country', 'Year']).sort_index()\n",
    "display(Markdown(\"**Table with a multiindex:**\"), example_multiindexed)"
   ]
  },
  {
   "cell_type": "code",
   "execution_count": 65,
   "metadata": {},
   "outputs": [
    {
     "data": {
      "text/markdown": [
       "**Selecting a row by using a tuple in `loc`:**"
      ],
      "text/plain": [
       "<IPython.core.display.Markdown object>"
      ]
     },
     "metadata": {},
     "output_type": "display_data"
    },
    {
     "data": {
      "text/plain": [
       "Population   5,391,428.00\n",
       "Name: (Slovak Republic, 2010), dtype: float64"
      ]
     },
     "metadata": {},
     "output_type": "display_data"
    }
   ],
   "source": [
    "display(Markdown(\"**Selecting a row by using a tuple in `loc`:**\"))\n",
    "display(example_multiindexed.loc[('Slovak Republic', 2010)])"
   ]
  },
  {
   "cell_type": "code",
   "execution_count": 66,
   "metadata": {},
   "outputs": [
    {
     "data": {
      "text/markdown": [
       "**Selecting all rows for a country using a shorter tuple in `loc`:**"
      ],
      "text/plain": [
       "<IPython.core.display.Markdown object>"
      ]
     },
     "metadata": {},
     "output_type": "display_data"
    },
    {
     "data": {
      "text/html": [
       "<div>\n",
       "<style scoped>\n",
       "    .dataframe tbody tr th:only-of-type {\n",
       "        vertical-align: middle;\n",
       "    }\n",
       "\n",
       "    .dataframe tbody tr th {\n",
       "        vertical-align: top;\n",
       "    }\n",
       "\n",
       "    .dataframe thead th {\n",
       "        text-align: right;\n",
       "    }\n",
       "</style>\n",
       "<table border=\"1\" class=\"dataframe\">\n",
       "  <thead>\n",
       "    <tr style=\"text-align: right;\">\n",
       "      <th></th>\n",
       "      <th>Population</th>\n",
       "    </tr>\n",
       "    <tr>\n",
       "      <th>Year</th>\n",
       "      <th></th>\n",
       "    </tr>\n",
       "  </thead>\n",
       "  <tbody>\n",
       "    <tr>\n",
       "      <th>2010</th>\n",
       "      <td>5,391,428.00</td>\n",
       "    </tr>\n",
       "    <tr>\n",
       "      <th>2020</th>\n",
       "      <td>5,458,827.00</td>\n",
       "    </tr>\n",
       "  </tbody>\n",
       "</table>\n",
       "</div>"
      ],
      "text/plain": [
       "       Population\n",
       "Year             \n",
       "2010 5,391,428.00\n",
       "2020 5,458,827.00"
      ]
     },
     "metadata": {},
     "output_type": "display_data"
    }
   ],
   "source": [
    "display(Markdown(\"**Selecting all rows for a country using a shorter tuple in `loc`:**\"))\n",
    "display(example_multiindexed.loc[('Slovak Republic',)])"
   ]
  },
  {
   "cell_type": "code",
   "execution_count": 67,
   "metadata": {},
   "outputs": [
    {
     "data": {
      "text/markdown": [
       "**Selecting all rows for a year using `xs`:**"
      ],
      "text/plain": [
       "<IPython.core.display.Markdown object>"
      ]
     },
     "metadata": {},
     "output_type": "display_data"
    },
    {
     "data": {
      "text/html": [
       "<div>\n",
       "<style scoped>\n",
       "    .dataframe tbody tr th:only-of-type {\n",
       "        vertical-align: middle;\n",
       "    }\n",
       "\n",
       "    .dataframe tbody tr th {\n",
       "        vertical-align: top;\n",
       "    }\n",
       "\n",
       "    .dataframe thead th {\n",
       "        text-align: right;\n",
       "    }\n",
       "</style>\n",
       "<table border=\"1\" class=\"dataframe\">\n",
       "  <thead>\n",
       "    <tr style=\"text-align: right;\">\n",
       "      <th></th>\n",
       "      <th>Population</th>\n",
       "    </tr>\n",
       "    <tr>\n",
       "      <th>Country</th>\n",
       "      <th></th>\n",
       "    </tr>\n",
       "  </thead>\n",
       "  <tbody>\n",
       "    <tr>\n",
       "      <th>Austria</th>\n",
       "      <td>8,363,404.00</td>\n",
       "    </tr>\n",
       "    <tr>\n",
       "      <th>Slovak Republic</th>\n",
       "      <td>5,391,428.00</td>\n",
       "    </tr>\n",
       "  </tbody>\n",
       "</table>\n",
       "</div>"
      ],
      "text/plain": [
       "                  Population\n",
       "Country                     \n",
       "Austria         8,363,404.00\n",
       "Slovak Republic 5,391,428.00"
      ]
     },
     "metadata": {},
     "output_type": "display_data"
    }
   ],
   "source": [
    "display(Markdown(\"**Selecting all rows for a year using `xs`:**\"))\n",
    "display(example_multiindexed.xs(2010, level='Year'))"
   ]
  },
  {
   "cell_type": "code",
   "execution_count": 68,
   "metadata": {
    "colab": {
     "base_uri": "https://localhost:8080/",
     "height": 779
    },
    "executionInfo": {
     "elapsed": 2208,
     "status": "ok",
     "timestamp": 1615829146873,
     "user": {
      "displayName": "Brona Brejova",
      "photoUrl": "https://lh3.googleusercontent.com/a-/AOh14GjGyr69ecECqZOZ-_5-o1v7SpP5TdLQGU7-pHl4UQ=s64",
      "userId": "10789993073610145432"
     },
     "user_tz": -60
    },
    "id": "Vh3GnNq513Zc",
    "outputId": "5b7843ec-dd7d-4ca3-8a58-b3f3c9618f3f"
   },
   "outputs": [
    {
     "data": {
      "text/markdown": [
       "**Names of index levels can be used in `query`:**"
      ],
      "text/plain": [
       "<IPython.core.display.Markdown object>"
      ]
     },
     "metadata": {},
     "output_type": "display_data"
    },
    {
     "data": {
      "text/html": [
       "<div>\n",
       "<style scoped>\n",
       "    .dataframe tbody tr th:only-of-type {\n",
       "        vertical-align: middle;\n",
       "    }\n",
       "\n",
       "    .dataframe tbody tr th {\n",
       "        vertical-align: top;\n",
       "    }\n",
       "\n",
       "    .dataframe thead th {\n",
       "        text-align: right;\n",
       "    }\n",
       "</style>\n",
       "<table border=\"1\" class=\"dataframe\">\n",
       "  <thead>\n",
       "    <tr style=\"text-align: right;\">\n",
       "      <th></th>\n",
       "      <th></th>\n",
       "      <th>Population</th>\n",
       "    </tr>\n",
       "    <tr>\n",
       "      <th>Country</th>\n",
       "      <th>Year</th>\n",
       "      <th></th>\n",
       "    </tr>\n",
       "  </thead>\n",
       "  <tbody>\n",
       "    <tr>\n",
       "      <th>Austria</th>\n",
       "      <th>2020</th>\n",
       "      <td>8,916,864.00</td>\n",
       "    </tr>\n",
       "    <tr>\n",
       "      <th>Slovak Republic</th>\n",
       "      <th>2020</th>\n",
       "      <td>5,458,827.00</td>\n",
       "    </tr>\n",
       "  </tbody>\n",
       "</table>\n",
       "</div>"
      ],
      "text/plain": [
       "                       Population\n",
       "Country         Year             \n",
       "Austria         2020 8,916,864.00\n",
       "Slovak Republic 2020 5,458,827.00"
      ]
     },
     "metadata": {},
     "output_type": "display_data"
    }
   ],
   "source": [
    "display(Markdown(\"**Names of index levels can be used in `query`:**\"))\n",
    "display(example_multiindexed.query('Year > 2015'))"
   ]
  },
  {
   "cell_type": "markdown",
   "metadata": {
    "id": "pCRKUE-0BkrC"
   },
   "source": [
    "## Combining tables"
   ]
  },
  {
   "cell_type": "markdown",
   "metadata": {
    "id": "sDX1Bi05JsQw"
   },
   "source": [
    "### Concatenating tables using `concat`\n",
    "\n",
    "* Function [`concat`](https://pandas.pydata.org/docs/reference/api/pandas.concat.html) can be used to concatenate several tables. \n",
    "* At the default settings, it combines along axis 0, meaning that the rows of second table are added after the rows of the first table. \n",
    "* We will also use it for `axis=1`, in which case it finds rows with the same index in both tables and combines their columns.\n",
    "* By default, the result has union of rows of the two tables, but intersection can be obtained by `join='inner'`. \n",
    "\n",
    "#### Example\n",
    "\n",
    "Create a second small table of countries and display both tables. Then illustrate various concatenation modes using these tables."
   ]
  },
  {
   "cell_type": "code",
   "execution_count": 69,
   "metadata": {},
   "outputs": [
    {
     "data": {
      "text/markdown": [
       "**The first small table:**"
      ],
      "text/plain": [
       "<IPython.core.display.Markdown object>"
      ]
     },
     "metadata": {},
     "output_type": "display_data"
    },
    {
     "data": {
      "text/html": [
       "<div>\n",
       "<style scoped>\n",
       "    .dataframe tbody tr th:only-of-type {\n",
       "        vertical-align: middle;\n",
       "    }\n",
       "\n",
       "    .dataframe tbody tr th {\n",
       "        vertical-align: top;\n",
       "    }\n",
       "\n",
       "    .dataframe thead th {\n",
       "        text-align: right;\n",
       "    }\n",
       "</style>\n",
       "<table border=\"1\" class=\"dataframe\">\n",
       "  <thead>\n",
       "    <tr style=\"text-align: right;\">\n",
       "      <th></th>\n",
       "      <th>Population2010</th>\n",
       "      <th>Population2020</th>\n",
       "    </tr>\n",
       "    <tr>\n",
       "      <th>Country</th>\n",
       "      <th></th>\n",
       "      <th></th>\n",
       "    </tr>\n",
       "  </thead>\n",
       "  <tbody>\n",
       "    <tr>\n",
       "      <th>Slovak Republic</th>\n",
       "      <td>5,391,428.00</td>\n",
       "      <td>5,458,827.00</td>\n",
       "    </tr>\n",
       "    <tr>\n",
       "      <th>Austria</th>\n",
       "      <td>8,363,404.00</td>\n",
       "      <td>8,916,864.00</td>\n",
       "    </tr>\n",
       "  </tbody>\n",
       "</table>\n",
       "</div>"
      ],
      "text/plain": [
       "                 Population2010  Population2020\n",
       "Country                                        \n",
       "Slovak Republic    5,391,428.00    5,458,827.00\n",
       "Austria            8,363,404.00    8,916,864.00"
      ]
     },
     "metadata": {},
     "output_type": "display_data"
    },
    {
     "data": {
      "text/markdown": [
       "**The second small table:**"
      ],
      "text/plain": [
       "<IPython.core.display.Markdown object>"
      ]
     },
     "metadata": {},
     "output_type": "display_data"
    },
    {
     "data": {
      "text/html": [
       "<div>\n",
       "<style scoped>\n",
       "    .dataframe tbody tr th:only-of-type {\n",
       "        vertical-align: middle;\n",
       "    }\n",
       "\n",
       "    .dataframe tbody tr th {\n",
       "        vertical-align: top;\n",
       "    }\n",
       "\n",
       "    .dataframe thead th {\n",
       "        text-align: right;\n",
       "    }\n",
       "</style>\n",
       "<table border=\"1\" class=\"dataframe\">\n",
       "  <thead>\n",
       "    <tr style=\"text-align: right;\">\n",
       "      <th></th>\n",
       "      <th>Area</th>\n",
       "      <th>Region</th>\n",
       "    </tr>\n",
       "    <tr>\n",
       "      <th>Country</th>\n",
       "      <th></th>\n",
       "      <th></th>\n",
       "    </tr>\n",
       "  </thead>\n",
       "  <tbody>\n",
       "    <tr>\n",
       "      <th>Slovak Republic</th>\n",
       "      <td>49,030.00</td>\n",
       "      <td>Europe &amp; Central Asia</td>\n",
       "    </tr>\n",
       "    <tr>\n",
       "      <th>Austria</th>\n",
       "      <td>83,879.00</td>\n",
       "      <td>Europe &amp; Central Asia</td>\n",
       "    </tr>\n",
       "    <tr>\n",
       "      <th>Hungary</th>\n",
       "      <td>93,030.00</td>\n",
       "      <td>Europe &amp; Central Asia</td>\n",
       "    </tr>\n",
       "  </tbody>\n",
       "</table>\n",
       "</div>"
      ],
      "text/plain": [
       "                     Area                 Region\n",
       "Country                                         \n",
       "Slovak Republic 49,030.00  Europe & Central Asia\n",
       "Austria         83,879.00  Europe & Central Asia\n",
       "Hungary         93,030.00  Europe & Central Asia"
      ]
     },
     "metadata": {},
     "output_type": "display_data"
    }
   ],
   "source": [
    "example_countries2 = countries.loc[[\"Slovak Republic\", \"Austria\", \"Hungary\"], \n",
    "                                   [\"Area\", \"Region\"]]\n",
    "display(Markdown(\"**The first small table:**\"), example_countries)\n",
    "display(Markdown(\"**The second small table:**\"), example_countries2)"
   ]
  },
  {
   "cell_type": "code",
   "execution_count": 70,
   "metadata": {},
   "outputs": [
    {
     "data": {
      "text/markdown": [
       "**Tables concatenated along axis 0:**"
      ],
      "text/plain": [
       "<IPython.core.display.Markdown object>"
      ]
     },
     "metadata": {},
     "output_type": "display_data"
    },
    {
     "data": {
      "text/html": [
       "<div>\n",
       "<style scoped>\n",
       "    .dataframe tbody tr th:only-of-type {\n",
       "        vertical-align: middle;\n",
       "    }\n",
       "\n",
       "    .dataframe tbody tr th {\n",
       "        vertical-align: top;\n",
       "    }\n",
       "\n",
       "    .dataframe thead th {\n",
       "        text-align: right;\n",
       "    }\n",
       "</style>\n",
       "<table border=\"1\" class=\"dataframe\">\n",
       "  <thead>\n",
       "    <tr style=\"text-align: right;\">\n",
       "      <th></th>\n",
       "      <th>Population2010</th>\n",
       "      <th>Population2020</th>\n",
       "      <th>Area</th>\n",
       "      <th>Region</th>\n",
       "    </tr>\n",
       "    <tr>\n",
       "      <th>Country</th>\n",
       "      <th></th>\n",
       "      <th></th>\n",
       "      <th></th>\n",
       "      <th></th>\n",
       "    </tr>\n",
       "  </thead>\n",
       "  <tbody>\n",
       "    <tr>\n",
       "      <th>Slovak Republic</th>\n",
       "      <td>5,391,428.00</td>\n",
       "      <td>5,458,827.00</td>\n",
       "      <td>NaN</td>\n",
       "      <td>NaN</td>\n",
       "    </tr>\n",
       "    <tr>\n",
       "      <th>Austria</th>\n",
       "      <td>8,363,404.00</td>\n",
       "      <td>8,916,864.00</td>\n",
       "      <td>NaN</td>\n",
       "      <td>NaN</td>\n",
       "    </tr>\n",
       "    <tr>\n",
       "      <th>Slovak Republic</th>\n",
       "      <td>NaN</td>\n",
       "      <td>NaN</td>\n",
       "      <td>49,030.00</td>\n",
       "      <td>Europe &amp; Central Asia</td>\n",
       "    </tr>\n",
       "    <tr>\n",
       "      <th>Austria</th>\n",
       "      <td>NaN</td>\n",
       "      <td>NaN</td>\n",
       "      <td>83,879.00</td>\n",
       "      <td>Europe &amp; Central Asia</td>\n",
       "    </tr>\n",
       "    <tr>\n",
       "      <th>Hungary</th>\n",
       "      <td>NaN</td>\n",
       "      <td>NaN</td>\n",
       "      <td>93,030.00</td>\n",
       "      <td>Europe &amp; Central Asia</td>\n",
       "    </tr>\n",
       "  </tbody>\n",
       "</table>\n",
       "</div>"
      ],
      "text/plain": [
       "                 Population2010  Population2020      Area  \\\n",
       "Country                                                     \n",
       "Slovak Republic    5,391,428.00    5,458,827.00       NaN   \n",
       "Austria            8,363,404.00    8,916,864.00       NaN   \n",
       "Slovak Republic             NaN             NaN 49,030.00   \n",
       "Austria                     NaN             NaN 83,879.00   \n",
       "Hungary                     NaN             NaN 93,030.00   \n",
       "\n",
       "                                Region  \n",
       "Country                                 \n",
       "Slovak Republic                    NaN  \n",
       "Austria                            NaN  \n",
       "Slovak Republic  Europe & Central Asia  \n",
       "Austria          Europe & Central Asia  \n",
       "Hungary          Europe & Central Asia  "
      ]
     },
     "metadata": {},
     "output_type": "display_data"
    }
   ],
   "source": [
    "display(Markdown(\"**Tables concatenated along axis 0:**\"))\n",
    "display(pd.concat([example_countries, example_countries2]))"
   ]
  },
  {
   "cell_type": "code",
   "execution_count": 71,
   "metadata": {},
   "outputs": [
    {
     "data": {
      "text/markdown": [
       "**Tables concatenated along axis 1:**"
      ],
      "text/plain": [
       "<IPython.core.display.Markdown object>"
      ]
     },
     "metadata": {},
     "output_type": "display_data"
    },
    {
     "data": {
      "text/html": [
       "<div>\n",
       "<style scoped>\n",
       "    .dataframe tbody tr th:only-of-type {\n",
       "        vertical-align: middle;\n",
       "    }\n",
       "\n",
       "    .dataframe tbody tr th {\n",
       "        vertical-align: top;\n",
       "    }\n",
       "\n",
       "    .dataframe thead th {\n",
       "        text-align: right;\n",
       "    }\n",
       "</style>\n",
       "<table border=\"1\" class=\"dataframe\">\n",
       "  <thead>\n",
       "    <tr style=\"text-align: right;\">\n",
       "      <th></th>\n",
       "      <th>Population2010</th>\n",
       "      <th>Population2020</th>\n",
       "      <th>Area</th>\n",
       "      <th>Region</th>\n",
       "    </tr>\n",
       "    <tr>\n",
       "      <th>Country</th>\n",
       "      <th></th>\n",
       "      <th></th>\n",
       "      <th></th>\n",
       "      <th></th>\n",
       "    </tr>\n",
       "  </thead>\n",
       "  <tbody>\n",
       "    <tr>\n",
       "      <th>Slovak Republic</th>\n",
       "      <td>5,391,428.00</td>\n",
       "      <td>5,458,827.00</td>\n",
       "      <td>49,030.00</td>\n",
       "      <td>Europe &amp; Central Asia</td>\n",
       "    </tr>\n",
       "    <tr>\n",
       "      <th>Austria</th>\n",
       "      <td>8,363,404.00</td>\n",
       "      <td>8,916,864.00</td>\n",
       "      <td>83,879.00</td>\n",
       "      <td>Europe &amp; Central Asia</td>\n",
       "    </tr>\n",
       "    <tr>\n",
       "      <th>Hungary</th>\n",
       "      <td>NaN</td>\n",
       "      <td>NaN</td>\n",
       "      <td>93,030.00</td>\n",
       "      <td>Europe &amp; Central Asia</td>\n",
       "    </tr>\n",
       "  </tbody>\n",
       "</table>\n",
       "</div>"
      ],
      "text/plain": [
       "                 Population2010  Population2020      Area  \\\n",
       "Country                                                     \n",
       "Slovak Republic    5,391,428.00    5,458,827.00 49,030.00   \n",
       "Austria            8,363,404.00    8,916,864.00 83,879.00   \n",
       "Hungary                     NaN             NaN 93,030.00   \n",
       "\n",
       "                                Region  \n",
       "Country                                 \n",
       "Slovak Republic  Europe & Central Asia  \n",
       "Austria          Europe & Central Asia  \n",
       "Hungary          Europe & Central Asia  "
      ]
     },
     "metadata": {},
     "output_type": "display_data"
    }
   ],
   "source": [
    "display(Markdown(\"**Tables concatenated along axis 1:**\"))\n",
    "display(pd.concat([example_countries, example_countries2], axis=1))"
   ]
  },
  {
   "cell_type": "code",
   "execution_count": 72,
   "metadata": {
    "colab": {
     "base_uri": "https://localhost:8080/",
     "height": 932
    },
    "executionInfo": {
     "elapsed": 2201,
     "status": "ok",
     "timestamp": 1615829146874,
     "user": {
      "displayName": "Brona Brejova",
      "photoUrl": "https://lh3.googleusercontent.com/a-/AOh14GjGyr69ecECqZOZ-_5-o1v7SpP5TdLQGU7-pHl4UQ=s64",
      "userId": "10789993073610145432"
     },
     "user_tz": -60
    },
    "id": "M31lr9WEB676",
    "outputId": "f3af192b-5dd6-47d9-f0c6-37316e426348"
   },
   "outputs": [
    {
     "data": {
      "text/markdown": [
       "**Tables concatenated along axis 1 with inner join:**"
      ],
      "text/plain": [
       "<IPython.core.display.Markdown object>"
      ]
     },
     "metadata": {},
     "output_type": "display_data"
    },
    {
     "data": {
      "text/html": [
       "<div>\n",
       "<style scoped>\n",
       "    .dataframe tbody tr th:only-of-type {\n",
       "        vertical-align: middle;\n",
       "    }\n",
       "\n",
       "    .dataframe tbody tr th {\n",
       "        vertical-align: top;\n",
       "    }\n",
       "\n",
       "    .dataframe thead th {\n",
       "        text-align: right;\n",
       "    }\n",
       "</style>\n",
       "<table border=\"1\" class=\"dataframe\">\n",
       "  <thead>\n",
       "    <tr style=\"text-align: right;\">\n",
       "      <th></th>\n",
       "      <th>Population2010</th>\n",
       "      <th>Population2020</th>\n",
       "      <th>Area</th>\n",
       "      <th>Region</th>\n",
       "    </tr>\n",
       "    <tr>\n",
       "      <th>Country</th>\n",
       "      <th></th>\n",
       "      <th></th>\n",
       "      <th></th>\n",
       "      <th></th>\n",
       "    </tr>\n",
       "  </thead>\n",
       "  <tbody>\n",
       "    <tr>\n",
       "      <th>Slovak Republic</th>\n",
       "      <td>5,391,428.00</td>\n",
       "      <td>5,458,827.00</td>\n",
       "      <td>49,030.00</td>\n",
       "      <td>Europe &amp; Central Asia</td>\n",
       "    </tr>\n",
       "    <tr>\n",
       "      <th>Austria</th>\n",
       "      <td>8,363,404.00</td>\n",
       "      <td>8,916,864.00</td>\n",
       "      <td>83,879.00</td>\n",
       "      <td>Europe &amp; Central Asia</td>\n",
       "    </tr>\n",
       "  </tbody>\n",
       "</table>\n",
       "</div>"
      ],
      "text/plain": [
       "                 Population2010  Population2020      Area  \\\n",
       "Country                                                     \n",
       "Slovak Republic    5,391,428.00    5,458,827.00 49,030.00   \n",
       "Austria            8,363,404.00    8,916,864.00 83,879.00   \n",
       "\n",
       "                                Region  \n",
       "Country                                 \n",
       "Slovak Republic  Europe & Central Asia  \n",
       "Austria          Europe & Central Asia  "
      ]
     },
     "metadata": {},
     "output_type": "display_data"
    }
   ],
   "source": [
    "display(Markdown(\"**Tables concatenated along axis 1 with inner join:**\"))\n",
    "display(pd.concat([example_countries, example_countries2], axis=1, join='inner'))"
   ]
  },
  {
   "cell_type": "markdown",
   "metadata": {
    "id": "pbboYuzELnoB"
   },
   "source": [
    "### Merging tables with `merge`\n",
    "\n",
    "* Function [`merge`](https://pandas.pydata.org/docs/reference/api/pandas.merge.html) works similarly as `concat` with `axis=1`, but it will match lines of two tables using any specified columns, not necessarily index. \n",
    "* If values in these columns repeat, it combines all matching pairs of rows.\n",
    "* Setting `how` in `merge` allows us to include rows that do not have a matching row in the other table. \n"
   ]
  },
  {
   "cell_type": "code",
   "execution_count": 73,
   "metadata": {},
   "outputs": [
    {
     "data": {
      "text/markdown": [
       "**DataFrame `tab1`:**"
      ],
      "text/plain": [
       "<IPython.core.display.Markdown object>"
      ]
     },
     "metadata": {},
     "output_type": "display_data"
    },
    {
     "data": {
      "text/html": [
       "<div>\n",
       "<style scoped>\n",
       "    .dataframe tbody tr th:only-of-type {\n",
       "        vertical-align: middle;\n",
       "    }\n",
       "\n",
       "    .dataframe tbody tr th {\n",
       "        vertical-align: top;\n",
       "    }\n",
       "\n",
       "    .dataframe thead th {\n",
       "        text-align: right;\n",
       "    }\n",
       "</style>\n",
       "<table border=\"1\" class=\"dataframe\">\n",
       "  <thead>\n",
       "    <tr style=\"text-align: right;\">\n",
       "      <th></th>\n",
       "      <th>name</th>\n",
       "      <th>value</th>\n",
       "    </tr>\n",
       "  </thead>\n",
       "  <tbody>\n",
       "    <tr>\n",
       "      <th>0</th>\n",
       "      <td>a</td>\n",
       "      <td>1</td>\n",
       "    </tr>\n",
       "    <tr>\n",
       "      <th>1</th>\n",
       "      <td>a</td>\n",
       "      <td>2</td>\n",
       "    </tr>\n",
       "    <tr>\n",
       "      <th>2</th>\n",
       "      <td>a</td>\n",
       "      <td>3</td>\n",
       "    </tr>\n",
       "    <tr>\n",
       "      <th>3</th>\n",
       "      <td>b</td>\n",
       "      <td>4</td>\n",
       "    </tr>\n",
       "  </tbody>\n",
       "</table>\n",
       "</div>"
      ],
      "text/plain": [
       "  name  value\n",
       "0    a      1\n",
       "1    a      2\n",
       "2    a      3\n",
       "3    b      4"
      ]
     },
     "metadata": {},
     "output_type": "display_data"
    },
    {
     "data": {
      "text/markdown": [
       "**DataFrame `tab2`:**"
      ],
      "text/plain": [
       "<IPython.core.display.Markdown object>"
      ]
     },
     "metadata": {},
     "output_type": "display_data"
    },
    {
     "data": {
      "text/html": [
       "<div>\n",
       "<style scoped>\n",
       "    .dataframe tbody tr th:only-of-type {\n",
       "        vertical-align: middle;\n",
       "    }\n",
       "\n",
       "    .dataframe tbody tr th {\n",
       "        vertical-align: top;\n",
       "    }\n",
       "\n",
       "    .dataframe thead th {\n",
       "        text-align: right;\n",
       "    }\n",
       "</style>\n",
       "<table border=\"1\" class=\"dataframe\">\n",
       "  <thead>\n",
       "    <tr style=\"text-align: right;\">\n",
       "      <th></th>\n",
       "      <th>name</th>\n",
       "      <th>value</th>\n",
       "    </tr>\n",
       "  </thead>\n",
       "  <tbody>\n",
       "    <tr>\n",
       "      <th>0</th>\n",
       "      <td>a</td>\n",
       "      <td>10</td>\n",
       "    </tr>\n",
       "    <tr>\n",
       "      <th>1</th>\n",
       "      <td>a</td>\n",
       "      <td>20</td>\n",
       "    </tr>\n",
       "    <tr>\n",
       "      <th>2</th>\n",
       "      <td>b</td>\n",
       "      <td>30</td>\n",
       "    </tr>\n",
       "  </tbody>\n",
       "</table>\n",
       "</div>"
      ],
      "text/plain": [
       "  name  value\n",
       "0    a     10\n",
       "1    a     20\n",
       "2    b     30"
      ]
     },
     "metadata": {},
     "output_type": "display_data"
    },
    {
     "data": {
      "text/markdown": [
       "**Result of `pd.merge(tab1, tab2, on='name')`:**"
      ],
      "text/plain": [
       "<IPython.core.display.Markdown object>"
      ]
     },
     "metadata": {},
     "output_type": "display_data"
    },
    {
     "data": {
      "text/html": [
       "<div>\n",
       "<style scoped>\n",
       "    .dataframe tbody tr th:only-of-type {\n",
       "        vertical-align: middle;\n",
       "    }\n",
       "\n",
       "    .dataframe tbody tr th {\n",
       "        vertical-align: top;\n",
       "    }\n",
       "\n",
       "    .dataframe thead th {\n",
       "        text-align: right;\n",
       "    }\n",
       "</style>\n",
       "<table border=\"1\" class=\"dataframe\">\n",
       "  <thead>\n",
       "    <tr style=\"text-align: right;\">\n",
       "      <th></th>\n",
       "      <th>name</th>\n",
       "      <th>value_x</th>\n",
       "      <th>value_y</th>\n",
       "    </tr>\n",
       "  </thead>\n",
       "  <tbody>\n",
       "    <tr>\n",
       "      <th>0</th>\n",
       "      <td>a</td>\n",
       "      <td>1</td>\n",
       "      <td>10</td>\n",
       "    </tr>\n",
       "    <tr>\n",
       "      <th>1</th>\n",
       "      <td>a</td>\n",
       "      <td>1</td>\n",
       "      <td>20</td>\n",
       "    </tr>\n",
       "    <tr>\n",
       "      <th>2</th>\n",
       "      <td>a</td>\n",
       "      <td>2</td>\n",
       "      <td>10</td>\n",
       "    </tr>\n",
       "    <tr>\n",
       "      <th>3</th>\n",
       "      <td>a</td>\n",
       "      <td>2</td>\n",
       "      <td>20</td>\n",
       "    </tr>\n",
       "    <tr>\n",
       "      <th>4</th>\n",
       "      <td>a</td>\n",
       "      <td>3</td>\n",
       "      <td>10</td>\n",
       "    </tr>\n",
       "    <tr>\n",
       "      <th>5</th>\n",
       "      <td>a</td>\n",
       "      <td>3</td>\n",
       "      <td>20</td>\n",
       "    </tr>\n",
       "    <tr>\n",
       "      <th>6</th>\n",
       "      <td>b</td>\n",
       "      <td>4</td>\n",
       "      <td>30</td>\n",
       "    </tr>\n",
       "  </tbody>\n",
       "</table>\n",
       "</div>"
      ],
      "text/plain": [
       "  name  value_x  value_y\n",
       "0    a        1       10\n",
       "1    a        1       20\n",
       "2    a        2       10\n",
       "3    a        2       20\n",
       "4    a        3       10\n",
       "5    a        3       20\n",
       "6    b        4       30"
      ]
     },
     "metadata": {},
     "output_type": "display_data"
    }
   ],
   "source": [
    "# a small example of how all combinations of matching rows are returned:\n",
    "tab1 = pd.DataFrame({'name': ['a','a','a','b'], 'value': [1,2,3,4]})\n",
    "tab2 = pd.DataFrame({'name': ['a','a','b'], 'value': [10,20,30]})\n",
    "display(Markdown(\"**DataFrame `tab1`:**\"))\n",
    "display(tab1)\n",
    "display(Markdown(\"**DataFrame `tab2`:**\"))\n",
    "display(tab2)\n",
    "display(Markdown(\"**Result of `pd.merge(tab1, tab2, on='name')`:**\"))\n",
    "display(pd.merge(tab1, tab2, on='name'))"
   ]
  },
  {
   "cell_type": "markdown",
   "metadata": {},
   "source": [
    "#### Example of using `merge` on countries\n",
    "\n",
    "* Countries belong to various international organizations and a single country can belong to many. We will represent this as a table having one row for each pair of country and an organization it belongs to.\n",
    "* To combine this with other country data, we apply `merge` to get a table in which each country is copied for each organization it is in.\n",
    "* Then we can for example compute the total number of people living in countries covered by individual organizations. \n",
    "\n"
   ]
  },
  {
   "cell_type": "code",
   "execution_count": 74,
   "metadata": {},
   "outputs": [
    {
     "data": {
      "text/markdown": [
       "**A small country membership table:**"
      ],
      "text/plain": [
       "<IPython.core.display.Markdown object>"
      ]
     },
     "metadata": {},
     "output_type": "display_data"
    },
    {
     "data": {
      "text/html": [
       "<div>\n",
       "<style scoped>\n",
       "    .dataframe tbody tr th:only-of-type {\n",
       "        vertical-align: middle;\n",
       "    }\n",
       "\n",
       "    .dataframe tbody tr th {\n",
       "        vertical-align: top;\n",
       "    }\n",
       "\n",
       "    .dataframe thead th {\n",
       "        text-align: right;\n",
       "    }\n",
       "</style>\n",
       "<table border=\"1\" class=\"dataframe\">\n",
       "  <thead>\n",
       "    <tr style=\"text-align: right;\">\n",
       "      <th></th>\n",
       "      <th>Country</th>\n",
       "      <th>Member</th>\n",
       "    </tr>\n",
       "  </thead>\n",
       "  <tbody>\n",
       "    <tr>\n",
       "      <th>0</th>\n",
       "      <td>Slovak Republic</td>\n",
       "      <td>NATO</td>\n",
       "    </tr>\n",
       "    <tr>\n",
       "      <th>1</th>\n",
       "      <td>Slovak Republic</td>\n",
       "      <td>EU</td>\n",
       "    </tr>\n",
       "    <tr>\n",
       "      <th>2</th>\n",
       "      <td>Slovak Republic</td>\n",
       "      <td>UN</td>\n",
       "    </tr>\n",
       "    <tr>\n",
       "      <th>3</th>\n",
       "      <td>Austria</td>\n",
       "      <td>UN</td>\n",
       "    </tr>\n",
       "    <tr>\n",
       "      <th>4</th>\n",
       "      <td>Austria</td>\n",
       "      <td>EU</td>\n",
       "    </tr>\n",
       "  </tbody>\n",
       "</table>\n",
       "</div>"
      ],
      "text/plain": [
       "           Country Member\n",
       "0  Slovak Republic   NATO\n",
       "1  Slovak Republic     EU\n",
       "2  Slovak Republic     UN\n",
       "3          Austria     UN\n",
       "4          Austria     EU"
      ]
     },
     "metadata": {},
     "output_type": "display_data"
    }
   ],
   "source": [
    "# we create a small membership table by parsing a CSV-format string\n",
    "import io\n",
    "membership_str = io.StringIO(\"\"\"Country,Member\n",
    "Slovak Republic,NATO\n",
    "Slovak Republic,EU\n",
    "Slovak Republic,UN\n",
    "Austria,UN\n",
    "Austria,EU\n",
    "\"\"\")\n",
    "membership = pd.read_csv(membership_str)\n",
    "display(Markdown(\"**A small country membership table:**\"), membership)"
   ]
  },
  {
   "cell_type": "code",
   "execution_count": 75,
   "metadata": {},
   "outputs": [
    {
     "data": {
      "text/markdown": [
       "**Merged table:**"
      ],
      "text/plain": [
       "<IPython.core.display.Markdown object>"
      ]
     },
     "metadata": {},
     "output_type": "display_data"
    },
    {
     "data": {
      "text/html": [
       "<div>\n",
       "<style scoped>\n",
       "    .dataframe tbody tr th:only-of-type {\n",
       "        vertical-align: middle;\n",
       "    }\n",
       "\n",
       "    .dataframe tbody tr th {\n",
       "        vertical-align: top;\n",
       "    }\n",
       "\n",
       "    .dataframe thead th {\n",
       "        text-align: right;\n",
       "    }\n",
       "</style>\n",
       "<table border=\"1\" class=\"dataframe\">\n",
       "  <thead>\n",
       "    <tr style=\"text-align: right;\">\n",
       "      <th></th>\n",
       "      <th>Country</th>\n",
       "      <th>Population2010</th>\n",
       "      <th>Population2020</th>\n",
       "      <th>Member</th>\n",
       "    </tr>\n",
       "  </thead>\n",
       "  <tbody>\n",
       "    <tr>\n",
       "      <th>0</th>\n",
       "      <td>Slovak Republic</td>\n",
       "      <td>5,391,428.00</td>\n",
       "      <td>5,458,827.00</td>\n",
       "      <td>NATO</td>\n",
       "    </tr>\n",
       "    <tr>\n",
       "      <th>1</th>\n",
       "      <td>Slovak Republic</td>\n",
       "      <td>5,391,428.00</td>\n",
       "      <td>5,458,827.00</td>\n",
       "      <td>EU</td>\n",
       "    </tr>\n",
       "    <tr>\n",
       "      <th>2</th>\n",
       "      <td>Slovak Republic</td>\n",
       "      <td>5,391,428.00</td>\n",
       "      <td>5,458,827.00</td>\n",
       "      <td>UN</td>\n",
       "    </tr>\n",
       "    <tr>\n",
       "      <th>3</th>\n",
       "      <td>Austria</td>\n",
       "      <td>8,363,404.00</td>\n",
       "      <td>8,916,864.00</td>\n",
       "      <td>UN</td>\n",
       "    </tr>\n",
       "    <tr>\n",
       "      <th>4</th>\n",
       "      <td>Austria</td>\n",
       "      <td>8,363,404.00</td>\n",
       "      <td>8,916,864.00</td>\n",
       "      <td>EU</td>\n",
       "    </tr>\n",
       "  </tbody>\n",
       "</table>\n",
       "</div>"
      ],
      "text/plain": [
       "           Country  Population2010  Population2020 Member\n",
       "0  Slovak Republic    5,391,428.00    5,458,827.00   NATO\n",
       "1  Slovak Republic    5,391,428.00    5,458,827.00     EU\n",
       "2  Slovak Republic    5,391,428.00    5,458,827.00     UN\n",
       "3          Austria    8,363,404.00    8,916,864.00     UN\n",
       "4          Austria    8,363,404.00    8,916,864.00     EU"
      ]
     },
     "metadata": {},
     "output_type": "display_data"
    }
   ],
   "source": [
    "# merging tables using column Country in both\n",
    "example_membership = pd.merge(example_countries, membership, on='Country')\n",
    "display(Markdown(\"**Merged table:**\"), example_membership)"
   ]
  },
  {
   "cell_type": "code",
   "execution_count": 76,
   "metadata": {},
   "outputs": [
    {
     "data": {
      "text/plain": [
       "np.float64(14375691.0)"
      ]
     },
     "metadata": {},
     "output_type": "display_data"
    }
   ],
   "source": [
    "# compute the total number of people in EU (here only for our two countries)\n",
    "display(example_membership.query('Member == \"EU\"')['Population2020'].sum())"
   ]
  },
  {
   "cell_type": "markdown",
   "metadata": {},
   "source": [
    "As we will see in the next section, we can also use `groupby` to compute sums for all organizations. "
   ]
  },
  {
   "cell_type": "code",
   "execution_count": 77,
   "metadata": {
    "colab": {
     "base_uri": "https://localhost:8080/",
     "height": 589
    },
    "executionInfo": {
     "elapsed": 2438,
     "status": "ok",
     "timestamp": 1615829147119,
     "user": {
      "displayName": "Brona Brejova",
      "photoUrl": "https://lh3.googleusercontent.com/a-/AOh14GjGyr69ecECqZOZ-_5-o1v7SpP5TdLQGU7-pHl4UQ=s64",
      "userId": "10789993073610145432"
     },
     "user_tz": -60
    },
    "id": "R4Wws_N24cXQ",
    "outputId": "ce3eda44-8215-4939-8fe9-d9faafc4dda5"
   },
   "outputs": [
    {
     "data": {
      "text/markdown": [
       "**The sum of country populations for each organization** (only for our two countries)"
      ],
      "text/plain": [
       "<IPython.core.display.Markdown object>"
      ]
     },
     "metadata": {},
     "output_type": "display_data"
    },
    {
     "data": {
      "text/plain": [
       "Member\n",
       "EU     14,375,691.00\n",
       "NATO    5,458,827.00\n",
       "UN     14,375,691.00\n",
       "Name: Population2020, dtype: float64"
      ]
     },
     "metadata": {},
     "output_type": "display_data"
    }
   ],
   "source": [
    "display(Markdown(\"**The sum of country populations for each organization** (only for our two countries)\"))\n",
    "display(example_membership.groupby('Member')['Population2020'].sum())"
   ]
  },
  {
   "cell_type": "markdown",
   "metadata": {
    "id": "xZjoqjfEAlrf"
   },
   "source": [
    "Similar operations are often done in relational databases, where `merge` is called join. More in a specialized database course in the third year. Next we will cover `groupby` function, which is also frequently used in databases."
   ]
  },
  {
   "cell_type": "markdown",
   "metadata": {
    "id": "Ho5jlAgiH1kK"
   },
   "source": [
    "## Aggregation, split-apply-combine (`groupby`)\n",
    "\n",
    "### A simple example of `groupby` command\n",
    "\n",
    "In our big table of all countries, we have a column called `Region`. Let us say we want to compute the number of countries belonging to each region of the world. \n",
    "\n",
    "* First, `groupby` command splits countries into groups by `Region`.\n",
    "* Then, `size` computes the size of each group (the number of rows)."
   ]
  },
  {
   "cell_type": "code",
   "execution_count": 78,
   "metadata": {},
   "outputs": [
    {
     "data": {
      "text/markdown": [
       "**The number of countries in each region:**"
      ],
      "text/plain": [
       "<IPython.core.display.Markdown object>"
      ]
     },
     "metadata": {},
     "output_type": "display_data"
    },
    {
     "data": {
      "text/plain": [
       "Region\n",
       "East Asia & Pacific           37\n",
       "Europe & Central Asia         58\n",
       "Latin America & Caribbean     42\n",
       "Middle East & North Africa    21\n",
       "North America                  3\n",
       "South Asia                     8\n",
       "Sub-Saharan Africa            48\n",
       "dtype: int64"
      ]
     },
     "metadata": {},
     "output_type": "display_data"
    }
   ],
   "source": [
    "display(Markdown(\"**The number of countries in each region:**\"))\n",
    "display(countries.groupby('Region').size())"
   ]
  },
  {
   "cell_type": "markdown",
   "metadata": {},
   "source": [
    "### General principles\n",
    "\n",
    "Pandas follow the [split-apply-combine strategy](https://pandas.pydata.org/docs/user_guide/groupby.html) introduced in R by [Hadley Wickham](https://www.jstatsoft.org/article/view/v040i01/v40i01.pdf).\n",
    "\n",
    "**Split**: split data into groups, often by values in some column, such as `Region` in the `countries` table.\n",
    "\n",
    "**Apply**: apply some computation on each group, obtaining some result (single value, Series, DataFrame).\n",
    "\n",
    "**Combine**: concatenate results for all groups together to a new table.\n",
    "\n",
    "\n",
    "**Typical operations in the apply step:**\n",
    "\n",
    "* **aggregation**: e.g. compute group size, mean, median etc.\n",
    "* **transformation**: e.g. compute percentage or rank of each item within a group\n",
    "* **filtering**: e.g. include only groups that are large enough \n",
    "\n",
    "In Pandas, this is done by combination of [`groupby`](https://pandas.pydata.org/docs/reference/api/pandas.DataFrame.groupby.html#pandas.DataFrame.groupby) for the split step and additional functions for the apply step. The combine step is done implicitly. Pandas library provides many options, we will cover only basics."
   ]
  },
  {
   "cell_type": "markdown",
   "metadata": {
    "id": "QsiYPrp1KCw2"
   },
   "source": [
    "### Simple aggregation in the apply step\n",
    "\n",
    "Apply functions such as `sum`, `mean`, `median`, `min`, `max`, `size`, `count`, `describe` after `groupby`.\n",
    "\n",
    "* `size` gives the number of rows in the group (see example above).\n",
    "* `count` gives the number of non-missing values in each column."
   ]
  },
  {
   "cell_type": "code",
   "execution_count": 20,
   "metadata": {},
   "outputs": [
    {
     "data": {
      "text/markdown": [
       "**Sums of country indicators in each region**"
      ],
      "text/plain": [
       "<IPython.core.display.Markdown object>"
      ]
     },
     "metadata": {},
     "output_type": "display_data"
    },
    {
     "data": {
      "text/markdown": [
       " (including nonsense sums such as life expectation or GDP per capita)"
      ],
      "text/plain": [
       "<IPython.core.display.Markdown object>"
      ]
     },
     "metadata": {},
     "output_type": "display_data"
    },
    {
     "data": {
      "text/html": [
       "<div>\n",
       "<style scoped>\n",
       "    .dataframe tbody tr th:only-of-type {\n",
       "        vertical-align: middle;\n",
       "    }\n",
       "\n",
       "    .dataframe tbody tr th {\n",
       "        vertical-align: top;\n",
       "    }\n",
       "\n",
       "    .dataframe thead th {\n",
       "        text-align: right;\n",
       "    }\n",
       "</style>\n",
       "<table border=\"1\" class=\"dataframe\">\n",
       "  <thead>\n",
       "    <tr style=\"text-align: right;\">\n",
       "      <th></th>\n",
       "      <th>Population2000</th>\n",
       "      <th>Population2010</th>\n",
       "      <th>Population2020</th>\n",
       "      <th>Area</th>\n",
       "      <th>GDP2000</th>\n",
       "      <th>GDP2010</th>\n",
       "      <th>GDP2020</th>\n",
       "      <th>Expectancy2000</th>\n",
       "      <th>Expectancy2010</th>\n",
       "      <th>Expectancy2020</th>\n",
       "      <th>Fertility2000</th>\n",
       "      <th>Fertility2010</th>\n",
       "      <th>Fertility2020</th>\n",
       "    </tr>\n",
       "    <tr>\n",
       "      <th>Region</th>\n",
       "      <th></th>\n",
       "      <th></th>\n",
       "      <th></th>\n",
       "      <th></th>\n",
       "      <th></th>\n",
       "      <th></th>\n",
       "      <th></th>\n",
       "      <th></th>\n",
       "      <th></th>\n",
       "      <th></th>\n",
       "      <th></th>\n",
       "      <th></th>\n",
       "      <th></th>\n",
       "    </tr>\n",
       "  </thead>\n",
       "  <tbody>\n",
       "    <tr>\n",
       "      <th>East Asia &amp; Pacific</th>\n",
       "      <td>2,025,976,167.00</td>\n",
       "      <td>2,187,065,378.00</td>\n",
       "      <td>2,340,350,517.00</td>\n",
       "      <td>24,794,669.42</td>\n",
       "      <td>233,980.83</td>\n",
       "      <td>506,478.43</td>\n",
       "      <td>569,610.58</td>\n",
       "      <td>2,436.61</td>\n",
       "      <td>2,454.65</td>\n",
       "      <td>2,520.88</td>\n",
       "      <td>103.92</td>\n",
       "      <td>91.58</td>\n",
       "      <td>80.30</td>\n",
       "    </tr>\n",
       "    <tr>\n",
       "      <th>Europe &amp; Central Asia</th>\n",
       "      <td>862,786,208.00</td>\n",
       "      <td>889,169,626.00</td>\n",
       "      <td>922,353,365.00</td>\n",
       "      <td>28,813,751.77</td>\n",
       "      <td>883,386.74</td>\n",
       "      <td>1,752,994.15</td>\n",
       "      <td>1,966,242.67</td>\n",
       "      <td>4,053.36</td>\n",
       "      <td>4,204.81</td>\n",
       "      <td>4,255.06</td>\n",
       "      <td>94.74</td>\n",
       "      <td>100.09</td>\n",
       "      <td>93.30</td>\n",
       "    </tr>\n",
       "    <tr>\n",
       "      <th>Latin America &amp; Caribbean</th>\n",
       "      <td>521,281,151.00</td>\n",
       "      <td>588,873,865.00</td>\n",
       "      <td>650,534,988.00</td>\n",
       "      <td>20,523,017.36</td>\n",
       "      <td>194,902.34</td>\n",
       "      <td>462,544.16</td>\n",
       "      <td>522,816.20</td>\n",
       "      <td>2,931.71</td>\n",
       "      <td>3,013.73</td>\n",
       "      <td>2,957.72</td>\n",
       "      <td>108.07</td>\n",
       "      <td>90.74</td>\n",
       "      <td>76.61</td>\n",
       "    </tr>\n",
       "    <tr>\n",
       "      <th>Middle East &amp; North Africa</th>\n",
       "      <td>321,037,455.00</td>\n",
       "      <td>397,997,552.00</td>\n",
       "      <td>479,966,650.00</td>\n",
       "      <td>11,385,553.90</td>\n",
       "      <td>172,013.59</td>\n",
       "      <td>327,153.10</td>\n",
       "      <td>293,809.50</td>\n",
       "      <td>1,496.97</td>\n",
       "      <td>1,557.33</td>\n",
       "      <td>1,568.09</td>\n",
       "      <td>71.54</td>\n",
       "      <td>59.86</td>\n",
       "      <td>52.64</td>\n",
       "    </tr>\n",
       "    <tr>\n",
       "      <th>North America</th>\n",
       "      <td>312,909,973.00</td>\n",
       "      <td>343,397,156.00</td>\n",
       "      <td>369,582,572.00</td>\n",
       "      <td>19,715,550.00</td>\n",
       "      <td>116,885.13</td>\n",
       "      <td>198,088.01</td>\n",
       "      <td>214,882.96</td>\n",
       "      <td>234.66</td>\n",
       "      <td>240.36</td>\n",
       "      <td>239.79</td>\n",
       "      <td>5.31</td>\n",
       "      <td>5.28</td>\n",
       "      <td>4.45</td>\n",
       "    </tr>\n",
       "    <tr>\n",
       "      <th>South Asia</th>\n",
       "      <td>1,406,945,496.00</td>\n",
       "      <td>1,660,546,144.00</td>\n",
       "      <td>1,882,531,621.00</td>\n",
       "      <td>5,135,270.00</td>\n",
       "      <td>5,525.87</td>\n",
       "      <td>16,479.92</td>\n",
       "      <td>21,370.63</td>\n",
       "      <td>511.70</td>\n",
       "      <td>546.95</td>\n",
       "      <td>568.09</td>\n",
       "      <td>31.62</td>\n",
       "      <td>24.66</td>\n",
       "      <td>19.56</td>\n",
       "    </tr>\n",
       "    <tr>\n",
       "      <th>Sub-Saharan Africa</th>\n",
       "      <td>671,212,484.00</td>\n",
       "      <td>879,797,424.00</td>\n",
       "      <td>1,151,302,077.00</td>\n",
       "      <td>24,328,265.87</td>\n",
       "      <td>43,582.79</td>\n",
       "      <td>108,587.66</td>\n",
       "      <td>96,165.83</td>\n",
       "      <td>2,547.64</td>\n",
       "      <td>2,803.97</td>\n",
       "      <td>3,003.10</td>\n",
       "      <td>262.34</td>\n",
       "      <td>237.78</td>\n",
       "      <td>205.94</td>\n",
       "    </tr>\n",
       "  </tbody>\n",
       "</table>\n",
       "</div>"
      ],
      "text/plain": [
       "                             Population2000   Population2010   Population2020  \\\n",
       "Region                                                                          \n",
       "East Asia & Pacific        2,025,976,167.00 2,187,065,378.00 2,340,350,517.00   \n",
       "Europe & Central Asia        862,786,208.00   889,169,626.00   922,353,365.00   \n",
       "Latin America & Caribbean    521,281,151.00   588,873,865.00   650,534,988.00   \n",
       "Middle East & North Africa   321,037,455.00   397,997,552.00   479,966,650.00   \n",
       "North America                312,909,973.00   343,397,156.00   369,582,572.00   \n",
       "South Asia                 1,406,945,496.00 1,660,546,144.00 1,882,531,621.00   \n",
       "Sub-Saharan Africa           671,212,484.00   879,797,424.00 1,151,302,077.00   \n",
       "\n",
       "                                    Area    GDP2000      GDP2010      GDP2020  \\\n",
       "Region                                                                          \n",
       "East Asia & Pacific        24,794,669.42 233,980.83   506,478.43   569,610.58   \n",
       "Europe & Central Asia      28,813,751.77 883,386.74 1,752,994.15 1,966,242.67   \n",
       "Latin America & Caribbean  20,523,017.36 194,902.34   462,544.16   522,816.20   \n",
       "Middle East & North Africa 11,385,553.90 172,013.59   327,153.10   293,809.50   \n",
       "North America              19,715,550.00 116,885.13   198,088.01   214,882.96   \n",
       "South Asia                  5,135,270.00   5,525.87    16,479.92    21,370.63   \n",
       "Sub-Saharan Africa         24,328,265.87  43,582.79   108,587.66    96,165.83   \n",
       "\n",
       "                            Expectancy2000  Expectancy2010  Expectancy2020  \\\n",
       "Region                                                                       \n",
       "East Asia & Pacific               2,436.61        2,454.65        2,520.88   \n",
       "Europe & Central Asia             4,053.36        4,204.81        4,255.06   \n",
       "Latin America & Caribbean         2,931.71        3,013.73        2,957.72   \n",
       "Middle East & North Africa        1,496.97        1,557.33        1,568.09   \n",
       "North America                       234.66          240.36          239.79   \n",
       "South Asia                          511.70          546.95          568.09   \n",
       "Sub-Saharan Africa                2,547.64        2,803.97        3,003.10   \n",
       "\n",
       "                            Fertility2000  Fertility2010  Fertility2020  \n",
       "Region                                                                   \n",
       "East Asia & Pacific                103.92          91.58          80.30  \n",
       "Europe & Central Asia               94.74         100.09          93.30  \n",
       "Latin America & Caribbean          108.07          90.74          76.61  \n",
       "Middle East & North Africa          71.54          59.86          52.64  \n",
       "North America                        5.31           5.28           4.45  \n",
       "South Asia                          31.62          24.66          19.56  \n",
       "Sub-Saharan Africa                 262.34         237.78         205.94  "
      ]
     },
     "metadata": {},
     "output_type": "display_data"
    }
   ],
   "source": [
    "display(Markdown(\"**Sums of country indicators in each region**\"))\n",
    "display(Markdown(\" (including nonsense sums such as life expectation or GDP per capita)\"))\n",
    "display(countries.groupby('Region').sum(numeric_only=True))"
   ]
  },
  {
   "cell_type": "code",
   "execution_count": 21,
   "metadata": {
    "colab": {
     "base_uri": "https://localhost:8080/",
     "height": 971
    },
    "executionInfo": {
     "elapsed": 531,
     "status": "ok",
     "timestamp": 1615830985216,
     "user": {
      "displayName": "Brona Brejova",
      "photoUrl": "https://lh3.googleusercontent.com/a-/AOh14GjGyr69ecECqZOZ-_5-o1v7SpP5TdLQGU7-pHl4UQ=s64",
      "userId": "10789993073610145432"
     },
     "user_tz": -60
    },
    "id": "pR_XM_DVIOl-",
    "outputId": "b202e8ac-6597-4d3c-f008-6867b2842865"
   },
   "outputs": [
    {
     "data": {
      "text/markdown": [
       "**Specifically sum only population in 2020 per region:**"
      ],
      "text/plain": [
       "<IPython.core.display.Markdown object>"
      ]
     },
     "metadata": {},
     "output_type": "display_data"
    },
    {
     "data": {
      "text/plain": [
       "Region\n",
       "East Asia & Pacific          2,340,350,517.00\n",
       "Europe & Central Asia          922,353,365.00\n",
       "Latin America & Caribbean      650,534,988.00\n",
       "Middle East & North Africa     479,966,650.00\n",
       "North America                  369,582,572.00\n",
       "South Asia                   1,882,531,621.00\n",
       "Sub-Saharan Africa           1,151,302,077.00\n",
       "Name: Population2020, dtype: float64"
      ]
     },
     "metadata": {},
     "output_type": "display_data"
    }
   ],
   "source": [
    "display(Markdown(\"**Specifically sum only population in 2020 per region:**\"))\n",
    "display(countries.groupby('Region')['Population2020'].sum())"
   ]
  },
  {
   "cell_type": "markdown",
   "metadata": {
    "id": "QKvHsuDqKG7Z"
   },
   "source": [
    "### Transformation in the apply step\n",
    "\n",
    "Here we use [`transform`](https://pandas.pydata.org/docs/user_guide/groupby.html#the-transform-method) method which gets a function which is used on every group and should produce a group with the same index. We could write our own function (e.g. a lambda expression) or we can use one the built-in functions specified by a string. \n",
    "\n",
    "Here we compute for each country what percentage is its population from the population of the region."
   ]
  },
  {
   "cell_type": "code",
   "execution_count": 22,
   "metadata": {},
   "outputs": [
    {
     "data": {
      "text/markdown": [
       "**For each country, what is the total population of its region:**"
      ],
      "text/plain": [
       "<IPython.core.display.Markdown object>"
      ]
     },
     "metadata": {},
     "output_type": "display_data"
    },
    {
     "data": {
      "text/plain": [
       "Country\n",
       "Afghanistan          1,882,531,621.00\n",
       "Albania                922,353,365.00\n",
       "Algeria                479,966,650.00\n",
       "American Samoa       2,340,350,517.00\n",
       "Andorra                922,353,365.00\n",
       "                           ...       \n",
       "Virgin Islands         650,534,988.00\n",
       "West Bank and Gaza     479,966,650.00\n",
       "Yemen                  479,966,650.00\n",
       "Zambia               1,151,302,077.00\n",
       "Zimbabwe             1,151,302,077.00\n",
       "Name: Population2020, Length: 217, dtype: float64"
      ]
     },
     "metadata": {},
     "output_type": "display_data"
    },
    {
     "data": {
      "text/markdown": [
       "**For each country, what fraction is its population within region:**"
      ],
      "text/plain": [
       "<IPython.core.display.Markdown object>"
      ]
     },
     "metadata": {},
     "output_type": "display_data"
    },
    {
     "data": {
      "text/plain": [
       "Country\n",
       "Afghanistan      0.02\n",
       "Albania          0.00\n",
       "Algeria          0.09\n",
       "American Samoa   0.00\n",
       "Andorra          0.00\n",
       "Name: Population2020, dtype: float64"
      ]
     },
     "metadata": {},
     "output_type": "display_data"
    }
   ],
   "source": [
    "# group countries by region, compute the sum of each region \n",
    "# and copy the regional sum for each country\n",
    "region_sums = countries.groupby('Region')['Population2020'].transform('sum')\n",
    "display(Markdown(\"**For each country, what is the total population of its region:**\"))\n",
    "display(region_sums)\n",
    "# now divide the population of the country by the regional total\n",
    "pop_within_group = countries['Population2020'] / region_sums\n",
    "display(Markdown(\"**For each country, what fraction is its population within region:**\"))\n",
    "display(pop_within_group.head())"
   ]
  },
  {
   "cell_type": "markdown",
   "metadata": {},
   "source": [
    "Bellow we see an alternative form of the same computation when transformation is done via a lambda function that takes a list `x` of country sizes within a region and divides them by the sum of `x`. \n",
    "\n",
    "The use of lambda functions applied on each element is often convenient but might be slow on large data.\n"
   ]
  },
  {
   "cell_type": "code",
   "execution_count": 23,
   "metadata": {},
   "outputs": [
    {
     "data": {
      "text/markdown": [
       "**For each country, what fraction is its population within region:**"
      ],
      "text/plain": [
       "<IPython.core.display.Markdown object>"
      ]
     },
     "metadata": {},
     "output_type": "display_data"
    },
    {
     "data": {
      "text/plain": [
       "Country\n",
       "Afghanistan      0.02\n",
       "Albania          0.00\n",
       "Algeria          0.09\n",
       "American Samoa   0.00\n",
       "Andorra          0.00\n",
       "Name: Population2020, dtype: float64"
      ]
     },
     "metadata": {},
     "output_type": "display_data"
    }
   ],
   "source": [
    "pop_within_group = (countries.groupby('Region')['Population2020']\n",
    "                    .transform(lambda x : x / x.sum()))\n",
    "display(Markdown(\"**For each country, what fraction is its population within region:**\"))\n",
    "display(pop_within_group.head())"
   ]
  },
  {
   "cell_type": "markdown",
   "metadata": {},
   "source": [
    "Lambda expression `lambda x : x / x.sum()` above is a shorthand for defining a function which gets `x` and returns `x / x.sum()`. Below we show a version with function explictly defined."
   ]
  },
  {
   "cell_type": "code",
   "execution_count": 24,
   "metadata": {},
   "outputs": [
    {
     "data": {
      "text/markdown": [
       "**For each country, what fraction is its population within region:**"
      ],
      "text/plain": [
       "<IPython.core.display.Markdown object>"
      ]
     },
     "metadata": {},
     "output_type": "display_data"
    },
    {
     "data": {
      "text/plain": [
       "Country\n",
       "Afghanistan      0.02\n",
       "Albania          0.00\n",
       "Algeria          0.09\n",
       "American Samoa   0.00\n",
       "Andorra          0.00\n",
       "Name: Population2020, dtype: float64"
      ]
     },
     "metadata": {},
     "output_type": "display_data"
    }
   ],
   "source": [
    "def group_fraction(x):\n",
    "    return x / x.sum()\n",
    "pop_within_group = (countries.groupby('Region')['Population2020']\n",
    "                    .transform(group_fraction))\n",
    "display(Markdown(\"**For each country, what fraction is its population within region:**\"))\n",
    "display(pop_within_group.head())"
   ]
  },
  {
   "cell_type": "code",
   "execution_count": 25,
   "metadata": {},
   "outputs": [
    {
     "data": {
      "text/markdown": [
       "**Add back region name using concat:**"
      ],
      "text/plain": [
       "<IPython.core.display.Markdown object>"
      ]
     },
     "metadata": {},
     "output_type": "display_data"
    },
    {
     "data": {
      "text/html": [
       "<div>\n",
       "<style scoped>\n",
       "    .dataframe tbody tr th:only-of-type {\n",
       "        vertical-align: middle;\n",
       "    }\n",
       "\n",
       "    .dataframe tbody tr th {\n",
       "        vertical-align: top;\n",
       "    }\n",
       "\n",
       "    .dataframe thead th {\n",
       "        text-align: right;\n",
       "    }\n",
       "</style>\n",
       "<table border=\"1\" class=\"dataframe\">\n",
       "  <thead>\n",
       "    <tr style=\"text-align: right;\">\n",
       "      <th></th>\n",
       "      <th>Population2020</th>\n",
       "      <th>Region</th>\n",
       "    </tr>\n",
       "    <tr>\n",
       "      <th>Country</th>\n",
       "      <th></th>\n",
       "      <th></th>\n",
       "    </tr>\n",
       "  </thead>\n",
       "  <tbody>\n",
       "    <tr>\n",
       "      <th>Afghanistan</th>\n",
       "      <td>0.02</td>\n",
       "      <td>South Asia</td>\n",
       "    </tr>\n",
       "    <tr>\n",
       "      <th>Albania</th>\n",
       "      <td>0.00</td>\n",
       "      <td>Europe &amp; Central Asia</td>\n",
       "    </tr>\n",
       "    <tr>\n",
       "      <th>Algeria</th>\n",
       "      <td>0.09</td>\n",
       "      <td>Middle East &amp; North Africa</td>\n",
       "    </tr>\n",
       "    <tr>\n",
       "      <th>American Samoa</th>\n",
       "      <td>0.00</td>\n",
       "      <td>East Asia &amp; Pacific</td>\n",
       "    </tr>\n",
       "    <tr>\n",
       "      <th>Andorra</th>\n",
       "      <td>0.00</td>\n",
       "      <td>Europe &amp; Central Asia</td>\n",
       "    </tr>\n",
       "  </tbody>\n",
       "</table>\n",
       "</div>"
      ],
      "text/plain": [
       "                Population2020                      Region\n",
       "Country                                                   \n",
       "Afghanistan               0.02                  South Asia\n",
       "Albania                   0.00       Europe & Central Asia\n",
       "Algeria                   0.09  Middle East & North Africa\n",
       "American Samoa            0.00         East Asia & Pacific\n",
       "Andorra                   0.00       Europe & Central Asia"
      ]
     },
     "metadata": {},
     "output_type": "display_data"
    },
    {
     "data": {
      "text/markdown": [
       "**Look up value for Slovakia:**"
      ],
      "text/plain": [
       "<IPython.core.display.Markdown object>"
      ]
     },
     "metadata": {},
     "output_type": "display_data"
    },
    {
     "data": {
      "text/plain": [
       "Population2020                     0.01\n",
       "Region            Europe & Central Asia\n",
       "Name: Slovak Republic, dtype: object"
      ]
     },
     "metadata": {},
     "output_type": "display_data"
    }
   ],
   "source": [
    "display(Markdown(\"**Add back region name using concat:**\"))\n",
    "pop_within_group2 = pd.concat([pop_within_group, countries['Region']], axis=1)\n",
    "display(pop_within_group2.head())\n",
    "\n",
    "display(Markdown(\"**Look up value for Slovakia:**\"))\n",
    "display(pop_within_group2.loc[\"Slovak Republic\"])"
   ]
  },
  {
   "cell_type": "code",
   "execution_count": 26,
   "metadata": {
    "colab": {
     "base_uri": "https://localhost:8080/",
     "height": 821
    },
    "executionInfo": {
     "elapsed": 2758,
     "status": "ok",
     "timestamp": 1615829147452,
     "user": {
      "displayName": "Brona Brejova",
      "photoUrl": "https://lh3.googleusercontent.com/a-/AOh14GjGyr69ecECqZOZ-_5-o1v7SpP5TdLQGU7-pHl4UQ=s64",
      "userId": "10789993073610145432"
     },
     "user_tz": -60
    },
    "id": "HUsclvesKK9z",
    "outputId": "b74ea1cb-49d6-48f9-b26e-572528616209"
   },
   "outputs": [
    {
     "data": {
      "text/markdown": [
       "**Check that the sum of each region is 1:**"
      ],
      "text/plain": [
       "<IPython.core.display.Markdown object>"
      ]
     },
     "metadata": {},
     "output_type": "display_data"
    },
    {
     "data": {
      "text/html": [
       "<div>\n",
       "<style scoped>\n",
       "    .dataframe tbody tr th:only-of-type {\n",
       "        vertical-align: middle;\n",
       "    }\n",
       "\n",
       "    .dataframe tbody tr th {\n",
       "        vertical-align: top;\n",
       "    }\n",
       "\n",
       "    .dataframe thead th {\n",
       "        text-align: right;\n",
       "    }\n",
       "</style>\n",
       "<table border=\"1\" class=\"dataframe\">\n",
       "  <thead>\n",
       "    <tr style=\"text-align: right;\">\n",
       "      <th></th>\n",
       "      <th>Population2020</th>\n",
       "    </tr>\n",
       "    <tr>\n",
       "      <th>Region</th>\n",
       "      <th></th>\n",
       "    </tr>\n",
       "  </thead>\n",
       "  <tbody>\n",
       "    <tr>\n",
       "      <th>East Asia &amp; Pacific</th>\n",
       "      <td>1.00</td>\n",
       "    </tr>\n",
       "    <tr>\n",
       "      <th>Europe &amp; Central Asia</th>\n",
       "      <td>1.00</td>\n",
       "    </tr>\n",
       "    <tr>\n",
       "      <th>Latin America &amp; Caribbean</th>\n",
       "      <td>1.00</td>\n",
       "    </tr>\n",
       "    <tr>\n",
       "      <th>Middle East &amp; North Africa</th>\n",
       "      <td>1.00</td>\n",
       "    </tr>\n",
       "    <tr>\n",
       "      <th>North America</th>\n",
       "      <td>1.00</td>\n",
       "    </tr>\n",
       "    <tr>\n",
       "      <th>South Asia</th>\n",
       "      <td>1.00</td>\n",
       "    </tr>\n",
       "    <tr>\n",
       "      <th>Sub-Saharan Africa</th>\n",
       "      <td>1.00</td>\n",
       "    </tr>\n",
       "  </tbody>\n",
       "</table>\n",
       "</div>"
      ],
      "text/plain": [
       "                            Population2020\n",
       "Region                                    \n",
       "East Asia & Pacific                   1.00\n",
       "Europe & Central Asia                 1.00\n",
       "Latin America & Caribbean             1.00\n",
       "Middle East & North Africa            1.00\n",
       "North America                         1.00\n",
       "South Asia                            1.00\n",
       "Sub-Saharan Africa                    1.00"
      ]
     },
     "metadata": {},
     "output_type": "display_data"
    }
   ],
   "source": [
    "display(Markdown(\"**Check that the sum of each region is 1:**\"))\n",
    "display(pop_within_group2.groupby('Region').sum())"
   ]
  },
  {
   "cell_type": "markdown",
   "metadata": {
    "id": "5-wxNPSEKLza"
   },
   "source": [
    "### Filtering in the apply step\n",
    "\n",
    "Finally, `groupby` can be followed by [`filter`](https://pandas.pydata.org/docs/user_guide/groupby.html#filtration) to use only some of the groups in the result.\n",
    "\n",
    "Here we report all countries in regions that have at least one billion inhabitants."
   ]
  },
  {
   "cell_type": "code",
   "execution_count": 27,
   "metadata": {
    "colab": {
     "base_uri": "https://localhost:8080/",
     "height": 555
    },
    "executionInfo": {
     "elapsed": 2750,
     "status": "ok",
     "timestamp": 1615829147452,
     "user": {
      "displayName": "Brona Brejova",
      "photoUrl": "https://lh3.googleusercontent.com/a-/AOh14GjGyr69ecECqZOZ-_5-o1v7SpP5TdLQGU7-pHl4UQ=s64",
      "userId": "10789993073610145432"
     },
     "user_tz": -60
    },
    "id": "b_5e0c2ZPrEZ",
    "outputId": "4d904ba0-f133-4523-a296-816d04d8fa7c"
   },
   "outputs": [
    {
     "data": {
      "text/markdown": [
       "**Filtered data:**"
      ],
      "text/plain": [
       "<IPython.core.display.Markdown object>"
      ]
     },
     "metadata": {},
     "output_type": "display_data"
    },
    {
     "data": {
      "text/html": [
       "<div>\n",
       "<style scoped>\n",
       "    .dataframe tbody tr th:only-of-type {\n",
       "        vertical-align: middle;\n",
       "    }\n",
       "\n",
       "    .dataframe tbody tr th {\n",
       "        vertical-align: top;\n",
       "    }\n",
       "\n",
       "    .dataframe thead th {\n",
       "        text-align: right;\n",
       "    }\n",
       "</style>\n",
       "<table border=\"1\" class=\"dataframe\">\n",
       "  <thead>\n",
       "    <tr style=\"text-align: right;\">\n",
       "      <th></th>\n",
       "      <th>ISO3</th>\n",
       "      <th>Region</th>\n",
       "      <th>Income Group</th>\n",
       "      <th>Population2000</th>\n",
       "      <th>Population2010</th>\n",
       "      <th>Population2020</th>\n",
       "      <th>Area</th>\n",
       "      <th>GDP2000</th>\n",
       "      <th>GDP2010</th>\n",
       "      <th>GDP2020</th>\n",
       "      <th>Expectancy2000</th>\n",
       "      <th>Expectancy2010</th>\n",
       "      <th>Expectancy2020</th>\n",
       "      <th>Fertility2000</th>\n",
       "      <th>Fertility2010</th>\n",
       "      <th>Fertility2020</th>\n",
       "    </tr>\n",
       "    <tr>\n",
       "      <th>Country</th>\n",
       "      <th></th>\n",
       "      <th></th>\n",
       "      <th></th>\n",
       "      <th></th>\n",
       "      <th></th>\n",
       "      <th></th>\n",
       "      <th></th>\n",
       "      <th></th>\n",
       "      <th></th>\n",
       "      <th></th>\n",
       "      <th></th>\n",
       "      <th></th>\n",
       "      <th></th>\n",
       "      <th></th>\n",
       "      <th></th>\n",
       "      <th></th>\n",
       "    </tr>\n",
       "  </thead>\n",
       "  <tbody>\n",
       "    <tr>\n",
       "      <th>Afghanistan</th>\n",
       "      <td>AFG</td>\n",
       "      <td>South Asia</td>\n",
       "      <td>Low income</td>\n",
       "      <td>19,542,983.00</td>\n",
       "      <td>28,189,672.00</td>\n",
       "      <td>38,972,231.00</td>\n",
       "      <td>652,860.00</td>\n",
       "      <td>NaN</td>\n",
       "      <td>562.50</td>\n",
       "      <td>512.06</td>\n",
       "      <td>55.30</td>\n",
       "      <td>60.85</td>\n",
       "      <td>62.58</td>\n",
       "      <td>7.53</td>\n",
       "      <td>6.10</td>\n",
       "      <td>4.75</td>\n",
       "    </tr>\n",
       "    <tr>\n",
       "      <th>American Samoa</th>\n",
       "      <td>ASM</td>\n",
       "      <td>East Asia &amp; Pacific</td>\n",
       "      <td>High income</td>\n",
       "      <td>58,229.00</td>\n",
       "      <td>54,849.00</td>\n",
       "      <td>46,189.00</td>\n",
       "      <td>200.00</td>\n",
       "      <td>NaN</td>\n",
       "      <td>10,446.86</td>\n",
       "      <td>15,609.78</td>\n",
       "      <td>NaN</td>\n",
       "      <td>NaN</td>\n",
       "      <td>NaN</td>\n",
       "      <td>NaN</td>\n",
       "      <td>NaN</td>\n",
       "      <td>NaN</td>\n",
       "    </tr>\n",
       "    <tr>\n",
       "      <th>Angola</th>\n",
       "      <td>AGO</td>\n",
       "      <td>Sub-Saharan Africa</td>\n",
       "      <td>Lower middle income</td>\n",
       "      <td>16,394,062.00</td>\n",
       "      <td>23,364,186.00</td>\n",
       "      <td>33,428,486.00</td>\n",
       "      <td>1,246,700.00</td>\n",
       "      <td>556.88</td>\n",
       "      <td>3,586.66</td>\n",
       "      <td>1,450.91</td>\n",
       "      <td>46.02</td>\n",
       "      <td>56.73</td>\n",
       "      <td>62.26</td>\n",
       "      <td>6.64</td>\n",
       "      <td>6.19</td>\n",
       "      <td>5.37</td>\n",
       "    </tr>\n",
       "    <tr>\n",
       "      <th>Australia</th>\n",
       "      <td>AUS</td>\n",
       "      <td>East Asia &amp; Pacific</td>\n",
       "      <td>High income</td>\n",
       "      <td>19,028,802.00</td>\n",
       "      <td>22,031,750.00</td>\n",
       "      <td>25,649,247.00</td>\n",
       "      <td>7,741,220.00</td>\n",
       "      <td>21,870.42</td>\n",
       "      <td>52,147.02</td>\n",
       "      <td>51,868.25</td>\n",
       "      <td>79.23</td>\n",
       "      <td>81.70</td>\n",
       "      <td>83.20</td>\n",
       "      <td>1.76</td>\n",
       "      <td>1.93</td>\n",
       "      <td>1.58</td>\n",
       "    </tr>\n",
       "    <tr>\n",
       "      <th>Bangladesh</th>\n",
       "      <td>BGD</td>\n",
       "      <td>South Asia</td>\n",
       "      <td>Lower middle income</td>\n",
       "      <td>129,193,327.00</td>\n",
       "      <td>148,391,139.00</td>\n",
       "      <td>167,420,950.00</td>\n",
       "      <td>147,570.00</td>\n",
       "      <td>413.10</td>\n",
       "      <td>776.86</td>\n",
       "      <td>2,233.31</td>\n",
       "      <td>65.78</td>\n",
       "      <td>68.64</td>\n",
       "      <td>71.97</td>\n",
       "      <td>3.22</td>\n",
       "      <td>2.34</td>\n",
       "      <td>2.00</td>\n",
       "    </tr>\n",
       "  </tbody>\n",
       "</table>\n",
       "</div>"
      ],
      "text/plain": [
       "               ISO3               Region         Income Group  Population2000  \\\n",
       "Country                                                                         \n",
       "Afghanistan     AFG           South Asia           Low income   19,542,983.00   \n",
       "American Samoa  ASM  East Asia & Pacific          High income       58,229.00   \n",
       "Angola          AGO   Sub-Saharan Africa  Lower middle income   16,394,062.00   \n",
       "Australia       AUS  East Asia & Pacific          High income   19,028,802.00   \n",
       "Bangladesh      BGD           South Asia  Lower middle income  129,193,327.00   \n",
       "\n",
       "                Population2010  Population2020         Area   GDP2000  \\\n",
       "Country                                                                 \n",
       "Afghanistan      28,189,672.00   38,972,231.00   652,860.00       NaN   \n",
       "American Samoa       54,849.00       46,189.00       200.00       NaN   \n",
       "Angola           23,364,186.00   33,428,486.00 1,246,700.00    556.88   \n",
       "Australia        22,031,750.00   25,649,247.00 7,741,220.00 21,870.42   \n",
       "Bangladesh      148,391,139.00  167,420,950.00   147,570.00    413.10   \n",
       "\n",
       "                 GDP2010   GDP2020  Expectancy2000  Expectancy2010  \\\n",
       "Country                                                              \n",
       "Afghanistan       562.50    512.06           55.30           60.85   \n",
       "American Samoa 10,446.86 15,609.78             NaN             NaN   \n",
       "Angola          3,586.66  1,450.91           46.02           56.73   \n",
       "Australia      52,147.02 51,868.25           79.23           81.70   \n",
       "Bangladesh        776.86  2,233.31           65.78           68.64   \n",
       "\n",
       "                Expectancy2020  Fertility2000  Fertility2010  Fertility2020  \n",
       "Country                                                                      \n",
       "Afghanistan              62.58           7.53           6.10           4.75  \n",
       "American Samoa             NaN            NaN            NaN            NaN  \n",
       "Angola                   62.26           6.64           6.19           5.37  \n",
       "Australia                83.20           1.76           1.93           1.58  \n",
       "Bangladesh               71.97           3.22           2.34           2.00  "
      ]
     },
     "metadata": {},
     "output_type": "display_data"
    },
    {
     "data": {
      "text/markdown": [
       "**Check sums in regions for selected countries:**"
      ],
      "text/plain": [
       "<IPython.core.display.Markdown object>"
      ]
     },
     "metadata": {},
     "output_type": "display_data"
    },
    {
     "data": {
      "text/plain": [
       "Region\n",
       "East Asia & Pacific   2,340,350,517.00\n",
       "South Asia            1,882,531,621.00\n",
       "Sub-Saharan Africa    1,151,302,077.00\n",
       "Name: Population2020, dtype: float64"
      ]
     },
     "metadata": {},
     "output_type": "display_data"
    }
   ],
   "source": [
    "# filter gets a function returning a boolean value for each group\n",
    "filtered = (countries.groupby(\"Region\")\n",
    "            .filter(lambda x : x['Population2020'].sum() > 1e9))\n",
    "display(Markdown(\"**Filtered data:**\"))\n",
    "display(filtered.head())\n",
    "display(Markdown(\"**Check sums in regions for selected countries:**\"))\n",
    "display(filtered.groupby('Region')['Population2020'].sum())"
   ]
  },
  {
   "cell_type": "markdown",
   "metadata": {
    "id": "bYMuUXnjKTQG"
   },
   "source": [
    "### Grouping by multiple values\n",
    "\n",
    "Function `groupby` can get a single column, but also a list of columns or a Series which will be used as if it was a column of the table. "
   ]
  },
  {
   "cell_type": "code",
   "execution_count": 28,
   "metadata": {
    "colab": {
     "base_uri": "https://localhost:8080/",
     "height": 477
    },
    "executionInfo": {
     "elapsed": 2744,
     "status": "ok",
     "timestamp": 1615829147453,
     "user": {
      "displayName": "Brona Brejova",
      "photoUrl": "https://lh3.googleusercontent.com/a-/AOh14GjGyr69ecECqZOZ-_5-o1v7SpP5TdLQGU7-pHl4UQ=s64",
      "userId": "10789993073610145432"
     },
     "user_tz": -60
    },
    "id": "FR2TAQWAQhUJ",
    "outputId": "21a885ed-31f4-462c-b7ce-282b1931ee10"
   },
   "outputs": [
    {
     "data": {
      "text/markdown": [
       "**Populations split by both region and income group**"
      ],
      "text/plain": [
       "<IPython.core.display.Markdown object>"
      ]
     },
     "metadata": {},
     "output_type": "display_data"
    },
    {
     "data": {
      "text/plain": [
       "Region                      Income Group       \n",
       "East Asia & Pacific         High income             223,971,823.00\n",
       "                            Low income               25,867,467.00\n",
       "                            Lower middle income     301,779,468.00\n",
       "                            Upper middle income   1,788,731,759.00\n",
       "Europe & Central Asia       High income             522,292,344.00\n",
       "                            Lower middle income      94,487,207.00\n",
       "                            Upper middle income     305,573,814.00\n",
       "Latin America & Caribbean   High income              34,033,357.00\n",
       "                            Lower middle income      40,120,621.00\n",
       "                            Upper middle income     547,890,556.00\n",
       "Middle East & North Africa  High income              68,156,525.00\n",
       "                            Low income               53,056,642.00\n",
       "                            Lower middle income     304,739,289.00\n",
       "                            Upper middle income      54,014,194.00\n",
       "North America               High income             369,582,572.00\n",
       "South Asia                  Low income               38,972,231.00\n",
       "                            Lower middle income   1,843,044,952.00\n",
       "                            Upper middle income         514,438.00\n",
       "Sub-Saharan Africa          High income                  98,462.00\n",
       "                            Low income              549,157,331.00\n",
       "                            Lower middle income     533,054,222.00\n",
       "                            Upper middle income      68,992,062.00\n",
       "Name: Population2020, dtype: float64"
      ]
     },
     "metadata": {},
     "output_type": "display_data"
    }
   ],
   "source": [
    "display(Markdown(\"**Populations split by both region and income group**\"))\n",
    "display(countries.groupby(['Region', \"Income Group\"])['Population2020'].sum())"
   ]
  },
  {
   "cell_type": "markdown",
   "metadata": {},
   "source": [
    "* Now we create a Series classifying each country as small, medium and large using cutoff 1 million for small and 100 million for medium. \n",
    "* We then use this Series in `groupby`.\n",
    "* The classification is created by [`pd.cut`](https://pandas.pydata.org/docs/reference/api/pandas.cut.html) function.\n"
   ]
  },
  {
   "cell_type": "code",
   "execution_count": 29,
   "metadata": {},
   "outputs": [
    {
     "data": {
      "text/markdown": [
       "**Country size classification:**"
      ],
      "text/plain": [
       "<IPython.core.display.Markdown object>"
      ]
     },
     "metadata": {},
     "output_type": "display_data"
    },
    {
     "data": {
      "text/plain": [
       "Country\n",
       "Afghanistan       medium\n",
       "Albania           medium\n",
       "Algeria           medium\n",
       "American Samoa     small\n",
       "Andorra            small\n",
       "Name: SizeCategory, dtype: category\n",
       "Categories (3, object): ['small' < 'medium' < 'large']"
      ]
     },
     "metadata": {},
     "output_type": "display_data"
    }
   ],
   "source": [
    "bin_ends = [0, 1e6, 1e8, 1e10]\n",
    "bin_labels = [\"small\", \"medium\", \"large\"]\n",
    "size_groups = pd.cut(countries['Population2020'],\n",
    "                     bins=bin_ends, labels=bin_labels).rename(\"SizeCategory\")\n",
    "display(Markdown(\"**Country size classification:**\"))\n",
    "display(size_groups.head())"
   ]
  },
  {
   "cell_type": "markdown",
   "metadata": {},
   "source": [
    "Now we can use `size_groups` Series in `groupby`. \n",
    "\n",
    "Parameter [`observed=True`](https://pandas.pydata.org/docs/user_guide/groupby.html#handling-of-un-observed-categorical-values) is related to the fact that `size_groups` is has a categorial variable type to be explained next."
   ]
  },
  {
   "cell_type": "code",
   "execution_count": 30,
   "metadata": {
    "colab": {
     "base_uri": "https://localhost:8080/",
     "height": 743
    },
    "executionInfo": {
     "elapsed": 2740,
     "status": "ok",
     "timestamp": 1615829147455,
     "user": {
      "displayName": "Brona Brejova",
      "photoUrl": "https://lh3.googleusercontent.com/a-/AOh14GjGyr69ecECqZOZ-_5-o1v7SpP5TdLQGU7-pHl4UQ=s64",
      "userId": "10789993073610145432"
     },
     "user_tz": -60
    },
    "id": "8f2a6JumWavk",
    "outputId": "1f8275ec-215d-4ee9-e84f-e64249ce5371"
   },
   "outputs": [
    {
     "data": {
      "text/markdown": [
       "**The number of countries in each size group:**"
      ],
      "text/plain": [
       "<IPython.core.display.Markdown object>"
      ]
     },
     "metadata": {},
     "output_type": "display_data"
    },
    {
     "data": {
      "text/plain": [
       "SizeCategory\n",
       "small      57\n",
       "medium    146\n",
       "large      14\n",
       "dtype: int64"
      ]
     },
     "metadata": {},
     "output_type": "display_data"
    },
    {
     "data": {
      "text/markdown": [
       "**The number of countries in each size group and region:**"
      ],
      "text/plain": [
       "<IPython.core.display.Markdown object>"
      ]
     },
     "metadata": {},
     "output_type": "display_data"
    },
    {
     "data": {
      "text/plain": [
       "Region                      SizeCategory\n",
       "East Asia & Pacific         small           18\n",
       "                            medium          15\n",
       "                            large            4\n",
       "Europe & Central Asia       small           12\n",
       "                            medium          45\n",
       "                            large            1\n",
       "Latin America & Caribbean   small           19\n",
       "                            medium          21\n",
       "                            large            2\n",
       "Middle East & North Africa  small            1\n",
       "                            medium          19\n",
       "                            large            1\n",
       "North America               small            1\n",
       "                            medium           1\n",
       "                            large            1\n",
       "South Asia                  small            2\n",
       "                            medium           3\n",
       "                            large            3\n",
       "Sub-Saharan Africa          small            4\n",
       "                            medium          42\n",
       "                            large            2\n",
       "dtype: int64"
      ]
     },
     "metadata": {},
     "output_type": "display_data"
    }
   ],
   "source": [
    "# now use size_groups in groupby\n",
    "display(Markdown(\"**The number of countries in each size group:**\"))\n",
    "display(countries.groupby(size_groups, observed=True).size())\n",
    "display(Markdown(\"**The number of countries in each size group and region:**\"))\n",
    "display(countries.groupby(['Region', size_groups], observed=True).size())"
   ]
  },
  {
   "cell_type": "markdown",
   "metadata": {
    "id": "7eSiXzIuKhxb"
   },
   "source": [
    "## Categorical variables\n",
    "\n",
    "Categorical variables have values from a small set, such as region and income group in the table of countries. So far we have represented them only as strings, but we can explicitly convert them to a [categorical data type](https://pandas.pydata.org/pandas-docs/stable/user_guide/categorical.html) in Pandas. \n",
    "\n",
    "This has several advantages:\n",
    "* Strings are internally replaced by numerical IDs within the table, potentially saving memory.\n",
    "* Categories can be ordered and then sorting, minimum, maximum etc works as desired, not alphabetically.\n",
    "* Pandas is aware of the full set of possible values. For example categories without members can appear in the `groupby` results.\n",
    "\n",
    "#### Example\n",
    "Income groups in our table are strings, we will convert them to an ordered categorical variable."
   ]
  },
  {
   "cell_type": "code",
   "execution_count": 31,
   "metadata": {},
   "outputs": [
    {
     "data": {
      "text/markdown": [
       "**Income Group column in the old table:**"
      ],
      "text/plain": [
       "<IPython.core.display.Markdown object>"
      ]
     },
     "metadata": {},
     "output_type": "display_data"
    },
    {
     "data": {
      "text/plain": [
       "Country\n",
       "Afghanistan             Low income\n",
       "Albania        Upper middle income\n",
       "Algeria        Lower middle income\n",
       "Name: Income Group, dtype: object"
      ]
     },
     "metadata": {},
     "output_type": "display_data"
    },
    {
     "data": {
      "text/markdown": [
       "**Income Group column in the new table:**"
      ],
      "text/plain": [
       "<IPython.core.display.Markdown object>"
      ]
     },
     "metadata": {},
     "output_type": "display_data"
    },
    {
     "data": {
      "text/plain": [
       "Country\n",
       "Afghanistan             Low income\n",
       "Albania        Upper middle income\n",
       "Algeria        Lower middle income\n",
       "Name: Income Group, dtype: category\n",
       "Categories (4, object): ['Low income' < 'Lower middle income' < 'Upper middle income' < 'High income']"
      ]
     },
     "metadata": {},
     "output_type": "display_data"
    }
   ],
   "source": [
    "# creating a categorical type\n",
    "cat_type = pd.api.types.CategoricalDtype(categories=[\"Low income\", \n",
    "                                                     \"Lower middle income\", \n",
    "                                                     \"Upper middle income\", \n",
    "                                                     \"High income\"], \n",
    "                                         ordered=True)\n",
    "# converting Income Group column to cat_type in a new DataFrame\n",
    "countries_cat = countries.astype({'Income Group': cat_type})\n",
    "\n",
    "display(Markdown(\"**Income Group column in the old table:**\"), \n",
    "        countries['Income Group'].head(3))\n",
    "display(Markdown(\"**Income Group column in the new table:**\"), \n",
    "        countries_cat['Income Group'].head(3))\n"
   ]
  },
  {
   "cell_type": "code",
   "execution_count": 32,
   "metadata": {
    "colab": {
     "base_uri": "https://localhost:8080/",
     "height": 176
    },
    "executionInfo": {
     "elapsed": 3389,
     "status": "ok",
     "timestamp": 1615829148118,
     "user": {
      "displayName": "Brona Brejova",
      "photoUrl": "https://lh3.googleusercontent.com/a-/AOh14GjGyr69ecECqZOZ-_5-o1v7SpP5TdLQGU7-pHl4UQ=s64",
      "userId": "10789993073610145432"
     },
     "user_tz": -60
    },
    "id": "K8veGb27bQ1T",
    "outputId": "39fe6d0d-a2bd-469c-9e34-95cc71f92893"
   },
   "outputs": [
    {
     "data": {
      "text/markdown": [
       "**Minimum and maximum income group in the table with categorical values:**  (manually fixed order):"
      ],
      "text/plain": [
       "<IPython.core.display.Markdown object>"
      ]
     },
     "metadata": {},
     "output_type": "display_data"
    },
    {
     "data": {
      "text/plain": [
       "'Low income'"
      ]
     },
     "metadata": {},
     "output_type": "display_data"
    },
    {
     "data": {
      "text/plain": [
       "'High income'"
      ]
     },
     "metadata": {},
     "output_type": "display_data"
    },
    {
     "data": {
      "text/markdown": [
       "**Minimum and maximum income group in the table with strings**  (alphabetical order):"
      ],
      "text/plain": [
       "<IPython.core.display.Markdown object>"
      ]
     },
     "metadata": {},
     "output_type": "display_data"
    },
    {
     "data": {
      "text/plain": [
       "'High income'"
      ]
     },
     "metadata": {},
     "output_type": "display_data"
    },
    {
     "data": {
      "text/plain": [
       "'Upper middle income'"
      ]
     },
     "metadata": {},
     "output_type": "display_data"
    }
   ],
   "source": [
    "display(Markdown(\"**Minimum and maximum income group in the table with categorical values:**\"\n",
    "                 \"  (manually fixed order):\"))\n",
    "display(countries_cat['Income Group'].min())\n",
    "display(countries_cat['Income Group'].max())\n",
    "\n",
    "display(Markdown(\"**Minimum and maximum income group in the table with strings**\"\n",
    "                 \"  (alphabetical order):\"))\n",
    "display(countries['Income Group'].dropna().min())\n",
    "display(countries['Income Group'].dropna().max())\n"
   ]
  },
  {
   "cell_type": "markdown",
   "metadata": {
    "id": "ehCAAh08oOtw"
   },
   "source": [
    "* Note that if categories do not need a fixed order, they can be created automatically by the `astype` function as in the code below. \n",
    "* Notice that `groupby` creates even empty groups which would not happen with strings. This is caused by `observed=False` setting."
   ]
  },
  {
   "cell_type": "code",
   "execution_count": 33,
   "metadata": {
    "colab": {
     "base_uri": "https://localhost:8080/"
    },
    "executionInfo": {
     "elapsed": 3379,
     "status": "ok",
     "timestamp": 1615829148120,
     "user": {
      "displayName": "Brona Brejova",
      "photoUrl": "https://lh3.googleusercontent.com/a-/AOh14GjGyr69ecECqZOZ-_5-o1v7SpP5TdLQGU7-pHl4UQ=s64",
      "userId": "10789993073610145432"
     },
     "user_tz": -60
    },
    "id": "fXYnAPgjnD9H",
    "outputId": "e5b81f18-f46f-412c-f744-1b7b4ed40d40"
   },
   "outputs": [
    {
     "data": {
      "text/plain": [
       "Income Group         Region                    \n",
       "Low income           East Asia & Pacific            1\n",
       "                     Europe & Central Asia          0\n",
       "                     Latin America & Caribbean      0\n",
       "                     Middle East & North Africa     2\n",
       "                     North America                  0\n",
       "                     South Asia                     1\n",
       "                     Sub-Saharan Africa            22\n",
       "Lower middle income  East Asia & Pacific           13\n",
       "                     Europe & Central Asia          4\n",
       "                     Latin America & Caribbean      4\n",
       "                     Middle East & North Africa     8\n",
       "                     North America                  0\n",
       "                     South Asia                     6\n",
       "                     Sub-Saharan Africa            19\n",
       "Upper middle income  East Asia & Pacific            9\n",
       "                     Europe & Central Asia         16\n",
       "                     Latin America & Caribbean     19\n",
       "                     Middle East & North Africa     3\n",
       "                     North America                  0\n",
       "                     South Asia                     1\n",
       "                     Sub-Saharan Africa             6\n",
       "High income          East Asia & Pacific           14\n",
       "                     Europe & Central Asia         38\n",
       "                     Latin America & Caribbean     18\n",
       "                     Middle East & North Africa     8\n",
       "                     North America                  3\n",
       "                     South Asia                     0\n",
       "                     Sub-Saharan Africa             1\n",
       "dtype: int64"
      ]
     },
     "execution_count": 33,
     "metadata": {},
     "output_type": "execute_result"
    }
   ],
   "source": [
    "# convert region to an unordered category\n",
    "countries_cat2 = countries_cat.astype({'Region': 'category'})\n",
    "# count the number of countries for each combination of income group and region\n",
    "countries_cat2.groupby(['Income Group', 'Region'], observed=False).size()"
   ]
  },
  {
   "cell_type": "markdown",
   "metadata": {
    "id": "fJFl10croaMr"
   },
   "source": [
    "## Dates and times\n",
    "\n",
    "An important type of data sets are time series, where some variables are measured repeatedly over time. Pandas has an extensive support [for work with times and dates](https://pandas.pydata.org/pandas-docs/stable/user_guide/timeseries.html). Here we show only a small example.\n",
    "\n",
    "* We illustrate this on the movie dataset from  [Kaggle](https://www.kaggle.com/rounakbanik/the-movies-dataset) (see lecture 04). \n",
    "* The column labeled `release_date` is recognized as date by passing `parse_dates` parameter to `read_csv`.\n",
    "* Then we call function [`day_name()`](https://pandas.pydata.org/pandas-docs/stable/reference/api/pandas.Timestamp.day_name.html) to get the day of week for each release day and use [`value_counts`](https://pandas.pydata.org/pandas-docs/stable/reference/api/pandas.Series.value_counts.html) to see which days are most frequent as movie release dates. \n",
    "* We also use the release date as the  x-coordinate in a scatterplot. "
   ]
  },
  {
   "cell_type": "code",
   "execution_count": 34,
   "metadata": {
    "colab": {
     "base_uri": "https://localhost:8080/"
    },
    "executionInfo": {
     "elapsed": 7146,
     "status": "ok",
     "timestamp": 1615829151892,
     "user": {
      "displayName": "Brona Brejova",
      "photoUrl": "https://lh3.googleusercontent.com/a-/AOh14GjGyr69ecECqZOZ-_5-o1v7SpP5TdLQGU7-pHl4UQ=s64",
      "userId": "10789993073610145432"
     },
     "user_tz": -60
    },
    "id": "-lnKOdAYeYFh",
    "outputId": "7a0cfd65-edff-4c8d-a827-f08d3fbcb83c"
   },
   "outputs": [
    {
     "data": {
      "text/plain": [
       "release_date\n",
       "Friday       639\n",
       "Thursday     515\n",
       "Wednesday    474\n",
       "Tuesday      175\n",
       "Saturday      94\n",
       "Monday        87\n",
       "Sunday        65\n",
       "Name: count, dtype: int64"
      ]
     },
     "execution_count": 34,
     "metadata": {},
     "output_type": "execute_result"
    }
   ],
   "source": [
    "# import data, including parsing of dates\n",
    "url = 'https://bbrejova.github.io/viz/data/Movies_small.csv'\n",
    "movies = pd.read_csv(url, parse_dates=['release_date'])\n",
    "# get days of week for realse dates\n",
    "days = movies['release_date'].apply(lambda x : x.day_name())\n",
    "days.value_counts()"
   ]
  },
  {
   "cell_type": "code",
   "execution_count": 35,
   "metadata": {
    "colab": {
     "base_uri": "https://localhost:8080/",
     "height": 291
    },
    "executionInfo": {
     "elapsed": 7140,
     "status": "ok",
     "timestamp": 1615829151893,
     "user": {
      "displayName": "Brona Brejova",
      "photoUrl": "https://lh3.googleusercontent.com/a-/AOh14GjGyr69ecECqZOZ-_5-o1v7SpP5TdLQGU7-pHl4UQ=s64",
      "userId": "10789993073610145432"
     },
     "user_tz": -60
    },
    "id": "ZYV4NZQQh7GJ",
    "outputId": "8bf596e3-4dbd-4470-cadf-99d73536c611"
   },
   "outputs": [
    {
     "data": {
      "image/png": "[encoded data removed]",
      "text/plain": [
       "<Figure size 640x480 with 1 Axes>"
      ]
     },
     "metadata": {},
     "output_type": "display_data"
    }
   ],
   "source": [
    "# use release date is x-coordinate\n",
    "sns.scatterplot(data=movies, x='release_date', y='budget')\n",
    "pass"
   ]
  },
  {
   "cell_type": "markdown",
   "metadata": {
    "id": "1hNULi15KzNU"
   },
   "source": [
    "## Missing values\n",
    "\n",
    "Data sets are often incomplete, and Pandas provides techniques for [working with missing data](https://pandas.pydata.org/pandas-docs/stable/user_guide/missing_data.html).\n",
    "\n",
    "* Missing data are typically imported as `np.nan` (not-a-number).\n",
    "* These cannot occur in int-type columns, so ints are converted to floats, but can be handled in a [special way](https://pandas.pydata.org/pandas-docs/stable/user_guide/integer_na.html).\n",
    "\n",
    "Bellow we show a small example what happens when working with missing data, including functions [`isna`](https://pandas.pydata.org/pandas-docs/stable/reference/api/pandas.Series.isna.html), [`dropna`](https://pandas.pydata.org/pandas-docs/stable/reference/api/pandas.Series.dropna.html), [`fillna`](https://pandas.pydata.org/pandas-docs/stable/reference/api/pandas.Series.dropna.html).\n"
   ]
  },
  {
   "cell_type": "code",
   "execution_count": null,
   "metadata": {
    "colab": {
     "base_uri": "https://localhost:8080/",
     "height": 760
    },
    "executionInfo": {
     "elapsed": 518,
     "status": "ok",
     "timestamp": 1615831412405,
     "user": {
      "displayName": "Brona Brejova",
      "photoUrl": "https://lh3.googleusercontent.com/a-/AOh14GjGyr69ecECqZOZ-_5-o1v7SpP5TdLQGU7-pHl4UQ=s64",
      "userId": "10789993073610145432"
     },
     "user_tz": -60
    },
    "id": "LozhzxD2jryz",
    "outputId": "aa912b8b-3467-4bb4-802a-97b29f0621ee"
   },
   "outputs": [
    {
     "data": {
      "text/markdown": [
       "**`a.sum()` skips missing values:**"
      ],
      "text/plain": [
       "<IPython.core.display.Markdown object>"
      ]
     },
     "metadata": {},
     "output_type": "display_data"
    },
    {
     "data": {
      "text/plain": [
       "np.float64(6.0)"
      ]
     },
     "metadata": {},
     "output_type": "display_data"
    },
    {
     "data": {
      "text/markdown": [
       "**`a.count()` counts non-missing values:**"
      ],
      "text/plain": [
       "<IPython.core.display.Markdown object>"
      ]
     },
     "metadata": {},
     "output_type": "display_data"
    },
    {
     "data": {
      "text/plain": [
       "np.int64(3)"
      ]
     },
     "metadata": {},
     "output_type": "display_data"
    },
    {
     "data": {
      "text/markdown": [
       "**`a.mean()` also considers only non-missing:**"
      ],
      "text/plain": [
       "<IPython.core.display.Markdown object>"
      ]
     },
     "metadata": {},
     "output_type": "display_data"
    },
    {
     "data": {
      "text/plain": [
       "np.float64(2.0)"
      ]
     },
     "metadata": {},
     "output_type": "display_data"
    },
    {
     "data": {
      "text/markdown": [
       "**`a > 2` evaluates missing values as `False`, similarly `<`, `==`:**"
      ],
      "text/plain": [
       "<IPython.core.display.Markdown object>"
      ]
     },
     "metadata": {},
     "output_type": "display_data"
    },
    {
     "data": {
      "text/plain": [
       "0    False\n",
       "1    False\n",
       "2    False\n",
       "3     True\n",
       "dtype: bool"
      ]
     },
     "metadata": {},
     "output_type": "display_data"
    },
    {
     "data": {
      "text/markdown": [
       "**`a == np.nan` also evaluates as `False`:**"
      ],
      "text/plain": [
       "<IPython.core.display.Markdown object>"
      ]
     },
     "metadata": {},
     "output_type": "display_data"
    },
    {
     "data": {
      "text/plain": [
       "0    False\n",
       "1    False\n",
       "2    False\n",
       "3    False\n",
       "dtype: bool"
      ]
     },
     "metadata": {},
     "output_type": "display_data"
    },
    {
     "data": {
      "text/markdown": [
       "**`a.isna()` can be used to detect missing values:**"
      ],
      "text/plain": [
       "<IPython.core.display.Markdown object>"
      ]
     },
     "metadata": {},
     "output_type": "display_data"
    },
    {
     "data": {
      "text/plain": [
       "0    False\n",
       "1    False\n",
       "2     True\n",
       "3    False\n",
       "dtype: bool"
      ]
     },
     "metadata": {},
     "output_type": "display_data"
    },
    {
     "data": {
      "text/markdown": [
       "**`a.dropna()` omits missing values:**"
      ],
      "text/plain": [
       "<IPython.core.display.Markdown object>"
      ]
     },
     "metadata": {},
     "output_type": "display_data"
    },
    {
     "data": {
      "text/plain": [
       "0   1.00\n",
       "1   2.00\n",
       "3   3.00\n",
       "dtype: float64"
      ]
     },
     "metadata": {},
     "output_type": "display_data"
    },
    {
     "data": {
      "text/markdown": [
       "**`a.fillna(-1)` replaces them with a specified value:**"
      ],
      "text/plain": [
       "<IPython.core.display.Markdown object>"
      ]
     },
     "metadata": {},
     "output_type": "display_data"
    },
    {
     "data": {
      "text/plain": [
       "0    1.00\n",
       "1    2.00\n",
       "2   -1.00\n",
       "3    3.00\n",
       "dtype: float64"
      ]
     },
     "metadata": {},
     "output_type": "display_data"
    }
   ],
   "source": [
    "# create a small Series with one missing value\n",
    "a = pd.Series([1, 2, np.nan, 3])\n",
    "display(Markdown(\"**`a.sum()` skips missing values:**\"), \n",
    "        a.sum())\n",
    "display(Markdown(\"**`a.count()` counts non-missing values:**\"), \n",
    "        a.count())\n",
    "display(Markdown(\"**`a.mean()` also considers only non-missing:**\"),\n",
    "        a.mean())\n",
    "display(Markdown(\"**`a > 2` evaluates missing values as `False`, similarly `<`, `==`:**\"),\n",
    "        a > 2)\n",
    "display(Markdown(\"**`a == np.nan` also evaluates as `False`:**\"),\n",
    "        a == np.nan)\n",
    "display(Markdown(\"**`a.isna()` can be used to detect missing values:**\"),\n",
    "        a.isna())\n",
    "display(Markdown(\"**`a.dropna()` omits missing values:**\"),\n",
    "        a.dropna())\n",
    "display(Markdown(\"**`a.fillna(-1)` replaces them with a specified value:**\"),\n",
    "        a.fillna(-1))"
   ]
  },
  {
   "cell_type": "markdown",
   "metadata": {
    "id": "7U8a-3t1p2Z5"
   },
   "source": [
    "## Pandas efficiency\n",
    "\n",
    "Below we show several examples how different ways of implementing the same operation can have very different running time on large data.  Pandas functions are usually much faster than manual iteration. However, if you do not work on huge data sets, the difference is not so important.\n",
    "\n",
    "To measure time, we use a special Jupyter command [`%timeit`](https://ipython.readthedocs.io/en/stable/interactive/magics.html#magic-timeit). It runs the code several times to estimate the time per one repeat."
   ]
  },
  {
   "cell_type": "code",
   "execution_count": 37,
   "metadata": {
    "id": "untgb_rLp8cE"
   },
   "outputs": [],
   "source": [
    "# generate a Series of million random numbers and also convert it to Python list\n",
    "length = int(1e6)\n",
    "xs = pd.Series(np.random.uniform(0,100, length))\n",
    "xl = list(xs)"
   ]
  },
  {
   "cell_type": "markdown",
   "metadata": {
    "id": "7Rtsncav1a4Q"
   },
   "source": [
    "Below we see that method `sum()` on Series is faster than Python built-in `sum` on a Python list, but Python built-in `sum` on Series is much slower, because it iterates over elements of Series. "
   ]
  },
  {
   "cell_type": "code",
   "execution_count": 38,
   "metadata": {
    "colab": {
     "base_uri": "https://localhost:8080/"
    },
    "executionInfo": {
     "elapsed": 18118,
     "status": "ok",
     "timestamp": 1615829162885,
     "user": {
      "displayName": "Brona Brejova",
      "photoUrl": "https://lh3.googleusercontent.com/a-/AOh14GjGyr69ecECqZOZ-_5-o1v7SpP5TdLQGU7-pHl4UQ=s64",
      "userId": "10789993073610145432"
     },
     "user_tz": -60
    },
    "id": "Su29-nZp4QOm",
    "outputId": "7f2c36ea-73d8-4586-adfa-3819f371d445"
   },
   "outputs": [
    {
     "data": {
      "text/markdown": [
       "**Method `sum` on `Series` `xs.sum()`:**"
      ],
      "text/plain": [
       "<IPython.core.display.Markdown object>"
      ]
     },
     "metadata": {},
     "output_type": "display_data"
    },
    {
     "name": "stdout",
     "output_type": "stream",
     "text": [
      "450 μs ± 22.2 μs per loop (mean ± std. dev. of 7 runs, 1,000 loops each)\n"
     ]
    },
    {
     "data": {
      "text/markdown": [
       "**Python `sum` on Python list `sum(xl)`:**"
      ],
      "text/plain": [
       "<IPython.core.display.Markdown object>"
      ]
     },
     "metadata": {},
     "output_type": "display_data"
    },
    {
     "name": "stdout",
     "output_type": "stream",
     "text": [
      "4.71 ms ± 64.3 μs per loop (mean ± std. dev. of 7 runs, 100 loops each)\n"
     ]
    },
    {
     "data": {
      "text/markdown": [
       "**Python `sum` on Series `sum(xs)`:**"
      ],
      "text/plain": [
       "<IPython.core.display.Markdown object>"
      ]
     },
     "metadata": {},
     "output_type": "display_data"
    },
    {
     "name": "stdout",
     "output_type": "stream",
     "text": [
      "40.9 ms ± 874 μs per loop (mean ± std. dev. of 7 runs, 10 loops each)\n"
     ]
    }
   ],
   "source": [
    "display(Markdown(\"**Method `sum` on `Series` `xs.sum()`:**\"))\n",
    "%timeit result = xs.sum()\n",
    "display(Markdown(\"**Python `sum` on Python list `sum(xl)`:**\"))\n",
    "%timeit result = sum(xl)\n",
    "display(Markdown(\"**Python `sum` on Series `sum(xs)`:**\"))\n",
    "%timeit result = sum(xs)"
   ]
  },
  {
   "cell_type": "markdown",
   "metadata": {
    "id": "uovOLunW7C45"
   },
   "source": [
    "Below we compare three ways of generating a sequence of squared values. Multiplying Series with `*` is the fastest, Python list comprehension is much slower and `apply` function from Pandas is even slower."
   ]
  },
  {
   "cell_type": "code",
   "execution_count": 39,
   "metadata": {
    "colab": {
     "base_uri": "https://localhost:8080/"
    },
    "executionInfo": {
     "elapsed": 33667,
     "status": "ok",
     "timestamp": 1615829178439,
     "user": {
      "displayName": "Brona Brejova",
      "photoUrl": "https://lh3.googleusercontent.com/a-/AOh14GjGyr69ecECqZOZ-_5-o1v7SpP5TdLQGU7-pHl4UQ=s64",
      "userId": "10789993073610145432"
     },
     "user_tz": -60
    },
    "id": "OMuAjvNEswKo",
    "outputId": "1dccfaab-36d6-4365-de99-e14e6d82d1fa"
   },
   "outputs": [
    {
     "data": {
      "text/markdown": [
       "**Pandas `Series` multiplication `x2s = xs * xs`**:"
      ],
      "text/plain": [
       "<IPython.core.display.Markdown object>"
      ]
     },
     "metadata": {},
     "output_type": "display_data"
    },
    {
     "name": "stdout",
     "output_type": "stream",
     "text": [
      "766 μs ± 102 μs per loop (mean ± std. dev. of 7 runs, 1,000 loops each)\n"
     ]
    },
    {
     "data": {
      "text/markdown": [
       "**Python list comprehension on a list `x2l = [x * x for x in xl]`:**"
      ],
      "text/plain": [
       "<IPython.core.display.Markdown object>"
      ]
     },
     "metadata": {},
     "output_type": "display_data"
    },
    {
     "name": "stdout",
     "output_type": "stream",
     "text": [
      "38.4 ms ± 3.19 ms per loop (mean ± std. dev. of 7 runs, 10 loops each)\n"
     ]
    },
    {
     "data": {
      "text/markdown": [
       "**Pandas `apply` function `x2s = xs.apply(lambda x : x * x)`**"
      ],
      "text/plain": [
       "<IPython.core.display.Markdown object>"
      ]
     },
     "metadata": {},
     "output_type": "display_data"
    },
    {
     "name": "stdout",
     "output_type": "stream",
     "text": [
      "159 ms ± 15.9 ms per loop (mean ± std. dev. of 7 runs, 1 loop each)\n"
     ]
    }
   ],
   "source": [
    "display(Markdown(\"**Pandas `Series` multiplication `x2s = xs * xs`**:\"))\n",
    "%timeit x2s = xs * xs\n",
    "display(Markdown(\"**Python list comprehension on a list `x2l = [x * x for x in xl]`:**\"))\n",
    "%timeit x2l = [x * x for x in xl]\n",
    "display(Markdown(\"**Pandas `apply` function `x2s = xs.apply(lambda x : x * x)`**\"))\n",
    "%timeit x2s = xs.apply(lambda x : x * x)"
   ]
  },
  {
   "cell_type": "markdown",
   "metadata": {
    "id": "9jJM7IOm7fnL"
   },
   "source": [
    "The code below creates the Series of squares by creating a Series filled with zeroes and then assigning individual values using for-loop. This is again much slower than all methods above, so to make the code reasonably fast, we run it on data which is 100 times smaller than above. "
   ]
  },
  {
   "cell_type": "code",
   "execution_count": 40,
   "metadata": {
    "colab": {
     "base_uri": "https://localhost:8080/"
    },
    "executionInfo": {
     "elapsed": 9666,
     "status": "ok",
     "timestamp": 1615829434685,
     "user": {
      "displayName": "Brona Brejova",
      "photoUrl": "https://lh3.googleusercontent.com/a-/AOh14GjGyr69ecECqZOZ-_5-o1v7SpP5TdLQGU7-pHl4UQ=s64",
      "userId": "10789993073610145432"
     },
     "user_tz": -60
    },
    "id": "FhgHPxcavvBm",
    "outputId": "02ff6fd8-cc34-4452-b09c-1f52037bf0bb"
   },
   "outputs": [
    {
     "name": "stdout",
     "output_type": "stream",
     "text": [
      "103 ms ± 1.43 ms per loop (mean ± std. dev. of 7 runs, 10 loops each)\n"
     ]
    }
   ],
   "source": [
    "length2 = 10000\n",
    "xs_small = xs.iloc[0:length2]\n",
    "def assignments(len, x):\n",
    "  x2 = pd.Series([0.0] * len)\n",
    "  for i in range(len): \n",
    "    x2[i] = x[i] * x[i]\n",
    "  return x2\n",
    "%timeit x2s_small = assignments(length2, xs_small)\n"
   ]
  },
  {
   "cell_type": "markdown",
   "metadata": {
    "id": "WeZFyCsp8VOB"
   },
   "source": [
    "Finally the code below is even worse. It appends individual squares to a Series which starts with size 1. We run it on even smaller list of size 1000."
   ]
  },
  {
   "cell_type": "code",
   "execution_count": 41,
   "metadata": {
    "colab": {
     "base_uri": "https://localhost:8080/"
    },
    "executionInfo": {
     "elapsed": 3908,
     "status": "ok",
     "timestamp": 1615829713827,
     "user": {
      "displayName": "Brona Brejova",
      "photoUrl": "https://lh3.googleusercontent.com/a-/AOh14GjGyr69ecECqZOZ-_5-o1v7SpP5TdLQGU7-pHl4UQ=s64",
      "userId": "10789993073610145432"
     },
     "user_tz": -60
    },
    "id": "2ZBrEYDqkO_S",
    "outputId": "ebfc575b-f6c3-43ca-8244-6fc865fd4ab2"
   },
   "outputs": [
    {
     "name": "stdout",
     "output_type": "stream",
     "text": [
      "169 ms ± 4.2 ms per loop (mean ± std. dev. of 7 runs, 10 loops each)\n"
     ]
    }
   ],
   "source": [
    "length3 = 1000\n",
    "xs_tiny = xs.iloc[0:length3]\n",
    "def assignments(len, x):\n",
    "  x2 = pd.Series([0.0])\n",
    "  for i in range(len): \n",
    "    x2[i] = x[i] * x[i]\n",
    "  return x2\n",
    "%timeit x2s_tiny = assignments(length3, xs_tiny)"
   ]
  }
 ],
 "metadata": {
  "colab": {
   "collapsed_sections": [],
   "name": "L05_Pandas_2.ipynb",
   "provenance": [],
   "toc_visible": true
  },
  "kernelspec": {
   "display_name": "venv",
   "language": "python",
   "name": "python3"
  },
  "language_info": {
   "codemirror_mode": {
    "name": "ipython",
    "version": 3
   },
   "file_extension": ".py",
   "mimetype": "text/x-python",
   "name": "python",
   "nbconvert_exporter": "python",
   "pygments_lexer": "ipython3",
   "version": "3.10.12"
  }
 },
 "nbformat": 4,
 "nbformat_minor": 1
}
