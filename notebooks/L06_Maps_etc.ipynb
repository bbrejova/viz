{
 "cells": [
  {
   "cell_type": "markdown",
   "metadata": {
    "id": "SF_d4ILW5CTx"
   },
   "source": [
    "# Lecture 6: Visualizing maps, graphs, time series and texts\n",
    "\n",
    "[Data Visualization · 1-DAV-105](http://bbrejova.github.io/viz/)\n",
    "\n",
    "Lecture by Broňa Brejová"
   ]
  },
  {
   "cell_type": "markdown",
   "metadata": {},
   "source": [
    "## Maps\n",
    "\n",
    "* Each map is a visualization of data about location of objects\n",
    "* Rich set of conventions about colors and symbols, orientation etc. allows to quickly understand a map\n",
    "\n",
    "https://en.wikipedia.org/wiki/Map#/media/File:Topographic_map_example.png\n",
    "\n",
    "https://en.wikipedia.org/wiki/Europe#/media/File:Herman_Moll_A_New_Map_of_Europe_According_to_the_Newest_Observations_1721.JPG\n",
    "\n",
    "### Map projection (kartografické zobrazenie)\n",
    "\n",
    "* Tranformation to project surface of a globe onto a plane.\n",
    "* Each project introduces **some distortion**.\n",
    "* **Conformal projections** preserve local angles, but distort other aspects, such as lengths, areas etc., \n",
    "* For example, Mercator projection (1569) was developed for navigation, but shows Greenland bigger than Africa, but in fact it is 14x smaller.\n",
    "* **Equal-area projection** preserves areas (cannot be conformal at the same time).\n",
    "* Orthographic projection is similar to a photograph of the Earth from a very distant point.\n",
    "\n",
    "Recommended projections (Cairo, The Truthful Art):\n",
    "\n",
    "* Whole world: e.g. Mollweide equal-area projection (1805)\n",
    "* Continents / large countries: e.g. Lambert azimuthal equal-area projection (1772)\n",
    "* Countries in mid-latitudes: e.g. Albers equal-area conic projection (1805)\n",
    "* Polar regions: e.g. Lambert azimuthal equal-area projection (1772)"
   ]
  },
  {
   "cell_type": "code",
   "execution_count": 5,
   "metadata": {
    "colab": {
     "base_uri": "https://localhost:8080/"
    },
    "executionInfo": {
     "elapsed": 6835,
     "status": "ok",
     "timestamp": 1618922588995,
     "user": {
      "displayName": "Brona Brejova",
      "photoUrl": "https://lh3.googleusercontent.com/a-/AOh14GjGyr69ecECqZOZ-_5-o1v7SpP5TdLQGU7-pHl4UQ=s64",
      "userId": "10789993073610145432"
     },
     "user_tz": -120
    },
    "id": "7POgLzFJ-qI0",
    "outputId": "d99a83ce-3f3f-43d1-f5d2-6363750273f6"
   },
   "outputs": [
    {
     "name": "stdout",
     "output_type": "stream",
     "text": [
      "Requirement already satisfied: geopandas in /home/bbrejova/viz/notebooks/venv/lib/python3.8/site-packages (0.12.2)\n",
      "Collecting geoplot\n",
      "  Using cached geoplot-0.5.1-py3-none-any.whl (28 kB)\n",
      "Requirement already satisfied: pandas>=1.0.0 in /home/bbrejova/viz/notebooks/venv/lib/python3.8/site-packages (from geopandas) (1.5.3)\n",
      "Requirement already satisfied: pyproj>=2.6.1.post1 in /home/bbrejova/viz/notebooks/venv/lib/python3.8/site-packages (from geopandas) (3.4.1)\n",
      "Requirement already satisfied: fiona>=1.8 in /home/bbrejova/viz/notebooks/venv/lib/python3.8/site-packages (from geopandas) (1.9.1)\n",
      "Requirement already satisfied: shapely>=1.7 in /home/bbrejova/viz/notebooks/venv/lib/python3.8/site-packages (from geopandas) (2.0.1)\n",
      "Requirement already satisfied: packaging in /home/bbrejova/viz/notebooks/venv/lib/python3.8/site-packages (from geopandas) (23.0)\n",
      "Requirement already satisfied: matplotlib>=3.1.2 in /home/bbrejova/viz/notebooks/venv/lib/python3.8/site-packages (from geoplot) (3.6.3)\n",
      "Collecting mapclassify>=2.1\n",
      "  Using cached mapclassify-2.5.0-py3-none-any.whl (39 kB)\n",
      "Collecting contextily>=1.0.0\n",
      "  Using cached contextily-1.3.0-py3-none-any.whl (16 kB)\n",
      "Collecting cartopy\n",
      "  Using cached Cartopy-0.21.1.tar.gz (10.9 MB)\n",
      "  Installing build dependencies ... \u001b[?25ldone\n",
      "\u001b[?25h  Getting requirements to build wheel ... \u001b[?25ldone\n",
      "\u001b[?25h    Preparing wheel metadata ... \u001b[?25ldone\n",
      "\u001b[?25hRequirement already satisfied: seaborn in /home/bbrejova/viz/notebooks/venv/lib/python3.8/site-packages (from geoplot) (0.12.2)\n",
      "Requirement already satisfied: numpy>=1.20.3; python_version < \"3.10\" in /home/bbrejova/viz/notebooks/venv/lib/python3.8/site-packages (from pandas>=1.0.0->geopandas) (1.24.2)\n",
      "Requirement already satisfied: python-dateutil>=2.8.1 in /home/bbrejova/viz/notebooks/venv/lib/python3.8/site-packages (from pandas>=1.0.0->geopandas) (2.8.2)\n",
      "Requirement already satisfied: pytz>=2020.1 in /home/bbrejova/viz/notebooks/venv/lib/python3.8/site-packages (from pandas>=1.0.0->geopandas) (2022.7.1)\n",
      "Requirement already satisfied: certifi in /home/bbrejova/viz/notebooks/venv/lib/python3.8/site-packages (from pyproj>=2.6.1.post1->geopandas) (2022.12.7)\n",
      "Requirement already satisfied: attrs>=19.2.0 in /home/bbrejova/viz/notebooks/venv/lib/python3.8/site-packages (from fiona>=1.8->geopandas) (22.2.0)\n",
      "Requirement already satisfied: munch>=2.3.2 in /home/bbrejova/viz/notebooks/venv/lib/python3.8/site-packages (from fiona>=1.8->geopandas) (2.5.0)\n",
      "Requirement already satisfied: setuptools in /home/bbrejova/viz/notebooks/venv/lib/python3.8/site-packages (from fiona>=1.8->geopandas) (44.0.0)\n",
      "Requirement already satisfied: click-plugins>=1.0 in /home/bbrejova/viz/notebooks/venv/lib/python3.8/site-packages (from fiona>=1.8->geopandas) (1.1.1)\n",
      "Requirement already satisfied: click~=8.0 in /home/bbrejova/viz/notebooks/venv/lib/python3.8/site-packages (from fiona>=1.8->geopandas) (8.1.3)\n",
      "Requirement already satisfied: cligj>=0.5 in /home/bbrejova/viz/notebooks/venv/lib/python3.8/site-packages (from fiona>=1.8->geopandas) (0.7.2)\n",
      "Requirement already satisfied: cycler>=0.10 in /home/bbrejova/viz/notebooks/venv/lib/python3.8/site-packages (from matplotlib>=3.1.2->geoplot) (0.11.0)\n",
      "Requirement already satisfied: pyparsing>=2.2.1 in /home/bbrejova/viz/notebooks/venv/lib/python3.8/site-packages (from matplotlib>=3.1.2->geoplot) (3.0.9)\n",
      "Requirement already satisfied: fonttools>=4.22.0 in /home/bbrejova/viz/notebooks/venv/lib/python3.8/site-packages (from matplotlib>=3.1.2->geoplot) (4.38.0)\n",
      "Requirement already satisfied: kiwisolver>=1.0.1 in /home/bbrejova/viz/notebooks/venv/lib/python3.8/site-packages (from matplotlib>=3.1.2->geoplot) (1.4.4)\n",
      "Requirement already satisfied: contourpy>=1.0.1 in /home/bbrejova/viz/notebooks/venv/lib/python3.8/site-packages (from matplotlib>=3.1.2->geoplot) (1.0.7)\n",
      "Requirement already satisfied: pillow>=6.2.0 in /home/bbrejova/viz/notebooks/venv/lib/python3.8/site-packages (from matplotlib>=3.1.2->geoplot) (9.4.0)\n",
      "Collecting scikit-learn\n",
      "  Using cached scikit_learn-1.2.2-cp38-cp38-manylinux_2_17_x86_64.manylinux2014_x86_64.whl (9.8 MB)\n",
      "Requirement already satisfied: scipy>=1.0 in /home/bbrejova/viz/notebooks/venv/lib/python3.8/site-packages (from mapclassify>=2.1->geoplot) (1.10.1)\n",
      "Collecting networkx\n",
      "  Using cached networkx-3.0-py3-none-any.whl (2.0 MB)\n",
      "Collecting requests\n",
      "  Using cached requests-2.28.2-py3-none-any.whl (62 kB)\n",
      "Collecting rasterio\n",
      "  Using cached rasterio-1.3.6-cp38-cp38-manylinux_2_17_x86_64.manylinux2014_x86_64.whl (20.1 MB)\n",
      "Collecting geopy\n",
      "  Using cached geopy-2.3.0-py3-none-any.whl (119 kB)\n",
      "Collecting xyzservices\n",
      "  Using cached xyzservices-2023.2.0-py3-none-any.whl (55 kB)\n",
      "Collecting mercantile\n",
      "  Using cached mercantile-1.2.1-py3-none-any.whl (14 kB)\n",
      "Collecting joblib\n",
      "  Using cached joblib-1.2.0-py3-none-any.whl (297 kB)\n",
      "Collecting pyshp>=2.1\n",
      "  Using cached pyshp-2.3.1-py2.py3-none-any.whl (46 kB)\n",
      "Requirement already satisfied: six>=1.5 in /home/bbrejova/viz/notebooks/venv/lib/python3.8/site-packages (from python-dateutil>=2.8.1->pandas>=1.0.0->geopandas) (1.16.0)\n",
      "Collecting threadpoolctl>=2.0.0\n",
      "  Using cached threadpoolctl-3.1.0-py3-none-any.whl (14 kB)\n",
      "Requirement already satisfied: idna<4,>=2.5 in /home/bbrejova/viz/notebooks/venv/lib/python3.8/site-packages (from requests->contextily>=1.0.0->geoplot) (3.4)\n",
      "Collecting charset-normalizer<4,>=2\n",
      "  Using cached charset_normalizer-3.1.0-cp38-cp38-manylinux_2_17_x86_64.manylinux2014_x86_64.whl (195 kB)\n",
      "Collecting urllib3<1.27,>=1.21.1\n",
      "  Using cached urllib3-1.26.15-py2.py3-none-any.whl (140 kB)\n",
      "Collecting snuggs>=1.4.1\n",
      "  Using cached snuggs-1.4.7-py3-none-any.whl (5.4 kB)\n",
      "Collecting affine\n",
      "  Using cached affine-2.4.0-py3-none-any.whl (15 kB)\n",
      "Collecting geographiclib<3,>=1.52\n",
      "  Using cached geographiclib-2.0-py3-none-any.whl (40 kB)\n",
      "Building wheels for collected packages: cartopy\n",
      "  Building wheel for cartopy (PEP 517) ... \u001b[?25lerror\n",
      "\u001b[31m  ERROR: Command errored out with exit status 1:\n",
      "   command: /home/bbrejova/viz/notebooks/venv/bin/python3 /tmp/tmp3oj2iecw build_wheel /tmp/tmpeaivajve\n",
      "       cwd: /tmp/pip-install-tkoldlx3/cartopy\n",
      "  Complete output (287 lines):\n",
      "  running bdist_wheel\n",
      "  running build\n",
      "  running build_py\n",
      "  creating build\n",
      "  creating build/lib.linux-x86_64-cpython-38\n",
      "  creating build/lib.linux-x86_64-cpython-38/cartopy\n",
      "  copying lib/cartopy/_epsg.py -> build/lib.linux-x86_64-cpython-38/cartopy\n",
      "  copying lib/cartopy/img_transform.py -> build/lib.linux-x86_64-cpython-38/cartopy\n",
      "  copying lib/cartopy/vector_transform.py -> build/lib.linux-x86_64-cpython-38/cartopy\n",
      "  copying lib/cartopy/geodesic.py -> build/lib.linux-x86_64-cpython-38/cartopy\n",
      "  copying lib/cartopy/__init__.py -> build/lib.linux-x86_64-cpython-38/cartopy\n",
      "  copying lib/cartopy/util.py -> build/lib.linux-x86_64-cpython-38/cartopy\n",
      "  copying lib/cartopy/crs.py -> build/lib.linux-x86_64-cpython-38/cartopy\n",
      "  copying lib/cartopy/_version.py -> build/lib.linux-x86_64-cpython-38/cartopy\n",
      "  creating build/lib.linux-x86_64-cpython-38/cartopy/mpl\n",
      "  copying lib/cartopy/mpl/feature_artist.py -> build/lib.linux-x86_64-cpython-38/cartopy/mpl\n",
      "  copying lib/cartopy/mpl/style.py -> build/lib.linux-x86_64-cpython-38/cartopy/mpl\n",
      "  copying lib/cartopy/mpl/patch.py -> build/lib.linux-x86_64-cpython-38/cartopy/mpl\n",
      "  copying lib/cartopy/mpl/contour.py -> build/lib.linux-x86_64-cpython-38/cartopy/mpl\n",
      "  copying lib/cartopy/mpl/__init__.py -> build/lib.linux-x86_64-cpython-38/cartopy/mpl\n",
      "  copying lib/cartopy/mpl/geocollection.py -> build/lib.linux-x86_64-cpython-38/cartopy/mpl\n",
      "  copying lib/cartopy/mpl/ticker.py -> build/lib.linux-x86_64-cpython-38/cartopy/mpl\n",
      "  copying lib/cartopy/mpl/geoaxes.py -> build/lib.linux-x86_64-cpython-38/cartopy/mpl\n",
      "  copying lib/cartopy/mpl/gridliner.py -> build/lib.linux-x86_64-cpython-38/cartopy/mpl\n",
      "  copying lib/cartopy/mpl/slippy_image_artist.py -> build/lib.linux-x86_64-cpython-38/cartopy/mpl\n",
      "  copying lib/cartopy/mpl/clip_path.py -> build/lib.linux-x86_64-cpython-38/cartopy/mpl\n",
      "  creating build/lib.linux-x86_64-cpython-38/cartopy/io\n",
      "  copying lib/cartopy/io/ogc_clients.py -> build/lib.linux-x86_64-cpython-38/cartopy/io\n",
      "  copying lib/cartopy/io/img_nest.py -> build/lib.linux-x86_64-cpython-38/cartopy/io\n",
      "  copying lib/cartopy/io/__init__.py -> build/lib.linux-x86_64-cpython-38/cartopy/io\n",
      "  copying lib/cartopy/io/srtm.py -> build/lib.linux-x86_64-cpython-38/cartopy/io\n",
      "  copying lib/cartopy/io/shapereader.py -> build/lib.linux-x86_64-cpython-38/cartopy/io\n",
      "  copying lib/cartopy/io/img_tiles.py -> build/lib.linux-x86_64-cpython-38/cartopy/io\n",
      "  creating build/lib.linux-x86_64-cpython-38/cartopy/feature\n",
      "  copying lib/cartopy/feature/nightshade.py -> build/lib.linux-x86_64-cpython-38/cartopy/feature\n",
      "  copying lib/cartopy/feature/__init__.py -> build/lib.linux-x86_64-cpython-38/cartopy/feature\n",
      "  creating build/lib.linux-x86_64-cpython-38/cartopy/tests\n",
      "  copying lib/cartopy/tests/test_img_nest.py -> build/lib.linux-x86_64-cpython-38/cartopy/tests\n",
      "  copying lib/cartopy/tests/test_util.py -> build/lib.linux-x86_64-cpython-38/cartopy/tests\n",
      "  copying lib/cartopy/tests/test_features.py -> build/lib.linux-x86_64-cpython-38/cartopy/tests\n",
      "  copying lib/cartopy/tests/test_coding_standards.py -> build/lib.linux-x86_64-cpython-38/cartopy/tests\n",
      "  copying lib/cartopy/tests/test_crs_transform_vectors.py -> build/lib.linux-x86_64-cpython-38/cartopy/tests\n",
      "  copying lib/cartopy/tests/test_linear_ring.py -> build/lib.linux-x86_64-cpython-38/cartopy/tests\n",
      "  copying lib/cartopy/tests/conftest.py -> build/lib.linux-x86_64-cpython-38/cartopy/tests\n",
      "  copying lib/cartopy/tests/__init__.py -> build/lib.linux-x86_64-cpython-38/cartopy/tests\n",
      "  copying lib/cartopy/tests/test_img_tiles.py -> build/lib.linux-x86_64-cpython-38/cartopy/tests\n",
      "  copying lib/cartopy/tests/test_crs.py -> build/lib.linux-x86_64-cpython-38/cartopy/tests\n",
      "  copying lib/cartopy/tests/test_img_transform.py -> build/lib.linux-x86_64-cpython-38/cartopy/tests\n",
      "  copying lib/cartopy/tests/test_vector_transform.py -> build/lib.linux-x86_64-cpython-38/cartopy/tests\n",
      "  copying lib/cartopy/tests/test_polygon.py -> build/lib.linux-x86_64-cpython-38/cartopy/tests\n",
      "  copying lib/cartopy/tests/test_line_string.py -> build/lib.linux-x86_64-cpython-38/cartopy/tests\n",
      "  copying lib/cartopy/tests/test_coastline.py -> build/lib.linux-x86_64-cpython-38/cartopy/tests\n",
      "  copying lib/cartopy/tests/test_geodesic.py -> build/lib.linux-x86_64-cpython-38/cartopy/tests\n",
      "  copying lib/cartopy/tests/test_shapereader.py -> build/lib.linux-x86_64-cpython-38/cartopy/tests\n",
      "  creating build/lib.linux-x86_64-cpython-38/cartopy/tests/mpl\n",
      "  copying lib/cartopy/tests/mpl/test_set_extent.py -> build/lib.linux-x86_64-cpython-38/cartopy/tests/mpl\n",
      "  copying lib/cartopy/tests/mpl/test_features.py -> build/lib.linux-x86_64-cpython-38/cartopy/tests/mpl\n",
      "  copying lib/cartopy/tests/mpl/test_examples.py -> build/lib.linux-x86_64-cpython-38/cartopy/tests/mpl\n",
      "  copying lib/cartopy/tests/mpl/test_ticks.py -> build/lib.linux-x86_64-cpython-38/cartopy/tests/mpl\n",
      "  copying lib/cartopy/tests/mpl/test_contour.py -> build/lib.linux-x86_64-cpython-38/cartopy/tests/mpl\n",
      "  copying lib/cartopy/tests/mpl/test_style.py -> build/lib.linux-x86_64-cpython-38/cartopy/tests/mpl\n",
      "  copying lib/cartopy/tests/mpl/test_mpl_integration.py -> build/lib.linux-x86_64-cpython-38/cartopy/tests/mpl\n",
      "  copying lib/cartopy/tests/mpl/test_images.py -> build/lib.linux-x86_64-cpython-38/cartopy/tests/mpl\n",
      "  copying lib/cartopy/tests/mpl/test_gridliner.py -> build/lib.linux-x86_64-cpython-38/cartopy/tests/mpl\n",
      "  copying lib/cartopy/tests/mpl/conftest.py -> build/lib.linux-x86_64-cpython-38/cartopy/tests/mpl\n",
      "  copying lib/cartopy/tests/mpl/__init__.py -> build/lib.linux-x86_64-cpython-38/cartopy/tests/mpl\n",
      "  copying lib/cartopy/tests/mpl/test_web_services.py -> build/lib.linux-x86_64-cpython-38/cartopy/tests/mpl\n",
      "  copying lib/cartopy/tests/mpl/test_patch.py -> build/lib.linux-x86_64-cpython-38/cartopy/tests/mpl\n",
      "  copying lib/cartopy/tests/mpl/test_plots.py -> build/lib.linux-x86_64-cpython-38/cartopy/tests/mpl\n",
      "  copying lib/cartopy/tests/mpl/test_pseudo_color.py -> build/lib.linux-x86_64-cpython-38/cartopy/tests/mpl\n",
      "  copying lib/cartopy/tests/mpl/test_feature_artist.py -> build/lib.linux-x86_64-cpython-38/cartopy/tests/mpl\n",
      "  copying lib/cartopy/tests/mpl/test_crs.py -> build/lib.linux-x86_64-cpython-38/cartopy/tests/mpl\n",
      "  copying lib/cartopy/tests/mpl/test_img_transform.py -> build/lib.linux-x86_64-cpython-38/cartopy/tests/mpl\n",
      "  copying lib/cartopy/tests/mpl/test_nightshade.py -> build/lib.linux-x86_64-cpython-38/cartopy/tests/mpl\n",
      "  copying lib/cartopy/tests/mpl/test_ticker.py -> build/lib.linux-x86_64-cpython-38/cartopy/tests/mpl\n",
      "  copying lib/cartopy/tests/mpl/test_shapely_to_mpl.py -> build/lib.linux-x86_64-cpython-38/cartopy/tests/mpl\n",
      "  copying lib/cartopy/tests/mpl/test_caching.py -> build/lib.linux-x86_64-cpython-38/cartopy/tests/mpl\n",
      "  copying lib/cartopy/tests/mpl/test_quiver.py -> build/lib.linux-x86_64-cpython-38/cartopy/tests/mpl\n",
      "  copying lib/cartopy/tests/mpl/test_axes.py -> build/lib.linux-x86_64-cpython-38/cartopy/tests/mpl\n",
      "  creating build/lib.linux-x86_64-cpython-38/cartopy/tests/crs\n",
      "  copying lib/cartopy/tests/crs/test_nearside_perspective.py -> build/lib.linux-x86_64-cpython-38/cartopy/tests/crs\n",
      "  copying lib/cartopy/tests/crs/test_miller.py -> build/lib.linux-x86_64-cpython-38/cartopy/tests/crs\n",
      "  copying lib/cartopy/tests/crs/test_stereographic.py -> build/lib.linux-x86_64-cpython-38/cartopy/tests/crs\n",
      "  copying lib/cartopy/tests/crs/test_rotated_pole.py -> build/lib.linux-x86_64-cpython-38/cartopy/tests/crs\n",
      "  copying lib/cartopy/tests/crs/test_lambert_azimuthal_equal_area.py -> build/lib.linux-x86_64-cpython-38/cartopy/tests/crs\n",
      "  copying lib/cartopy/tests/crs/test_equidistant_conic.py -> build/lib.linux-x86_64-cpython-38/cartopy/tests/crs\n",
      "  copying lib/cartopy/tests/crs/test_mercator.py -> build/lib.linux-x86_64-cpython-38/cartopy/tests/crs\n",
      "  copying lib/cartopy/tests/crs/test_interrupted_goode_homolosine.py -> build/lib.linux-x86_64-cpython-38/cartopy/tests/crs\n",
      "  copying lib/cartopy/tests/crs/__init__.py -> build/lib.linux-x86_64-cpython-38/cartopy/tests/crs\n",
      "  copying lib/cartopy/tests/crs/test_albers_equal_area.py -> build/lib.linux-x86_64-cpython-38/cartopy/tests/crs\n",
      "  copying lib/cartopy/tests/crs/test_eckert.py -> build/lib.linux-x86_64-cpython-38/cartopy/tests/crs\n",
      "  copying lib/cartopy/tests/crs/test_transverse_mercator.py -> build/lib.linux-x86_64-cpython-38/cartopy/tests/crs\n",
      "  copying lib/cartopy/tests/crs/test_geostationary.py -> build/lib.linux-x86_64-cpython-38/cartopy/tests/crs\n",
      "  copying lib/cartopy/tests/crs/test_orthographic.py -> build/lib.linux-x86_64-cpython-38/cartopy/tests/crs\n",
      "  copying lib/cartopy/tests/crs/test_rotated_geodetic.py -> build/lib.linux-x86_64-cpython-38/cartopy/tests/crs\n",
      "  copying lib/cartopy/tests/crs/test_mollweide.py -> build/lib.linux-x86_64-cpython-38/cartopy/tests/crs\n",
      "  copying lib/cartopy/tests/crs/test_utm.py -> build/lib.linux-x86_64-cpython-38/cartopy/tests/crs\n",
      "  copying lib/cartopy/tests/crs/test_sinusoidal.py -> build/lib.linux-x86_64-cpython-38/cartopy/tests/crs\n",
      "  copying lib/cartopy/tests/crs/test_azimuthal_equidistant.py -> build/lib.linux-x86_64-cpython-38/cartopy/tests/crs\n",
      "  copying lib/cartopy/tests/crs/test_equal_earth.py -> build/lib.linux-x86_64-cpython-38/cartopy/tests/crs\n",
      "  copying lib/cartopy/tests/crs/test_lambert_conformal.py -> build/lib.linux-x86_64-cpython-38/cartopy/tests/crs\n",
      "  copying lib/cartopy/tests/crs/test_gnomonic.py -> build/lib.linux-x86_64-cpython-38/cartopy/tests/crs\n",
      "  copying lib/cartopy/tests/crs/test_robinson.py -> build/lib.linux-x86_64-cpython-38/cartopy/tests/crs\n",
      "  copying lib/cartopy/tests/crs/helpers.py -> build/lib.linux-x86_64-cpython-38/cartopy/tests/crs\n",
      "  creating build/lib.linux-x86_64-cpython-38/cartopy/tests/io\n",
      "  copying lib/cartopy/tests/io/test_ogc_clients.py -> build/lib.linux-x86_64-cpython-38/cartopy/tests/io\n",
      "  copying lib/cartopy/tests/io/__init__.py -> build/lib.linux-x86_64-cpython-38/cartopy/tests/io\n",
      "  copying lib/cartopy/tests/io/test_srtm.py -> build/lib.linux-x86_64-cpython-38/cartopy/tests/io\n",
      "  copying lib/cartopy/tests/io/test_downloaders.py -> build/lib.linux-x86_64-cpython-38/cartopy/tests/io\n",
      "  creating build/lib.linux-x86_64-cpython-38/cartopy/tests/feature\n",
      "  copying lib/cartopy/tests/feature/__init__.py -> build/lib.linux-x86_64-cpython-38/cartopy/tests/feature\n",
      "  copying lib/cartopy/tests/feature/test_nightshade.py -> build/lib.linux-x86_64-cpython-38/cartopy/tests/feature\n",
      "  creating build/lib.linux-x86_64-cpython-38/cartopy/tests/mpl/baseline_images\n",
      "  creating build/lib.linux-x86_64-cpython-38/cartopy/tests/mpl/baseline_images/mpl\n",
      "  creating build/lib.linux-x86_64-cpython-38/cartopy/tests/mpl/baseline_images/mpl/test_features\n",
      "  copying lib/cartopy/tests/mpl/baseline_images/mpl/test_features/natural_earth.png -> build/lib.linux-x86_64-cpython-38/cartopy/tests/mpl/baseline_images/mpl/test_features\n",
      "  copying lib/cartopy/tests/mpl/baseline_images/mpl/test_features/natural_earth_custom.png -> build/lib.linux-x86_64-cpython-38/cartopy/tests/mpl/baseline_images/mpl/test_features\n",
      "  copying lib/cartopy/tests/mpl/baseline_images/mpl/test_features/wfs.png -> build/lib.linux-x86_64-cpython-38/cartopy/tests/mpl/baseline_images/mpl/test_features\n",
      "  copying lib/cartopy/tests/mpl/baseline_images/mpl/test_features/gshhs_coastlines.png -> build/lib.linux-x86_64-cpython-38/cartopy/tests/mpl/baseline_images/mpl/test_features\n",
      "  creating build/lib.linux-x86_64-cpython-38/cartopy/tests/mpl/baseline_images/mpl/test_shapely_to_mpl\n",
      "  copying lib/cartopy/tests/mpl/baseline_images/mpl/test_shapely_to_mpl/poly_interiors.png -> build/lib.linux-x86_64-cpython-38/cartopy/tests/mpl/baseline_images/mpl/test_shapely_to_mpl\n",
      "  copying lib/cartopy/tests/mpl/baseline_images/mpl/test_shapely_to_mpl/contour_with_interiors.png -> build/lib.linux-x86_64-cpython-38/cartopy/tests/mpl/baseline_images/mpl/test_shapely_to_mpl\n",
      "  creating build/lib.linux-x86_64-cpython-38/cartopy/tests/mpl/baseline_images/mpl/test_mpl_integration\n",
      "  copying lib/cartopy/tests/mpl/baseline_images/mpl/test_mpl_integration/test_global_map_Orthographic.png -> build/lib.linux-x86_64-cpython-38/cartopy/tests/mpl/baseline_images/mpl/test_mpl_integration\n",
      "  copying lib/cartopy/tests/mpl/baseline_images/mpl/test_mpl_integration/test_global_map_EckertI.png -> build/lib.linux-x86_64-cpython-38/cartopy/tests/mpl/baseline_images/mpl/test_mpl_integration\n",
      "  copying lib/cartopy/tests/mpl/baseline_images/mpl/test_mpl_integration/test_global_map_EckertIV.png -> build/lib.linux-x86_64-cpython-38/cartopy/tests/mpl/baseline_images/mpl/test_mpl_integration\n",
      "  copying lib/cartopy/tests/mpl/baseline_images/mpl/test_mpl_integration/global_contourf_wrap.png -> build/lib.linux-x86_64-cpython-38/cartopy/tests/mpl/baseline_images/mpl/test_mpl_integration\n",
      "  copying lib/cartopy/tests/mpl/baseline_images/mpl/test_mpl_integration/pcolormesh_limited_area_wrap.png -> build/lib.linux-x86_64-cpython-38/cartopy/tests/mpl/baseline_images/mpl/test_mpl_integration\n",
      "  copying lib/cartopy/tests/mpl/baseline_images/mpl/test_mpl_integration/pcolormesh_goode_wrap.png -> build/lib.linux-x86_64-cpython-38/cartopy/tests/mpl/baseline_images/mpl/test_mpl_integration\n",
      "  copying lib/cartopy/tests/mpl/baseline_images/mpl/test_mpl_integration/test_global_map_SouthPolarStereo.png -> build/lib.linux-x86_64-cpython-38/cartopy/tests/mpl/baseline_images/mpl/test_mpl_integration\n",
      "  copying lib/cartopy/tests/mpl/baseline_images/mpl/test_mpl_integration/test_global_map_Stereographic.png -> build/lib.linux-x86_64-cpython-38/cartopy/tests/mpl/baseline_images/mpl/test_mpl_integration\n",
      "  copying lib/cartopy/tests/mpl/baseline_images/mpl/test_mpl_integration/test_global_map_TransverseMercator.png -> build/lib.linux-x86_64-cpython-38/cartopy/tests/mpl/baseline_images/mpl/test_mpl_integration\n",
      "  copying lib/cartopy/tests/mpl/baseline_images/mpl/test_mpl_integration/test_global_map_EckertII.png -> build/lib.linux-x86_64-cpython-38/cartopy/tests/mpl/baseline_images/mpl/test_mpl_integration\n",
      "  copying lib/cartopy/tests/mpl/baseline_images/mpl/test_mpl_integration/barbs_1d.png -> build/lib.linux-x86_64-cpython-38/cartopy/tests/mpl/baseline_images/mpl/test_mpl_integration\n",
      "  copying lib/cartopy/tests/mpl/baseline_images/mpl/test_mpl_integration/test_global_map_RotatedPole.png -> build/lib.linux-x86_64-cpython-38/cartopy/tests/mpl/baseline_images/mpl/test_mpl_integration\n",
      "  copying lib/cartopy/tests/mpl/baseline_images/mpl/test_mpl_integration/test_global_map_EckertVI.png -> build/lib.linux-x86_64-cpython-38/cartopy/tests/mpl/baseline_images/mpl/test_mpl_integration\n",
      "  copying lib/cartopy/tests/mpl/baseline_images/mpl/test_mpl_integration/pcolormesh_single_column_wrap.png -> build/lib.linux-x86_64-cpython-38/cartopy/tests/mpl/baseline_images/mpl/test_mpl_integration\n",
      "  copying lib/cartopy/tests/mpl/baseline_images/mpl/test_mpl_integration/test_global_map_OSGB.png -> build/lib.linux-x86_64-cpython-38/cartopy/tests/mpl/baseline_images/mpl/test_mpl_integration\n",
      "  copying lib/cartopy/tests/mpl/baseline_images/mpl/test_mpl_integration/test_global_map_InterruptedGoodeHomolosine.png -> build/lib.linux-x86_64-cpython-38/cartopy/tests/mpl/baseline_images/mpl/test_mpl_integration\n",
      "  copying lib/cartopy/tests/mpl/baseline_images/mpl/test_mpl_integration/test_global_map_Gnomonic.png -> build/lib.linux-x86_64-cpython-38/cartopy/tests/mpl/baseline_images/mpl/test_mpl_integration\n",
      "  copying lib/cartopy/tests/mpl/baseline_images/mpl/test_mpl_integration/test_global_map_PlateCarree.png -> build/lib.linux-x86_64-cpython-38/cartopy/tests/mpl/baseline_images/mpl/test_mpl_integration\n",
      "  copying lib/cartopy/tests/mpl/baseline_images/mpl/test_mpl_integration/test_global_map_LambertCylindrical.png -> build/lib.linux-x86_64-cpython-38/cartopy/tests/mpl/baseline_images/mpl/test_mpl_integration\n",
      "  copying lib/cartopy/tests/mpl/baseline_images/mpl/test_mpl_integration/pcolormesh_global_wrap3.png -> build/lib.linux-x86_64-cpython-38/cartopy/tests/mpl/baseline_images/mpl/test_mpl_integration\n",
      "  copying lib/cartopy/tests/mpl/baseline_images/mpl/test_mpl_integration/pcolormesh_global_wrap2.png -> build/lib.linux-x86_64-cpython-38/cartopy/tests/mpl/baseline_images/mpl/test_mpl_integration\n",
      "  copying lib/cartopy/tests/mpl/baseline_images/mpl/test_mpl_integration/barbs_1d_transformed.png -> build/lib.linux-x86_64-cpython-38/cartopy/tests/mpl/baseline_images/mpl/test_mpl_integration\n",
      "  copying lib/cartopy/tests/mpl/baseline_images/mpl/test_mpl_integration/simple_global.png -> build/lib.linux-x86_64-cpython-38/cartopy/tests/mpl/baseline_images/mpl/test_mpl_integration\n",
      "  copying lib/cartopy/tests/mpl/baseline_images/mpl/test_mpl_integration/quiver_regrid.png -> build/lib.linux-x86_64-cpython-38/cartopy/tests/mpl/baseline_images/mpl/test_mpl_integration\n",
      "  copying lib/cartopy/tests/mpl/baseline_images/mpl/test_mpl_integration/pcolormesh_mercator_wrap.png -> build/lib.linux-x86_64-cpython-38/cartopy/tests/mpl/baseline_images/mpl/test_mpl_integration\n",
      "  copying lib/cartopy/tests/mpl/baseline_images/mpl/test_mpl_integration/global_hexbin_wrap.png -> build/lib.linux-x86_64-cpython-38/cartopy/tests/mpl/baseline_images/mpl/test_mpl_integration\n",
      "  copying lib/cartopy/tests/mpl/baseline_images/mpl/test_mpl_integration/global_scatter_wrap.png -> build/lib.linux-x86_64-cpython-38/cartopy/tests/mpl/baseline_images/mpl/test_mpl_integration\n",
      "  copying lib/cartopy/tests/mpl/baseline_images/mpl/test_mpl_integration/test_global_map_NorthPolarStereo.png -> build/lib.linux-x86_64-cpython-38/cartopy/tests/mpl/baseline_images/mpl/test_mpl_integration\n",
      "  copying lib/cartopy/tests/mpl/baseline_images/mpl/test_mpl_integration/test_global_map_EqualEarth.png -> build/lib.linux-x86_64-cpython-38/cartopy/tests/mpl/baseline_images/mpl/test_mpl_integration\n",
      "  copying lib/cartopy/tests/mpl/baseline_images/mpl/test_mpl_integration/test_global_map_Miller.png -> build/lib.linux-x86_64-cpython-38/cartopy/tests/mpl/baseline_images/mpl/test_mpl_integration\n",
      "  copying lib/cartopy/tests/mpl/baseline_images/mpl/test_mpl_integration/test_global_map_Mollweide.png -> build/lib.linux-x86_64-cpython-38/cartopy/tests/mpl/baseline_images/mpl/test_mpl_integration\n",
      "  copying lib/cartopy/tests/mpl/baseline_images/mpl/test_mpl_integration/quiver_rotated_pole.png -> build/lib.linux-x86_64-cpython-38/cartopy/tests/mpl/baseline_images/mpl/test_mpl_integration\n",
      "  copying lib/cartopy/tests/mpl/baseline_images/mpl/test_mpl_integration/barbs_regrid.png -> build/lib.linux-x86_64-cpython-38/cartopy/tests/mpl/baseline_images/mpl/test_mpl_integration\n",
      "  copying lib/cartopy/tests/mpl/baseline_images/mpl/test_mpl_integration/test_global_map_Mercator.png -> build/lib.linux-x86_64-cpython-38/cartopy/tests/mpl/baseline_images/mpl/test_mpl_integration\n",
      "  copying lib/cartopy/tests/mpl/baseline_images/mpl/test_mpl_integration/global_contour_wrap.png -> build/lib.linux-x86_64-cpython-38/cartopy/tests/mpl/baseline_images/mpl/test_mpl_integration\n",
      "  copying lib/cartopy/tests/mpl/baseline_images/mpl/test_mpl_integration/global_pcolor_wrap.png -> build/lib.linux-x86_64-cpython-38/cartopy/tests/mpl/baseline_images/mpl/test_mpl_integration\n",
      "  copying lib/cartopy/tests/mpl/baseline_images/mpl/test_mpl_integration/barbs_regrid_with_extent.png -> build/lib.linux-x86_64-cpython-38/cartopy/tests/mpl/baseline_images/mpl/test_mpl_integration\n",
      "  copying lib/cartopy/tests/mpl/baseline_images/mpl/test_mpl_integration/streamplot.png -> build/lib.linux-x86_64-cpython-38/cartopy/tests/mpl/baseline_images/mpl/test_mpl_integration\n",
      "  copying lib/cartopy/tests/mpl/baseline_images/mpl/test_mpl_integration/test_global_map_EckertIII.png -> build/lib.linux-x86_64-cpython-38/cartopy/tests/mpl/baseline_images/mpl/test_mpl_integration\n",
      "  copying lib/cartopy/tests/mpl/baseline_images/mpl/test_mpl_integration/test_global_map_EckertV.png -> build/lib.linux-x86_64-cpython-38/cartopy/tests/mpl/baseline_images/mpl/test_mpl_integration\n",
      "  copying lib/cartopy/tests/mpl/baseline_images/mpl/test_mpl_integration/test_global_map_Robinson.png -> build/lib.linux-x86_64-cpython-38/cartopy/tests/mpl/baseline_images/mpl/test_mpl_integration\n",
      "  copying lib/cartopy/tests/mpl/baseline_images/mpl/test_mpl_integration/test_annotate.png -> build/lib.linux-x86_64-cpython-38/cartopy/tests/mpl/baseline_images/mpl/test_mpl_integration\n",
      "  copying lib/cartopy/tests/mpl/baseline_images/mpl/test_mpl_integration/barbs_plate_carree.png -> build/lib.linux-x86_64-cpython-38/cartopy/tests/mpl/baseline_images/mpl/test_mpl_integration\n",
      "  copying lib/cartopy/tests/mpl/baseline_images/mpl/test_mpl_integration/pcolormesh_global_wrap1.png -> build/lib.linux-x86_64-cpython-38/cartopy/tests/mpl/baseline_images/mpl/test_mpl_integration\n",
      "  copying lib/cartopy/tests/mpl/baseline_images/mpl/test_mpl_integration/quiver_plate_carree.png -> build/lib.linux-x86_64-cpython-38/cartopy/tests/mpl/baseline_images/mpl/test_mpl_integration\n",
      "  copying lib/cartopy/tests/mpl/baseline_images/mpl/test_mpl_integration/quiver_regrid_with_extent.png -> build/lib.linux-x86_64-cpython-38/cartopy/tests/mpl/baseline_images/mpl/test_mpl_integration\n",
      "  creating build/lib.linux-x86_64-cpython-38/cartopy/tests/mpl/baseline_images/mpl/test_gridliner\n",
      "  copying lib/cartopy/tests/mpl/baseline_images/mpl/test_gridliner/gridliner_labels_tight.png -> build/lib.linux-x86_64-cpython-38/cartopy/tests/mpl/baseline_images/mpl/test_gridliner\n",
      "  copying lib/cartopy/tests/mpl/baseline_images/mpl/test_gridliner/test_grid_labels_inline_AlbersEqualArea.png -> build/lib.linux-x86_64-cpython-38/cartopy/tests/mpl/baseline_images/mpl/test_gridliner\n",
      "  copying lib/cartopy/tests/mpl/baseline_images/mpl/test_gridliner/test_grid_labels_inline_Geostationary.png -> build/lib.linux-x86_64-cpython-38/cartopy/tests/mpl/baseline_images/mpl/test_gridliner\n",
      "  copying lib/cartopy/tests/mpl/baseline_images/mpl/test_gridliner/test_grid_labels_inline_usa_Sinusoidal.png -> build/lib.linux-x86_64-cpython-38/cartopy/tests/mpl/baseline_images/mpl/test_gridliner\n",
      "  copying lib/cartopy/tests/mpl/baseline_images/mpl/test_gridliner/test_grid_labels_inline_usa_Gnomonic.png -> build/lib.linux-x86_64-cpython-38/cartopy/tests/mpl/baseline_images/mpl/test_gridliner\n",
      "  copying lib/cartopy/tests/mpl/baseline_images/mpl/test_gridliner/gridliner_labels_bbox_style.png -> build/lib.linux-x86_64-cpython-38/cartopy/tests/mpl/baseline_images/mpl/test_gridliner\n",
      "  copying lib/cartopy/tests/mpl/baseline_images/mpl/test_gridliner/test_grid_labels_inline_Stereographic.png -> build/lib.linux-x86_64-cpython-38/cartopy/tests/mpl/baseline_images/mpl/test_gridliner\n",
      "  copying lib/cartopy/tests/mpl/baseline_images/mpl/test_gridliner/test_grid_labels_inline_usa_LambertCylindrical.png -> build/lib.linux-x86_64-cpython-38/cartopy/tests/mpl/baseline_images/mpl/test_gridliner\n",
      "  copying lib/cartopy/tests/mpl/baseline_images/mpl/test_gridliner/test_grid_labels_inline_usa_SouthPolarStereo.png -> build/lib.linux-x86_64-cpython-38/cartopy/tests/mpl/baseline_images/mpl/test_gridliner\n",
      "  copying lib/cartopy/tests/mpl/baseline_images/mpl/test_gridliner/test_grid_labels_inline_usa_PlateCarree.png -> build/lib.linux-x86_64-cpython-38/cartopy/tests/mpl/baseline_images/mpl/test_gridliner\n",
      "  copying lib/cartopy/tests/mpl/baseline_images/mpl/test_gridliner/test_grid_labels_inline_LambertCylindrical.png -> build/lib.linux-x86_64-cpython-38/cartopy/tests/mpl/baseline_images/mpl/test_gridliner\n",
      "  copying lib/cartopy/tests/mpl/baseline_images/mpl/test_gridliner/test_grid_labels_inline_OSNI.png -> build/lib.linux-x86_64-cpython-38/cartopy/tests/mpl/baseline_images/mpl/test_gridliner\n",
      "  copying lib/cartopy/tests/mpl/baseline_images/mpl/test_gridliner/test_grid_labels_inline_usa_Miller.png -> build/lib.linux-x86_64-cpython-38/cartopy/tests/mpl/baseline_images/mpl/test_gridliner\n",
      "  copying lib/cartopy/tests/mpl/baseline_images/mpl/test_gridliner/test_grid_labels_inline_RotatedPole.png -> build/lib.linux-x86_64-cpython-38/cartopy/tests/mpl/baseline_images/mpl/test_gridliner\n",
      "  copying lib/cartopy/tests/mpl/baseline_images/mpl/test_gridliner/test_grid_labels_inline_OSGB.png -> build/lib.linux-x86_64-cpython-38/cartopy/tests/mpl/baseline_images/mpl/test_gridliner\n",
      "  copying lib/cartopy/tests/mpl/baseline_images/mpl/test_gridliner/test_grid_labels_inline_LambertAzimuthalEqualArea.png -> build/lib.linux-x86_64-cpython-38/cartopy/tests/mpl/baseline_images/mpl/test_gridliner\n",
      "  copying lib/cartopy/tests/mpl/baseline_images/mpl/test_gridliner/test_grid_labels_inline_Mollweide.png -> build/lib.linux-x86_64-cpython-38/cartopy/tests/mpl/baseline_images/mpl/test_gridliner\n",
      "  copying lib/cartopy/tests/mpl/baseline_images/mpl/test_gridliner/test_grid_labels_inline_AzimuthalEquidistant.png -> build/lib.linux-x86_64-cpython-38/cartopy/tests/mpl/baseline_images/mpl/test_gridliner\n",
      "  copying lib/cartopy/tests/mpl/baseline_images/mpl/test_gridliner/test_grid_labels_inline_usa_InterruptedGoodeHomolosine.png -> build/lib.linux-x86_64-cpython-38/cartopy/tests/mpl/baseline_images/mpl/test_gridliner\n",
      "  copying lib/cartopy/tests/mpl/baseline_images/mpl/test_gridliner/test_grid_labels_inline_PlateCarree.png -> build/lib.linux-x86_64-cpython-38/cartopy/tests/mpl/baseline_images/mpl/test_gridliner\n",
      "  copying lib/cartopy/tests/mpl/baseline_images/mpl/test_gridliner/test_grid_labels_inline_usa_RotatedPole.png -> build/lib.linux-x86_64-cpython-38/cartopy/tests/mpl/baseline_images/mpl/test_gridliner\n",
      "  copying lib/cartopy/tests/mpl/baseline_images/mpl/test_gridliner/test_grid_labels_inline_usa_AzimuthalEquidistant.png -> build/lib.linux-x86_64-cpython-38/cartopy/tests/mpl/baseline_images/mpl/test_gridliner\n",
      "  copying lib/cartopy/tests/mpl/baseline_images/mpl/test_gridliner/test_grid_labels_inline_usa_Mercator.png -> build/lib.linux-x86_64-cpython-38/cartopy/tests/mpl/baseline_images/mpl/test_gridliner\n",
      "  copying lib/cartopy/tests/mpl/baseline_images/mpl/test_gridliner/test_grid_labels_inline_NorthPolarStereo.png -> build/lib.linux-x86_64-cpython-38/cartopy/tests/mpl/baseline_images/mpl/test_gridliner\n",
      "  copying lib/cartopy/tests/mpl/baseline_images/mpl/test_gridliner/test_grid_labels_inline_EuroPP.png -> build/lib.linux-x86_64-cpython-38/cartopy/tests/mpl/baseline_images/mpl/test_gridliner\n",
      "  copying lib/cartopy/tests/mpl/baseline_images/mpl/test_gridliner/gridliner1.png -> build/lib.linux-x86_64-cpython-38/cartopy/tests/mpl/baseline_images/mpl/test_gridliner\n",
      "  copying lib/cartopy/tests/mpl/baseline_images/mpl/test_gridliner/test_grid_labels_inline_usa_LambertAzimuthalEqualArea.png -> build/lib.linux-x86_64-cpython-38/cartopy/tests/mpl/baseline_images/mpl/test_gridliner\n",
      "  copying lib/cartopy/tests/mpl/baseline_images/mpl/test_gridliner/test_grid_labels_inline_usa_NearsidePerspective.png -> build/lib.linux-x86_64-cpython-38/cartopy/tests/mpl/baseline_images/mpl/test_gridliner\n",
      "  copying lib/cartopy/tests/mpl/baseline_images/mpl/test_gridliner/test_grid_labels_inline_Mercator.png -> build/lib.linux-x86_64-cpython-38/cartopy/tests/mpl/baseline_images/mpl/test_gridliner\n",
      "  copying lib/cartopy/tests/mpl/baseline_images/mpl/test_gridliner/test_grid_labels_inline_InterruptedGoodeHomolosine.png -> build/lib.linux-x86_64-cpython-38/cartopy/tests/mpl/baseline_images/mpl/test_gridliner\n",
      "  copying lib/cartopy/tests/mpl/baseline_images/mpl/test_gridliner/test_grid_labels_inline_usa_Orthographic.png -> build/lib.linux-x86_64-cpython-38/cartopy/tests/mpl/baseline_images/mpl/test_gridliner\n",
      "  copying lib/cartopy/tests/mpl/baseline_images/mpl/test_gridliner/test_grid_labels_inline_usa_Mollweide.png -> build/lib.linux-x86_64-cpython-38/cartopy/tests/mpl/baseline_images/mpl/test_gridliner\n",
      "  copying lib/cartopy/tests/mpl/baseline_images/mpl/test_gridliner/test_grid_labels_inline_usa_Robinson.png -> build/lib.linux-x86_64-cpython-38/cartopy/tests/mpl/baseline_images/mpl/test_gridliner\n",
      "  copying lib/cartopy/tests/mpl/baseline_images/mpl/test_gridliner/test_grid_labels_inline_usa_Stereographic.png -> build/lib.linux-x86_64-cpython-38/cartopy/tests/mpl/baseline_images/mpl/test_gridliner\n",
      "  copying lib/cartopy/tests/mpl/baseline_images/mpl/test_gridliner/test_grid_labels_inline_SouthPolarStereo.png -> build/lib.linux-x86_64-cpython-38/cartopy/tests/mpl/baseline_images/mpl/test_gridliner\n",
      "  copying lib/cartopy/tests/mpl/baseline_images/mpl/test_gridliner/test_grid_labels_inline_LambertConformal.png -> build/lib.linux-x86_64-cpython-38/cartopy/tests/mpl/baseline_images/mpl/test_gridliner\n",
      "  copying lib/cartopy/tests/mpl/baseline_images/mpl/test_gridliner/test_grid_labels_inline_usa_Geostationary.png -> build/lib.linux-x86_64-cpython-38/cartopy/tests/mpl/baseline_images/mpl/test_gridliner\n",
      "  copying lib/cartopy/tests/mpl/baseline_images/mpl/test_gridliner/test_grid_labels_inline_Sinusoidal.png -> build/lib.linux-x86_64-cpython-38/cartopy/tests/mpl/baseline_images/mpl/test_gridliner\n",
      "  copying lib/cartopy/tests/mpl/baseline_images/mpl/test_gridliner/gridliner_labels.png -> build/lib.linux-x86_64-cpython-38/cartopy/tests/mpl/baseline_images/mpl/test_gridliner\n",
      "  copying lib/cartopy/tests/mpl/baseline_images/mpl/test_gridliner/test_grid_labels_inline_usa_LambertConformal.png -> build/lib.linux-x86_64-cpython-38/cartopy/tests/mpl/baseline_images/mpl/test_gridliner\n",
      "  copying lib/cartopy/tests/mpl/baseline_images/mpl/test_gridliner/test_grid_labels_inline_Robinson.png -> build/lib.linux-x86_64-cpython-38/cartopy/tests/mpl/baseline_images/mpl/test_gridliner\n",
      "  copying lib/cartopy/tests/mpl/baseline_images/mpl/test_gridliner/test_grid_labels_inline_Gnomonic.png -> build/lib.linux-x86_64-cpython-38/cartopy/tests/mpl/baseline_images/mpl/test_gridliner\n",
      "  copying lib/cartopy/tests/mpl/baseline_images/mpl/test_gridliner/test_grid_labels_inline_NearsidePerspective.png -> build/lib.linux-x86_64-cpython-38/cartopy/tests/mpl/baseline_images/mpl/test_gridliner\n",
      "  copying lib/cartopy/tests/mpl/baseline_images/mpl/test_gridliner/test_grid_labels_inline_Miller.png -> build/lib.linux-x86_64-cpython-38/cartopy/tests/mpl/baseline_images/mpl/test_gridliner\n",
      "  copying lib/cartopy/tests/mpl/baseline_images/mpl/test_gridliner/test_grid_labels_inline_usa_AlbersEqualArea.png -> build/lib.linux-x86_64-cpython-38/cartopy/tests/mpl/baseline_images/mpl/test_gridliner\n",
      "  copying lib/cartopy/tests/mpl/baseline_images/mpl/test_gridliner/test_grid_labels_inline_Orthographic.png -> build/lib.linux-x86_64-cpython-38/cartopy/tests/mpl/baseline_images/mpl/test_gridliner\n",
      "  copying lib/cartopy/tests/mpl/baseline_images/mpl/test_gridliner/test_grid_labels_inline_usa_NorthPolarStereo.png -> build/lib.linux-x86_64-cpython-38/cartopy/tests/mpl/baseline_images/mpl/test_gridliner\n",
      "  creating build/lib.linux-x86_64-cpython-38/cartopy/tests/mpl/baseline_images/mpl/test_ticks\n",
      "  copying lib/cartopy/tests/mpl/baseline_images/mpl/test_ticks/yticks_cylindrical.png -> build/lib.linux-x86_64-cpython-38/cartopy/tests/mpl/baseline_images/mpl/test_ticks\n",
      "  copying lib/cartopy/tests/mpl/baseline_images/mpl/test_ticks/xticks_cylindrical.png -> build/lib.linux-x86_64-cpython-38/cartopy/tests/mpl/baseline_images/mpl/test_ticks\n",
      "  copying lib/cartopy/tests/mpl/baseline_images/mpl/test_ticks/xticks_no_transform.png -> build/lib.linux-x86_64-cpython-38/cartopy/tests/mpl/baseline_images/mpl/test_ticks\n",
      "  copying lib/cartopy/tests/mpl/baseline_images/mpl/test_ticks/yticks_no_transform.png -> build/lib.linux-x86_64-cpython-38/cartopy/tests/mpl/baseline_images/mpl/test_ticks\n",
      "  copying lib/cartopy/tests/mpl/baseline_images/mpl/test_ticks/xyticks.png -> build/lib.linux-x86_64-cpython-38/cartopy/tests/mpl/baseline_images/mpl/test_ticks\n",
      "  creating build/lib.linux-x86_64-cpython-38/cartopy/tests/mpl/baseline_images/mpl/test_nightshade\n",
      "  copying lib/cartopy/tests/mpl/baseline_images/mpl/test_nightshade/nightshade_platecarree.png -> build/lib.linux-x86_64-cpython-38/cartopy/tests/mpl/baseline_images/mpl/test_nightshade\n",
      "  creating build/lib.linux-x86_64-cpython-38/cartopy/tests/mpl/baseline_images/mpl/test_examples\n",
      "  copying lib/cartopy/tests/mpl/baseline_images/mpl/test_examples/global_map.png -> build/lib.linux-x86_64-cpython-38/cartopy/tests/mpl/baseline_images/mpl/test_examples\n",
      "  copying lib/cartopy/tests/mpl/baseline_images/mpl/test_examples/contour_label.png -> build/lib.linux-x86_64-cpython-38/cartopy/tests/mpl/baseline_images/mpl/test_examples\n",
      "  creating build/lib.linux-x86_64-cpython-38/cartopy/tests/mpl/baseline_images/mpl/test_img_transform\n",
      "  copying lib/cartopy/tests/mpl/baseline_images/mpl/test_img_transform/regrid_image.png -> build/lib.linux-x86_64-cpython-38/cartopy/tests/mpl/baseline_images/mpl/test_img_transform\n",
      "  creating build/lib.linux-x86_64-cpython-38/cartopy/tests/mpl/baseline_images/mpl/test_web_services\n",
      "  copying lib/cartopy/tests/mpl/baseline_images/mpl/test_web_services/wmts.png -> build/lib.linux-x86_64-cpython-38/cartopy/tests/mpl/baseline_images/mpl/test_web_services\n",
      "  copying lib/cartopy/tests/mpl/baseline_images/mpl/test_web_services/wms.png -> build/lib.linux-x86_64-cpython-38/cartopy/tests/mpl/baseline_images/mpl/test_web_services\n",
      "  creating build/lib.linux-x86_64-cpython-38/cartopy/tests/mpl/baseline_images/mpl/test_axes\n",
      "  copying lib/cartopy/tests/mpl/baseline_images/mpl/test_axes/geoaxes_set_boundary_clipping.png -> build/lib.linux-x86_64-cpython-38/cartopy/tests/mpl/baseline_images/mpl/test_axes\n",
      "  copying lib/cartopy/tests/mpl/baseline_images/mpl/test_axes/geoaxes_subslice.png -> build/lib.linux-x86_64-cpython-38/cartopy/tests/mpl/baseline_images/mpl/test_axes\n",
      "  creating build/lib.linux-x86_64-cpython-38/cartopy/tests/mpl/baseline_images/mpl/test_img_tiles2\n",
      "  copying lib/cartopy/tests/mpl/baseline_images/mpl/test_img_tiles2/web_tiles.png -> build/lib.linux-x86_64-cpython-38/cartopy/tests/mpl/baseline_images/mpl/test_img_tiles2\n",
      "  creating build/lib.linux-x86_64-cpython-38/cartopy/tests/mpl/baseline_images/mpl/test_crs\n",
      "  copying lib/cartopy/tests/mpl/baseline_images/mpl/test_crs/igh_land.png -> build/lib.linux-x86_64-cpython-38/cartopy/tests/mpl/baseline_images/mpl/test_crs\n",
      "  copying lib/cartopy/tests/mpl/baseline_images/mpl/test_crs/igh_ocean.png -> build/lib.linux-x86_64-cpython-38/cartopy/tests/mpl/baseline_images/mpl/test_crs\n",
      "  copying lib/cartopy/tests/mpl/baseline_images/mpl/test_crs/lambert_conformal_south.png -> build/lib.linux-x86_64-cpython-38/cartopy/tests/mpl/baseline_images/mpl/test_crs\n",
      "  creating build/lib.linux-x86_64-cpython-38/cartopy/tests/mpl/baseline_images/mpl/test_images\n",
      "  copying lib/cartopy/tests/mpl/baseline_images/mpl/test_images/image_nest.png -> build/lib.linux-x86_64-cpython-38/cartopy/tests/mpl/baseline_images/mpl/test_images\n",
      "  copying lib/cartopy/tests/mpl/baseline_images/mpl/test_images/web_tiles.png -> build/lib.linux-x86_64-cpython-38/cartopy/tests/mpl/baseline_images/mpl/test_images\n",
      "  copying lib/cartopy/tests/mpl/baseline_images/mpl/test_images/image_merge.png -> build/lib.linux-x86_64-cpython-38/cartopy/tests/mpl/baseline_images/mpl/test_images\n",
      "  copying lib/cartopy/tests/mpl/baseline_images/mpl/test_images/imshow_natural_earth_ortho.png -> build/lib.linux-x86_64-cpython-38/cartopy/tests/mpl/baseline_images/mpl/test_images\n",
      "  copying lib/cartopy/tests/mpl/baseline_images/mpl/test_images/imshow_regional_projected.png -> build/lib.linux-x86_64-cpython-38/cartopy/tests/mpl/baseline_images/mpl/test_images\n",
      "  creating build/lib.linux-x86_64-cpython-38/cartopy/data\n",
      "  creating build/lib.linux-x86_64-cpython-38/cartopy/data/raster\n",
      "  creating build/lib.linux-x86_64-cpython-38/cartopy/data/raster/natural_earth\n",
      "  copying lib/cartopy/data/raster/natural_earth/images.json -> build/lib.linux-x86_64-cpython-38/cartopy/data/raster/natural_earth\n",
      "  copying lib/cartopy/data/raster/natural_earth/50-natural-earth-1-downsampled.png -> build/lib.linux-x86_64-cpython-38/cartopy/data/raster/natural_earth\n",
      "  creating build/lib.linux-x86_64-cpython-38/cartopy/data/raster/sample\n",
      "  copying lib/cartopy/data/raster/sample/Miriam.A2012270.2050.2km.README.txt -> build/lib.linux-x86_64-cpython-38/cartopy/data/raster/sample\n",
      "  copying lib/cartopy/data/raster/sample/Miriam.A2012270.2050.2km.jpg -> build/lib.linux-x86_64-cpython-38/cartopy/data/raster/sample\n",
      "  creating build/lib.linux-x86_64-cpython-38/cartopy/data/netcdf\n",
      "  copying lib/cartopy/data/netcdf/HadISST1_SST_update.nc -> build/lib.linux-x86_64-cpython-38/cartopy/data/netcdf\n",
      "  copying lib/cartopy/data/netcdf/HadISST1_SST_update.README.txt -> build/lib.linux-x86_64-cpython-38/cartopy/data/netcdf\n",
      "  creating build/lib.linux-x86_64-cpython-38/cartopy/data/shapefiles\n",
      "  creating build/lib.linux-x86_64-cpython-38/cartopy/data/shapefiles/gshhs\n",
      "  copying lib/cartopy/data/shapefiles/gshhs/README.TXT -> build/lib.linux-x86_64-cpython-38/cartopy/data/shapefiles/gshhs\n",
      "  creating build/lib.linux-x86_64-cpython-38/cartopy/data/shapefiles/gshhs/l\n",
      "  copying lib/cartopy/data/shapefiles/gshhs/l/GSHHS_l_L2.shp -> build/lib.linux-x86_64-cpython-38/cartopy/data/shapefiles/gshhs/l\n",
      "  copying lib/cartopy/data/shapefiles/gshhs/l/GSHHS_l_L2.shx -> build/lib.linux-x86_64-cpython-38/cartopy/data/shapefiles/gshhs/l\n",
      "  copying lib/cartopy/data/shapefiles/gshhs/l/GSHHS_l_L2.dbf -> build/lib.linux-x86_64-cpython-38/cartopy/data/shapefiles/gshhs/l\n",
      "  creating build/lib.linux-x86_64-cpython-38/cartopy/data/shapefiles/gshhs/c\n",
      "  copying lib/cartopy/data/shapefiles/gshhs/c/GSHHS_c_L1.shx -> build/lib.linux-x86_64-cpython-38/cartopy/data/shapefiles/gshhs/c\n",
      "  copying lib/cartopy/data/shapefiles/gshhs/c/GSHHS_c_L1.shp -> build/lib.linux-x86_64-cpython-38/cartopy/data/shapefiles/gshhs/c\n",
      "  copying lib/cartopy/data/shapefiles/gshhs/c/GSHHS_c_L1.dbf -> build/lib.linux-x86_64-cpython-38/cartopy/data/shapefiles/gshhs/c\n",
      "  creating build/lib.linux-x86_64-cpython-38/cartopy/tests/lakes_shapefile\n",
      "  copying lib/cartopy/tests/lakes_shapefile/ne_110m_lakes.shp -> build/lib.linux-x86_64-cpython-38/cartopy/tests/lakes_shapefile\n",
      "  copying lib/cartopy/tests/lakes_shapefile/ne_110m_lakes.dbf -> build/lib.linux-x86_64-cpython-38/cartopy/tests/lakes_shapefile\n",
      "  copying lib/cartopy/tests/lakes_shapefile/ne_110m_lakes.shx -> build/lib.linux-x86_64-cpython-38/cartopy/tests/lakes_shapefile\n",
      "  copying lib/cartopy/io/srtm.npz -> build/lib.linux-x86_64-cpython-38/cartopy/io\n",
      "  running build_ext\n",
      "  building 'cartopy.trace' extension\n",
      "  creating build/temp.linux-x86_64-cpython-38\n",
      "  creating build/temp.linux-x86_64-cpython-38/lib\n",
      "  creating build/temp.linux-x86_64-cpython-38/lib/cartopy\n",
      "  x86_64-linux-gnu-gcc -pthread -Wno-unused-result -Wsign-compare -DNDEBUG -g -fwrapv -O2 -Wall -g -fstack-protector-strong -Wformat -Werror=format-security -g -fwrapv -O2 -fPIC -I/usr/include -I./lib/cartopy -I/tmp/pip-build-env-e33b7eg3/overlay/lib/python3.8/site-packages/numpy/core/include -I/home/bbrejova/viz/notebooks/venv/include -I/usr/include/python3.8 -c lib/cartopy/trace.cpp -o build/temp.linux-x86_64-cpython-38/lib/cartopy/trace.o\n",
      "  lib/cartopy/trace.cpp:6:10: fatal error: Python.h: No such file or directory\n",
      "      6 | #include \"Python.h\"\n",
      "        |          ^~~~~~~~~~\n",
      "  compilation terminated.\n",
      "  <string>:90: UserWarning: Unable to determine GEOS version. Ensure you have 3.7.2 or later installed, or installation may fail.\n",
      "  error: command '/usr/bin/x86_64-linux-gnu-gcc' failed with exit code 1\n",
      "  ----------------------------------------\u001b[0m\n",
      "\u001b[31m  ERROR: Failed building wheel for cartopy\u001b[0m\n",
      "\u001b[?25hFailed to build cartopy\n"
     ]
    },
    {
     "name": "stdout",
     "output_type": "stream",
     "text": [
      "\u001b[31mERROR: Could not build wheels for cartopy which use PEP 517 and cannot be installed directly\u001b[0m\r\n"
     ]
    }
   ],
   "source": [
    "# installing geopandas library\n",
    "! pip install geopandas geoplot"
   ]
  },
  {
   "cell_type": "code",
   "execution_count": 6,
   "metadata": {},
   "outputs": [
    {
     "ename": "ModuleNotFoundError",
     "evalue": "No module named 'geoplot'",
     "output_type": "error",
     "traceback": [
      "\u001b[0;31m---------------------------------------------------------------------------\u001b[0m",
      "\u001b[0;31mModuleNotFoundError\u001b[0m                       Traceback (most recent call last)",
      "Cell \u001b[0;32mIn[6], line 2\u001b[0m\n\u001b[1;32m      1\u001b[0m \u001b[38;5;28;01mimport\u001b[39;00m \u001b[38;5;21;01mgeopandas\u001b[39;00m\n\u001b[0;32m----> 2\u001b[0m \u001b[38;5;28;01mimport\u001b[39;00m \u001b[38;5;21;01mgeoplot\u001b[39;00m\n",
      "\u001b[0;31mModuleNotFoundError\u001b[0m: No module named 'geoplot'"
     ]
    }
   ],
   "source": [
    "import geopandas\n",
    "import geoplot"
   ]
  },
  {
   "cell_type": "code",
   "execution_count": null,
   "metadata": {},
   "outputs": [],
   "source": [
    "# https://scitools.org.uk/cartopy/docs/v0.15/crs/projections.html\n",
    "# AlbersEqualArea\n",
    "# LambertAzimuthalEqualArea\n",
    "# Mercator\n",
    "# Mollweide\n",
    "# Orthographic"
   ]
  },
  {
   "cell_type": "markdown",
   "metadata": {
    "id": "LOPIIuXJ4ZKl"
   },
   "source": [
    "## Maps in GeoPandas"
   ]
  },
  {
   "cell_type": "markdown",
   "metadata": {
    "id": "JRumUmRF6bSE"
   },
   "source": [
    "### Importing data on Slovak villages and towns\n",
    "\n",
    "Data under CC-BY 4.0 license by GKÚ Bratislava, downloaded from https://www.geoportal.sk/sk/zbgis_smd/na-stiahnutie/\n",
    "\n",
    "Each row of the table is one village or town. Column `LAU1` is the name of a village or town, `LAU2` is the name of a district, `VYMERA` is area of the village in m$^2$."
   ]
  },
  {
   "cell_type": "code",
   "execution_count": 14,
   "metadata": {
    "executionInfo": {
     "elapsed": 790,
     "status": "ok",
     "timestamp": 1618922582921,
     "user": {
      "displayName": "Brona Brejova",
      "photoUrl": "https://lh3.googleusercontent.com/a-/AOh14GjGyr69ecECqZOZ-_5-o1v7SpP5TdLQGU7-pHl4UQ=s64",
      "userId": "10789993073610145432"
     },
     "user_tz": -120
    },
    "id": "NHI5WfQ65-FZ"
   },
   "outputs": [],
   "source": [
    "import numpy as np\n",
    "import pandas as pd\n",
    "import matplotlib.pyplot as plt\n",
    "from IPython.display import Markdown"
   ]
  },
  {
   "cell_type": "code",
   "execution_count": 15,
   "metadata": {
    "colab": {
     "base_uri": "https://localhost:8080/",
     "height": 394
    },
    "executionInfo": {
     "elapsed": 4173,
     "status": "ok",
     "timestamp": 1618922586318,
     "user": {
      "displayName": "Brona Brejova",
      "photoUrl": "https://lh3.googleusercontent.com/a-/AOh14GjGyr69ecECqZOZ-_5-o1v7SpP5TdLQGU7-pHl4UQ=s64",
      "userId": "10789993073610145432"
     },
     "user_tz": -120
    },
    "id": "p9L17da54-3n",
    "outputId": "1124a285-0922-424a-e86d-9a46aeb9ddf9"
   },
   "outputs": [
    {
     "data": {
      "text/html": [
       "<div>\n",
       "<style scoped>\n",
       "    .dataframe tbody tr th:only-of-type {\n",
       "        vertical-align: middle;\n",
       "    }\n",
       "\n",
       "    .dataframe tbody tr th {\n",
       "        vertical-align: top;\n",
       "    }\n",
       "\n",
       "    .dataframe thead th {\n",
       "        text-align: right;\n",
       "    }\n",
       "</style>\n",
       "<table border=\"1\" class=\"dataframe\">\n",
       "  <thead>\n",
       "    <tr style=\"text-align: right;\">\n",
       "      <th></th>\n",
       "      <th>0</th>\n",
       "      <th>1</th>\n",
       "    </tr>\n",
       "  </thead>\n",
       "  <tbody>\n",
       "    <tr>\n",
       "      <th>VYMERA</th>\n",
       "      <td>100478688</td>\n",
       "      <td>15072464</td>\n",
       "    </tr>\n",
       "    <tr>\n",
       "      <th>NUTS1</th>\n",
       "      <td>Slovensko</td>\n",
       "      <td>Slovensko</td>\n",
       "    </tr>\n",
       "    <tr>\n",
       "      <th>NUTS1_CODE</th>\n",
       "      <td>SK0</td>\n",
       "      <td>SK0</td>\n",
       "    </tr>\n",
       "    <tr>\n",
       "      <th>NUTS2</th>\n",
       "      <td>Západné Slovensko</td>\n",
       "      <td>Západné Slovensko</td>\n",
       "    </tr>\n",
       "    <tr>\n",
       "      <th>NUTS2_CODE</th>\n",
       "      <td>SK02</td>\n",
       "      <td>SK02</td>\n",
       "    </tr>\n",
       "    <tr>\n",
       "      <th>NUTS3</th>\n",
       "      <td>Nitriansky kraj</td>\n",
       "      <td>Nitriansky kraj</td>\n",
       "    </tr>\n",
       "    <tr>\n",
       "      <th>NUTS3_CODE</th>\n",
       "      <td>SK023</td>\n",
       "      <td>SK023</td>\n",
       "    </tr>\n",
       "    <tr>\n",
       "      <th>LAU1</th>\n",
       "      <td>Nitra</td>\n",
       "      <td>Nitra</td>\n",
       "    </tr>\n",
       "    <tr>\n",
       "      <th>LAU1_CODE</th>\n",
       "      <td>SK0233</td>\n",
       "      <td>SK0233</td>\n",
       "    </tr>\n",
       "    <tr>\n",
       "      <th>LAU2</th>\n",
       "      <td>Nitra</td>\n",
       "      <td>Alekšince</td>\n",
       "    </tr>\n",
       "    <tr>\n",
       "      <th>LAU2_CODE</th>\n",
       "      <td>SK0233500011</td>\n",
       "      <td>SK0233500020</td>\n",
       "    </tr>\n",
       "  </tbody>\n",
       "</table>\n",
       "</div>"
      ],
      "text/plain": [
       "                            0                  1\n",
       "VYMERA              100478688           15072464\n",
       "NUTS1               Slovensko          Slovensko\n",
       "NUTS1_CODE                SK0                SK0\n",
       "NUTS2       Západné Slovensko  Západné Slovensko\n",
       "NUTS2_CODE               SK02               SK02\n",
       "NUTS3         Nitriansky kraj    Nitriansky kraj\n",
       "NUTS3_CODE              SK023              SK023\n",
       "LAU1                    Nitra              Nitra\n",
       "LAU1_CODE              SK0233             SK0233\n",
       "LAU2                    Nitra          Alekšince\n",
       "LAU2_CODE        SK0233500011       SK0233500020"
      ]
     },
     "metadata": {
      "tags": []
     },
     "output_type": "display_data"
    }
   ],
   "source": [
    "url = 'http://compbio.fmph.uniba.sk/vyuka/viz/images/7/7f/Obce_sr.csv'\n",
    "obce = pd.read_csv(url)\n",
    "display(obce.head(2).transpose())\n",
    "\n",
    "\n"
   ]
  },
  {
   "cell_type": "markdown",
   "metadata": {
    "id": "Sg4lnexd7QMG"
   },
   "source": [
    "We compute the average number of villages per km$^2$ in each district and print the districts with the highest and lowest village densities."
   ]
  },
  {
   "cell_type": "code",
   "execution_count": 16,
   "metadata": {
    "colab": {
     "base_uri": "https://localhost:8080/",
     "height": 324
    },
    "executionInfo": {
     "elapsed": 4166,
     "status": "ok",
     "timestamp": 1618922586319,
     "user": {
      "displayName": "Brona Brejova",
      "photoUrl": "https://lh3.googleusercontent.com/a-/AOh14GjGyr69ecECqZOZ-_5-o1v7SpP5TdLQGU7-pHl4UQ=s64",
      "userId": "10789993073610145432"
     },
     "user_tz": -120
    },
    "id": "-O-nZB016TbU",
    "outputId": "813ceb9b-42a9-46a8-eed8-016058ea8656"
   },
   "outputs": [
    {
     "data": {
      "text/markdown": [
       "**Lowest density:**"
      ],
      "text/plain": [
       "<IPython.core.display.Markdown object>"
      ]
     },
     "metadata": {
      "tags": []
     },
     "output_type": "display_data"
    },
    {
     "data": {
      "text/plain": [
       "LAU1\n",
       "Brezno      0.023711\n",
       "Poprad      0.026253\n",
       "Malacky     0.027381\n",
       "Čadca       0.030239\n",
       "Tvrdošín    0.031320\n",
       "dtype: float64"
      ]
     },
     "metadata": {
      "tags": []
     },
     "output_type": "display_data"
    },
    {
     "data": {
      "text/markdown": [
       "**Higest density:**"
      ],
      "text/plain": [
       "<IPython.core.display.Markdown object>"
      ]
     },
     "metadata": {
      "tags": []
     },
     "output_type": "display_data"
    },
    {
     "data": {
      "text/plain": [
       "LAU1\n",
       "Svidník         0.123725\n",
       "Košice III      0.118823\n",
       "Stropkov        0.110562\n",
       "Košice II       0.108334\n",
       "Bratislava I    0.104274\n",
       "dtype: float64"
      ]
     },
     "metadata": {
      "tags": []
     },
     "output_type": "display_data"
    }
   ],
   "source": [
    "rozlohy = obce.groupby('LAU1')['VYMERA'].sum() / 1e6\n",
    "pocty = obce.groupby('LAU1').size()\n",
    "hustota  = (pocty / rozlohy).sort_values()\n",
    "display(Markdown('**Lowest density:**'), hustota.head())\n",
    "display(Markdown('**Higest density:**'), hustota[::-1].head())"
   ]
  },
  {
   "cell_type": "markdown",
   "metadata": {
    "id": "miLhvJv58wi2"
   },
   "source": [
    "### Importing district boundaries in GeoPandas\n",
    "\n",
    "* GeoPandas is a library for working with geographical data\n",
    "* https://geopandas.org/\n",
    "* It is an extnesion of Pandas DataFrame, with location information\n",
    "* Our table has one row for every district in Slovakia\n",
    "* Data under CC-BY 4.0 license by GKÚ Bratislava, downloaded from https://www.geoportal.sk/sk/zbgis_smd/na-stiahnutie/"
   ]
  },
  {
   "cell_type": "code",
   "execution_count": 1,
   "metadata": {
    "colab": {
     "base_uri": "https://localhost:8080/",
     "height": 488
    },
    "executionInfo": {
     "elapsed": 13085,
     "status": "ok",
     "timestamp": 1618922595251,
     "user": {
      "displayName": "Brona Brejova",
      "photoUrl": "https://lh3.googleusercontent.com/a-/AOh14GjGyr69ecECqZOZ-_5-o1v7SpP5TdLQGU7-pHl4UQ=s64",
      "userId": "10789993073610145432"
     },
     "user_tz": -120
    },
    "id": "uRoHPIz98kIQ",
    "outputId": "fd504faf-8e6b-4449-d944-debdc985e71c"
   },
   "outputs": [
    {
     "ename": "ModuleNotFoundError",
     "evalue": "No module named 'geopandas'",
     "output_type": "error",
     "traceback": [
      "\u001b[0;31m---------------------------------------------------------------------------\u001b[0m",
      "\u001b[0;31mModuleNotFoundError\u001b[0m                       Traceback (most recent call last)",
      "Cell \u001b[0;32mIn[1], line 1\u001b[0m\n\u001b[0;32m----> 1\u001b[0m \u001b[38;5;28;01mimport\u001b[39;00m \u001b[38;5;21;01mgeopandas\u001b[39;00m\n\u001b[1;32m      2\u001b[0m url \u001b[38;5;241m=\u001b[39m \u001b[38;5;124m\"\u001b[39m\u001b[38;5;124mhttp://compbio.fmph.uniba.sk/vyuka/viz/images/7/7b/Okresy.json\u001b[39m\u001b[38;5;124m\"\u001b[39m\n\u001b[1;32m      3\u001b[0m okresy \u001b[38;5;241m=\u001b[39m geopandas\u001b[38;5;241m.\u001b[39mread_file(url)\n",
      "\u001b[0;31mModuleNotFoundError\u001b[0m: No module named 'geopandas'"
     ]
    }
   ],
   "source": [
    "import geopandas\n",
    "url = \"http://compbio.fmph.uniba.sk/vyuka/viz/images/7/7b/Okresy.json\"\n",
    "okresy = geopandas.read_file(url)\n",
    "display(okresy.head(2).transpose())\n",
    "\n"
   ]
  },
  {
   "cell_type": "markdown",
   "metadata": {
    "id": "t258kRfMI-FL"
   },
   "source": [
    "It is very simple to plot district boundaries."
   ]
  },
  {
   "cell_type": "code",
   "execution_count": 19,
   "metadata": {
    "colab": {
     "base_uri": "https://localhost:8080/",
     "height": 218
    },
    "executionInfo": {
     "elapsed": 13080,
     "status": "ok",
     "timestamp": 1618922595252,
     "user": {
      "displayName": "Brona Brejova",
      "photoUrl": "https://lh3.googleusercontent.com/a-/AOh14GjGyr69ecECqZOZ-_5-o1v7SpP5TdLQGU7-pHl4UQ=s64",
      "userId": "10789993073610145432"
     },
     "user_tz": -120
    },
    "id": "D7w4n7tE_AQr",
    "outputId": "06a477d6-2a12-4b86-e6e8-20cfdcfedd7a"
   },
   "outputs": [
    {
     "data": {
      "image/png": "[encoded data removed]",
      "text/plain": [
       "<Figure size 432x288 with 1 Axes>"
      ]
     },
     "metadata": {
      "needs_background": "light",
      "tags": []
     },
     "output_type": "display_data"
    }
   ],
   "source": [
    "okresy.plot()\n",
    "pass"
   ]
  },
  {
   "cell_type": "markdown",
   "metadata": {
    "id": "HQU8_MDp_GFx"
   },
   "source": [
    "### Choropleth map of village density in districts\n",
    "\n",
    "* Add `hustota` Series as a new column to `okresy` GeoPandas DataFrame\n",
    "* Then plot the map again, each district colored by village density"
   ]
  },
  {
   "cell_type": "code",
   "execution_count": 20,
   "metadata": {
    "colab": {
     "base_uri": "https://localhost:8080/",
     "height": 248
    },
    "executionInfo": {
     "elapsed": 13798,
     "status": "ok",
     "timestamp": 1618922595976,
     "user": {
      "displayName": "Brona Brejova",
      "photoUrl": "https://lh3.googleusercontent.com/a-/AOh14GjGyr69ecECqZOZ-_5-o1v7SpP5TdLQGU7-pHl4UQ=s64",
      "userId": "10789993073610145432"
     },
     "user_tz": -120
    },
    "id": "ozUFaWyB_Yot",
    "outputId": "16699206-2985-4053-ad81-671e1bf1b276"
   },
   "outputs": [
    {
     "data": {
      "image/png": "[encoded data removed]",
      "text/plain": [
       "<Figure size 432x288 with 2 Axes>"
      ]
     },
     "metadata": {
      "needs_background": "light",
      "tags": []
     },
     "output_type": "display_data"
    }
   ],
   "source": [
    "okresy.set_index('LAU1', inplace=True)\n",
    "okresy['hustota'] = hustota\n",
    "okresy.plot(column='hustota', legend=True);"
   ]
  },
  {
   "cell_type": "markdown",
   "metadata": {
    "id": "7v8zhTuHJTEq"
   },
   "source": [
    "### Maps in Plotly Express\n",
    "\n",
    "Maps can be also drawn in Plotly Express\n",
    "* Choropleth maps: https://plotly.com/python/choropleth-maps/\n",
    "* Scatterplots on maps: https://plotly.com/python/scatter-plots-on-maps/\n",
    "* You may need to upgrade Plotly with `!pip install plotly==4.14.3`"
   ]
  },
  {
   "cell_type": "markdown",
   "metadata": {
    "id": "tUxbs0sF35l4"
   },
   "source": [
    "## Graphs and hierarchies in Pyvis\n",
    "\n",
    "* Pyvis is a library for interactive visualization of graphs (networks) and trees (hierarchies)\n",
    "* https://pyvis.readthedocs.io/en/latest/"
   ]
  },
  {
   "cell_type": "code",
   "execution_count": 21,
   "metadata": {
    "colab": {
     "base_uri": "https://localhost:8080/"
    },
    "executionInfo": {
     "elapsed": 16681,
     "status": "ok",
     "timestamp": 1618922598865,
     "user": {
      "displayName": "Brona Brejova",
      "photoUrl": "https://lh3.googleusercontent.com/a-/AOh14GjGyr69ecECqZOZ-_5-o1v7SpP5TdLQGU7-pHl4UQ=s64",
      "userId": "10789993073610145432"
     },
     "user_tz": -120
    },
    "id": "2KB9SGTgaDPF",
    "outputId": "dc08535e-7653-439f-afdc-f13d3279245d"
   },
   "outputs": [
    {
     "name": "stdout",
     "output_type": "stream",
     "text": [
      "Requirement already satisfied: pyvis in /usr/local/lib/python3.7/dist-packages (0.1.9)\n",
      "Requirement already satisfied: networkx>=1.11 in /usr/local/lib/python3.7/dist-packages (from pyvis) (2.5.1)\n",
      "Requirement already satisfied: ipython>=5.3.0 in /usr/local/lib/python3.7/dist-packages (from pyvis) (5.5.0)\n",
      "Requirement already satisfied: jsonpickle>=1.4.1 in /usr/local/lib/python3.7/dist-packages (from pyvis) (2.0.0)\n",
      "Requirement already satisfied: jinja2>=2.9.6 in /usr/local/lib/python3.7/dist-packages (from pyvis) (2.11.3)\n",
      "Requirement already satisfied: decorator<5,>=4.3 in /usr/local/lib/python3.7/dist-packages (from networkx>=1.11->pyvis) (4.4.2)\n",
      "Requirement already satisfied: pygments in /usr/local/lib/python3.7/dist-packages (from ipython>=5.3.0->pyvis) (2.6.1)\n",
      "Requirement already satisfied: pexpect; sys_platform != \"win32\" in /usr/local/lib/python3.7/dist-packages (from ipython>=5.3.0->pyvis) (4.8.0)\n",
      "Requirement already satisfied: traitlets>=4.2 in /usr/local/lib/python3.7/dist-packages (from ipython>=5.3.0->pyvis) (5.0.5)\n",
      "Requirement already satisfied: simplegeneric>0.8 in /usr/local/lib/python3.7/dist-packages (from ipython>=5.3.0->pyvis) (0.8.1)\n",
      "Requirement already satisfied: setuptools>=18.5 in /usr/local/lib/python3.7/dist-packages (from ipython>=5.3.0->pyvis) (54.2.0)\n",
      "Requirement already satisfied: pickleshare in /usr/local/lib/python3.7/dist-packages (from ipython>=5.3.0->pyvis) (0.7.5)\n",
      "Requirement already satisfied: prompt-toolkit<2.0.0,>=1.0.4 in /usr/local/lib/python3.7/dist-packages (from ipython>=5.3.0->pyvis) (1.0.18)\n",
      "Requirement already satisfied: importlib-metadata; python_version < \"3.8\" in /usr/local/lib/python3.7/dist-packages (from jsonpickle>=1.4.1->pyvis) (3.10.1)\n",
      "Requirement already satisfied: MarkupSafe>=0.23 in /usr/local/lib/python3.7/dist-packages (from jinja2>=2.9.6->pyvis) (1.1.1)\n",
      "Requirement already satisfied: ptyprocess>=0.5 in /usr/local/lib/python3.7/dist-packages (from pexpect; sys_platform != \"win32\"->ipython>=5.3.0->pyvis) (0.7.0)\n",
      "Requirement already satisfied: ipython-genutils in /usr/local/lib/python3.7/dist-packages (from traitlets>=4.2->ipython>=5.3.0->pyvis) (0.2.0)\n",
      "Requirement already satisfied: six>=1.9.0 in /usr/local/lib/python3.7/dist-packages (from prompt-toolkit<2.0.0,>=1.0.4->ipython>=5.3.0->pyvis) (1.15.0)\n",
      "Requirement already satisfied: wcwidth in /usr/local/lib/python3.7/dist-packages (from prompt-toolkit<2.0.0,>=1.0.4->ipython>=5.3.0->pyvis) (0.2.5)\n",
      "Requirement already satisfied: typing-extensions>=3.6.4; python_version < \"3.8\" in /usr/local/lib/python3.7/dist-packages (from importlib-metadata; python_version < \"3.8\"->jsonpickle>=1.4.1->pyvis) (3.7.4.3)\n",
      "Requirement already satisfied: zipp>=0.5 in /usr/local/lib/python3.7/dist-packages (from importlib-metadata; python_version < \"3.8\"->jsonpickle>=1.4.1->pyvis) (3.4.1)\n"
     ]
    }
   ],
   "source": [
    "# install pyvis library for graph visualization\n",
    "!pip install pyvis"
   ]
  },
  {
   "cell_type": "code",
   "execution_count": 22,
   "metadata": {
    "executionInfo": {
     "elapsed": 16680,
     "status": "ok",
     "timestamp": 1618922598867,
     "user": {
      "displayName": "Brona Brejova",
      "photoUrl": "https://lh3.googleusercontent.com/a-/AOh14GjGyr69ecECqZOZ-_5-o1v7SpP5TdLQGU7-pHl4UQ=s64",
      "userId": "10789993073610145432"
     },
     "user_tz": -120
    },
    "id": "YxwvQH9Xa-Y3"
   },
   "outputs": [],
   "source": [
    "from pyvis.network import Network\n",
    "# technical trick to make pyvis work in Jupyter\n",
    "def net_repr_html(self):\n",
    "  nodes, edges, something, height, width, options = self.get_network_data()\n",
    "  html = self.template.render(height=height, width=width, nodes=nodes, edges=edges, options=options)\n",
    "  return html\n",
    "\n",
    "Network._repr_html_ = net_repr_html"
   ]
  },
  {
   "cell_type": "markdown",
   "metadata": {
    "id": "pRyQRROwKSHU"
   },
   "source": [
    "### Displaying a simple hierarchy\n",
    "\n",
    "* We create a simple tree representing taxonomy of selected ungulates (kopytníky).\n",
    "* Data frame created below describes each node, giving its name, parent, level along the tree (leaves are 1, root is 5) and category, which is `land` for land animals, `sea` for sea animals and `group` for taxonomy groups."
   ]
  },
  {
   "cell_type": "code",
   "execution_count": 27,
   "metadata": {
    "colab": {
     "base_uri": "https://localhost:8080/",
     "height": 394
    },
    "executionInfo": {
     "elapsed": 755,
     "status": "ok",
     "timestamp": 1618922827530,
     "user": {
      "displayName": "Brona Brejova",
      "photoUrl": "https://lh3.googleusercontent.com/a-/AOh14GjGyr69ecECqZOZ-_5-o1v7SpP5TdLQGU7-pHl4UQ=s64",
      "userId": "10789993073610145432"
     },
     "user_tz": -120
    },
    "id": "Pz3ExoVSqNed",
    "outputId": "3babea79-ace4-4295-c88e-ec32641e5046"
   },
   "outputs": [
    {
     "data": {
      "text/html": [
       "<div>\n",
       "<style scoped>\n",
       "    .dataframe tbody tr th:only-of-type {\n",
       "        vertical-align: middle;\n",
       "    }\n",
       "\n",
       "    .dataframe tbody tr th {\n",
       "        vertical-align: top;\n",
       "    }\n",
       "\n",
       "    .dataframe thead th {\n",
       "        text-align: right;\n",
       "    }\n",
       "</style>\n",
       "<table border=\"1\" class=\"dataframe\">\n",
       "  <thead>\n",
       "    <tr style=\"text-align: right;\">\n",
       "      <th></th>\n",
       "      <th>name</th>\n",
       "      <th>parent</th>\n",
       "      <th>level</th>\n",
       "      <th>category</th>\n",
       "    </tr>\n",
       "  </thead>\n",
       "  <tbody>\n",
       "    <tr>\n",
       "      <th>0</th>\n",
       "      <td>camel</td>\n",
       "      <td>Ungulata</td>\n",
       "      <td>1</td>\n",
       "      <td>land</td>\n",
       "    </tr>\n",
       "    <tr>\n",
       "      <th>1</th>\n",
       "      <td>dolphin</td>\n",
       "      <td>Cetacea</td>\n",
       "      <td>1</td>\n",
       "      <td>sea</td>\n",
       "    </tr>\n",
       "    <tr>\n",
       "      <th>2</th>\n",
       "      <td>whale</td>\n",
       "      <td>Cetacea</td>\n",
       "      <td>1</td>\n",
       "      <td>sea</td>\n",
       "    </tr>\n",
       "    <tr>\n",
       "      <th>3</th>\n",
       "      <td>cow</td>\n",
       "      <td>Bovidae</td>\n",
       "      <td>1</td>\n",
       "      <td>land</td>\n",
       "    </tr>\n",
       "    <tr>\n",
       "      <th>4</th>\n",
       "      <td>sheep</td>\n",
       "      <td>Caprinae</td>\n",
       "      <td>1</td>\n",
       "      <td>land</td>\n",
       "    </tr>\n",
       "    <tr>\n",
       "      <th>5</th>\n",
       "      <td>goat</td>\n",
       "      <td>Caprinae</td>\n",
       "      <td>1</td>\n",
       "      <td>land</td>\n",
       "    </tr>\n",
       "    <tr>\n",
       "      <th>6</th>\n",
       "      <td>Caprinae</td>\n",
       "      <td>Bovidae</td>\n",
       "      <td>2</td>\n",
       "      <td>group</td>\n",
       "    </tr>\n",
       "    <tr>\n",
       "      <th>7</th>\n",
       "      <td>Bovidae</td>\n",
       "      <td>Cetartiodactyla</td>\n",
       "      <td>3</td>\n",
       "      <td>group</td>\n",
       "    </tr>\n",
       "    <tr>\n",
       "      <th>8</th>\n",
       "      <td>Cetartiodactyla</td>\n",
       "      <td>Ungulata</td>\n",
       "      <td>4</td>\n",
       "      <td>group</td>\n",
       "    </tr>\n",
       "    <tr>\n",
       "      <th>9</th>\n",
       "      <td>Cetacea</td>\n",
       "      <td>Cetartiodactyla</td>\n",
       "      <td>2</td>\n",
       "      <td>group</td>\n",
       "    </tr>\n",
       "    <tr>\n",
       "      <th>10</th>\n",
       "      <td>Ungulata</td>\n",
       "      <td>NaN</td>\n",
       "      <td>5</td>\n",
       "      <td>group</td>\n",
       "    </tr>\n",
       "  </tbody>\n",
       "</table>\n",
       "</div>"
      ],
      "text/plain": [
       "               name           parent  level category\n",
       "0             camel         Ungulata      1     land\n",
       "1           dolphin          Cetacea      1      sea\n",
       "2             whale          Cetacea      1      sea\n",
       "3               cow          Bovidae      1     land\n",
       "4             sheep         Caprinae      1     land\n",
       "5              goat         Caprinae      1     land\n",
       "6          Caprinae          Bovidae      2    group\n",
       "7           Bovidae  Cetartiodactyla      3    group\n",
       "8   Cetartiodactyla         Ungulata      4    group\n",
       "9           Cetacea  Cetartiodactyla      2    group\n",
       "10         Ungulata              NaN      5    group"
      ]
     },
     "metadata": {
      "tags": []
     },
     "output_type": "display_data"
    }
   ],
   "source": [
    "from io import StringIO\n",
    "\n",
    "animal_csv = StringIO(\"\"\"name,parent,level,category\n",
    "camel,Ungulata,1,land\n",
    "dolphin,Cetacea,1,sea\n",
    "whale,Cetacea,1,sea\n",
    "cow,Bovidae,1,land\n",
    "sheep,Caprinae,1,land\n",
    "goat,Caprinae,1,land\n",
    "Caprinae,Bovidae,2,group\n",
    "Bovidae,Cetartiodactyla,3,group\n",
    "Cetartiodactyla,Ungulata,4,group\n",
    "Cetacea,Cetartiodactyla,2,group\n",
    "Ungulata,,5,group\"\"\")\n",
    "\n",
    "animals = pd.read_csv(animal_csv)\n",
    "display(animals)\n"
   ]
  },
  {
   "cell_type": "code",
   "execution_count": 28,
   "metadata": {
    "colab": {
     "base_uri": "https://localhost:8080/",
     "height": 537
    },
    "executionInfo": {
     "elapsed": 790,
     "status": "ok",
     "timestamp": 1618922838444,
     "user": {
      "displayName": "Brona Brejova",
      "photoUrl": "https://lh3.googleusercontent.com/a-/AOh14GjGyr69ecECqZOZ-_5-o1v7SpP5TdLQGU7-pHl4UQ=s64",
      "userId": "10789993073610145432"
     },
     "user_tz": -120
    },
    "id": "nxwyep96f1Y2",
    "outputId": "31dbef9c-1719-493a-998e-5895df133285"
   },
   "outputs": [
    {
     "data": {
      "text/html": [
       "<html>\n",
       "<head>\n",
       "<link rel=\"stylesheet\" href=\"https://cdnjs.cloudflare.com/ajax/libs/vis/4.16.1/vis.css\" type=\"text/css\" />\n",
       "<script type=\"text/javascript\" src=\"https://cdnjs.cloudflare.com/ajax/libs/vis/4.16.1/vis-network.min.js\"> </script>\n",
       "<center>\n",
       "<h1></h1>\n",
       "</center>\n",
       "\n",
       "<!-- <link rel=\"stylesheet\" href=\"../node_modules/vis/dist/vis.min.css\" type=\"text/css\" />\n",
       "<script type=\"text/javascript\" src=\"../node_modules/vis/dist/vis.js\"> </script>-->\n",
       "\n",
       "<style type=\"text/css\">\n",
       "\n",
       "        #mynetwork {\n",
       "            width: 500px;\n",
       "            height: 500px;\n",
       "            background-color: ;\n",
       "            border: 1px solid lightgray;\n",
       "            position: relative;\n",
       "            float: left;\n",
       "        }\n",
       "\n",
       "        \n",
       "\n",
       "        \n",
       "\n",
       "        \n",
       "</style>\n",
       "\n",
       "</head>\n",
       "\n",
       "<body>\n",
       "<div id = \"mynetwork\"></div>\n",
       "\n",
       "\n",
       "<script type=\"text/javascript\">\n",
       "\n",
       "    // initialize global variables.\n",
       "    var edges;\n",
       "    var nodes;\n",
       "    var network; \n",
       "    var container;\n",
       "    var options, data;\n",
       "\n",
       "    \n",
       "    // This method is responsible for drawing the graph, returns the drawn network\n",
       "    function drawGraph() {\n",
       "        var container = document.getElementById('mynetwork');\n",
       "        \n",
       "        \n",
       "\n",
       "        // parsing and collecting nodes and edges from the python\n",
       "        nodes = new vis.DataSet([{\"id\": \"camel\", \"label\": \"camel\", \"level\": 1, \"shape\": \"dot\"}, {\"id\": \"dolphin\", \"label\": \"dolphin\", \"level\": 1, \"shape\": \"dot\"}, {\"id\": \"whale\", \"label\": \"whale\", \"level\": 1, \"shape\": \"dot\"}, {\"id\": \"cow\", \"label\": \"cow\", \"level\": 1, \"shape\": \"dot\"}, {\"id\": \"sheep\", \"label\": \"sheep\", \"level\": 1, \"shape\": \"dot\"}, {\"id\": \"goat\", \"label\": \"goat\", \"level\": 1, \"shape\": \"dot\"}, {\"id\": \"Caprinae\", \"label\": \"Caprinae\", \"level\": 2, \"shape\": \"dot\"}, {\"id\": \"Bovidae\", \"label\": \"Bovidae\", \"level\": 3, \"shape\": \"dot\"}, {\"id\": \"Cetartiodactyla\", \"label\": \"Cetartiodactyla\", \"level\": 4, \"shape\": \"dot\"}, {\"id\": \"Cetacea\", \"label\": \"Cetacea\", \"level\": 2, \"shape\": \"dot\"}, {\"id\": \"Ungulata\", \"label\": \"Ungulata\", \"level\": 5, \"shape\": \"dot\"}]);\n",
       "        edges = new vis.DataSet([{\"arrows\": \"to\", \"from\": \"Ungulata\", \"to\": \"camel\"}, {\"arrows\": \"to\", \"from\": \"Cetacea\", \"to\": \"dolphin\"}, {\"arrows\": \"to\", \"from\": \"Cetacea\", \"to\": \"whale\"}, {\"arrows\": \"to\", \"from\": \"Bovidae\", \"to\": \"cow\"}, {\"arrows\": \"to\", \"from\": \"Caprinae\", \"to\": \"sheep\"}, {\"arrows\": \"to\", \"from\": \"Caprinae\", \"to\": \"goat\"}, {\"arrows\": \"to\", \"from\": \"Bovidae\", \"to\": \"Caprinae\"}, {\"arrows\": \"to\", \"from\": \"Cetartiodactyla\", \"to\": \"Bovidae\"}, {\"arrows\": \"to\", \"from\": \"Ungulata\", \"to\": \"Cetartiodactyla\"}, {\"arrows\": \"to\", \"from\": \"Cetartiodactyla\", \"to\": \"Cetacea\"}]);\n",
       "\n",
       "        // adding nodes and edges to the graph\n",
       "        data = {nodes: nodes, edges: edges};\n",
       "\n",
       "        var options = {\n",
       "    \"configure\": {\n",
       "        \"enabled\": false\n",
       "    },\n",
       "    \"edges\": {\n",
       "        \"color\": {\n",
       "            \"inherit\": true\n",
       "        },\n",
       "        \"smooth\": {\n",
       "            \"enabled\": false,\n",
       "            \"type\": \"continuous\"\n",
       "        }\n",
       "    },\n",
       "    \"interaction\": {\n",
       "        \"dragNodes\": true,\n",
       "        \"hideEdgesOnDrag\": false,\n",
       "        \"hideNodesOnDrag\": false\n",
       "    },\n",
       "    \"layout\": {\n",
       "        \"hierarchical\": {\n",
       "            \"blockShifting\": true,\n",
       "            \"edgeMinimization\": true,\n",
       "            \"enabled\": true,\n",
       "            \"levelSeparation\": 150,\n",
       "            \"parentCentralization\": true,\n",
       "            \"sortMethod\": \"hubsize\",\n",
       "            \"treeSpacing\": 200\n",
       "        },\n",
       "        \"improvedLayout\": true,\n",
       "        \"randomSeed\": 0\n",
       "    },\n",
       "    \"physics\": {\n",
       "        \"enabled\": true,\n",
       "        \"stabilization\": {\n",
       "            \"enabled\": true,\n",
       "            \"fit\": true,\n",
       "            \"iterations\": 1000,\n",
       "            \"onlyDynamicEdges\": false,\n",
       "            \"updateInterval\": 50\n",
       "        }\n",
       "    }\n",
       "};\n",
       "        \n",
       "        \n",
       "\n",
       "        \n",
       "\n",
       "        network = new vis.Network(container, data, options);\n",
       "\t \n",
       "        \n",
       "\n",
       "\n",
       "        \n",
       "\n",
       "        return network;\n",
       "\n",
       "    }\n",
       "\n",
       "    drawGraph();\n",
       "\n",
       "</script>\n",
       "</body>\n",
       "</html>"
      ],
      "text/plain": [
       "<class 'pyvis.network.Network'> |N|=11 |E|=10"
      ]
     },
     "metadata": {
      "tags": []
     },
     "output_type": "display_data"
    }
   ],
   "source": [
    "# now we create and display the network\n",
    "net = Network(\"500px\", \"500px\", notebook=True, layout=True, directed=True)\n",
    "# adding each table row as a node\n",
    "for index, row in animals.iterrows():\n",
    "  net.add_node(row['name'], level=row['level'])\n",
    "# adding an edge to each node from its parent\n",
    "for index, row in animals.iterrows():\n",
    "  if row['parent'] is not np.nan:\n",
    "    net.add_edge(row['parent'], row['name'])\n",
    "# displaying the network\n",
    "display(net)"
   ]
  },
  {
   "cell_type": "markdown",
   "metadata": {
    "id": "48NJEeaeLenH"
   },
   "source": [
    "### Other graphs\n",
    "\n",
    "* For non-hierarchical graphs, do not use `layout=True` and `level`.\n",
    "* Here we use an example network from the [NetworkX](https://networkx.org/documentation/stable/index.html) library\n",
    "* It represents [character co-occurence](https://networkx.org/documentation/stable/reference/generated/networkx.generators.social.les_miserables_graph.html#networkx.generators.social.les_miserables_graph) in the novel Les Misérables by Victor Hugo.\n"
   ]
  },
  {
   "cell_type": "code",
   "execution_count": 25,
   "metadata": {
    "colab": {
     "base_uri": "https://localhost:8080/",
     "height": 537
    },
    "executionInfo": {
     "elapsed": 16666,
     "status": "ok",
     "timestamp": 1618922598871,
     "user": {
      "displayName": "Brona Brejova",
      "photoUrl": "https://lh3.googleusercontent.com/a-/AOh14GjGyr69ecECqZOZ-_5-o1v7SpP5TdLQGU7-pHl4UQ=s64",
      "userId": "10789993073610145432"
     },
     "user_tz": -120
    },
    "id": "IUR6VQHlL1r9",
    "outputId": "3b2d2fb4-26cb-4ea1-8ca8-287b605f7cb6"
   },
   "outputs": [
    {
     "data": {
      "text/html": [
       "<html>\n",
       "<head>\n",
       "<link rel=\"stylesheet\" href=\"https://cdnjs.cloudflare.com/ajax/libs/vis/4.16.1/vis.css\" type=\"text/css\" />\n",
       "<script type=\"text/javascript\" src=\"https://cdnjs.cloudflare.com/ajax/libs/vis/4.16.1/vis-network.min.js\"> </script>\n",
       "<center>\n",
       "<h1></h1>\n",
       "</center>\n",
       "\n",
       "<!-- <link rel=\"stylesheet\" href=\"../node_modules/vis/dist/vis.min.css\" type=\"text/css\" />\n",
       "<script type=\"text/javascript\" src=\"../node_modules/vis/dist/vis.js\"> </script>-->\n",
       "\n",
       "<style type=\"text/css\">\n",
       "\n",
       "        #mynetwork {\n",
       "            width: 500px;\n",
       "            height: 500px;\n",
       "            background-color: ;\n",
       "            border: 1px solid lightgray;\n",
       "            position: relative;\n",
       "            float: left;\n",
       "        }\n",
       "\n",
       "        \n",
       "\n",
       "        \n",
       "\n",
       "        \n",
       "</style>\n",
       "\n",
       "</head>\n",
       "\n",
       "<body>\n",
       "<div id = \"mynetwork\"></div>\n",
       "\n",
       "\n",
       "<script type=\"text/javascript\">\n",
       "\n",
       "    // initialize global variables.\n",
       "    var edges;\n",
       "    var nodes;\n",
       "    var network; \n",
       "    var container;\n",
       "    var options, data;\n",
       "\n",
       "    \n",
       "    // This method is responsible for drawing the graph, returns the drawn network\n",
       "    function drawGraph() {\n",
       "        var container = document.getElementById('mynetwork');\n",
       "        \n",
       "        \n",
       "\n",
       "        // parsing and collecting nodes and edges from the python\n",
       "        nodes = new vis.DataSet([{\"id\": \"Napoleon\", \"label\": \"Napoleon\", \"shape\": \"dot\", \"size\": 10}, {\"id\": \"Myriel\", \"label\": \"Myriel\", \"shape\": \"dot\", \"size\": 10}, {\"id\": \"MlleBaptistine\", \"label\": \"MlleBaptistine\", \"shape\": \"dot\", \"size\": 10}, {\"id\": \"MmeMagloire\", \"label\": \"MmeMagloire\", \"shape\": \"dot\", \"size\": 10}, {\"id\": \"CountessDeLo\", \"label\": \"CountessDeLo\", \"shape\": \"dot\", \"size\": 10}, {\"id\": \"Geborand\", \"label\": \"Geborand\", \"shape\": \"dot\", \"size\": 10}, {\"id\": \"Champtercier\", \"label\": \"Champtercier\", \"shape\": \"dot\", \"size\": 10}, {\"id\": \"Cravatte\", \"label\": \"Cravatte\", \"shape\": \"dot\", \"size\": 10}, {\"id\": \"Count\", \"label\": \"Count\", \"shape\": \"dot\", \"size\": 10}, {\"id\": \"OldMan\", \"label\": \"OldMan\", \"shape\": \"dot\", \"size\": 10}, {\"id\": \"Valjean\", \"label\": \"Valjean\", \"shape\": \"dot\", \"size\": 10}, {\"id\": \"Labarre\", \"label\": \"Labarre\", \"shape\": \"dot\", \"size\": 10}, {\"id\": \"Marguerite\", \"label\": \"Marguerite\", \"shape\": \"dot\", \"size\": 10}, {\"id\": \"MmeDeR\", \"label\": \"MmeDeR\", \"shape\": \"dot\", \"size\": 10}, {\"id\": \"Isabeau\", \"label\": \"Isabeau\", \"shape\": \"dot\", \"size\": 10}, {\"id\": \"Gervais\", \"label\": \"Gervais\", \"shape\": \"dot\", \"size\": 10}, {\"id\": \"Fantine\", \"label\": \"Fantine\", \"shape\": \"dot\", \"size\": 10}, {\"id\": \"MmeThenardier\", \"label\": \"MmeThenardier\", \"shape\": \"dot\", \"size\": 10}, {\"id\": \"Thenardier\", \"label\": \"Thenardier\", \"shape\": \"dot\", \"size\": 10}, {\"id\": \"Cosette\", \"label\": \"Cosette\", \"shape\": \"dot\", \"size\": 10}, {\"id\": \"Javert\", \"label\": \"Javert\", \"shape\": \"dot\", \"size\": 10}, {\"id\": \"Fauchelevent\", \"label\": \"Fauchelevent\", \"shape\": \"dot\", \"size\": 10}, {\"id\": \"Bamatabois\", \"label\": \"Bamatabois\", \"shape\": \"dot\", \"size\": 10}, {\"id\": \"Simplice\", \"label\": \"Simplice\", \"shape\": \"dot\", \"size\": 10}, {\"id\": \"Scaufflaire\", \"label\": \"Scaufflaire\", \"shape\": \"dot\", \"size\": 10}, {\"id\": \"Woman1\", \"label\": \"Woman1\", \"shape\": \"dot\", \"size\": 10}, {\"id\": \"Judge\", \"label\": \"Judge\", \"shape\": \"dot\", \"size\": 10}, {\"id\": \"Champmathieu\", \"label\": \"Champmathieu\", \"shape\": \"dot\", \"size\": 10}, {\"id\": \"Brevet\", \"label\": \"Brevet\", \"shape\": \"dot\", \"size\": 10}, {\"id\": \"Chenildieu\", \"label\": \"Chenildieu\", \"shape\": \"dot\", \"size\": 10}, {\"id\": \"Cochepaille\", \"label\": \"Cochepaille\", \"shape\": \"dot\", \"size\": 10}, {\"id\": \"Woman2\", \"label\": \"Woman2\", \"shape\": \"dot\", \"size\": 10}, {\"id\": \"MotherInnocent\", \"label\": \"MotherInnocent\", \"shape\": \"dot\", \"size\": 10}, {\"id\": \"Gavroche\", \"label\": \"Gavroche\", \"shape\": \"dot\", \"size\": 10}, {\"id\": \"Gillenormand\", \"label\": \"Gillenormand\", \"shape\": \"dot\", \"size\": 10}, {\"id\": \"MlleGillenormand\", \"label\": \"MlleGillenormand\", \"shape\": \"dot\", \"size\": 10}, {\"id\": \"Marius\", \"label\": \"Marius\", \"shape\": \"dot\", \"size\": 10}, {\"id\": \"Enjolras\", \"label\": \"Enjolras\", \"shape\": \"dot\", \"size\": 10}, {\"id\": \"Bossuet\", \"label\": \"Bossuet\", \"shape\": \"dot\", \"size\": 10}, {\"id\": \"Gueulemer\", \"label\": \"Gueulemer\", \"shape\": \"dot\", \"size\": 10}, {\"id\": \"Babet\", \"label\": \"Babet\", \"shape\": \"dot\", \"size\": 10}, {\"id\": \"Claquesous\", \"label\": \"Claquesous\", \"shape\": \"dot\", \"size\": 10}, {\"id\": \"Montparnasse\", \"label\": \"Montparnasse\", \"shape\": \"dot\", \"size\": 10}, {\"id\": \"Toussaint\", \"label\": \"Toussaint\", \"shape\": \"dot\", \"size\": 10}, {\"id\": \"Listolier\", \"label\": \"Listolier\", \"shape\": \"dot\", \"size\": 10}, {\"id\": \"Tholomyes\", \"label\": \"Tholomyes\", \"shape\": \"dot\", \"size\": 10}, {\"id\": \"Fameuil\", \"label\": \"Fameuil\", \"shape\": \"dot\", \"size\": 10}, {\"id\": \"Blacheville\", \"label\": \"Blacheville\", \"shape\": \"dot\", \"size\": 10}, {\"id\": \"Favourite\", \"label\": \"Favourite\", \"shape\": \"dot\", \"size\": 10}, {\"id\": \"Dahlia\", \"label\": \"Dahlia\", \"shape\": \"dot\", \"size\": 10}, {\"id\": \"Zephine\", \"label\": \"Zephine\", \"shape\": \"dot\", \"size\": 10}, {\"id\": \"Perpetue\", \"label\": \"Perpetue\", \"shape\": \"dot\", \"size\": 10}, {\"id\": \"Eponine\", \"label\": \"Eponine\", \"shape\": \"dot\", \"size\": 10}, {\"id\": \"Anzelma\", \"label\": \"Anzelma\", \"shape\": \"dot\", \"size\": 10}, {\"id\": \"Magnon\", \"label\": \"Magnon\", \"shape\": \"dot\", \"size\": 10}, {\"id\": \"Pontmercy\", \"label\": \"Pontmercy\", \"shape\": \"dot\", \"size\": 10}, {\"id\": \"Boulatruelle\", \"label\": \"Boulatruelle\", \"shape\": \"dot\", \"size\": 10}, {\"id\": \"Brujon\", \"label\": \"Brujon\", \"shape\": \"dot\", \"size\": 10}, {\"id\": \"LtGillenormand\", \"label\": \"LtGillenormand\", \"shape\": \"dot\", \"size\": 10}, {\"id\": \"Gribier\", \"label\": \"Gribier\", \"shape\": \"dot\", \"size\": 10}, {\"id\": \"MmePontmercy\", \"label\": \"MmePontmercy\", \"shape\": \"dot\", \"size\": 10}, {\"id\": \"Mabeuf\", \"label\": \"Mabeuf\", \"shape\": \"dot\", \"size\": 10}, {\"id\": \"Courfeyrac\", \"label\": \"Courfeyrac\", \"shape\": \"dot\", \"size\": 10}, {\"id\": \"MmeBurgon\", \"label\": \"MmeBurgon\", \"shape\": \"dot\", \"size\": 10}, {\"id\": \"Jondrette\", \"label\": \"Jondrette\", \"shape\": \"dot\", \"size\": 10}, {\"id\": \"Combeferre\", \"label\": \"Combeferre\", \"shape\": \"dot\", \"size\": 10}, {\"id\": \"Prouvaire\", \"label\": \"Prouvaire\", \"shape\": \"dot\", \"size\": 10}, {\"id\": \"Feuilly\", \"label\": \"Feuilly\", \"shape\": \"dot\", \"size\": 10}, {\"id\": \"Bahorel\", \"label\": \"Bahorel\", \"shape\": \"dot\", \"size\": 10}, {\"id\": \"Joly\", \"label\": \"Joly\", \"shape\": \"dot\", \"size\": 10}, {\"id\": \"Grantaire\", \"label\": \"Grantaire\", \"shape\": \"dot\", \"size\": 10}, {\"id\": \"Child1\", \"label\": \"Child1\", \"shape\": \"dot\", \"size\": 10}, {\"id\": \"Child2\", \"label\": \"Child2\", \"shape\": \"dot\", \"size\": 10}, {\"id\": \"MmeHucheloup\", \"label\": \"MmeHucheloup\", \"shape\": \"dot\", \"size\": 10}, {\"id\": \"BaronessT\", \"label\": \"BaronessT\", \"shape\": \"dot\", \"size\": 10}, {\"id\": \"MlleVaubois\", \"label\": \"MlleVaubois\", \"shape\": \"dot\", \"size\": 10}, {\"id\": \"MotherPlutarch\", \"label\": \"MotherPlutarch\", \"shape\": \"dot\", \"size\": 10}]);\n",
       "        edges = new vis.DataSet([{\"from\": \"Napoleon\", \"to\": \"Myriel\", \"weight\": 1}, {\"from\": \"Myriel\", \"to\": \"MlleBaptistine\", \"weight\": 8}, {\"from\": \"Myriel\", \"to\": \"MmeMagloire\", \"weight\": 10}, {\"from\": \"Myriel\", \"to\": \"CountessDeLo\", \"weight\": 1}, {\"from\": \"Myriel\", \"to\": \"Geborand\", \"weight\": 1}, {\"from\": \"Myriel\", \"to\": \"Champtercier\", \"weight\": 1}, {\"from\": \"Myriel\", \"to\": \"Cravatte\", \"weight\": 1}, {\"from\": \"Myriel\", \"to\": \"Count\", \"weight\": 2}, {\"from\": \"Myriel\", \"to\": \"OldMan\", \"weight\": 1}, {\"from\": \"Myriel\", \"to\": \"Valjean\", \"weight\": 5}, {\"from\": \"MlleBaptistine\", \"to\": \"MmeMagloire\", \"weight\": 6}, {\"from\": \"MlleBaptistine\", \"to\": \"Valjean\", \"weight\": 3}, {\"from\": \"MmeMagloire\", \"to\": \"Valjean\", \"weight\": 3}, {\"from\": \"Valjean\", \"to\": \"Labarre\", \"weight\": 1}, {\"from\": \"Valjean\", \"to\": \"Marguerite\", \"weight\": 1}, {\"from\": \"Valjean\", \"to\": \"MmeDeR\", \"weight\": 1}, {\"from\": \"Valjean\", \"to\": \"Isabeau\", \"weight\": 1}, {\"from\": \"Valjean\", \"to\": \"Gervais\", \"weight\": 1}, {\"from\": \"Valjean\", \"to\": \"Fantine\", \"weight\": 9}, {\"from\": \"Valjean\", \"to\": \"MmeThenardier\", \"weight\": 7}, {\"from\": \"Valjean\", \"to\": \"Thenardier\", \"weight\": 12}, {\"from\": \"Valjean\", \"to\": \"Cosette\", \"weight\": 31}, {\"from\": \"Valjean\", \"to\": \"Javert\", \"weight\": 17}, {\"from\": \"Valjean\", \"to\": \"Fauchelevent\", \"weight\": 8}, {\"from\": \"Valjean\", \"to\": \"Bamatabois\", \"weight\": 2}, {\"from\": \"Valjean\", \"to\": \"Simplice\", \"weight\": 3}, {\"from\": \"Valjean\", \"to\": \"Scaufflaire\", \"weight\": 1}, {\"from\": \"Valjean\", \"to\": \"Woman1\", \"weight\": 2}, {\"from\": \"Valjean\", \"to\": \"Judge\", \"weight\": 3}, {\"from\": \"Valjean\", \"to\": \"Champmathieu\", \"weight\": 3}, {\"from\": \"Valjean\", \"to\": \"Brevet\", \"weight\": 2}, {\"from\": \"Valjean\", \"to\": \"Chenildieu\", \"weight\": 2}, {\"from\": \"Valjean\", \"to\": \"Cochepaille\", \"weight\": 2}, {\"from\": \"Valjean\", \"to\": \"Woman2\", \"weight\": 3}, {\"from\": \"Valjean\", \"to\": \"MotherInnocent\", \"weight\": 1}, {\"from\": \"Valjean\", \"to\": \"Gavroche\", \"weight\": 1}, {\"from\": \"Valjean\", \"to\": \"Gillenormand\", \"weight\": 2}, {\"from\": \"Valjean\", \"to\": \"MlleGillenormand\", \"weight\": 2}, {\"from\": \"Valjean\", \"to\": \"Marius\", \"weight\": 19}, {\"from\": \"Valjean\", \"to\": \"Enjolras\", \"weight\": 4}, {\"from\": \"Valjean\", \"to\": \"Bossuet\", \"weight\": 1}, {\"from\": \"Valjean\", \"to\": \"Gueulemer\", \"weight\": 1}, {\"from\": \"Valjean\", \"to\": \"Babet\", \"weight\": 1}, {\"from\": \"Valjean\", \"to\": \"Claquesous\", \"weight\": 1}, {\"from\": \"Valjean\", \"to\": \"Montparnasse\", \"weight\": 1}, {\"from\": \"Valjean\", \"to\": \"Toussaint\", \"weight\": 1}, {\"from\": \"Marguerite\", \"to\": \"Fantine\", \"weight\": 2}, {\"from\": \"Listolier\", \"to\": \"Tholomyes\", \"weight\": 4}, {\"from\": \"Listolier\", \"to\": \"Fameuil\", \"weight\": 4}, {\"from\": \"Listolier\", \"to\": \"Blacheville\", \"weight\": 4}, {\"from\": \"Listolier\", \"to\": \"Favourite\", \"weight\": 3}, {\"from\": \"Listolier\", \"to\": \"Dahlia\", \"weight\": 3}, {\"from\": \"Listolier\", \"to\": \"Zephine\", \"weight\": 3}, {\"from\": \"Listolier\", \"to\": \"Fantine\", \"weight\": 3}, {\"from\": \"Tholomyes\", \"to\": \"Fameuil\", \"weight\": 4}, {\"from\": \"Tholomyes\", \"to\": \"Blacheville\", \"weight\": 4}, {\"from\": \"Tholomyes\", \"to\": \"Favourite\", \"weight\": 3}, {\"from\": \"Tholomyes\", \"to\": \"Dahlia\", \"weight\": 3}, {\"from\": \"Tholomyes\", \"to\": \"Zephine\", \"weight\": 3}, {\"from\": \"Tholomyes\", \"to\": \"Fantine\", \"weight\": 3}, {\"from\": \"Tholomyes\", \"to\": \"Cosette\", \"weight\": 1}, {\"from\": \"Tholomyes\", \"to\": \"Marius\", \"weight\": 1}, {\"from\": \"Fameuil\", \"to\": \"Blacheville\", \"weight\": 4}, {\"from\": \"Fameuil\", \"to\": \"Favourite\", \"weight\": 3}, {\"from\": \"Fameuil\", \"to\": \"Dahlia\", \"weight\": 3}, {\"from\": \"Fameuil\", \"to\": \"Zephine\", \"weight\": 3}, {\"from\": \"Fameuil\", \"to\": \"Fantine\", \"weight\": 3}, {\"from\": \"Blacheville\", \"to\": \"Favourite\", \"weight\": 4}, {\"from\": \"Blacheville\", \"to\": \"Dahlia\", \"weight\": 3}, {\"from\": \"Blacheville\", \"to\": \"Zephine\", \"weight\": 3}, {\"from\": \"Blacheville\", \"to\": \"Fantine\", \"weight\": 3}, {\"from\": \"Favourite\", \"to\": \"Dahlia\", \"weight\": 5}, {\"from\": \"Favourite\", \"to\": \"Zephine\", \"weight\": 4}, {\"from\": \"Favourite\", \"to\": \"Fantine\", \"weight\": 4}, {\"from\": \"Dahlia\", \"to\": \"Zephine\", \"weight\": 4}, {\"from\": \"Dahlia\", \"to\": \"Fantine\", \"weight\": 4}, {\"from\": \"Zephine\", \"to\": \"Fantine\", \"weight\": 4}, {\"from\": \"Fantine\", \"to\": \"MmeThenardier\", \"weight\": 2}, {\"from\": \"Fantine\", \"to\": \"Thenardier\", \"weight\": 1}, {\"from\": \"Fantine\", \"to\": \"Javert\", \"weight\": 5}, {\"from\": \"Fantine\", \"to\": \"Bamatabois\", \"weight\": 1}, {\"from\": \"Fantine\", \"to\": \"Perpetue\", \"weight\": 1}, {\"from\": \"Fantine\", \"to\": \"Simplice\", \"weight\": 2}, {\"from\": \"MmeThenardier\", \"to\": \"Thenardier\", \"weight\": 13}, {\"from\": \"MmeThenardier\", \"to\": \"Cosette\", \"weight\": 4}, {\"from\": \"MmeThenardier\", \"to\": \"Javert\", \"weight\": 1}, {\"from\": \"MmeThenardier\", \"to\": \"Eponine\", \"weight\": 2}, {\"from\": \"MmeThenardier\", \"to\": \"Anzelma\", \"weight\": 1}, {\"from\": \"MmeThenardier\", \"to\": \"Magnon\", \"weight\": 1}, {\"from\": \"MmeThenardier\", \"to\": \"Gueulemer\", \"weight\": 1}, {\"from\": \"MmeThenardier\", \"to\": \"Babet\", \"weight\": 1}, {\"from\": \"MmeThenardier\", \"to\": \"Claquesous\", \"weight\": 1}, {\"from\": \"Thenardier\", \"to\": \"Cosette\", \"weight\": 1}, {\"from\": \"Thenardier\", \"to\": \"Javert\", \"weight\": 5}, {\"from\": \"Thenardier\", \"to\": \"Pontmercy\", \"weight\": 1}, {\"from\": \"Thenardier\", \"to\": \"Boulatruelle\", \"weight\": 1}, {\"from\": \"Thenardier\", \"to\": \"Eponine\", \"weight\": 3}, {\"from\": \"Thenardier\", \"to\": \"Anzelma\", \"weight\": 2}, {\"from\": \"Thenardier\", \"to\": \"Gavroche\", \"weight\": 1}, {\"from\": \"Thenardier\", \"to\": \"Marius\", \"weight\": 2}, {\"from\": \"Thenardier\", \"to\": \"Gueulemer\", \"weight\": 5}, {\"from\": \"Thenardier\", \"to\": \"Babet\", \"weight\": 6}, {\"from\": \"Thenardier\", \"to\": \"Claquesous\", \"weight\": 4}, {\"from\": \"Thenardier\", \"to\": \"Montparnasse\", \"weight\": 1}, {\"from\": \"Thenardier\", \"to\": \"Brujon\", \"weight\": 3}, {\"from\": \"Cosette\", \"to\": \"Javert\", \"weight\": 1}, {\"from\": \"Cosette\", \"to\": \"Woman2\", \"weight\": 1}, {\"from\": \"Cosette\", \"to\": \"Gillenormand\", \"weight\": 3}, {\"from\": \"Cosette\", \"to\": \"MlleGillenormand\", \"weight\": 2}, {\"from\": \"Cosette\", \"to\": \"LtGillenormand\", \"weight\": 1}, {\"from\": \"Cosette\", \"to\": \"Marius\", \"weight\": 21}, {\"from\": \"Cosette\", \"to\": \"Toussaint\", \"weight\": 2}, {\"from\": \"Javert\", \"to\": \"Fauchelevent\", \"weight\": 1}, {\"from\": \"Javert\", \"to\": \"Bamatabois\", \"weight\": 1}, {\"from\": \"Javert\", \"to\": \"Simplice\", \"weight\": 1}, {\"from\": \"Javert\", \"to\": \"Woman1\", \"weight\": 1}, {\"from\": \"Javert\", \"to\": \"Woman2\", \"weight\": 1}, {\"from\": \"Javert\", \"to\": \"Gavroche\", \"weight\": 1}, {\"from\": \"Javert\", \"to\": \"Enjolras\", \"weight\": 6}, {\"from\": \"Javert\", \"to\": \"Gueulemer\", \"weight\": 1}, {\"from\": \"Javert\", \"to\": \"Babet\", \"weight\": 2}, {\"from\": \"Javert\", \"to\": \"Claquesous\", \"weight\": 1}, {\"from\": \"Javert\", \"to\": \"Montparnasse\", \"weight\": 1}, {\"from\": \"Javert\", \"to\": \"Toussaint\", \"weight\": 1}, {\"from\": \"Fauchelevent\", \"to\": \"MotherInnocent\", \"weight\": 3}, {\"from\": \"Fauchelevent\", \"to\": \"Gribier\", \"weight\": 2}, {\"from\": \"Bamatabois\", \"to\": \"Judge\", \"weight\": 2}, {\"from\": \"Bamatabois\", \"to\": \"Champmathieu\", \"weight\": 2}, {\"from\": \"Bamatabois\", \"to\": \"Brevet\", \"weight\": 1}, {\"from\": \"Bamatabois\", \"to\": \"Chenildieu\", \"weight\": 1}, {\"from\": \"Bamatabois\", \"to\": \"Cochepaille\", \"weight\": 1}, {\"from\": \"Perpetue\", \"to\": \"Simplice\", \"weight\": 2}, {\"from\": \"Judge\", \"to\": \"Champmathieu\", \"weight\": 3}, {\"from\": \"Judge\", \"to\": \"Brevet\", \"weight\": 2}, {\"from\": \"Judge\", \"to\": \"Chenildieu\", \"weight\": 2}, {\"from\": \"Judge\", \"to\": \"Cochepaille\", \"weight\": 2}, {\"from\": \"Champmathieu\", \"to\": \"Brevet\", \"weight\": 2}, {\"from\": \"Champmathieu\", \"to\": \"Chenildieu\", \"weight\": 2}, {\"from\": \"Champmathieu\", \"to\": \"Cochepaille\", \"weight\": 2}, {\"from\": \"Brevet\", \"to\": \"Chenildieu\", \"weight\": 2}, {\"from\": \"Brevet\", \"to\": \"Cochepaille\", \"weight\": 2}, {\"from\": \"Chenildieu\", \"to\": \"Cochepaille\", \"weight\": 2}, {\"from\": \"Pontmercy\", \"to\": \"MmePontmercy\", \"weight\": 1}, {\"from\": \"Pontmercy\", \"to\": \"Marius\", \"weight\": 1}, {\"from\": \"Eponine\", \"to\": \"Anzelma\", \"weight\": 2}, {\"from\": \"Eponine\", \"to\": \"Marius\", \"weight\": 5}, {\"from\": \"Eponine\", \"to\": \"Mabeuf\", \"weight\": 1}, {\"from\": \"Eponine\", \"to\": \"Courfeyrac\", \"weight\": 1}, {\"from\": \"Eponine\", \"to\": \"Gueulemer\", \"weight\": 1}, {\"from\": \"Eponine\", \"to\": \"Babet\", \"weight\": 1}, {\"from\": \"Eponine\", \"to\": \"Claquesous\", \"weight\": 1}, {\"from\": \"Eponine\", \"to\": \"Montparnasse\", \"weight\": 1}, {\"from\": \"Eponine\", \"to\": \"Brujon\", \"weight\": 1}, {\"from\": \"MmeBurgon\", \"to\": \"Jondrette\", \"weight\": 1}, {\"from\": \"MmeBurgon\", \"to\": \"Gavroche\", \"weight\": 2}, {\"from\": \"Gavroche\", \"to\": \"Marius\", \"weight\": 4}, {\"from\": \"Gavroche\", \"to\": \"Mabeuf\", \"weight\": 1}, {\"from\": \"Gavroche\", \"to\": \"Enjolras\", \"weight\": 7}, {\"from\": \"Gavroche\", \"to\": \"Combeferre\", \"weight\": 6}, {\"from\": \"Gavroche\", \"to\": \"Prouvaire\", \"weight\": 1}, {\"from\": \"Gavroche\", \"to\": \"Feuilly\", \"weight\": 2}, {\"from\": \"Gavroche\", \"to\": \"Courfeyrac\", \"weight\": 7}, {\"from\": \"Gavroche\", \"to\": \"Bahorel\", \"weight\": 5}, {\"from\": \"Gavroche\", \"to\": \"Bossuet\", \"weight\": 5}, {\"from\": \"Gavroche\", \"to\": \"Joly\", \"weight\": 3}, {\"from\": \"Gavroche\", \"to\": \"Grantaire\", \"weight\": 1}, {\"from\": \"Gavroche\", \"to\": \"Gueulemer\", \"weight\": 1}, {\"from\": \"Gavroche\", \"to\": \"Babet\", \"weight\": 1}, {\"from\": \"Gavroche\", \"to\": \"Montparnasse\", \"weight\": 1}, {\"from\": \"Gavroche\", \"to\": \"Child1\", \"weight\": 2}, {\"from\": \"Gavroche\", \"to\": \"Child2\", \"weight\": 2}, {\"from\": \"Gavroche\", \"to\": \"Brujon\", \"weight\": 1}, {\"from\": \"Gavroche\", \"to\": \"MmeHucheloup\", \"weight\": 1}, {\"from\": \"Gillenormand\", \"to\": \"Magnon\", \"weight\": 1}, {\"from\": \"Gillenormand\", \"to\": \"MlleGillenormand\", \"weight\": 9}, {\"from\": \"Gillenormand\", \"to\": \"LtGillenormand\", \"weight\": 1}, {\"from\": \"Gillenormand\", \"to\": \"Marius\", \"weight\": 12}, {\"from\": \"Gillenormand\", \"to\": \"BaronessT\", \"weight\": 1}, {\"from\": \"MlleGillenormand\", \"to\": \"MmePontmercy\", \"weight\": 1}, {\"from\": \"MlleGillenormand\", \"to\": \"MlleVaubois\", \"weight\": 1}, {\"from\": \"MlleGillenormand\", \"to\": \"LtGillenormand\", \"weight\": 2}, {\"from\": \"MlleGillenormand\", \"to\": \"Marius\", \"weight\": 6}, {\"from\": \"LtGillenormand\", \"to\": \"Marius\", \"weight\": 1}, {\"from\": \"Marius\", \"to\": \"BaronessT\", \"weight\": 1}, {\"from\": \"Marius\", \"to\": \"Mabeuf\", \"weight\": 1}, {\"from\": \"Marius\", \"to\": \"Enjolras\", \"weight\": 7}, {\"from\": \"Marius\", \"to\": \"Combeferre\", \"weight\": 5}, {\"from\": \"Marius\", \"to\": \"Feuilly\", \"weight\": 1}, {\"from\": \"Marius\", \"to\": \"Courfeyrac\", \"weight\": 9}, {\"from\": \"Marius\", \"to\": \"Bahorel\", \"weight\": 1}, {\"from\": \"Marius\", \"to\": \"Bossuet\", \"weight\": 5}, {\"from\": \"Marius\", \"to\": \"Joly\", \"weight\": 2}, {\"from\": \"Mabeuf\", \"to\": \"Enjolras\", \"weight\": 1}, {\"from\": \"Mabeuf\", \"to\": \"Combeferre\", \"weight\": 2}, {\"from\": \"Mabeuf\", \"to\": \"Feuilly\", \"weight\": 1}, {\"from\": \"Mabeuf\", \"to\": \"Courfeyrac\", \"weight\": 2}, {\"from\": \"Mabeuf\", \"to\": \"Bahorel\", \"weight\": 2}, {\"from\": \"Mabeuf\", \"to\": \"Bossuet\", \"weight\": 1}, {\"from\": \"Mabeuf\", \"to\": \"Joly\", \"weight\": 1}, {\"from\": \"Mabeuf\", \"to\": \"MotherPlutarch\", \"weight\": 3}, {\"from\": \"Enjolras\", \"to\": \"Combeferre\", \"weight\": 15}, {\"from\": \"Enjolras\", \"to\": \"Prouvaire\", \"weight\": 4}, {\"from\": \"Enjolras\", \"to\": \"Feuilly\", \"weight\": 6}, {\"from\": \"Enjolras\", \"to\": \"Courfeyrac\", \"weight\": 17}, {\"from\": \"Enjolras\", \"to\": \"Bahorel\", \"weight\": 4}, {\"from\": \"Enjolras\", \"to\": \"Bossuet\", \"weight\": 10}, {\"from\": \"Enjolras\", \"to\": \"Joly\", \"weight\": 5}, {\"from\": \"Enjolras\", \"to\": \"Grantaire\", \"weight\": 3}, {\"from\": \"Enjolras\", \"to\": \"Claquesous\", \"weight\": 1}, {\"from\": \"Enjolras\", \"to\": \"MmeHucheloup\", \"weight\": 1}, {\"from\": \"Combeferre\", \"to\": \"Prouvaire\", \"weight\": 2}, {\"from\": \"Combeferre\", \"to\": \"Feuilly\", \"weight\": 5}, {\"from\": \"Combeferre\", \"to\": \"Courfeyrac\", \"weight\": 13}, {\"from\": \"Combeferre\", \"to\": \"Bahorel\", \"weight\": 5}, {\"from\": \"Combeferre\", \"to\": \"Bossuet\", \"weight\": 9}, {\"from\": \"Combeferre\", \"to\": \"Joly\", \"weight\": 5}, {\"from\": \"Combeferre\", \"to\": \"Grantaire\", \"weight\": 1}, {\"from\": \"Prouvaire\", \"to\": \"Feuilly\", \"weight\": 2}, {\"from\": \"Prouvaire\", \"to\": \"Courfeyrac\", \"weight\": 3}, {\"from\": \"Prouvaire\", \"to\": \"Bahorel\", \"weight\": 2}, {\"from\": \"Prouvaire\", \"to\": \"Bossuet\", \"weight\": 2}, {\"from\": \"Prouvaire\", \"to\": \"Joly\", \"weight\": 2}, {\"from\": \"Prouvaire\", \"to\": \"Grantaire\", \"weight\": 1}, {\"from\": \"Feuilly\", \"to\": \"Courfeyrac\", \"weight\": 6}, {\"from\": \"Feuilly\", \"to\": \"Bahorel\", \"weight\": 3}, {\"from\": \"Feuilly\", \"to\": \"Bossuet\", \"weight\": 6}, {\"from\": \"Feuilly\", \"to\": \"Joly\", \"weight\": 5}, {\"from\": \"Feuilly\", \"to\": \"Grantaire\", \"weight\": 1}, {\"from\": \"Courfeyrac\", \"to\": \"Bahorel\", \"weight\": 6}, {\"from\": \"Courfeyrac\", \"to\": \"Bossuet\", \"weight\": 12}, {\"from\": \"Courfeyrac\", \"to\": \"Joly\", \"weight\": 5}, {\"from\": \"Courfeyrac\", \"to\": \"Grantaire\", \"weight\": 2}, {\"from\": \"Courfeyrac\", \"to\": \"MmeHucheloup\", \"weight\": 1}, {\"from\": \"Bahorel\", \"to\": \"Bossuet\", \"weight\": 4}, {\"from\": \"Bahorel\", \"to\": \"Joly\", \"weight\": 5}, {\"from\": \"Bahorel\", \"to\": \"Grantaire\", \"weight\": 1}, {\"from\": \"Bahorel\", \"to\": \"MmeHucheloup\", \"weight\": 1}, {\"from\": \"Bossuet\", \"to\": \"Joly\", \"weight\": 7}, {\"from\": \"Bossuet\", \"to\": \"Grantaire\", \"weight\": 3}, {\"from\": \"Bossuet\", \"to\": \"MmeHucheloup\", \"weight\": 1}, {\"from\": \"Joly\", \"to\": \"Grantaire\", \"weight\": 2}, {\"from\": \"Joly\", \"to\": \"MmeHucheloup\", \"weight\": 1}, {\"from\": \"Grantaire\", \"to\": \"MmeHucheloup\", \"weight\": 1}, {\"from\": \"Gueulemer\", \"to\": \"Babet\", \"weight\": 6}, {\"from\": \"Gueulemer\", \"to\": \"Claquesous\", \"weight\": 4}, {\"from\": \"Gueulemer\", \"to\": \"Montparnasse\", \"weight\": 2}, {\"from\": \"Gueulemer\", \"to\": \"Brujon\", \"weight\": 3}, {\"from\": \"Babet\", \"to\": \"Claquesous\", \"weight\": 4}, {\"from\": \"Babet\", \"to\": \"Montparnasse\", \"weight\": 2}, {\"from\": \"Babet\", \"to\": \"Brujon\", \"weight\": 3}, {\"from\": \"Claquesous\", \"to\": \"Montparnasse\", \"weight\": 2}, {\"from\": \"Claquesous\", \"to\": \"Brujon\", \"weight\": 1}, {\"from\": \"Montparnasse\", \"to\": \"Brujon\", \"weight\": 1}, {\"from\": \"Child1\", \"to\": \"Child2\", \"weight\": 3}]);\n",
       "\n",
       "        // adding nodes and edges to the graph\n",
       "        data = {nodes: nodes, edges: edges};\n",
       "\n",
       "        var options = {\n",
       "    \"configure\": {\n",
       "        \"enabled\": false\n",
       "    },\n",
       "    \"edges\": {\n",
       "        \"color\": {\n",
       "            \"inherit\": true\n",
       "        },\n",
       "        \"smooth\": {\n",
       "            \"enabled\": false,\n",
       "            \"type\": \"continuous\"\n",
       "        }\n",
       "    },\n",
       "    \"interaction\": {\n",
       "        \"dragNodes\": true,\n",
       "        \"hideEdgesOnDrag\": false,\n",
       "        \"hideNodesOnDrag\": false\n",
       "    },\n",
       "    \"physics\": {\n",
       "        \"enabled\": true,\n",
       "        \"stabilization\": {\n",
       "            \"enabled\": true,\n",
       "            \"fit\": true,\n",
       "            \"iterations\": 1000,\n",
       "            \"onlyDynamicEdges\": false,\n",
       "            \"updateInterval\": 50\n",
       "        }\n",
       "    }\n",
       "};\n",
       "        \n",
       "        \n",
       "\n",
       "        \n",
       "\n",
       "        network = new vis.Network(container, data, options);\n",
       "\t \n",
       "        \n",
       "\n",
       "\n",
       "        \n",
       "\n",
       "        return network;\n",
       "\n",
       "    }\n",
       "\n",
       "    drawGraph();\n",
       "\n",
       "</script>\n",
       "</body>\n",
       "</html>"
      ],
      "text/plain": [
       "<class 'pyvis.network.Network'> |N|=77 |E|=254"
      ]
     },
     "metadata": {
      "tags": []
     },
     "output_type": "display_data"
    }
   ],
   "source": [
    "import networkx as nx\n",
    "net2 = Network(\"500px\", \"500px\", notebook=True)\n",
    "net2.from_nx(nx.les_miserables_graph())\n",
    "display(net2)"
   ]
  },
  {
   "cell_type": "markdown",
   "metadata": {
    "id": "proCBaQ2NzcE"
   },
   "source": [
    "## Hierarchy as a Treemap in Plotly Express\n",
    "\n",
    "* https://plotly.com/python/treemaps/"
   ]
  },
  {
   "cell_type": "code",
   "execution_count": 26,
   "metadata": {
    "colab": {
     "base_uri": "https://localhost:8080/",
     "height": 542
    },
    "executionInfo": {
     "elapsed": 16662,
     "status": "ok",
     "timestamp": 1618922598872,
     "user": {
      "displayName": "Brona Brejova",
      "photoUrl": "https://lh3.googleusercontent.com/a-/AOh14GjGyr69ecECqZOZ-_5-o1v7SpP5TdLQGU7-pHl4UQ=s64",
      "userId": "10789993073610145432"
     },
     "user_tz": -120
    },
    "id": "If86_czLkix6",
    "outputId": "0e03a7a6-e27e-4831-dff0-80e483b480d5"
   },
   "outputs": [
    {
     "data": {
      "text/html": [
       "<html>\n",
       "<head><meta charset=\"utf-8\" /></head>\n",
       "<body>\n",
       "    <div>\n",
       "            <script src=\"https://cdnjs.cloudflare.com/ajax/libs/mathjax/2.7.5/MathJax.js?config=TeX-AMS-MML_SVG\"></script><script type=\"text/javascript\">if (window.MathJax) {MathJax.Hub.Config({SVG: {font: \"STIX-Web\"}});}</script>\n",
       "                <script type=\"text/javascript\">window.PlotlyConfig = {MathJaxConfig: 'local'};</script>\n",
       "        <script src=\"https://cdn.plot.ly/plotly-latest.min.js\"></script>    \n",
       "            <div id=\"e71e024d-5d54-4f8f-ad20-aebbb55cf07e\" class=\"plotly-graph-div\" style=\"height:525px; width:100%;\"></div>\n",
       "            <script type=\"text/javascript\">\n",
       "                \n",
       "                    window.PLOTLYENV=window.PLOTLYENV || {};\n",
       "                    \n",
       "                if (document.getElementById(\"e71e024d-5d54-4f8f-ad20-aebbb55cf07e\")) {\n",
       "                    Plotly.newPlot(\n",
       "                        'e71e024d-5d54-4f8f-ad20-aebbb55cf07e',\n",
       "                        [{\"domain\": {\"x\": [0.0, 1.0], \"y\": [0.0, 1.0]}, \"hoverlabel\": {\"namelength\": 0}, \"hovertemplate\": \"label=%{label}<br>parent=%{parent}\", \"labels\": [\"camel\", \"dolphin\", \"whale\", \"cow\", \"sheep\", \"goat\", \"Caprinae\", \"Bovidae\", \"Cetartiodactyla\", \"Cetacea\", \"Ungulata\"], \"marker\": {\"colors\": [\"#636efa\", \"#EF553B\", \"#EF553B\", \"#636efa\", \"#636efa\", \"#636efa\", \"#00cc96\", \"#00cc96\", \"#00cc96\", \"#00cc96\", \"#00cc96\"]}, \"name\": \"\", \"parents\": [\"Ungulata\", \"Cetacea\", \"Cetacea\", \"Bovidae\", \"Caprinae\", \"Caprinae\", \"Bovidae\", \"Cetartiodactyla\", \"Ungulata\", \"Cetartiodactyla\", null], \"type\": \"treemap\"}],\n",
       "                        {\"legend\": {\"tracegroupgap\": 0}, \"margin\": {\"t\": 60}, \"template\": {\"data\": {\"bar\": [{\"error_x\": {\"color\": \"#2a3f5f\"}, \"error_y\": {\"color\": \"#2a3f5f\"}, \"marker\": {\"line\": {\"color\": \"#E5ECF6\", \"width\": 0.5}}, \"type\": \"bar\"}], \"barpolar\": [{\"marker\": {\"line\": {\"color\": \"#E5ECF6\", \"width\": 0.5}}, \"type\": \"barpolar\"}], \"carpet\": [{\"aaxis\": {\"endlinecolor\": \"#2a3f5f\", \"gridcolor\": \"white\", \"linecolor\": \"white\", \"minorgridcolor\": \"white\", \"startlinecolor\": \"#2a3f5f\"}, \"baxis\": {\"endlinecolor\": \"#2a3f5f\", \"gridcolor\": \"white\", \"linecolor\": \"white\", \"minorgridcolor\": \"white\", \"startlinecolor\": \"#2a3f5f\"}, \"type\": \"carpet\"}], \"choropleth\": [{\"colorbar\": {\"outlinewidth\": 0, \"ticks\": \"\"}, \"type\": \"choropleth\"}], \"contour\": [{\"colorbar\": {\"outlinewidth\": 0, \"ticks\": \"\"}, \"colorscale\": [[0.0, \"#0d0887\"], [0.1111111111111111, \"#46039f\"], [0.2222222222222222, \"#7201a8\"], [0.3333333333333333, \"#9c179e\"], [0.4444444444444444, \"#bd3786\"], [0.5555555555555556, \"#d8576b\"], [0.6666666666666666, \"#ed7953\"], [0.7777777777777778, \"#fb9f3a\"], [0.8888888888888888, \"#fdca26\"], [1.0, \"#f0f921\"]], \"type\": \"contour\"}], \"contourcarpet\": [{\"colorbar\": {\"outlinewidth\": 0, \"ticks\": \"\"}, \"type\": \"contourcarpet\"}], \"heatmap\": [{\"colorbar\": {\"outlinewidth\": 0, \"ticks\": \"\"}, \"colorscale\": [[0.0, \"#0d0887\"], [0.1111111111111111, \"#46039f\"], [0.2222222222222222, \"#7201a8\"], [0.3333333333333333, \"#9c179e\"], [0.4444444444444444, \"#bd3786\"], [0.5555555555555556, \"#d8576b\"], [0.6666666666666666, \"#ed7953\"], [0.7777777777777778, \"#fb9f3a\"], [0.8888888888888888, \"#fdca26\"], [1.0, \"#f0f921\"]], \"type\": \"heatmap\"}], \"heatmapgl\": [{\"colorbar\": {\"outlinewidth\": 0, \"ticks\": \"\"}, \"colorscale\": [[0.0, \"#0d0887\"], [0.1111111111111111, \"#46039f\"], [0.2222222222222222, \"#7201a8\"], [0.3333333333333333, \"#9c179e\"], [0.4444444444444444, \"#bd3786\"], [0.5555555555555556, \"#d8576b\"], [0.6666666666666666, \"#ed7953\"], [0.7777777777777778, \"#fb9f3a\"], [0.8888888888888888, \"#fdca26\"], [1.0, \"#f0f921\"]], \"type\": \"heatmapgl\"}], \"histogram\": [{\"marker\": {\"colorbar\": {\"outlinewidth\": 0, \"ticks\": \"\"}}, \"type\": \"histogram\"}], \"histogram2d\": [{\"colorbar\": {\"outlinewidth\": 0, \"ticks\": \"\"}, \"colorscale\": [[0.0, \"#0d0887\"], [0.1111111111111111, \"#46039f\"], [0.2222222222222222, \"#7201a8\"], [0.3333333333333333, \"#9c179e\"], [0.4444444444444444, \"#bd3786\"], [0.5555555555555556, \"#d8576b\"], [0.6666666666666666, \"#ed7953\"], [0.7777777777777778, \"#fb9f3a\"], [0.8888888888888888, \"#fdca26\"], [1.0, \"#f0f921\"]], \"type\": \"histogram2d\"}], \"histogram2dcontour\": [{\"colorbar\": {\"outlinewidth\": 0, \"ticks\": \"\"}, \"colorscale\": [[0.0, \"#0d0887\"], [0.1111111111111111, \"#46039f\"], [0.2222222222222222, \"#7201a8\"], [0.3333333333333333, \"#9c179e\"], [0.4444444444444444, \"#bd3786\"], [0.5555555555555556, \"#d8576b\"], [0.6666666666666666, \"#ed7953\"], [0.7777777777777778, \"#fb9f3a\"], [0.8888888888888888, \"#fdca26\"], [1.0, \"#f0f921\"]], \"type\": \"histogram2dcontour\"}], \"mesh3d\": [{\"colorbar\": {\"outlinewidth\": 0, \"ticks\": \"\"}, \"type\": \"mesh3d\"}], \"parcoords\": [{\"line\": {\"colorbar\": {\"outlinewidth\": 0, \"ticks\": \"\"}}, \"type\": \"parcoords\"}], \"pie\": [{\"automargin\": true, \"type\": \"pie\"}], \"scatter\": [{\"marker\": {\"colorbar\": {\"outlinewidth\": 0, \"ticks\": \"\"}}, \"type\": \"scatter\"}], \"scatter3d\": [{\"line\": {\"colorbar\": {\"outlinewidth\": 0, \"ticks\": \"\"}}, \"marker\": {\"colorbar\": {\"outlinewidth\": 0, \"ticks\": \"\"}}, \"type\": \"scatter3d\"}], \"scattercarpet\": [{\"marker\": {\"colorbar\": {\"outlinewidth\": 0, \"ticks\": \"\"}}, \"type\": \"scattercarpet\"}], \"scattergeo\": [{\"marker\": {\"colorbar\": {\"outlinewidth\": 0, \"ticks\": \"\"}}, \"type\": \"scattergeo\"}], \"scattergl\": [{\"marker\": {\"colorbar\": {\"outlinewidth\": 0, \"ticks\": \"\"}}, \"type\": \"scattergl\"}], \"scattermapbox\": [{\"marker\": {\"colorbar\": {\"outlinewidth\": 0, \"ticks\": \"\"}}, \"type\": \"scattermapbox\"}], \"scatterpolar\": [{\"marker\": {\"colorbar\": {\"outlinewidth\": 0, \"ticks\": \"\"}}, \"type\": \"scatterpolar\"}], \"scatterpolargl\": [{\"marker\": {\"colorbar\": {\"outlinewidth\": 0, \"ticks\": \"\"}}, \"type\": \"scatterpolargl\"}], \"scatterternary\": [{\"marker\": {\"colorbar\": {\"outlinewidth\": 0, \"ticks\": \"\"}}, \"type\": \"scatterternary\"}], \"surface\": [{\"colorbar\": {\"outlinewidth\": 0, \"ticks\": \"\"}, \"colorscale\": [[0.0, \"#0d0887\"], [0.1111111111111111, \"#46039f\"], [0.2222222222222222, \"#7201a8\"], [0.3333333333333333, \"#9c179e\"], [0.4444444444444444, \"#bd3786\"], [0.5555555555555556, \"#d8576b\"], [0.6666666666666666, \"#ed7953\"], [0.7777777777777778, \"#fb9f3a\"], [0.8888888888888888, \"#fdca26\"], [1.0, \"#f0f921\"]], \"type\": \"surface\"}], \"table\": [{\"cells\": {\"fill\": {\"color\": \"#EBF0F8\"}, \"line\": {\"color\": \"white\"}}, \"header\": {\"fill\": {\"color\": \"#C8D4E3\"}, \"line\": {\"color\": \"white\"}}, \"type\": \"table\"}]}, \"layout\": {\"annotationdefaults\": {\"arrowcolor\": \"#2a3f5f\", \"arrowhead\": 0, \"arrowwidth\": 1}, \"coloraxis\": {\"colorbar\": {\"outlinewidth\": 0, \"ticks\": \"\"}}, \"colorscale\": {\"diverging\": [[0, \"#8e0152\"], [0.1, \"#c51b7d\"], [0.2, \"#de77ae\"], [0.3, \"#f1b6da\"], [0.4, \"#fde0ef\"], [0.5, \"#f7f7f7\"], [0.6, \"#e6f5d0\"], [0.7, \"#b8e186\"], [0.8, \"#7fbc41\"], [0.9, \"#4d9221\"], [1, \"#276419\"]], \"sequential\": [[0.0, \"#0d0887\"], [0.1111111111111111, \"#46039f\"], [0.2222222222222222, \"#7201a8\"], [0.3333333333333333, \"#9c179e\"], [0.4444444444444444, \"#bd3786\"], [0.5555555555555556, \"#d8576b\"], [0.6666666666666666, \"#ed7953\"], [0.7777777777777778, \"#fb9f3a\"], [0.8888888888888888, \"#fdca26\"], [1.0, \"#f0f921\"]], \"sequentialminus\": [[0.0, \"#0d0887\"], [0.1111111111111111, \"#46039f\"], [0.2222222222222222, \"#7201a8\"], [0.3333333333333333, \"#9c179e\"], [0.4444444444444444, \"#bd3786\"], [0.5555555555555556, \"#d8576b\"], [0.6666666666666666, \"#ed7953\"], [0.7777777777777778, \"#fb9f3a\"], [0.8888888888888888, \"#fdca26\"], [1.0, \"#f0f921\"]]}, \"colorway\": [\"#636efa\", \"#EF553B\", \"#00cc96\", \"#ab63fa\", \"#FFA15A\", \"#19d3f3\", \"#FF6692\", \"#B6E880\", \"#FF97FF\", \"#FECB52\"], \"font\": {\"color\": \"#2a3f5f\"}, \"geo\": {\"bgcolor\": \"white\", \"lakecolor\": \"white\", \"landcolor\": \"#E5ECF6\", \"showlakes\": true, \"showland\": true, \"subunitcolor\": \"white\"}, \"hoverlabel\": {\"align\": \"left\"}, \"hovermode\": \"closest\", \"mapbox\": {\"style\": \"light\"}, \"paper_bgcolor\": \"white\", \"plot_bgcolor\": \"#E5ECF6\", \"polar\": {\"angularaxis\": {\"gridcolor\": \"white\", \"linecolor\": \"white\", \"ticks\": \"\"}, \"bgcolor\": \"#E5ECF6\", \"radialaxis\": {\"gridcolor\": \"white\", \"linecolor\": \"white\", \"ticks\": \"\"}}, \"scene\": {\"xaxis\": {\"backgroundcolor\": \"#E5ECF6\", \"gridcolor\": \"white\", \"gridwidth\": 2, \"linecolor\": \"white\", \"showbackground\": true, \"ticks\": \"\", \"zerolinecolor\": \"white\"}, \"yaxis\": {\"backgroundcolor\": \"#E5ECF6\", \"gridcolor\": \"white\", \"gridwidth\": 2, \"linecolor\": \"white\", \"showbackground\": true, \"ticks\": \"\", \"zerolinecolor\": \"white\"}, \"zaxis\": {\"backgroundcolor\": \"#E5ECF6\", \"gridcolor\": \"white\", \"gridwidth\": 2, \"linecolor\": \"white\", \"showbackground\": true, \"ticks\": \"\", \"zerolinecolor\": \"white\"}}, \"shapedefaults\": {\"line\": {\"color\": \"#2a3f5f\"}}, \"ternary\": {\"aaxis\": {\"gridcolor\": \"white\", \"linecolor\": \"white\", \"ticks\": \"\"}, \"baxis\": {\"gridcolor\": \"white\", \"linecolor\": \"white\", \"ticks\": \"\"}, \"bgcolor\": \"#E5ECF6\", \"caxis\": {\"gridcolor\": \"white\", \"linecolor\": \"white\", \"ticks\": \"\"}}, \"title\": {\"x\": 0.05}, \"xaxis\": {\"automargin\": true, \"gridcolor\": \"white\", \"linecolor\": \"white\", \"ticks\": \"\", \"title\": {\"standoff\": 15}, \"zerolinecolor\": \"white\", \"zerolinewidth\": 2}, \"yaxis\": {\"automargin\": true, \"gridcolor\": \"white\", \"linecolor\": \"white\", \"ticks\": \"\", \"title\": {\"standoff\": 15}, \"zerolinecolor\": \"white\", \"zerolinewidth\": 2}}}},\n",
       "                        {\"responsive\": true}\n",
       "                    ).then(function(){\n",
       "                            \n",
       "var gd = document.getElementById('e71e024d-5d54-4f8f-ad20-aebbb55cf07e');\n",
       "var x = new MutationObserver(function (mutations, observer) {{\n",
       "        var display = window.getComputedStyle(gd).display;\n",
       "        if (!display || display === 'none') {{\n",
       "            console.log([gd, 'removed!']);\n",
       "            Plotly.purge(gd);\n",
       "            observer.disconnect();\n",
       "        }}\n",
       "}});\n",
       "\n",
       "// Listen for the removal of the full notebook cells\n",
       "var notebookContainer = gd.closest('#notebook-container');\n",
       "if (notebookContainer) {{\n",
       "    x.observe(notebookContainer, {childList: true});\n",
       "}}\n",
       "\n",
       "// Listen for the clearing of the current output cell\n",
       "var outputEl = gd.closest('.output');\n",
       "if (outputEl) {{\n",
       "    x.observe(outputEl, {childList: true});\n",
       "}}\n",
       "\n",
       "                        })\n",
       "                };\n",
       "                \n",
       "            </script>\n",
       "        </div>\n",
       "</body>\n",
       "</html>"
      ]
     },
     "metadata": {
      "tags": []
     },
     "output_type": "display_data"
    }
   ],
   "source": [
    "import plotly.express as px\n",
    "fig = px.treemap(\n",
    "    names = animals['name'],\n",
    "    parents =animals['parent'],\n",
    "    color = animals['category']\n",
    ")\n",
    "fig.show()"
   ]
  }
 ],
 "metadata": {
  "colab": {
   "authorship_tag": "ABX9TyOGhOYrJs9/Dz6G+b6yKtY+",
   "collapsed_sections": [],
   "name": "L10b_Maps_graphs",
   "provenance": [],
   "toc_visible": true
  },
  "kernelspec": {
   "display_name": "Python 3 (ipykernel)",
   "language": "python",
   "name": "python3"
  },
  "language_info": {
   "codemirror_mode": {
    "name": "ipython",
    "version": 3
   },
   "file_extension": ".py",
   "mimetype": "text/x-python",
   "name": "python",
   "nbconvert_exporter": "python",
   "pygments_lexer": "ipython3",
   "version": "3.8.10"
  }
 },
 "nbformat": 4,
 "nbformat_minor": 1
}
