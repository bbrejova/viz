{
 "cells": [
  {
   "cell_type": "markdown",
   "metadata": {
    "id": "K0E15tyRBE0w"
   },
   "source": [
    "# Lecture 11: Infographics, interactivity, other tools, specialized plots\n",
    "\n",
    "[Data Visualization · 1-DAV-105](https://bbrejova.github.io/viz/)\n",
    "\n",
    "Lecture by Broňa Brejová\n",
    "\n",
    "Acknowledgement: some materials inspired by lectures from Martina Bátorová in 2021"
   ]
  },
  {
   "cell_type": "code",
   "execution_count": null,
   "metadata": {},
   "outputs": [],
   "source": []
  },
  {
   "cell_type": "markdown",
   "metadata": {},
   "source": [
    "### Several examples of infographics\n",
    "\n",
    "Several examples that are close to data visualization:\n",
    "\n",
    "* Income by religious group in US ([image](https://www.columnfivemedia.com/wp-content/uploads/2021/04/good-infographic-the-almighty-dollar-_-mapping-distribution-of-income-by-religious-belief-1.jpeg), [website](https://www.columnfivemedia.com/work/infographic-the-almighty-dollar/))\n",
    "* Deadliest pandemics ([website](https://www.visualcapitalist.com/history-of-pandemics-deadliest/))\n",
    "* War casualties ([website](https://www.poppyfield.org/))\n",
    "* Game of Thrones relationships ([website](https://www.yworks.com/blog/graph-drawing-contest-2018))\n",
    "* Emergency medical services in Slovakia 2019 ([website](https://domov.sme.sk/g/138207/infografiky-ako-funguje-system-zachraniek-na-slovensku))\n",
    "\n",
    "Some explain other types of information:\n",
    "\n",
    "* Sitting and standing is bad ([website](https://blog.adioma.com/prolonged-sitting-and-standing-infographic/))\n"
   ]
  },
  {
   "cell_type": "markdown",
   "metadata": {},
   "source": [
    "## Data visualization (DV) vs infographics (IG)\n",
    "\n",
    "* **Target audience:** IG general public, DV often experts\n",
    "* **Storytelling:** often in IG, can be created from multiple DV\n",
    "* **Design and aesthetics:** more elaborate in IG, includes graphics elements and clipart (considered chart junk in DV)\n",
    "* **Process of creation:** many simple tools for DV, IG time consuming, often created by collaboration of data analysis, domain experts and graphic designers\n",
    "\n",
    "See also https://www.statsilk.com/blog/real-difference-between-infographics-and-data-visualizations\n"
   ]
  },
  {
   "cell_type": "markdown",
   "metadata": {
    "id": "6bkIdS0PsZhY"
   },
   "source": [
    "## Interactivity\n",
    "\n",
    "Interactive visualization engages audience, allows them to explore data in depth and according to their interest.\n",
    "\n",
    "### Examples\n",
    "* US cities with the same name ([website](https://pudding.cool/2023/03/same-name/)), see also the animated explainer\n",
    "* PhD gender gap ([website](https://www.scientificamerican.com/article/how-nations-fare-in-phds-by-sex-interactive1/))\n",
    "* Making it big ([website](https://pudding.cool/2017/01/making-it-big/)), more animated than interactive\n"
   ]
  },
  {
   "cell_type": "markdown",
   "metadata": {
    "id": "XZPwTUK6Lzhk"
   },
   "source": [
    "### Techniques in interactivity visualization\n",
    "\n",
    "Similar to decisions made in designing a static plot:\n",
    "\n",
    "* Selecting variables (x, y, color, ...)\n",
    "* Filtering data (selecting table rows)\n",
    "* Highlighting points or groups\n",
    "* Aggregating (display countries or region summaries)\n",
    "* Zooming / panning\n",
    "* Rescaling (log-scale) / reexpressing (e.g. % instead of counts)\n",
    "* Sorting (e.g. bars in bargraphs)\n",
    "* Displaying details (tooltips)\n",
    "* Annotating\n",
    "* Bookmarking\n",
    "\n",
    "(Stephen Few)"
   ]
  },
  {
   "cell_type": "markdown",
   "metadata": {
    "id": "5JvJwRUqNYFq"
   },
   "source": [
    "### Dashboard\n",
    "\n",
    "* A display consisting of multiple plots, summarizing the current state of important indicators (e.g. of a business, pandemics, ...)\n",
    "* Inspired by dashboards in cars and planes\n",
    "* Often interactive, but main features in default view\n",
    "\n",
    "Two SARS-CoV-2 examples:\n",
    "\n",
    "* [WHO](https://covid19.who.int/)\n",
    "* [Nextstrain](https://nextstrain.org/ncov/global)\n",
    "  * many options: selecting color, filtering, highlighting, aggregating, zooming and panning (maps and tree), rescaling (time vs divergence), tooltips, bookmarking\n",
    "\n"
   ]
  },
  {
   "cell_type": "markdown",
   "metadata": {
    "id": "yJMk4SGrdEix"
   },
   "source": [
    "### Interactivity in Plotly Express\n",
    "\n",
    "All Plotly plots by default have some interactivity:\n",
    "\n",
    "* Filtering groups\n",
    "* Zooming / panning\n",
    "* [Details](https://plotly.com/python/hover-text-and-formatting/)\n",
    "* [Spike lines](https://plotly.com/python/hover-text-and-formatting/#spike-lines)"
   ]
  },
  {
   "cell_type": "markdown",
   "metadata": {
    "id": "fx4uLYdah2_q"
   },
   "source": [
    "Example 1: Country indicators from World Bank, https://databank.worldbank.org/home under CC BY 4.0\n",
    "license.\n",
    "\n",
    "Regions can be switched on and off."
   ]
  },
  {
   "cell_type": "code",
   "execution_count": 1,
   "metadata": {
    "colab": {
     "base_uri": "https://localhost:8080/",
     "height": 517
    },
    "executionInfo": {
     "elapsed": 3545,
     "status": "ok",
     "timestamp": 1620077206788,
     "user": {
      "displayName": "Brona Brejova",
      "photoUrl": "https://lh3.googleusercontent.com/a-/AOh14GjGyr69ecECqZOZ-_5-o1v7SpP5TdLQGU7-pHl4UQ=s64",
      "userId": "10789993073610145432"
     },
     "user_tz": -120
    },
    "id": "dVDmdXUMgcPb",
    "outputId": "e5e4d3b6-cfb0-4004-a34b-fe6d0bff3d62"
   },
   "outputs": [
    {
     "data": {
      "application/vnd.plotly.v1+json": {
       "config": {
        "plotlyServerURL": "https://plot.ly"
       },
       "data": [
        {
         "customdata": [
          [
           "Afghanistan"
          ],
          [
           "Bangladesh"
          ],
          [
           "Bhutan"
          ],
          [
           "India"
          ],
          [
           "Maldives"
          ],
          [
           "Nepal"
          ],
          [
           "Pakistan"
          ],
          [
           "Sri Lanka"
          ]
         ],
         "hovertemplate": "Region=South Asia<br>GDP2020=%{x}<br>Expectancy2020=%{y}<br>Country=%{customdata[0]}<extra></extra>",
         "legendgroup": "South Asia",
         "marker": {
          "color": "#636efa",
          "symbol": "circle"
         },
         "mode": "markers",
         "name": "South Asia",
         "orientation": "v",
         "showlegend": true,
         "type": "scatter",
         "x": {
          "bdata": "OhJX13AAgEAqShifnHKhQBrkWPOt2qhA3MChAeHknUCTcLL90DC8QCYMD3PCzJFAaUwaV0KplEDNPPA2xxiuQA==",
          "dtype": "f8"
         },
         "xaxis": "x",
         "y": {
          "bdata": "mpmZmZlJT0DLoUW28/1RQOXQItv55lFAmpmZmZmJUUAAAAAAAPhTQDm0yHa+T1FA8KfGSzeRUED+1HjpJhlTQA==",
          "dtype": "f8"
         },
         "yaxis": "y"
        },
        {
         "customdata": [
          [
           "Albania"
          ],
          [
           "Andorra"
          ],
          [
           "Armenia"
          ],
          [
           "Austria"
          ],
          [
           "Azerbaijan"
          ],
          [
           "Belarus"
          ],
          [
           "Belgium"
          ],
          [
           "Bosnia and Herzegovina"
          ],
          [
           "Bulgaria"
          ],
          [
           "Channel Islands"
          ],
          [
           "Croatia"
          ],
          [
           "Cyprus"
          ],
          [
           "Czechia"
          ],
          [
           "Denmark"
          ],
          [
           "Estonia"
          ],
          [
           "Faroe Islands"
          ],
          [
           "Finland"
          ],
          [
           "France"
          ],
          [
           "Georgia"
          ],
          [
           "Germany"
          ],
          [
           "Gibraltar"
          ],
          [
           "Greece"
          ],
          [
           "Greenland"
          ],
          [
           "Hungary"
          ],
          [
           "Iceland"
          ],
          [
           "Ireland"
          ],
          [
           "Isle of Man"
          ],
          [
           "Italy"
          ],
          [
           "Kazakhstan"
          ],
          [
           "Kosovo"
          ],
          [
           "Kyrgyz Republic"
          ],
          [
           "Latvia"
          ],
          [
           "Liechtenstein"
          ],
          [
           "Lithuania"
          ],
          [
           "Luxembourg"
          ],
          [
           "Moldova"
          ],
          [
           "Monaco"
          ],
          [
           "Montenegro"
          ],
          [
           "Netherlands"
          ],
          [
           "North Macedonia"
          ],
          [
           "Norway"
          ],
          [
           "Poland"
          ],
          [
           "Portugal"
          ],
          [
           "Romania"
          ],
          [
           "Russia"
          ],
          [
           "San Marino"
          ],
          [
           "Serbia"
          ],
          [
           "Slovak Republic"
          ],
          [
           "Slovenia"
          ],
          [
           "Spain"
          ],
          [
           "Sweden"
          ],
          [
           "Switzerland"
          ],
          [
           "Tajikistan"
          ],
          [
           "Türkiye"
          ],
          [
           "Turkmenistan"
          ],
          [
           "Ukraine"
          ],
          [
           "United Kingdom"
          ],
          [
           "Uzbekistan"
          ]
         ],
         "hovertemplate": "Region=Europe & Central Asia<br>GDP2020=%{x}<br>Expectancy2020=%{y}<br>Country=%{customdata[0]}<extra></extra>",
         "legendgroup": "Europe & Central Asia",
         "marker": {
          "color": "#EF553B",
          "symbol": "circle"
         },
         "mode": "markers",
         "name": "Europe & Central Asia",
         "orientation": "v",
         "showlegend": true,
         "type": "scatter",
         "x": {
          "bdata": "CBT4pgnftEAcMtWk5yriQHnjUiTembFA++Ji7q/S50CKuksg6YWwQFqye1LdjrlALaKeHCBF5kAQsz+vGs+3QBEondMr0sNAx1Eh3HD/60Bzw1tV9N7LQAAAAEBbnttA5wnRRzh01kCpWgr1krTtQH9Ig5jPCtdA/aBt/15j7kBi6NIENwLoQEeF+dB3IeNAAp3NNL6fsECKgUI9r9PmQAAAAAAAAPh/h4cHqFI00UCCgip0orTqQBtcGQHOfs9AK4xGYQ287EDd63FqUf30QKb0D7CpavNAU3KP07os30Aw+tl10dDBQOFkwRrv1rBAWhsGh7ejk0BYNCj5DKzRQOhwf345LQRBkgAlxXbn00AjQCXtlYr8QCqECBQ+GLFA7X9VGUtIBkEbxOUOX/29QMvlYT5SeOlAirxmQnNNt0BvwiZKQK/wQJLw7wJp5M5AkIbAApq41UBAhrdzunvJQAAAAIA46cNAFDC2py8h5kB56iOwzTW+QIhSvdQFGNNAYsygdZv12EBZ7DP2ElraQOrhYu28zOlA7qGhjJz49EDxkGVPpKKKQCaV5Zte38BAl7oLxV2ivEAAAACAeU+tQNnm0kkgo+NA0W+O2Tp9m0A=",
          "dtype": "f8"
         },
         "xaxis": "x",
         "y": {
          "bdata": "nu+nxks/U0AAAAAAAAD4f1CNl24SC1JAr07F6lRMVEBkO99PjbdQQCX+oBVDHVJADM7H4HwsVEBmZmZmZg5TQG1XonYlalJAN4lBYOVQVECMxuVoXG5TQBsv3SQGWVRA8EXoXoSOU0DL5WhcjmZUQKVnYXoWplNAcE3K1qTMVEB+EboXoXtUQA7TszA9i1RAKVyPwvUwUkBmdSpWp0JUQOkmMQisjFRAVLYmZWtSVED6HIzPwehRQInuRehe5FJAwe9A/A7EVECjcTkal6NUQBKDwMqhJVRADM7H4HyMVEBI4XoUrtdRQD81XrpJJFNAMzMzMzPzUUCJ0L0I3ctSQG1XonYlalRAnoXpWZi+UkAqW5OyNYlUQLTIdr6filFAAAAAAAAA+H9+EboXoftSQDokb0PyVlRA2JqUrUmZUkBPytakbM1UQAAAAAAAIFNAQQbnY3A+VEATvwPxO5BSQEfpWpSu1VFAAAAAAAAA+H+ehelZmJ5SQFiidiVqN1NA5HcgfgciVEAXq1OxOpVUQNakbE3KllRAAAAAAADAVEBWDi2ynf9QQGZmZmZm9lJAhxbZzvcrUUCbkL0J2ctRQBWmZ2F6FlRAd76fGi+VUUA=",
          "dtype": "f8"
         },
         "yaxis": "y"
        },
        {
         "customdata": [
          [
           "Algeria"
          ],
          [
           "Bahrain"
          ],
          [
           "Djibouti"
          ],
          [
           "Egypt"
          ],
          [
           "Iran"
          ],
          [
           "Iraq"
          ],
          [
           "Israel"
          ],
          [
           "Jordan"
          ],
          [
           "Kuwait"
          ],
          [
           "Lebanon"
          ],
          [
           "Libya"
          ],
          [
           "Malta"
          ],
          [
           "Morocco"
          ],
          [
           "Oman"
          ],
          [
           "Qatar"
          ],
          [
           "Saudi Arabia"
          ],
          [
           "Syrian Arab Republic"
          ],
          [
           "Tunisia"
          ],
          [
           "United Arab Emirates"
          ],
          [
           "West Bank and Gaza"
          ],
          [
           "Yemen"
          ]
         ],
         "hovertemplate": "Region=Middle East & North Africa<br>GDP2020=%{x}<br>Expectancy2020=%{y}<br>Country=%{customdata[0]}<extra></extra>",
         "legendgroup": "Middle East & North Africa",
         "marker": {
          "color": "#00cc96",
          "symbol": "circle"
         },
         "mode": "markers",
         "name": "Middle East & North Africa",
         "orientation": "v",
         "showlegend": true,
         "type": "scatter",
         "x": {
          "bdata": "tX15a040qkCKyK37S+LWQJIPtDd606ZA07zZIh3nq0Dd0n/G1nSlQJfdMVZWm7BAJAzAVNnl5UCoDpWlWD2vQBgSyH1tutdAqpszIPXftUBJnZCKqHq7QC1l5LZo59xAAAAAwIl0qUDn51Xf51DQQDKNXB91i+lAvGo254Pr00DaiOzMuMiAQDzRQCRwU6tAI3DKkqVf4kC0IpEkI0OpQHfOy5gYFIJA",
          "dtype": "f8"
         },
         "xaxis": "x",
         "y": {
          "bdata": "okW28/2cUkBCYOXQIstTQEa28/3UWE9Aj8L1KFy/UUBoke18P7VSQB1aZDvfR1FA61mYnoWpVECyne+nxstSQHsUrkfhOlNA+n5qvHRzU0CR7Xw/NR5SQLgmZWtSllRAexSuR+F6UkCcxCCwcrBSQHWTGARWxlNAnu+nxksPU0ApXI/C9QhSQKabxCCw0lJABoGVQ4u8U0BvEoPAyplSQJqZmZmZKVBA",
          "dtype": "f8"
         },
         "yaxis": "y"
        },
        {
         "customdata": [
          [
           "American Samoa"
          ],
          [
           "Australia"
          ],
          [
           "Brunei"
          ],
          [
           "Cambodia"
          ],
          [
           "China"
          ],
          [
           "Fiji"
          ],
          [
           "French Polynesia"
          ],
          [
           "Guam"
          ],
          [
           "Hong Kong SAR, China"
          ],
          [
           "Indonesia"
          ],
          [
           "Japan"
          ],
          [
           "Kiribati"
          ],
          [
           "Dem. People's Rep. Korea"
          ],
          [
           "Korea"
          ],
          [
           "Lao PDR"
          ],
          [
           "Macao SAR, China"
          ],
          [
           "Malaysia"
          ],
          [
           "Marshall Islands"
          ],
          [
           "Micronesia"
          ],
          [
           "Mongolia"
          ],
          [
           "Myanmar"
          ],
          [
           "Nauru"
          ],
          [
           "New Caledonia"
          ],
          [
           "New Zealand"
          ],
          [
           "Northern Mariana Islands"
          ],
          [
           "Palau"
          ],
          [
           "Papua New Guinea"
          ],
          [
           "Philippines"
          ],
          [
           "Samoa"
          ],
          [
           "Singapore"
          ],
          [
           "Solomon Islands"
          ],
          [
           "Thailand"
          ],
          [
           "Timor-Leste"
          ],
          [
           "Tonga"
          ],
          [
           "Tuvalu"
          ],
          [
           "Vanuatu"
          ],
          [
           "Viet Nam"
          ]
         ],
         "hovertemplate": "Region=East Asia & Pacific<br>GDP2020=%{x}<br>Expectancy2020=%{y}<br>Country=%{customdata[0]}<extra></extra>",
         "legendgroup": "East Asia & Pacific",
         "marker": {
          "color": "#ab63fa",
          "symbol": "circle"
         },
         "mode": "markers",
         "name": "East Asia & Pacific",
         "orientation": "v",
         "showlegend": true,
         "type": "scatter",
         "x": {
          "bdata": "8ELve+N8zkB8M/zrh1PpQGgas5XWitpAcQ4mn6WnmEC1V1kaXFTEQLH0Amywz7JAkLhEqGy80kB9J72Sm/vgQFrDHVyng+ZAPlNrfjxvrkB7lQV/GI3jQFnHgLT575VAAAAAAAAA+H/59mghU/reQKnMTM+1QqRAlIXMgVdM4kAhQVEWLNrDQKwJIKuZqbVA0FM+TdNurECbKJ4pWZKvQP2o9Gp0HpdAXhv8rVnGw0AlCx9XtAfhQMt0eAgTZORAukdKBLvl0EC/O4iNqAbMQKb3ClwrHKNAjUC2etgwqUCzgn0McpWvQOaWrLs/6+1AUNnMmuxcoUDeAOwTyVm7QKeEZw89/plAi14Mifj9sUC8fK1R6UKyQFxNuYGDy6ZACssVwbEErEA=",
          "dtype": "f8"
         },
         "xaxis": "x",
         "y": {
          "bdata": "AAAAAAAA+H/NzMzMzMxUQHsUrkfhslJAtMh2vp+aUUCwcmiR7YRTQEJg5dAi+1BA2c73U+ONVEC6SQwCKydTQKOA/QnYX1VAwcqhRbYzUUCkcD0K1yNVQBsv3SQG0VBAqMZLN4lRUkC9ErUrUdtUQCuHFtnOH1FAsp3vp8ZLVUB56SYxCPxSQEoMAiuHPlBAQmDl0CKrUUAbL90kBglSQF66SQwCs1BADi2yne+3T0DbYz3XbzVUQHA+BudjkFRAAAAAAAAA+H8AAAAAAAD4f+58PzVeclBAVg4tsp0HUkD+1HjpJjFSQL8I3YvQHVVA2/l+aryMUUCoxks3idFTQGZmZmZmHlFACKwcWmS7UUCcxCCwchhQQEJg5dAik1FA1XjpJjHYUkA=",
          "dtype": "f8"
         },
         "yaxis": "y"
        },
        {
         "customdata": [
          [
           "Angola"
          ],
          [
           "Benin"
          ],
          [
           "Botswana"
          ],
          [
           "Burkina Faso"
          ],
          [
           "Burundi"
          ],
          [
           "Cabo Verde"
          ],
          [
           "Cameroon"
          ],
          [
           "Central African Republic"
          ],
          [
           "Chad"
          ],
          [
           "Comoros"
          ],
          [
           "Dem. Rep. Congo"
          ],
          [
           "Congo"
          ],
          [
           "Côte d'Ivoire"
          ],
          [
           "Equatorial Guinea"
          ],
          [
           "Eritrea"
          ],
          [
           "Eswatini"
          ],
          [
           "Ethiopia"
          ],
          [
           "Gabon"
          ],
          [
           "The Gambia"
          ],
          [
           "Ghana"
          ],
          [
           "Guinea"
          ],
          [
           "Guinea-Bissau"
          ],
          [
           "Kenya"
          ],
          [
           "Lesotho"
          ],
          [
           "Liberia"
          ],
          [
           "Madagascar"
          ],
          [
           "Malawi"
          ],
          [
           "Mali"
          ],
          [
           "Mauritania"
          ],
          [
           "Mauritius"
          ],
          [
           "Mozambique"
          ],
          [
           "Namibia"
          ],
          [
           "Niger"
          ],
          [
           "Nigeria"
          ],
          [
           "Rwanda"
          ],
          [
           "São Tomé and Principe"
          ],
          [
           "Senegal"
          ],
          [
           "Seychelles"
          ],
          [
           "Sierra Leone"
          ],
          [
           "Somalia"
          ],
          [
           "South Africa"
          ],
          [
           "South Sudan"
          ],
          [
           "Sudan"
          ],
          [
           "Tanzania"
          ],
          [
           "Togo"
          ],
          [
           "Uganda"
          ],
          [
           "Zambia"
          ],
          [
           "Zimbabwe"
          ]
         ],
         "hovertemplate": "Region=Sub-Saharan Africa<br>GDP2020=%{x}<br>Expectancy2020=%{y}<br>Country=%{customdata[0]}<extra></extra>",
         "legendgroup": "Sub-Saharan Africa",
         "marker": {
          "color": "#FFA15A",
          "symbol": "circle"
         },
         "mode": "markers",
         "name": "Sub-Saharan Africa",
         "orientation": "v",
         "showlegend": true,
         "type": "scatter",
         "x": {
          "bdata": "QYW61Z6rlkAOAUjA7mKTQNuPOxMS87ZAsl1lVmu8iUDwjjk0ehprQBdRSLrMbKhA5JCjrYUMmEAILfsJgjd7QND5a38tHoRAiOTO3Fi+l0CFmJRfVWWAQOo5TvITbZ9AEPWSxyNaokDvJj1J8Ta4QAAAAAAAAPh/HlkRKc9ZqkCXYD6DOLWMQFAmgykVGLpA3MxMYz4AhkDcHg0GJwGhQMpfwymjxpBA3NsFqBAyhkC/kszFAEGeQFPPat7ZqoxAyGwazzysgkDkMKO4d+Z8QHr2/Ap6cYNAqt2qxD+3iUASFsltK7GcQJ/XPH2FmcFAMSnHlE+JfEAM3CuuCpywQFQAdLm7poFAmwsBPTo1oEC1gWKjLy6IQI7b0x+I1qBAiFsZU+dRl0BQTDyyAnrHQN6FEXXq1n5AHRUV4Z9kgUCRzMUFEXm2QAAAAAAAAPh/AAAAAKkCg0ALAABgqECRQPNWfZmYtYtAo4ossgx3ikCA84Zhp+aNQBFvAWXJcpVA",
          "dtype": "f8"
         },
         "xaxis": "x",
         "y": {
          "bdata": "xSCwcmghT0AlBoGVQwtOQMUgsHJoaVBAIbByaJHdTUCcxCCwcshOQMHKoUW2s1JAtMh2vp9qTkBaZDvfT01LQPp+arx0Y0pAtMh2vp8KUEA730+Nl95NQBSuR+F65E9Aarx0kxiETUC0yHa+n1pOQI2XbhKDyFBAf2q8dJPYTUA5tMh2vldQQESLbOf7oVBAdZMYBFZOT0Ce76fGSwdQQGDl0CLbqU1AHVpkO9//TUBmZmZmZlZPQGIQWDm0WEtA001iEFh5TkDP91PjpUtQQLKd76fG209AGy/dJAZRTUA1XrpJDCJQQKtStSpVi1JAvHSTGASWTkAnMQisHGpPQH0/NV66uU5AqMZLN4lxSkCoxks3ibFQQArXo3A98lBAqvHSTWIAUUByQ/I2JE9TQIts5/up4U1Asp3vp8b7S0DjpZvEIFBQQD0K16NwvUtAnu+nxktnUEAnMQisHJpQQBSuR+F6hE5AsHJoke1sT0BxPQrXozBPQB1aZDvfj05A",
          "dtype": "f8"
         },
         "yaxis": "y"
        },
        {
         "customdata": [
          [
           "Antigua and Barbuda"
          ],
          [
           "Argentina"
          ],
          [
           "Aruba"
          ],
          [
           "The Bahamas"
          ],
          [
           "Barbados"
          ],
          [
           "Belize"
          ],
          [
           "Bolivia"
          ],
          [
           "Brazil"
          ],
          [
           "British Virgin Islands"
          ],
          [
           "Cayman Islands"
          ],
          [
           "Chile"
          ],
          [
           "Colombia"
          ],
          [
           "Costa Rica"
          ],
          [
           "Cuba"
          ],
          [
           "Curaçao"
          ],
          [
           "Dominica"
          ],
          [
           "Dominican Republic"
          ],
          [
           "Ecuador"
          ],
          [
           "El Salvador"
          ],
          [
           "Grenada"
          ],
          [
           "Guatemala"
          ],
          [
           "Guyana"
          ],
          [
           "Haiti"
          ],
          [
           "Honduras"
          ],
          [
           "Jamaica"
          ],
          [
           "Mexico"
          ],
          [
           "Nicaragua"
          ],
          [
           "Panama"
          ],
          [
           "Paraguay"
          ],
          [
           "Peru"
          ],
          [
           "Puerto Rico"
          ],
          [
           "Sint Maarten (Dutch part)"
          ],
          [
           "St. Kitts and Nevis"
          ],
          [
           "St. Lucia"
          ],
          [
           "St. Martin (French part)"
          ],
          [
           "St. Vincent and the Grenadines"
          ],
          [
           "Suriname"
          ],
          [
           "Trinidad and Tobago"
          ],
          [
           "Turks and Caicos Islands"
          ],
          [
           "Uruguay"
          ],
          [
           "Venezuela"
          ],
          [
           "Virgin Islands"
          ]
         ],
         "hovertemplate": "Region=Latin America & Caribbean<br>GDP2020=%{x}<br>Expectancy2020=%{y}<br>Country=%{customdata[0]}<extra></extra>",
         "legendgroup": "Latin America & Caribbean",
         "marker": {
          "color": "#19d3f3",
          "symbol": "circle"
         },
         "mode": "markers",
         "name": "Latin America & Caribbean",
         "orientation": "v",
         "showlegend": true,
         "type": "scatter",
         "x": {
          "bdata": "VAY/5m28zUA/ppFBa5rAQIZEOy4IctdAh6s5J5Fv10Ax/vMYoHzQQIyCQncoQbRA9gM7B6D5p0CB6motswu7QAAAAAAAAPh/nM5LFph79EAPrCJ05LrJQI9xWQRKuLRAAIqt2qDJx0AJAdJHyY3CQJ+mFvIL8s9AranJSnhbu0DT78E76v+7QHGPpQQzDbZAHY9NCXTzrkChZki1xHrAQNBdq7LlAbJArLpVCBPPukB1NQmekAyUQO2ilCw+ZKJA87+txkMhs0BTBdIAcl/BQOt8j/RtUp1Al6gjpqr2yUAUWsIaWem0QDASA36gr7dAXDmZdtuw3kDUgpN0xIncQPVviQ5qHtJAmW+GK8N7wUAAAAAAAAD4f1wRoyQuOcBA6XtCh4i8skCvl7A688TKQD+0priQZNRA9TAr6T+RzkAAAAAAAAD4f4WTt3JhPuNA",
          "dtype": "f8"
         },
         "xaxis": "x",
         "y": {
          "bdata": "5/up8dK1U0AMAiuHFvlSQIPAyqFF7lJAF9nO91MrUkD+1HjpJllTQC2yne+nNlJA2c73U+MdUEB/arx0k4BSQHWTGARW9lJAAAAAAAAA+H/jpZvEINhTQPCnxks3sVJAfT81XrrRU0A/NV66SWRTQAAAAAAAAPh/qMZLN4lpUkA3iUFg5ThSQG8Sg8DKCVJAlkOLbOfDUUBCYOXQIrtSQF66SQwC81FAyXa+nxofUUAX2c73UwNQQCGwcmiR3VFAVg4tsp33UUCNl24Sg4hRQHsUrkfh8lFANV66SQwqU0DP91PjpUtSQMP1KFyPalJAtMh2vp+CU0BMN4lBYKVSQOOlm8Qg6FFAtMh2vp9aUkCoxks3iQlUQPLSTWIQCFJAlkOLbOcjUkBEi2zn+5lSQPLSTWIQwFJA7FG4HoWbU0CuR+F6FMZRQDguR+Ny9FNA",
          "dtype": "f8"
         },
         "yaxis": "y"
        },
        {
         "customdata": [
          [
           "Bermuda"
          ],
          [
           "Canada"
          ],
          [
           "United States"
          ]
         ],
         "hovertemplate": "Region=North America<br>GDP2020=%{x}<br>Expectancy2020=%{y}<br>Country=%{customdata[0]}<extra></extra>",
         "legendgroup": "North America",
         "marker": {
          "color": "#FF6692",
          "symbol": "circle"
         },
         "mode": "markers",
         "name": "North America",
         "orientation": "v",
         "showlegend": true,
         "type": "scatter",
         "x": {
          "bdata": "aZvWLv5Q+kC3PVTyTUXlQE5INUwUBe9A",
          "dtype": "f8"
         },
         "xaxis": "x",
         "y": {
          "bdata": "YhBYObRIVEBflK5F6WpUQAIF7E/APlNA",
          "dtype": "f8"
         },
         "yaxis": "y"
        }
       ],
       "layout": {
        "height": 500,
        "legend": {
         "title": {
          "text": "Region"
         },
         "tracegroupgap": 0
        },
        "template": {
         "data": {
          "bar": [
           {
            "error_x": {
             "color": "#2a3f5f"
            },
            "error_y": {
             "color": "#2a3f5f"
            },
            "marker": {
             "line": {
              "color": "#E5ECF6",
              "width": 0.5
             },
             "pattern": {
              "fillmode": "overlay",
              "size": 10,
              "solidity": 0.2
             }
            },
            "type": "bar"
           }
          ],
          "barpolar": [
           {
            "marker": {
             "line": {
              "color": "#E5ECF6",
              "width": 0.5
             },
             "pattern": {
              "fillmode": "overlay",
              "size": 10,
              "solidity": 0.2
             }
            },
            "type": "barpolar"
           }
          ],
          "carpet": [
           {
            "aaxis": {
             "endlinecolor": "#2a3f5f",
             "gridcolor": "white",
             "linecolor": "white",
             "minorgridcolor": "white",
             "startlinecolor": "#2a3f5f"
            },
            "baxis": {
             "endlinecolor": "#2a3f5f",
             "gridcolor": "white",
             "linecolor": "white",
             "minorgridcolor": "white",
             "startlinecolor": "#2a3f5f"
            },
            "type": "carpet"
           }
          ],
          "choropleth": [
           {
            "colorbar": {
             "outlinewidth": 0,
             "ticks": ""
            },
            "type": "choropleth"
           }
          ],
          "contour": [
           {
            "colorbar": {
             "outlinewidth": 0,
             "ticks": ""
            },
            "colorscale": [
             [
              0,
              "#0d0887"
             ],
             [
              0.1111111111111111,
              "#46039f"
             ],
             [
              0.2222222222222222,
              "#7201a8"
             ],
             [
              0.3333333333333333,
              "#9c179e"
             ],
             [
              0.4444444444444444,
              "#bd3786"
             ],
             [
              0.5555555555555556,
              "#d8576b"
             ],
             [
              0.6666666666666666,
              "#ed7953"
             ],
             [
              0.7777777777777778,
              "#fb9f3a"
             ],
             [
              0.8888888888888888,
              "#fdca26"
             ],
             [
              1,
              "#f0f921"
             ]
            ],
            "type": "contour"
           }
          ],
          "contourcarpet": [
           {
            "colorbar": {
             "outlinewidth": 0,
             "ticks": ""
            },
            "type": "contourcarpet"
           }
          ],
          "heatmap": [
           {
            "colorbar": {
             "outlinewidth": 0,
             "ticks": ""
            },
            "colorscale": [
             [
              0,
              "#0d0887"
             ],
             [
              0.1111111111111111,
              "#46039f"
             ],
             [
              0.2222222222222222,
              "#7201a8"
             ],
             [
              0.3333333333333333,
              "#9c179e"
             ],
             [
              0.4444444444444444,
              "#bd3786"
             ],
             [
              0.5555555555555556,
              "#d8576b"
             ],
             [
              0.6666666666666666,
              "#ed7953"
             ],
             [
              0.7777777777777778,
              "#fb9f3a"
             ],
             [
              0.8888888888888888,
              "#fdca26"
             ],
             [
              1,
              "#f0f921"
             ]
            ],
            "type": "heatmap"
           }
          ],
          "histogram": [
           {
            "marker": {
             "pattern": {
              "fillmode": "overlay",
              "size": 10,
              "solidity": 0.2
             }
            },
            "type": "histogram"
           }
          ],
          "histogram2d": [
           {
            "colorbar": {
             "outlinewidth": 0,
             "ticks": ""
            },
            "colorscale": [
             [
              0,
              "#0d0887"
             ],
             [
              0.1111111111111111,
              "#46039f"
             ],
             [
              0.2222222222222222,
              "#7201a8"
             ],
             [
              0.3333333333333333,
              "#9c179e"
             ],
             [
              0.4444444444444444,
              "#bd3786"
             ],
             [
              0.5555555555555556,
              "#d8576b"
             ],
             [
              0.6666666666666666,
              "#ed7953"
             ],
             [
              0.7777777777777778,
              "#fb9f3a"
             ],
             [
              0.8888888888888888,
              "#fdca26"
             ],
             [
              1,
              "#f0f921"
             ]
            ],
            "type": "histogram2d"
           }
          ],
          "histogram2dcontour": [
           {
            "colorbar": {
             "outlinewidth": 0,
             "ticks": ""
            },
            "colorscale": [
             [
              0,
              "#0d0887"
             ],
             [
              0.1111111111111111,
              "#46039f"
             ],
             [
              0.2222222222222222,
              "#7201a8"
             ],
             [
              0.3333333333333333,
              "#9c179e"
             ],
             [
              0.4444444444444444,
              "#bd3786"
             ],
             [
              0.5555555555555556,
              "#d8576b"
             ],
             [
              0.6666666666666666,
              "#ed7953"
             ],
             [
              0.7777777777777778,
              "#fb9f3a"
             ],
             [
              0.8888888888888888,
              "#fdca26"
             ],
             [
              1,
              "#f0f921"
             ]
            ],
            "type": "histogram2dcontour"
           }
          ],
          "mesh3d": [
           {
            "colorbar": {
             "outlinewidth": 0,
             "ticks": ""
            },
            "type": "mesh3d"
           }
          ],
          "parcoords": [
           {
            "line": {
             "colorbar": {
              "outlinewidth": 0,
              "ticks": ""
             }
            },
            "type": "parcoords"
           }
          ],
          "pie": [
           {
            "automargin": true,
            "type": "pie"
           }
          ],
          "scatter": [
           {
            "fillpattern": {
             "fillmode": "overlay",
             "size": 10,
             "solidity": 0.2
            },
            "type": "scatter"
           }
          ],
          "scatter3d": [
           {
            "line": {
             "colorbar": {
              "outlinewidth": 0,
              "ticks": ""
             }
            },
            "marker": {
             "colorbar": {
              "outlinewidth": 0,
              "ticks": ""
             }
            },
            "type": "scatter3d"
           }
          ],
          "scattercarpet": [
           {
            "marker": {
             "colorbar": {
              "outlinewidth": 0,
              "ticks": ""
             }
            },
            "type": "scattercarpet"
           }
          ],
          "scattergeo": [
           {
            "marker": {
             "colorbar": {
              "outlinewidth": 0,
              "ticks": ""
             }
            },
            "type": "scattergeo"
           }
          ],
          "scattergl": [
           {
            "marker": {
             "colorbar": {
              "outlinewidth": 0,
              "ticks": ""
             }
            },
            "type": "scattergl"
           }
          ],
          "scattermap": [
           {
            "marker": {
             "colorbar": {
              "outlinewidth": 0,
              "ticks": ""
             }
            },
            "type": "scattermap"
           }
          ],
          "scattermapbox": [
           {
            "marker": {
             "colorbar": {
              "outlinewidth": 0,
              "ticks": ""
             }
            },
            "type": "scattermapbox"
           }
          ],
          "scatterpolar": [
           {
            "marker": {
             "colorbar": {
              "outlinewidth": 0,
              "ticks": ""
             }
            },
            "type": "scatterpolar"
           }
          ],
          "scatterpolargl": [
           {
            "marker": {
             "colorbar": {
              "outlinewidth": 0,
              "ticks": ""
             }
            },
            "type": "scatterpolargl"
           }
          ],
          "scatterternary": [
           {
            "marker": {
             "colorbar": {
              "outlinewidth": 0,
              "ticks": ""
             }
            },
            "type": "scatterternary"
           }
          ],
          "surface": [
           {
            "colorbar": {
             "outlinewidth": 0,
             "ticks": ""
            },
            "colorscale": [
             [
              0,
              "#0d0887"
             ],
             [
              0.1111111111111111,
              "#46039f"
             ],
             [
              0.2222222222222222,
              "#7201a8"
             ],
             [
              0.3333333333333333,
              "#9c179e"
             ],
             [
              0.4444444444444444,
              "#bd3786"
             ],
             [
              0.5555555555555556,
              "#d8576b"
             ],
             [
              0.6666666666666666,
              "#ed7953"
             ],
             [
              0.7777777777777778,
              "#fb9f3a"
             ],
             [
              0.8888888888888888,
              "#fdca26"
             ],
             [
              1,
              "#f0f921"
             ]
            ],
            "type": "surface"
           }
          ],
          "table": [
           {
            "cells": {
             "fill": {
              "color": "#EBF0F8"
             },
             "line": {
              "color": "white"
             }
            },
            "header": {
             "fill": {
              "color": "#C8D4E3"
             },
             "line": {
              "color": "white"
             }
            },
            "type": "table"
           }
          ]
         },
         "layout": {
          "annotationdefaults": {
           "arrowcolor": "#2a3f5f",
           "arrowhead": 0,
           "arrowwidth": 1
          },
          "autotypenumbers": "strict",
          "coloraxis": {
           "colorbar": {
            "outlinewidth": 0,
            "ticks": ""
           }
          },
          "colorscale": {
           "diverging": [
            [
             0,
             "#8e0152"
            ],
            [
             0.1,
             "#c51b7d"
            ],
            [
             0.2,
             "#de77ae"
            ],
            [
             0.3,
             "#f1b6da"
            ],
            [
             0.4,
             "#fde0ef"
            ],
            [
             0.5,
             "#f7f7f7"
            ],
            [
             0.6,
             "#e6f5d0"
            ],
            [
             0.7,
             "#b8e186"
            ],
            [
             0.8,
             "#7fbc41"
            ],
            [
             0.9,
             "#4d9221"
            ],
            [
             1,
             "#276419"
            ]
           ],
           "sequential": [
            [
             0,
             "#0d0887"
            ],
            [
             0.1111111111111111,
             "#46039f"
            ],
            [
             0.2222222222222222,
             "#7201a8"
            ],
            [
             0.3333333333333333,
             "#9c179e"
            ],
            [
             0.4444444444444444,
             "#bd3786"
            ],
            [
             0.5555555555555556,
             "#d8576b"
            ],
            [
             0.6666666666666666,
             "#ed7953"
            ],
            [
             0.7777777777777778,
             "#fb9f3a"
            ],
            [
             0.8888888888888888,
             "#fdca26"
            ],
            [
             1,
             "#f0f921"
            ]
           ],
           "sequentialminus": [
            [
             0,
             "#0d0887"
            ],
            [
             0.1111111111111111,
             "#46039f"
            ],
            [
             0.2222222222222222,
             "#7201a8"
            ],
            [
             0.3333333333333333,
             "#9c179e"
            ],
            [
             0.4444444444444444,
             "#bd3786"
            ],
            [
             0.5555555555555556,
             "#d8576b"
            ],
            [
             0.6666666666666666,
             "#ed7953"
            ],
            [
             0.7777777777777778,
             "#fb9f3a"
            ],
            [
             0.8888888888888888,
             "#fdca26"
            ],
            [
             1,
             "#f0f921"
            ]
           ]
          },
          "colorway": [
           "#636efa",
           "#EF553B",
           "#00cc96",
           "#ab63fa",
           "#FFA15A",
           "#19d3f3",
           "#FF6692",
           "#B6E880",
           "#FF97FF",
           "#FECB52"
          ],
          "font": {
           "color": "#2a3f5f"
          },
          "geo": {
           "bgcolor": "white",
           "lakecolor": "white",
           "landcolor": "#E5ECF6",
           "showlakes": true,
           "showland": true,
           "subunitcolor": "white"
          },
          "hoverlabel": {
           "align": "left"
          },
          "hovermode": "closest",
          "mapbox": {
           "style": "light"
          },
          "paper_bgcolor": "white",
          "plot_bgcolor": "#E5ECF6",
          "polar": {
           "angularaxis": {
            "gridcolor": "white",
            "linecolor": "white",
            "ticks": ""
           },
           "bgcolor": "#E5ECF6",
           "radialaxis": {
            "gridcolor": "white",
            "linecolor": "white",
            "ticks": ""
           }
          },
          "scene": {
           "xaxis": {
            "backgroundcolor": "#E5ECF6",
            "gridcolor": "white",
            "gridwidth": 2,
            "linecolor": "white",
            "showbackground": true,
            "ticks": "",
            "zerolinecolor": "white"
           },
           "yaxis": {
            "backgroundcolor": "#E5ECF6",
            "gridcolor": "white",
            "gridwidth": 2,
            "linecolor": "white",
            "showbackground": true,
            "ticks": "",
            "zerolinecolor": "white"
           },
           "zaxis": {
            "backgroundcolor": "#E5ECF6",
            "gridcolor": "white",
            "gridwidth": 2,
            "linecolor": "white",
            "showbackground": true,
            "ticks": "",
            "zerolinecolor": "white"
           }
          },
          "shapedefaults": {
           "line": {
            "color": "#2a3f5f"
           }
          },
          "ternary": {
           "aaxis": {
            "gridcolor": "white",
            "linecolor": "white",
            "ticks": ""
           },
           "baxis": {
            "gridcolor": "white",
            "linecolor": "white",
            "ticks": ""
           },
           "bgcolor": "#E5ECF6",
           "caxis": {
            "gridcolor": "white",
            "linecolor": "white",
            "ticks": ""
           }
          },
          "title": {
           "x": 0.05
          },
          "xaxis": {
           "automargin": true,
           "gridcolor": "white",
           "linecolor": "white",
           "ticks": "",
           "title": {
            "standoff": 15
           },
           "zerolinecolor": "white",
           "zerolinewidth": 2
          },
          "yaxis": {
           "automargin": true,
           "gridcolor": "white",
           "linecolor": "white",
           "ticks": "",
           "title": {
            "standoff": 15
           },
           "zerolinecolor": "white",
           "zerolinewidth": 2
          }
         }
        },
        "title": {
         "text": "Country indicators 2020"
        },
        "width": 800,
        "xaxis": {
         "anchor": "y",
         "domain": [
          0,
          1
         ],
         "title": {
          "text": "GDP2020"
         },
         "type": "log"
        },
        "yaxis": {
         "anchor": "x",
         "domain": [
          0,
          1
         ],
         "title": {
          "text": "Expectancy2020"
         }
        }
       }
      }
     },
     "metadata": {},
     "output_type": "display_data"
    }
   ],
   "source": [
    "import plotly.express as px\n",
    "import pandas as pd\n",
    "url = 'https://bbrejova.github.io/viz/data/World_bank.csv'\n",
    "countries = pd.read_csv(url)\n",
    "\n",
    "px.scatter(\n",
    "        countries, x=\"GDP2020\", y=\"Expectancy2020\", color=\"Region\", \n",
    "        hover_data=['Country'],\n",
    "        title=\"Country indicators 2020\", log_x=True, \n",
    "        width=800, height=500\n",
    "    )"
   ]
  },
  {
   "cell_type": "markdown",
   "metadata": {
    "id": "gvI6fVZlih3m"
   },
   "source": [
    "Example 2: Life expectancy data, based on free data from World bank via [gapminder.org](https://www.gapminder.org/data/), CC-BY license (years 1900-2017) and [World bank](https://databank.worldbank.org/reports.aspx?source=2&series=SP.DYN.LE00.IN&country=#) directly (years 2018-2021).\n",
    "\n",
    "Compare data along the x coordinate.\n"
   ]
  },
  {
   "cell_type": "code",
   "execution_count": 2,
   "metadata": {
    "executionInfo": {
     "elapsed": 4672,
     "status": "ok",
     "timestamp": 1620077207924,
     "user": {
      "displayName": "Brona Brejova",
      "photoUrl": "https://lh3.googleusercontent.com/a-/AOh14GjGyr69ecECqZOZ-_5-o1v7SpP5TdLQGU7-pHl4UQ=s64",
      "userId": "10789993073610145432"
     },
     "user_tz": -120
    },
    "id": "qX8hCng9ibAn"
   },
   "outputs": [
    {
     "data": {
      "text/html": [
       "<div>\n",
       "<style scoped>\n",
       "    .dataframe tbody tr th:only-of-type {\n",
       "        vertical-align: middle;\n",
       "    }\n",
       "\n",
       "    .dataframe tbody tr th {\n",
       "        vertical-align: top;\n",
       "    }\n",
       "\n",
       "    .dataframe thead th {\n",
       "        text-align: right;\n",
       "    }\n",
       "</style>\n",
       "<table border=\"1\" class=\"dataframe\">\n",
       "  <thead>\n",
       "    <tr style=\"text-align: right;\">\n",
       "      <th></th>\n",
       "      <th>Country</th>\n",
       "      <th>Year</th>\n",
       "      <th>Expectancy</th>\n",
       "    </tr>\n",
       "  </thead>\n",
       "  <tbody>\n",
       "    <tr>\n",
       "      <th>0</th>\n",
       "      <td>Afghanistan</td>\n",
       "      <td>1900</td>\n",
       "      <td>29.4</td>\n",
       "    </tr>\n",
       "    <tr>\n",
       "      <th>1</th>\n",
       "      <td>Albania</td>\n",
       "      <td>1900</td>\n",
       "      <td>35.4</td>\n",
       "    </tr>\n",
       "    <tr>\n",
       "      <th>2</th>\n",
       "      <td>Algeria</td>\n",
       "      <td>1900</td>\n",
       "      <td>30.2</td>\n",
       "    </tr>\n",
       "    <tr>\n",
       "      <th>3</th>\n",
       "      <td>Angola</td>\n",
       "      <td>1900</td>\n",
       "      <td>29.0</td>\n",
       "    </tr>\n",
       "    <tr>\n",
       "      <th>4</th>\n",
       "      <td>Antigua and Barbuda</td>\n",
       "      <td>1900</td>\n",
       "      <td>33.8</td>\n",
       "    </tr>\n",
       "  </tbody>\n",
       "</table>\n",
       "</div>"
      ],
      "text/plain": [
       "               Country  Year  Expectancy\n",
       "0          Afghanistan  1900        29.4\n",
       "1              Albania  1900        35.4\n",
       "2              Algeria  1900        30.2\n",
       "3               Angola  1900        29.0\n",
       "4  Antigua and Barbuda  1900        33.8"
      ]
     },
     "metadata": {},
     "output_type": "display_data"
    }
   ],
   "source": [
    "url = \"https://bbrejova.github.io/viz/data/life_expectancy_years.csv\"\n",
    "orig_expectancy = pd.read_csv(url, index_col=0)\n",
    "orig_expectancy = orig_expectancy.iloc[:, 1:].reset_index()\n",
    "expectancy = pd.melt(orig_expectancy, id_vars=[\"Country\"], var_name=\"Year\", value_name=\"Expectancy\")\n",
    "expectancy['Year'] = expectancy['Year'].astype(int)\n",
    "display(expectancy.head())\n"
   ]
  },
  {
   "cell_type": "code",
   "execution_count": 5,
   "metadata": {
    "colab": {
     "base_uri": "https://localhost:8080/",
     "height": 517
    },
    "executionInfo": {
     "elapsed": 5450,
     "status": "ok",
     "timestamp": 1620077208707,
     "user": {
      "displayName": "Brona Brejova",
      "photoUrl": "https://lh3.googleusercontent.com/a-/AOh14GjGyr69ecECqZOZ-_5-o1v7SpP5TdLQGU7-pHl4UQ=s64",
      "userId": "10789993073610145432"
     },
     "user_tz": -120
    },
    "id": "FkR3NSDX-Eor",
    "outputId": "55d1c6bf-3987-45cd-c2cb-b2ce664601a1"
   },
   "outputs": [
    {
     "data": {
      "application/vnd.plotly.v1+json": {
       "config": {
        "plotlyServerURL": "https://plot.ly"
       },
       "data": [
        {
         "hovertemplate": "Country=Portugal<br>Year=%{x}<br>Expectancy=%{y}<extra></extra>",
         "legendgroup": "Portugal",
         "line": {
          "color": "#636efa",
          "dash": "solid"
         },
         "marker": {
          "symbol": "circle"
         },
         "mode": "lines",
         "name": "Portugal",
         "orientation": "v",
         "showlegend": true,
         "type": "scatter",
         "x": {
          "bdata": "bAdtB24HbwdwB3EHcgdzB3QHdQd2B3cHeAd5B3oHewd8B30Hfgd/B4AHgQeCB4MHhAeFB4YHhweIB4kHigeLB4wHjQeOB48HkAeRB5IHkweUB5UHlgeXB5gHmQeaB5sHnAedB54HnwegB6EHogejB6QHpQemB6cHqAepB6oHqwesB60HrgevB7AHsQeyB7MHtAe1B7YHtwe4B7kHuge7B7wHvQe+B78HwAfBB8IHwwfEB8UHxgfHB8gHyQfKB8sHzAfNB84HzwfQB9EH0gfTB9QH1QfWB9cH2AfZB9oH2wfcB90H3gffB+AH4QfiB+MH5AflBw==",
          "dtype": "i2"
         },
         "xaxis": "x",
         "y": {
          "bdata": "zczMzMzMQUDNzMzMzMxBQM3MzMzMzEFAzczMzMzMQUDNzMzMzMxBQM3MzMzMzEFAzczMzMzMQUDNzMzMzMxBQM3MzMzMzEFAzczMzMzMQUDNzMzMzMxBQM3MzMzMzEFAzczMzMzMQUDNzMzMzMxBQM3MzMzMzEFAzczMzMzMQUDNzMzMzMxBQM3MzMzMzEFAZmZmZmZmNEDNzMzMzMxBQM3MzMzMzEFAzczMzMzMQUDNzMzMzMxBQM3MzMzMzEFAzczMzMzMQUDNzMzMzMxBQJqZmZmZWUJAmpmZmZnZQkBmZmZmZmZDQGZmZmZm5kNAMzMzMzNzREAAAAAAAABFQAAAAAAAgEVAzczMzMwMRkDNzMzMzIxGQJqZmZmZGUdAmpmZmZmZR0BmZmZmZiZIQDMzMzMzs0hAMzMzMzMzSUAAAAAAAMBJQAAAAAAAAEhAMzMzMzPzSEDNzMzMzIxJQAAAAAAAQEpAMzMzMzPzSkCamZmZmdlKQM3MzMzMDExAZmZmZmZmTEAzMzMzM7NLQM3MzMzMTE1AZmZmZmZmTUAzMzMzM/NNQJqZmZmZmU5AZmZmZmYmT0AAAAAAAMBOQGZmZmZmpk5AzczMzMzMTkAzMzMzM/NPQAAAAAAAgE9AMzMzMzMTUEAzMzMzM3NPQJqZmZmZGVBAZmZmZmZGUEAzMzMzM1NQQDMzMzMzk1BAMzMzMzNzUEDNzMzMzKxQQAAAAAAAwFBAZmZmZmamUEDNzMzMzMxQQAAAAAAA4FBAzczMzMwMUUBmZmZmZiZRQJqZmZmZOVFAZmZmZmZmUUCamZmZmXlRQGZmZmZmhlFAZmZmZmamUUBmZmZmZsZRQAAAAAAA4FFAMzMzMzPzUUDNzMzMzAxSQAAAAAAAIFJAzczMzMwsUkAAAAAAAEBSQDMzMzMzU1JAZmZmZmZmUkAzMzMzM3NSQAAAAAAAgFJAZmZmZmaGUkBmZmZmZoZSQJqZmZmZmVJAZmZmZmamUkCamZmZmdlSQDMzMzMz01JAMzMzMzPTUkDNzMzMzOxSQAAAAAAAAFNAMzMzMzMTU0DNzMzMzCxTQAAAAAAAQFNAMzMzMzNTU0BmZmZmZmZTQDMzMzMzk1NAMzMzMzOzU0BmZmZmZsZTQDMzMzMz01NAAAAAAADgU0DNzMzMzOxTQAAAAAAAAFRAmpmZmZkZVEBmZmZmZiZUQJqZmZmZOVRAzczMzMxMVEAAAAAAAGBUQAAAAAAAYFRAmpmZmZlZVEDyLEzPwlRUQA7TszA9a1RAQQbnY3A+VEBD7UrUrkRUQA==",
          "dtype": "f8"
         },
         "yaxis": "y"
        },
        {
         "hovertemplate": "Country=Slovak Republic<br>Year=%{x}<br>Expectancy=%{y}<extra></extra>",
         "legendgroup": "Slovak Republic",
         "line": {
          "color": "#EF553B",
          "dash": "solid"
         },
         "marker": {
          "symbol": "circle"
         },
         "mode": "lines",
         "name": "Slovak Republic",
         "orientation": "v",
         "showlegend": true,
         "type": "scatter",
         "x": {
          "bdata": "bAdtB24HbwdwB3EHcgdzB3QHdQd2B3cHeAd5B3oHewd8B30Hfgd/B4AHgQeCB4MHhAeFB4YHhweIB4kHigeLB4wHjQeOB48HkAeRB5IHkweUB5UHlgeXB5gHmQeaB5sHnAedB54HnwegB6EHogejB6QHpQemB6cHqAepB6oHqwesB60HrgevB7AHsQeyB7MHtAe1B7YHtwe4B7kHuge7B7wHvQe+B78HwAfBB8IHwwfEB8UHxgfHB8gHyQfKB8sHzAfNB84HzwfQB9EH0gfTB9QH1QfWB9cH2AfZB9oH2wfcB90H3gffB+AH4QfiB+MH5AflBw==",
          "dtype": "i2"
         },
         "xaxis": "x",
         "y": {
          "bdata": "MzMzMzPzQkCamZmZmRlDQAAAAAAAQENAZmZmZmZmQ0DNzMzMzIxDQDMzMzMzs0NAmpmZmZnZQ0AAAAAAAABEQGZmZmZmJkRAzczMzMxMREAzMzMzM3NEQJqZmZmZmURAAAAAAADAREBmZmZmZuZEQM3MzMzMDEVAMzMzMzMzRUCamZmZmVlFQAAAAAAAgEVAZmZmZmbmP0DNzMzMzMxFQDMzMzMz80VAmpmZmZkZRkBmZmZmZmZGQAAAAAAAwEZAzczMzMwMR0CamZmZmVlHQDMzMzMzs0dAAAAAAAAASEDNzMzMzExIQGZmZmZmpkhAMzMzMzPzSEAzMzMzMzNJQGZmZmZmZklAZmZmZmamSUBmZmZmZuZJQGZmZmZmJkpAmpmZmZlZSkCamZmZmZlKQGZmZmZm5kpAzczMzMwMS0AAAAAAAABLQGZmZmZm5kpAAAAAAAAASkAAAAAAAMBHQAAAAAAAQEVAAAAAAABAREAAAAAAAABLQAAAAAAAAE1AAAAAAACATUBmZmZmZiZOQDMzMzMzc05AZmZmZmamTkCamZmZmRlQQM3MzMzMbFBAzczMzMysUEAzMzMzM/NQQJqZmZmZGVFAAAAAAADgUEAzMzMzM1NRQAAAAAAAQFFAMzMzMzOTUUAzMzMzM7NRQDMzMzMzk1FAzczMzMysUUBmZmZmZsZRQDMzMzMzk1FAmpmZmZmZUUAAAAAAAMBRQAAAAAAAoFFAMzMzMzNzUUDNzMzMzGxRQDMzMzMzc1FAAAAAAACAUUAAAAAAAIBRQM3MzMzMjFFAMzMzMzOTUUCamZmZmZlRQAAAAAAAoFFAmpmZmZmZUUBmZmZmZqZRQAAAAAAAoFFAZmZmZmamUUDNzMzMzKxRQGZmZmZmplFAzczMzMysUUDNzMzMzKxRQJqZmZmZuVFAmpmZmZm5UUAAAAAAAMBRQAAAAAAAwFFAAAAAAADAUUBmZmZmZsZRQAAAAAAA4FFAAAAAAAAAUkAAAAAAACBSQAAAAAAAIFJAAAAAAABAUkAzMzMzMzNSQDMzMzMzM1JAZmZmZmZGUkAAAAAAAGBSQM3MzMzMbFJAmpmZmZl5UkAAAAAAAIBSQJqZmZmZmVJAMzMzMzOTUkAAAAAAAKBSQAAAAAAAoFJAmpmZmZm5UkDNzMzMzMxSQGZmZmZm5lJAmpmZmZn5UkDNzMzMzAxTQGZmZmZmJlNAMzMzMzMzU0DNzMzMzCxTQM3MzMzMTFNAmpmZmZlZU0DyOxC/A1FTQIzVqVidalNAWKJ2JWo3U0AQyduQvK1SQA==",
          "dtype": "f8"
         },
         "yaxis": "y"
        }
       ],
       "layout": {
        "height": 500,
        "hovermode": "x unified",
        "legend": {
         "title": {
          "text": "Country"
         },
         "tracegroupgap": 0
        },
        "margin": {
         "t": 60
        },
        "template": {
         "data": {
          "bar": [
           {
            "error_x": {
             "color": "#2a3f5f"
            },
            "error_y": {
             "color": "#2a3f5f"
            },
            "marker": {
             "line": {
              "color": "#E5ECF6",
              "width": 0.5
             },
             "pattern": {
              "fillmode": "overlay",
              "size": 10,
              "solidity": 0.2
             }
            },
            "type": "bar"
           }
          ],
          "barpolar": [
           {
            "marker": {
             "line": {
              "color": "#E5ECF6",
              "width": 0.5
             },
             "pattern": {
              "fillmode": "overlay",
              "size": 10,
              "solidity": 0.2
             }
            },
            "type": "barpolar"
           }
          ],
          "carpet": [
           {
            "aaxis": {
             "endlinecolor": "#2a3f5f",
             "gridcolor": "white",
             "linecolor": "white",
             "minorgridcolor": "white",
             "startlinecolor": "#2a3f5f"
            },
            "baxis": {
             "endlinecolor": "#2a3f5f",
             "gridcolor": "white",
             "linecolor": "white",
             "minorgridcolor": "white",
             "startlinecolor": "#2a3f5f"
            },
            "type": "carpet"
           }
          ],
          "choropleth": [
           {
            "colorbar": {
             "outlinewidth": 0,
             "ticks": ""
            },
            "type": "choropleth"
           }
          ],
          "contour": [
           {
            "colorbar": {
             "outlinewidth": 0,
             "ticks": ""
            },
            "colorscale": [
             [
              0,
              "#0d0887"
             ],
             [
              0.1111111111111111,
              "#46039f"
             ],
             [
              0.2222222222222222,
              "#7201a8"
             ],
             [
              0.3333333333333333,
              "#9c179e"
             ],
             [
              0.4444444444444444,
              "#bd3786"
             ],
             [
              0.5555555555555556,
              "#d8576b"
             ],
             [
              0.6666666666666666,
              "#ed7953"
             ],
             [
              0.7777777777777778,
              "#fb9f3a"
             ],
             [
              0.8888888888888888,
              "#fdca26"
             ],
             [
              1,
              "#f0f921"
             ]
            ],
            "type": "contour"
           }
          ],
          "contourcarpet": [
           {
            "colorbar": {
             "outlinewidth": 0,
             "ticks": ""
            },
            "type": "contourcarpet"
           }
          ],
          "heatmap": [
           {
            "colorbar": {
             "outlinewidth": 0,
             "ticks": ""
            },
            "colorscale": [
             [
              0,
              "#0d0887"
             ],
             [
              0.1111111111111111,
              "#46039f"
             ],
             [
              0.2222222222222222,
              "#7201a8"
             ],
             [
              0.3333333333333333,
              "#9c179e"
             ],
             [
              0.4444444444444444,
              "#bd3786"
             ],
             [
              0.5555555555555556,
              "#d8576b"
             ],
             [
              0.6666666666666666,
              "#ed7953"
             ],
             [
              0.7777777777777778,
              "#fb9f3a"
             ],
             [
              0.8888888888888888,
              "#fdca26"
             ],
             [
              1,
              "#f0f921"
             ]
            ],
            "type": "heatmap"
           }
          ],
          "histogram": [
           {
            "marker": {
             "pattern": {
              "fillmode": "overlay",
              "size": 10,
              "solidity": 0.2
             }
            },
            "type": "histogram"
           }
          ],
          "histogram2d": [
           {
            "colorbar": {
             "outlinewidth": 0,
             "ticks": ""
            },
            "colorscale": [
             [
              0,
              "#0d0887"
             ],
             [
              0.1111111111111111,
              "#46039f"
             ],
             [
              0.2222222222222222,
              "#7201a8"
             ],
             [
              0.3333333333333333,
              "#9c179e"
             ],
             [
              0.4444444444444444,
              "#bd3786"
             ],
             [
              0.5555555555555556,
              "#d8576b"
             ],
             [
              0.6666666666666666,
              "#ed7953"
             ],
             [
              0.7777777777777778,
              "#fb9f3a"
             ],
             [
              0.8888888888888888,
              "#fdca26"
             ],
             [
              1,
              "#f0f921"
             ]
            ],
            "type": "histogram2d"
           }
          ],
          "histogram2dcontour": [
           {
            "colorbar": {
             "outlinewidth": 0,
             "ticks": ""
            },
            "colorscale": [
             [
              0,
              "#0d0887"
             ],
             [
              0.1111111111111111,
              "#46039f"
             ],
             [
              0.2222222222222222,
              "#7201a8"
             ],
             [
              0.3333333333333333,
              "#9c179e"
             ],
             [
              0.4444444444444444,
              "#bd3786"
             ],
             [
              0.5555555555555556,
              "#d8576b"
             ],
             [
              0.6666666666666666,
              "#ed7953"
             ],
             [
              0.7777777777777778,
              "#fb9f3a"
             ],
             [
              0.8888888888888888,
              "#fdca26"
             ],
             [
              1,
              "#f0f921"
             ]
            ],
            "type": "histogram2dcontour"
           }
          ],
          "mesh3d": [
           {
            "colorbar": {
             "outlinewidth": 0,
             "ticks": ""
            },
            "type": "mesh3d"
           }
          ],
          "parcoords": [
           {
            "line": {
             "colorbar": {
              "outlinewidth": 0,
              "ticks": ""
             }
            },
            "type": "parcoords"
           }
          ],
          "pie": [
           {
            "automargin": true,
            "type": "pie"
           }
          ],
          "scatter": [
           {
            "fillpattern": {
             "fillmode": "overlay",
             "size": 10,
             "solidity": 0.2
            },
            "type": "scatter"
           }
          ],
          "scatter3d": [
           {
            "line": {
             "colorbar": {
              "outlinewidth": 0,
              "ticks": ""
             }
            },
            "marker": {
             "colorbar": {
              "outlinewidth": 0,
              "ticks": ""
             }
            },
            "type": "scatter3d"
           }
          ],
          "scattercarpet": [
           {
            "marker": {
             "colorbar": {
              "outlinewidth": 0,
              "ticks": ""
             }
            },
            "type": "scattercarpet"
           }
          ],
          "scattergeo": [
           {
            "marker": {
             "colorbar": {
              "outlinewidth": 0,
              "ticks": ""
             }
            },
            "type": "scattergeo"
           }
          ],
          "scattergl": [
           {
            "marker": {
             "colorbar": {
              "outlinewidth": 0,
              "ticks": ""
             }
            },
            "type": "scattergl"
           }
          ],
          "scattermap": [
           {
            "marker": {
             "colorbar": {
              "outlinewidth": 0,
              "ticks": ""
             }
            },
            "type": "scattermap"
           }
          ],
          "scattermapbox": [
           {
            "marker": {
             "colorbar": {
              "outlinewidth": 0,
              "ticks": ""
             }
            },
            "type": "scattermapbox"
           }
          ],
          "scatterpolar": [
           {
            "marker": {
             "colorbar": {
              "outlinewidth": 0,
              "ticks": ""
             }
            },
            "type": "scatterpolar"
           }
          ],
          "scatterpolargl": [
           {
            "marker": {
             "colorbar": {
              "outlinewidth": 0,
              "ticks": ""
             }
            },
            "type": "scatterpolargl"
           }
          ],
          "scatterternary": [
           {
            "marker": {
             "colorbar": {
              "outlinewidth": 0,
              "ticks": ""
             }
            },
            "type": "scatterternary"
           }
          ],
          "surface": [
           {
            "colorbar": {
             "outlinewidth": 0,
             "ticks": ""
            },
            "colorscale": [
             [
              0,
              "#0d0887"
             ],
             [
              0.1111111111111111,
              "#46039f"
             ],
             [
              0.2222222222222222,
              "#7201a8"
             ],
             [
              0.3333333333333333,
              "#9c179e"
             ],
             [
              0.4444444444444444,
              "#bd3786"
             ],
             [
              0.5555555555555556,
              "#d8576b"
             ],
             [
              0.6666666666666666,
              "#ed7953"
             ],
             [
              0.7777777777777778,
              "#fb9f3a"
             ],
             [
              0.8888888888888888,
              "#fdca26"
             ],
             [
              1,
              "#f0f921"
             ]
            ],
            "type": "surface"
           }
          ],
          "table": [
           {
            "cells": {
             "fill": {
              "color": "#EBF0F8"
             },
             "line": {
              "color": "white"
             }
            },
            "header": {
             "fill": {
              "color": "#C8D4E3"
             },
             "line": {
              "color": "white"
             }
            },
            "type": "table"
           }
          ]
         },
         "layout": {
          "annotationdefaults": {
           "arrowcolor": "#2a3f5f",
           "arrowhead": 0,
           "arrowwidth": 1
          },
          "autotypenumbers": "strict",
          "coloraxis": {
           "colorbar": {
            "outlinewidth": 0,
            "ticks": ""
           }
          },
          "colorscale": {
           "diverging": [
            [
             0,
             "#8e0152"
            ],
            [
             0.1,
             "#c51b7d"
            ],
            [
             0.2,
             "#de77ae"
            ],
            [
             0.3,
             "#f1b6da"
            ],
            [
             0.4,
             "#fde0ef"
            ],
            [
             0.5,
             "#f7f7f7"
            ],
            [
             0.6,
             "#e6f5d0"
            ],
            [
             0.7,
             "#b8e186"
            ],
            [
             0.8,
             "#7fbc41"
            ],
            [
             0.9,
             "#4d9221"
            ],
            [
             1,
             "#276419"
            ]
           ],
           "sequential": [
            [
             0,
             "#0d0887"
            ],
            [
             0.1111111111111111,
             "#46039f"
            ],
            [
             0.2222222222222222,
             "#7201a8"
            ],
            [
             0.3333333333333333,
             "#9c179e"
            ],
            [
             0.4444444444444444,
             "#bd3786"
            ],
            [
             0.5555555555555556,
             "#d8576b"
            ],
            [
             0.6666666666666666,
             "#ed7953"
            ],
            [
             0.7777777777777778,
             "#fb9f3a"
            ],
            [
             0.8888888888888888,
             "#fdca26"
            ],
            [
             1,
             "#f0f921"
            ]
           ],
           "sequentialminus": [
            [
             0,
             "#0d0887"
            ],
            [
             0.1111111111111111,
             "#46039f"
            ],
            [
             0.2222222222222222,
             "#7201a8"
            ],
            [
             0.3333333333333333,
             "#9c179e"
            ],
            [
             0.4444444444444444,
             "#bd3786"
            ],
            [
             0.5555555555555556,
             "#d8576b"
            ],
            [
             0.6666666666666666,
             "#ed7953"
            ],
            [
             0.7777777777777778,
             "#fb9f3a"
            ],
            [
             0.8888888888888888,
             "#fdca26"
            ],
            [
             1,
             "#f0f921"
            ]
           ]
          },
          "colorway": [
           "#636efa",
           "#EF553B",
           "#00cc96",
           "#ab63fa",
           "#FFA15A",
           "#19d3f3",
           "#FF6692",
           "#B6E880",
           "#FF97FF",
           "#FECB52"
          ],
          "font": {
           "color": "#2a3f5f"
          },
          "geo": {
           "bgcolor": "white",
           "lakecolor": "white",
           "landcolor": "#E5ECF6",
           "showlakes": true,
           "showland": true,
           "subunitcolor": "white"
          },
          "hoverlabel": {
           "align": "left"
          },
          "hovermode": "closest",
          "mapbox": {
           "style": "light"
          },
          "paper_bgcolor": "white",
          "plot_bgcolor": "#E5ECF6",
          "polar": {
           "angularaxis": {
            "gridcolor": "white",
            "linecolor": "white",
            "ticks": ""
           },
           "bgcolor": "#E5ECF6",
           "radialaxis": {
            "gridcolor": "white",
            "linecolor": "white",
            "ticks": ""
           }
          },
          "scene": {
           "xaxis": {
            "backgroundcolor": "#E5ECF6",
            "gridcolor": "white",
            "gridwidth": 2,
            "linecolor": "white",
            "showbackground": true,
            "ticks": "",
            "zerolinecolor": "white"
           },
           "yaxis": {
            "backgroundcolor": "#E5ECF6",
            "gridcolor": "white",
            "gridwidth": 2,
            "linecolor": "white",
            "showbackground": true,
            "ticks": "",
            "zerolinecolor": "white"
           },
           "zaxis": {
            "backgroundcolor": "#E5ECF6",
            "gridcolor": "white",
            "gridwidth": 2,
            "linecolor": "white",
            "showbackground": true,
            "ticks": "",
            "zerolinecolor": "white"
           }
          },
          "shapedefaults": {
           "line": {
            "color": "#2a3f5f"
           }
          },
          "ternary": {
           "aaxis": {
            "gridcolor": "white",
            "linecolor": "white",
            "ticks": ""
           },
           "baxis": {
            "gridcolor": "white",
            "linecolor": "white",
            "ticks": ""
           },
           "bgcolor": "#E5ECF6",
           "caxis": {
            "gridcolor": "white",
            "linecolor": "white",
            "ticks": ""
           }
          },
          "title": {
           "x": 0.05
          },
          "xaxis": {
           "automargin": true,
           "gridcolor": "white",
           "linecolor": "white",
           "ticks": "",
           "title": {
            "standoff": 15
           },
           "zerolinecolor": "white",
           "zerolinewidth": 2
          },
          "yaxis": {
           "automargin": true,
           "gridcolor": "white",
           "linecolor": "white",
           "ticks": "",
           "title": {
            "standoff": 15
           },
           "zerolinecolor": "white",
           "zerolinewidth": 2
          }
         }
        },
        "width": 800,
        "xaxis": {
         "anchor": "y",
         "domain": [
          0,
          1
         ],
         "title": {
          "text": "Year"
         }
        },
        "yaxis": {
         "anchor": "x",
         "domain": [
          0,
          1
         ],
         "title": {
          "text": "Expectancy"
         }
        }
       }
      }
     },
     "metadata": {},
     "output_type": "display_data"
    }
   ],
   "source": [
    "selected = expectancy.query(\"Country=='Slovak Republic' or Country=='Portugal'\")\n",
    "fig=px.line(\n",
    "        selected, x=\"Year\", y=\"Expectancy\", color=\"Country\", \n",
    "        width=800, height=500\n",
    "    )\n",
    "fig.update_layout(hovermode=\"x unified\")"
   ]
  },
  {
   "cell_type": "markdown",
   "metadata": {
    "id": "4blhP3tvpqe3"
   },
   "source": [
    "### More interaction with Dash by Plotly\n",
    "\n",
    "* Dash library by Plotly allows adding control elements (selectors, sliders, buttons, ...)\n",
    "* We have seen an example in L01"
   ]
  },
  {
   "cell_type": "markdown",
   "metadata": {
    "id": "86pfglJisN3y"
   },
   "source": [
    "## Other visualization tools\n",
    "\n",
    "Non-programmers typically create plots in spreadsheets:\n",
    "\n",
    "* Excel ([examples](https://support.microsoft.com/en-us/office/available-chart-types-in-office-a6187218-807e-4103-9e0a-27cdb19afb90))\n",
    "* Google sheets ([examples](https://support.google.com/docs/answer/190718))\n",
    "\n",
    "Tableau \n",
    "\n",
    "* Advanced visualization tools, commercial\n",
    "* [Gallery](https://www.tableau.com/solutions/gallery)\n",
    " \n",
    "Microsoft Power BI\n",
    "\n",
    "* Interactive data visualization software with a focus on business intelligence\n",
    "* An [example](https://powerbi.microsoft.com/en-us/power-bi-visuals/)\n",
    "\n",
    "System R: programming language for statistical computing\n",
    "\n",
    "* Together with Python, very popular in data science\n",
    "* Built-in [plots](https://www.w3schools.com/r/r_graph_plot.asp)\n",
    "* Colab has R runtype\n",
    "* Also other libraries, notably [ggplot2](https://ggplot2.tidyverse.org/) based on system called Grammar of Graphics ([cheatsheet](https://github.com/rstudio/cheatsheets/raw/master/data-visualization-2.1.pdf))\n",
    "\n",
    "Javascript\n",
    "\n",
    "* Programming language popular in web programming\n",
    "* Google charts for Javascript ([examples](https://developers.google.com/chart/interactive/docs/gallery))\n",
    "* [D3.js](https://d3js.org/) library (Data-Driven Documents)\n",
    "* Vega-Lite uses javascript to embed plots specified as json ([examples](https://vega.github.io/vega-lite/examples/), [embeding in html](https://vega.github.io/vega-lite/usage/embed.html))\n",
    "\n"
   ]
  },
  {
   "cell_type": "markdown",
   "metadata": {
    "id": "YKYICgXG2b6l"
   },
   "source": [
    "## Several specialized visualization types"
   ]
  },
  {
   "cell_type": "markdown",
   "metadata": {
    "id": "dEg34PBa6f90"
   },
   "source": [
    "### UML diagrams in computer science\n",
    "\n",
    "* Display relationships between different classes or other components and aspects of software\n",
    "\n",
    "<img src=\"https://upload.wikimedia.org/wikipedia/commons/thumb/e/ed/UML_diagrams_overview.svg/800px-UML_diagrams_overview.svg.png\">\n",
    "\n",
    "<small>https://commons.wikimedia.org/wiki/File:UML_diagrams_overview.svg Derfel73; Pmerson</small>"
   ]
  },
  {
   "cell_type": "markdown",
   "metadata": {
    "id": "z0vktsX_7Pls"
   },
   "source": [
    "### Waterfall chart\n",
    "\n",
    "* Used in business analysis: financial, inventory, human resources etc.\n",
    "* Displays effects decreasing or increasing a given value\n",
    "* The first and last columns are bars displaying starting and final value\n",
    "* Intermediate columns float, displaying changes from previous total\n",
    "* [Description](https://www.storytellingwithdata.com/blog/2020/11/16/what-is-a-waterfall)\n",
    "\n",
    "<img src=\"https://upload.wikimedia.org/wikipedia/commons/3/3f/Waterfallchart_ex2.jpg\">\n",
    "\n",
    "<small>https://commons.wikimedia.org/wiki/File:Waterfallchart_ex2.jpg FusionCharts Blog, CC BY-SA 4.0</small>"
   ]
  },
  {
   "cell_type": "markdown",
   "metadata": {
    "id": "myX1Q_769TeF"
   },
   "source": [
    "### Funnel charts\n",
    "\n",
    "* Display losses within a business process, e.g. from website visit to actual purchase\n",
    "* Horizontal bar chart with centered bars\n",
    "* Beware: different from [funnel plot](https://www.ncbi.nlm.nih.gov/pmc/articles/PMC2127453/pdf/9310563.pdf) in medical meta-analyses of multiple publications"
   ]
  },
  {
   "cell_type": "code",
   "execution_count": 22,
   "metadata": {
    "colab": {
     "base_uri": "https://localhost:8080/",
     "height": 542
    },
    "executionInfo": {
     "elapsed": 9205,
     "status": "ok",
     "timestamp": 1620077212478,
     "user": {
      "displayName": "Brona Brejova",
      "photoUrl": "https://lh3.googleusercontent.com/a-/AOh14GjGyr69ecECqZOZ-_5-o1v7SpP5TdLQGU7-pHl4UQ=s64",
      "userId": "10789993073610145432"
     },
     "user_tz": -120
    },
    "id": "nUfICAeI9zsM",
    "outputId": "f24d9926-71d5-4507-ab7b-73cdc088f43a"
   },
   "outputs": [
    {
     "data": {
      "application/vnd.plotly.v1+json": {
       "config": {
        "plotlyServerURL": "https://plot.ly"
       },
       "data": [
        {
         "hovertemplate": "number=%{x}<br>stage=%{y}<extra></extra>",
         "legendgroup": "",
         "marker": {
          "color": "#636efa"
         },
         "name": "",
         "orientation": "h",
         "showlegend": false,
         "type": "funnel",
         "x": {
          "bdata": "JxsLAg==",
          "dtype": "i1"
         },
         "xaxis": "x",
         "y": [
          "Website visit",
          "Download",
          "Price request",
          "Order"
         ],
         "yaxis": "y"
        }
       ],
       "layout": {
        "font": {
         "size": 18
        },
        "legend": {
         "tracegroupgap": 0
        },
        "margin": {
         "b": 10,
         "l": 10,
         "r": 10,
         "t": 30
        },
        "template": {
         "data": {
          "bar": [
           {
            "error_x": {
             "color": "#2a3f5f"
            },
            "error_y": {
             "color": "#2a3f5f"
            },
            "marker": {
             "line": {
              "color": "#E5ECF6",
              "width": 0.5
             },
             "pattern": {
              "fillmode": "overlay",
              "size": 10,
              "solidity": 0.2
             }
            },
            "type": "bar"
           }
          ],
          "barpolar": [
           {
            "marker": {
             "line": {
              "color": "#E5ECF6",
              "width": 0.5
             },
             "pattern": {
              "fillmode": "overlay",
              "size": 10,
              "solidity": 0.2
             }
            },
            "type": "barpolar"
           }
          ],
          "carpet": [
           {
            "aaxis": {
             "endlinecolor": "#2a3f5f",
             "gridcolor": "white",
             "linecolor": "white",
             "minorgridcolor": "white",
             "startlinecolor": "#2a3f5f"
            },
            "baxis": {
             "endlinecolor": "#2a3f5f",
             "gridcolor": "white",
             "linecolor": "white",
             "minorgridcolor": "white",
             "startlinecolor": "#2a3f5f"
            },
            "type": "carpet"
           }
          ],
          "choropleth": [
           {
            "colorbar": {
             "outlinewidth": 0,
             "ticks": ""
            },
            "type": "choropleth"
           }
          ],
          "contour": [
           {
            "colorbar": {
             "outlinewidth": 0,
             "ticks": ""
            },
            "colorscale": [
             [
              0,
              "#0d0887"
             ],
             [
              0.1111111111111111,
              "#46039f"
             ],
             [
              0.2222222222222222,
              "#7201a8"
             ],
             [
              0.3333333333333333,
              "#9c179e"
             ],
             [
              0.4444444444444444,
              "#bd3786"
             ],
             [
              0.5555555555555556,
              "#d8576b"
             ],
             [
              0.6666666666666666,
              "#ed7953"
             ],
             [
              0.7777777777777778,
              "#fb9f3a"
             ],
             [
              0.8888888888888888,
              "#fdca26"
             ],
             [
              1,
              "#f0f921"
             ]
            ],
            "type": "contour"
           }
          ],
          "contourcarpet": [
           {
            "colorbar": {
             "outlinewidth": 0,
             "ticks": ""
            },
            "type": "contourcarpet"
           }
          ],
          "heatmap": [
           {
            "colorbar": {
             "outlinewidth": 0,
             "ticks": ""
            },
            "colorscale": [
             [
              0,
              "#0d0887"
             ],
             [
              0.1111111111111111,
              "#46039f"
             ],
             [
              0.2222222222222222,
              "#7201a8"
             ],
             [
              0.3333333333333333,
              "#9c179e"
             ],
             [
              0.4444444444444444,
              "#bd3786"
             ],
             [
              0.5555555555555556,
              "#d8576b"
             ],
             [
              0.6666666666666666,
              "#ed7953"
             ],
             [
              0.7777777777777778,
              "#fb9f3a"
             ],
             [
              0.8888888888888888,
              "#fdca26"
             ],
             [
              1,
              "#f0f921"
             ]
            ],
            "type": "heatmap"
           }
          ],
          "histogram": [
           {
            "marker": {
             "pattern": {
              "fillmode": "overlay",
              "size": 10,
              "solidity": 0.2
             }
            },
            "type": "histogram"
           }
          ],
          "histogram2d": [
           {
            "colorbar": {
             "outlinewidth": 0,
             "ticks": ""
            },
            "colorscale": [
             [
              0,
              "#0d0887"
             ],
             [
              0.1111111111111111,
              "#46039f"
             ],
             [
              0.2222222222222222,
              "#7201a8"
             ],
             [
              0.3333333333333333,
              "#9c179e"
             ],
             [
              0.4444444444444444,
              "#bd3786"
             ],
             [
              0.5555555555555556,
              "#d8576b"
             ],
             [
              0.6666666666666666,
              "#ed7953"
             ],
             [
              0.7777777777777778,
              "#fb9f3a"
             ],
             [
              0.8888888888888888,
              "#fdca26"
             ],
             [
              1,
              "#f0f921"
             ]
            ],
            "type": "histogram2d"
           }
          ],
          "histogram2dcontour": [
           {
            "colorbar": {
             "outlinewidth": 0,
             "ticks": ""
            },
            "colorscale": [
             [
              0,
              "#0d0887"
             ],
             [
              0.1111111111111111,
              "#46039f"
             ],
             [
              0.2222222222222222,
              "#7201a8"
             ],
             [
              0.3333333333333333,
              "#9c179e"
             ],
             [
              0.4444444444444444,
              "#bd3786"
             ],
             [
              0.5555555555555556,
              "#d8576b"
             ],
             [
              0.6666666666666666,
              "#ed7953"
             ],
             [
              0.7777777777777778,
              "#fb9f3a"
             ],
             [
              0.8888888888888888,
              "#fdca26"
             ],
             [
              1,
              "#f0f921"
             ]
            ],
            "type": "histogram2dcontour"
           }
          ],
          "mesh3d": [
           {
            "colorbar": {
             "outlinewidth": 0,
             "ticks": ""
            },
            "type": "mesh3d"
           }
          ],
          "parcoords": [
           {
            "line": {
             "colorbar": {
              "outlinewidth": 0,
              "ticks": ""
             }
            },
            "type": "parcoords"
           }
          ],
          "pie": [
           {
            "automargin": true,
            "type": "pie"
           }
          ],
          "scatter": [
           {
            "fillpattern": {
             "fillmode": "overlay",
             "size": 10,
             "solidity": 0.2
            },
            "type": "scatter"
           }
          ],
          "scatter3d": [
           {
            "line": {
             "colorbar": {
              "outlinewidth": 0,
              "ticks": ""
             }
            },
            "marker": {
             "colorbar": {
              "outlinewidth": 0,
              "ticks": ""
             }
            },
            "type": "scatter3d"
           }
          ],
          "scattercarpet": [
           {
            "marker": {
             "colorbar": {
              "outlinewidth": 0,
              "ticks": ""
             }
            },
            "type": "scattercarpet"
           }
          ],
          "scattergeo": [
           {
            "marker": {
             "colorbar": {
              "outlinewidth": 0,
              "ticks": ""
             }
            },
            "type": "scattergeo"
           }
          ],
          "scattergl": [
           {
            "marker": {
             "colorbar": {
              "outlinewidth": 0,
              "ticks": ""
             }
            },
            "type": "scattergl"
           }
          ],
          "scattermap": [
           {
            "marker": {
             "colorbar": {
              "outlinewidth": 0,
              "ticks": ""
             }
            },
            "type": "scattermap"
           }
          ],
          "scattermapbox": [
           {
            "marker": {
             "colorbar": {
              "outlinewidth": 0,
              "ticks": ""
             }
            },
            "type": "scattermapbox"
           }
          ],
          "scatterpolar": [
           {
            "marker": {
             "colorbar": {
              "outlinewidth": 0,
              "ticks": ""
             }
            },
            "type": "scatterpolar"
           }
          ],
          "scatterpolargl": [
           {
            "marker": {
             "colorbar": {
              "outlinewidth": 0,
              "ticks": ""
             }
            },
            "type": "scatterpolargl"
           }
          ],
          "scatterternary": [
           {
            "marker": {
             "colorbar": {
              "outlinewidth": 0,
              "ticks": ""
             }
            },
            "type": "scatterternary"
           }
          ],
          "surface": [
           {
            "colorbar": {
             "outlinewidth": 0,
             "ticks": ""
            },
            "colorscale": [
             [
              0,
              "#0d0887"
             ],
             [
              0.1111111111111111,
              "#46039f"
             ],
             [
              0.2222222222222222,
              "#7201a8"
             ],
             [
              0.3333333333333333,
              "#9c179e"
             ],
             [
              0.4444444444444444,
              "#bd3786"
             ],
             [
              0.5555555555555556,
              "#d8576b"
             ],
             [
              0.6666666666666666,
              "#ed7953"
             ],
             [
              0.7777777777777778,
              "#fb9f3a"
             ],
             [
              0.8888888888888888,
              "#fdca26"
             ],
             [
              1,
              "#f0f921"
             ]
            ],
            "type": "surface"
           }
          ],
          "table": [
           {
            "cells": {
             "fill": {
              "color": "#EBF0F8"
             },
             "line": {
              "color": "white"
             }
            },
            "header": {
             "fill": {
              "color": "#C8D4E3"
             },
             "line": {
              "color": "white"
             }
            },
            "type": "table"
           }
          ]
         },
         "layout": {
          "annotationdefaults": {
           "arrowcolor": "#2a3f5f",
           "arrowhead": 0,
           "arrowwidth": 1
          },
          "autotypenumbers": "strict",
          "coloraxis": {
           "colorbar": {
            "outlinewidth": 0,
            "ticks": ""
           }
          },
          "colorscale": {
           "diverging": [
            [
             0,
             "#8e0152"
            ],
            [
             0.1,
             "#c51b7d"
            ],
            [
             0.2,
             "#de77ae"
            ],
            [
             0.3,
             "#f1b6da"
            ],
            [
             0.4,
             "#fde0ef"
            ],
            [
             0.5,
             "#f7f7f7"
            ],
            [
             0.6,
             "#e6f5d0"
            ],
            [
             0.7,
             "#b8e186"
            ],
            [
             0.8,
             "#7fbc41"
            ],
            [
             0.9,
             "#4d9221"
            ],
            [
             1,
             "#276419"
            ]
           ],
           "sequential": [
            [
             0,
             "#0d0887"
            ],
            [
             0.1111111111111111,
             "#46039f"
            ],
            [
             0.2222222222222222,
             "#7201a8"
            ],
            [
             0.3333333333333333,
             "#9c179e"
            ],
            [
             0.4444444444444444,
             "#bd3786"
            ],
            [
             0.5555555555555556,
             "#d8576b"
            ],
            [
             0.6666666666666666,
             "#ed7953"
            ],
            [
             0.7777777777777778,
             "#fb9f3a"
            ],
            [
             0.8888888888888888,
             "#fdca26"
            ],
            [
             1,
             "#f0f921"
            ]
           ],
           "sequentialminus": [
            [
             0,
             "#0d0887"
            ],
            [
             0.1111111111111111,
             "#46039f"
            ],
            [
             0.2222222222222222,
             "#7201a8"
            ],
            [
             0.3333333333333333,
             "#9c179e"
            ],
            [
             0.4444444444444444,
             "#bd3786"
            ],
            [
             0.5555555555555556,
             "#d8576b"
            ],
            [
             0.6666666666666666,
             "#ed7953"
            ],
            [
             0.7777777777777778,
             "#fb9f3a"
            ],
            [
             0.8888888888888888,
             "#fdca26"
            ],
            [
             1,
             "#f0f921"
            ]
           ]
          },
          "colorway": [
           "#636efa",
           "#EF553B",
           "#00cc96",
           "#ab63fa",
           "#FFA15A",
           "#19d3f3",
           "#FF6692",
           "#B6E880",
           "#FF97FF",
           "#FECB52"
          ],
          "font": {
           "color": "#2a3f5f"
          },
          "geo": {
           "bgcolor": "white",
           "lakecolor": "white",
           "landcolor": "#E5ECF6",
           "showlakes": true,
           "showland": true,
           "subunitcolor": "white"
          },
          "hoverlabel": {
           "align": "left"
          },
          "hovermode": "closest",
          "mapbox": {
           "style": "light"
          },
          "paper_bgcolor": "white",
          "plot_bgcolor": "#E5ECF6",
          "polar": {
           "angularaxis": {
            "gridcolor": "white",
            "linecolor": "white",
            "ticks": ""
           },
           "bgcolor": "#E5ECF6",
           "radialaxis": {
            "gridcolor": "white",
            "linecolor": "white",
            "ticks": ""
           }
          },
          "scene": {
           "xaxis": {
            "backgroundcolor": "#E5ECF6",
            "gridcolor": "white",
            "gridwidth": 2,
            "linecolor": "white",
            "showbackground": true,
            "ticks": "",
            "zerolinecolor": "white"
           },
           "yaxis": {
            "backgroundcolor": "#E5ECF6",
            "gridcolor": "white",
            "gridwidth": 2,
            "linecolor": "white",
            "showbackground": true,
            "ticks": "",
            "zerolinecolor": "white"
           },
           "zaxis": {
            "backgroundcolor": "#E5ECF6",
            "gridcolor": "white",
            "gridwidth": 2,
            "linecolor": "white",
            "showbackground": true,
            "ticks": "",
            "zerolinecolor": "white"
           }
          },
          "shapedefaults": {
           "line": {
            "color": "#2a3f5f"
           }
          },
          "ternary": {
           "aaxis": {
            "gridcolor": "white",
            "linecolor": "white",
            "ticks": ""
           },
           "baxis": {
            "gridcolor": "white",
            "linecolor": "white",
            "ticks": ""
           },
           "bgcolor": "#E5ECF6",
           "caxis": {
            "gridcolor": "white",
            "linecolor": "white",
            "ticks": ""
           }
          },
          "title": {
           "x": 0.05
          },
          "xaxis": {
           "automargin": true,
           "gridcolor": "white",
           "linecolor": "white",
           "ticks": "",
           "title": {
            "standoff": 15
           },
           "zerolinecolor": "white",
           "zerolinewidth": 2
          },
          "yaxis": {
           "automargin": true,
           "gridcolor": "white",
           "linecolor": "white",
           "ticks": "",
           "title": {
            "standoff": 15
           },
           "zerolinecolor": "white",
           "zerolinewidth": 2
          }
         }
        },
        "xaxis": {
         "anchor": "y",
         "domain": [
          0,
          1
         ],
         "title": {
          "text": "number"
         }
        },
        "yaxis": {
         "anchor": "x",
         "domain": [
          0,
          1
         ],
         "title": {
          "text": ""
         }
        }
       }
      }
     },
     "metadata": {},
     "output_type": "display_data"
    }
   ],
   "source": [
    "# inspired by https://plotly.com/python/funnel-charts/\n",
    "data = dict(\n",
    "    number=[39, 27, 11, 2],\n",
    "    stage=[\"Website visit\", \"Download\", \"Price request\", \"Order\"])\n",
    "fig = px.funnel(data, x='number', y='stage')\n",
    "fig.update_layout(font=dict(size=18), yaxis_title=\"\", margin=dict(l=10, r=10, t=30, b=10))\n",
    "fig.show()"
   ]
  },
  {
   "cell_type": "markdown",
   "metadata": {},
   "source": [
    "### Candlestick chart\n",
    "\n",
    "* Similar to boxplot, used in financial data, e.g. stocks, currency exchange rates\n",
    "* Line: minimum and maximum, box: opening and close, color: increase or decrease\n",
    "            \n",
    "<img src=\"https://upload.wikimedia.org/wikipedia/commons/3/3c/Candlestick_Chart_in_MetaTrader_5.png\" width=\"400px\">\n",
    "\n",
    "<small>https://commons.wikimedia.org/wiki/File:Candlestick_Chart_in_MetaTrader_5.png</small>"
   ]
  },
  {
   "cell_type": "markdown",
   "metadata": {},
   "source": [
    "### Gantt chart\n",
    "\n",
    "* Used in management to display project schedule with different tasks and their planned duration\n",
    "* Can also display current status of tasks and their dependencies\n",
    "\n",
    "<img src=\"https://upload.wikimedia.org/wikipedia/commons/thumb/5/57/GanttChartAnatomy.svg/640px-GanttChartAnatomy.svg.png\">\n",
    "\n",
    "<small>https://commons.wikimedia.org/wiki/File:GanttChartAnatomy.svg</small>\n"
   ]
  }
 ],
 "metadata": {
  "colab": {
   "authorship_tag": "ABX9TyOIYHivNurJ7L9lFYgKfUHO",
   "collapsed_sections": [],
   "name": "L11_Miscelaneous.ipynb",
   "provenance": []
  },
  "kernelspec": {
   "display_name": "venv",
   "language": "python",
   "name": "python3"
  },
  "language_info": {
   "codemirror_mode": {
    "name": "ipython",
    "version": 3
   },
   "file_extension": ".py",
   "mimetype": "text/x-python",
   "name": "python",
   "nbconvert_exporter": "python",
   "pygments_lexer": "ipython3",
   "version": "3.10.12"
  }
 },
 "nbformat": 4,
 "nbformat_minor": 1
}
