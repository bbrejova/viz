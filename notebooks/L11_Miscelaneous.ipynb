{
 "cells": [
  {
   "cell_type": "markdown",
   "metadata": {
    "id": "K0E15tyRBE0w"
   },
   "source": [
    "# Lecture 11: Infographics, interactivity, other tools, specialized plots\n",
    "\n",
    "[Data Visualization · 1-DAV-105](https://bbrejova.github.io/viz/)\n",
    "\n",
    "Lecture by Broňa Brejová\n",
    "\n",
    "Acknowledgement: some materials inspired by lectures from Martina Bátorová in 2021"
   ]
  },
  {
   "cell_type": "markdown",
   "metadata": {},
   "source": [
    "### Several examples of infographics\n",
    "\n",
    "Several examples that are close to data visualization:\n",
    "* Income by religious group in US ([image](https://www.columnfivemedia.com/wp-content/uploads/2021/04/good-infographic-the-almighty-dollar-_-mapping-distribution-of-income-by-religious-belief-1.jpeg), [website](https://www.columnfivemedia.com/work/infographic-the-almighty-dollar/))\n",
    "* Deadliest pandemics ([website](https://www.visualcapitalist.com/history-of-pandemics-deadliest/))\n",
    "* War casualties ([website](https://www.poppyfield.org/))\n",
    "* Game of Thrones relationships ([website](https://www.yworks.com/blog/graph-drawing-contest-2018))\n",
    "* Emergency medical services in Slovakia 2019 ([website](https://domov.sme.sk/g/138207/infografiky-ako-funguje-system-zachraniek-na-slovensku))\n",
    "\n",
    "Some explain other types of information:\n",
    "* Sitting and standing is bad ([website](https://blog.adioma.com/prolonged-sitting-and-standing-infographic/))\n"
   ]
  },
  {
   "cell_type": "markdown",
   "metadata": {},
   "source": [
    "## Data visualization (DV) vs infographics (IG)\n",
    "\n",
    "* **Target audience:** IG general public, DV often experts\n",
    "* **Storytelling:** often in IG, can be created from multiple DV\n",
    "* **Design and aesthetics:** more elaborate in IG, includes graphics elements and clipart (considered chart junk in DV)\n",
    "* **Process of creation:** many simple tools for DV, IG time consuming, often created by collaboration of data analysis, domain experts and graphic designers\n",
    "\n",
    "See also https://www.statsilk.com/blog/real-difference-between-infographics-and-data-visualizations\n"
   ]
  },
  {
   "cell_type": "markdown",
   "metadata": {
    "id": "6bkIdS0PsZhY"
   },
   "source": [
    "## Interactivity\n",
    "\n",
    "Interactive visualization engages audience, allows them to explore data in depth and according to their interest.\n",
    "\n",
    "### Examples\n",
    "* PhD gender gap ([website](https://www.scientificamerican.com/article/how-nations-fare-in-phds-by-sex-interactive1/))\n",
    "* Making it big ([website](https://pudding.cool/2017/01/making-it-big/))\n",
    "* US cities with the same name ([website](https://pudding.cool/2023/03/same-name/))"
   ]
  },
  {
   "cell_type": "markdown",
   "metadata": {
    "id": "XZPwTUK6Lzhk"
   },
   "source": [
    "### Techniques in interactivity visualization\n",
    "\n",
    "Similar to decisions made in designing a static plot:\n",
    "\n",
    "* Selecting variables (x, y, color, ...)\n",
    "* Filtering data (selecting table rows)\n",
    "* Highlighting points or groups\n",
    "* Aggregating (display countries or region summaries)\n",
    "* Zooming / panning\n",
    "* Rescaling (log-scale) / reexpressing (e.g. % instead of counts)\n",
    "* Sorting (e.g. bars in bargraphs)\n",
    "* Displaying details (tooltips)\n",
    "* Annotating\n",
    "* Bookmarking\n",
    "\n",
    "(Stephen Few)"
   ]
  },
  {
   "cell_type": "markdown",
   "metadata": {
    "id": "5JvJwRUqNYFq"
   },
   "source": [
    "### Dashboard\n",
    "\n",
    "* A display consisting of mutiple plots, summarizing current state of important indicators (e.g. of a business, pandemics, ...)\n",
    "* Inspired by dashboards in cars and planes\n",
    "* Often interactive, but main features in default view\n",
    "\n",
    "Two SARS-CoV-2 examples:\n",
    "\n",
    "* https://covid19.who.int/\n",
    "* https://nextstrain.org/ncov/global\n",
    "  * many options: selecting color, filtering, highlighting, aggregating, zooming and panning (maps and tree), rescaling (time vs divergence), tooltips, bookmarking\n",
    "\n"
   ]
  },
  {
   "cell_type": "markdown",
   "metadata": {
    "id": "yJMk4SGrdEix"
   },
   "source": [
    "### Interactivity in Plotly Express\n",
    "\n",
    "All Plotly plots by default have some interactivity:\n",
    "\n",
    "* Filtering groups\n",
    "* Zooming / panning\n",
    "* [Details](https://plotly.com/python/hover-text-and-formatting/)\n",
    "* Spike lines"
   ]
  },
  {
   "cell_type": "markdown",
   "metadata": {
    "id": "fx4uLYdah2_q"
   },
   "source": [
    "Example 1: Country indicators from World Bank, https://databank.worldbank.org/home under CC BY 4.0\n",
    "license.\n",
    "\n",
    "Regions can be switched on and off."
   ]
  },
  {
   "cell_type": "code",
   "execution_count": 1,
   "metadata": {
    "colab": {
     "base_uri": "https://localhost:8080/",
     "height": 517
    },
    "executionInfo": {
     "elapsed": 3545,
     "status": "ok",
     "timestamp": 1620077206788,
     "user": {
      "displayName": "Brona Brejova",
      "photoUrl": "https://lh3.googleusercontent.com/a-/AOh14GjGyr69ecECqZOZ-_5-o1v7SpP5TdLQGU7-pHl4UQ=s64",
      "userId": "10789993073610145432"
     },
     "user_tz": -120
    },
    "id": "dVDmdXUMgcPb",
    "outputId": "e5e4d3b6-cfb0-4004-a34b-fe6d0bff3d62"
   },
   "outputs": [
    {
     "data": {
      "application/vnd.plotly.v1+json": {
       "config": {
        "plotlyServerURL": "https://plot.ly"
       },
       "data": [
        {
         "customdata": [
          [
           "Afghanistan"
          ],
          [
           "Bangladesh"
          ],
          [
           "Bhutan"
          ],
          [
           "India"
          ],
          [
           "Maldives"
          ],
          [
           "Nepal"
          ],
          [
           "Pakistan"
          ],
          [
           "Sri Lanka"
          ]
         ],
         "hovertemplate": "Region=South Asia<br>GDP2018=%{x}<br>Expectancy2018=%{y}<br>Country=%{customdata[0]}<extra></extra>",
         "legendgroup": "South Asia",
         "marker": {
          "color": "#636efa",
          "symbol": "circle"
         },
         "mode": "markers",
         "name": "South Asia",
         "orientation": "v",
         "showlegend": true,
         "type": "scatter",
         "x": [
          493.750418116312,
          1698.3503942812197,
          3243.48603638229,
          2005.8630045240304,
          10276.9328152389,
          1038.65164702968,
          1482.30566684338,
          4080.56712469552
         ],
         "xaxis": "x",
         "y": [
          64.486,
          72.32,
          71.46,
          69.416,
          78.627,
          70.47800000000001,
          67.11399999999999,
          76.812
         ],
         "yaxis": "y"
        },
        {
         "customdata": [
          [
           "Albania"
          ],
          [
           "Andorra"
          ],
          [
           "Armenia"
          ],
          [
           "Austria"
          ],
          [
           "Azerbaijan"
          ],
          [
           "Belarus"
          ],
          [
           "Belgium"
          ],
          [
           "Bosnia and Herzegovina"
          ],
          [
           "Bulgaria"
          ],
          [
           "Channel Islands"
          ],
          [
           "Croatia"
          ],
          [
           "Cyprus"
          ],
          [
           "Czech Republic"
          ],
          [
           "Denmark"
          ],
          [
           "Estonia"
          ],
          [
           "Faroe Islands"
          ],
          [
           "Finland"
          ],
          [
           "France"
          ],
          [
           "Georgia"
          ],
          [
           "Germany"
          ],
          [
           "Gibraltar"
          ],
          [
           "Greece"
          ],
          [
           "Greenland"
          ],
          [
           "Hungary"
          ],
          [
           "Iceland"
          ],
          [
           "Ireland"
          ],
          [
           "Isle of Man"
          ],
          [
           "Italy"
          ],
          [
           "Kazakhstan"
          ],
          [
           "Kosovo"
          ],
          [
           "Kyrgyz Republic"
          ],
          [
           "Latvia"
          ],
          [
           "Liechtenstein"
          ],
          [
           "Lithuania"
          ],
          [
           "Luxembourg"
          ],
          [
           "North Macedonia"
          ],
          [
           "Moldova"
          ],
          [
           "Monaco"
          ],
          [
           "Montenegro"
          ],
          [
           "Netherlands"
          ],
          [
           "Norway"
          ],
          [
           "Poland"
          ],
          [
           "Portugal"
          ],
          [
           "Romania"
          ],
          [
           "Russian Federation"
          ],
          [
           "San Marino"
          ],
          [
           "Serbia"
          ],
          [
           "Slovak Republic"
          ],
          [
           "Slovenia"
          ],
          [
           "Spain"
          ],
          [
           "Sweden"
          ],
          [
           "Switzerland"
          ],
          [
           "Tajikistan"
          ],
          [
           "Turkey"
          ],
          [
           "Turkmenistan"
          ],
          [
           "Ukraine"
          ],
          [
           "United Kingdom"
          ],
          [
           "Uzbekistan"
          ]
         ],
         "hovertemplate": "Region=Europe & Central Asia<br>GDP2018=%{x}<br>Expectancy2018=%{y}<br>Country=%{customdata[0]}<extra></extra>",
         "legendgroup": "Europe & Central Asia",
         "marker": {
          "color": "#EF553B",
          "symbol": "circle"
         },
         "mode": "markers",
         "name": "Europe & Central Asia",
         "orientation": "v",
         "showlegend": true,
         "type": "scatter",
         "x": [
          5284.38018438156,
          41793.0552583729,
          4220.4902767124895,
          51478.2852619277,
          4739.841710283929,
          6330.0752464187,
          47583.0749405066,
          6072.184622853039,
          9427.73043039881,
          null,
          15014.0850191716,
          28689.7067225792,
          23415.8436273041,
          61598.536704393606,
          23170.7073775514,
          64269.704254102806,
          50030.877310650096,
          41631.0907389044,
          4722.78778321766,
          47810.507670634805,
          null,
          20324.3049917812,
          54470.956386425496,
          16410.187263968302,
          72968.7042280499,
          78621.2279310086,
          89108.4281417659,
          34615.7568910987,
          9812.60140498928,
          4419.91432698449,
          1308.14016549619,
          17858.2799784486,
          181402.83002981,
          19176.1765182085,
          116654.26106674,
          6088.97244500876,
          4233.74343674119,
          185829.01796040696,
          8846.05652531746,
          53044.5324352253,
          81734.4655736102,
          15468.4822194105,
          23562.5545228191,
          12399.889335731,
          11370.813455931398,
          48995.14200190231,
          7252.401857739921,
          19406.3475337924,
          26115.9133661854,
          30389.3609902899,
          54589.0603860606,
          82818.1081617471,
          826.6215305387041,
          9455.59365384828,
          6966.63541063077,
          3096.81740221352,
          43043.227816455095,
          1529.0828635133498
         ],
         "xaxis": "x",
         "y": [
          78.458,
          null,
          74.945,
          81.6926829268293,
          72.86399999999999,
          74.1756097560976,
          81.5951219512195,
          77.262,
          74.9634146341464,
          82.928,
          78.0707317073171,
          80.828,
          79.0292682926829,
          80.95365853658541,
          78.24390243902441,
          82.5487804878049,
          81.7341463414634,
          82.7243902439024,
          73.6,
          80.8926829268293,
          null,
          81.7878048780488,
          null,
          76.0658536585366,
          82.8609756097561,
          82.25609756097559,
          null,
          83.34634146341459,
          73.15,
          72.1951219512195,
          71.4,
          74.78292682926829,
          83.0414634146342,
          75.6804878048781,
          82.2951219512195,
          75.688,
          71.808,
          null,
          76.77,
          81.8121951219512,
          82.7585365853659,
          77.60243902439029,
          81.3243902439024,
          75.35853658536591,
          72.6573170731707,
          null,
          75.890243902439,
          77.2658536585366,
          81.37804878048779,
          83.4317073170732,
          82.5585365853659,
          83.7536585365854,
          70.87899999999999,
          77.437,
          68.07300000000001,
          71.5826829268293,
          81.25609756097559,
          71.57300000000001
         ],
         "yaxis": "y"
        },
        {
         "customdata": [
          [
           "Algeria"
          ],
          [
           "Bahrain"
          ],
          [
           "Djibouti"
          ],
          [
           "Egypt, Arab Rep."
          ],
          [
           "Iran, Islamic Rep."
          ],
          [
           "Iraq"
          ],
          [
           "Israel"
          ],
          [
           "Jordan"
          ],
          [
           "Kuwait"
          ],
          [
           "Lebanon"
          ],
          [
           "Libya"
          ],
          [
           "Malta"
          ],
          [
           "Morocco"
          ],
          [
           "Oman"
          ],
          [
           "Qatar"
          ],
          [
           "Saudi Arabia"
          ],
          [
           "Syrian Arab Republic"
          ],
          [
           "Tunisia"
          ],
          [
           "United Arab Emirates"
          ],
          [
           "West Bank and Gaza"
          ],
          [
           "Yemen, Rep."
          ]
         ],
         "hovertemplate": "Region=Middle East & North Africa<br>GDP2018=%{x}<br>Expectancy2018=%{y}<br>Country=%{customdata[0]}<extra></extra>",
         "legendgroup": "Middle East & North Africa",
         "marker": {
          "color": "#00cc96",
          "symbol": "circle"
         },
         "mode": "markers",
         "name": "Middle East & North Africa",
         "orientation": "v",
         "showlegend": true,
         "type": "scatter",
         "x": [
          4153.73397805915,
          23991.05667694,
          3141.88921873893,
          2537.1253654904,
          5550.06095701484,
          5834.1662106535205,
          41719.7254385703,
          4312.18011672108,
          33994.3819171507,
          8024.803270813871,
          7877.122250618841,
          30437.221505896203,
          3222.20063433213,
          16521.1822816125,
          65908.0669010848,
          23338.9634580718,
          null,
          3438.7890891462703,
          43839.3563491413,
          3562.3309427025606,
          824.1176287290939
         ],
         "xaxis": "x",
         "y": [
          76.693,
          77.163,
          66.582,
          71.825,
          76.479,
          70.454,
          82.8024390243903,
          74.405,
          75.398,
          78.875,
          72.72399999999999,
          82.44878048780491,
          76.453,
          77.633,
          80.1,
          74.998,
          71.779,
          76.505,
          77.814,
          73.895,
          66.096
         ],
         "yaxis": "y"
        },
        {
         "customdata": [
          [
           "American Samoa"
          ],
          [
           "Australia"
          ],
          [
           "Brunei Darussalam"
          ],
          [
           "Cambodia"
          ],
          [
           "China"
          ],
          [
           "Fiji"
          ],
          [
           "French Polynesia"
          ],
          [
           "Guam"
          ],
          [
           "Hong Kong SAR, China"
          ],
          [
           "Indonesia"
          ],
          [
           "Japan"
          ],
          [
           "Kiribati"
          ],
          [
           "Korea, Dem. People's Rep."
          ],
          [
           "Korea, Rep."
          ],
          [
           "Lao PDR"
          ],
          [
           "Macao SAR, China"
          ],
          [
           "Malaysia"
          ],
          [
           "Marshall Islands"
          ],
          [
           "Micronesia, Fed. Sts."
          ],
          [
           "Mongolia"
          ],
          [
           "Myanmar"
          ],
          [
           "Nauru"
          ],
          [
           "New Caledonia"
          ],
          [
           "New Zealand"
          ],
          [
           "Northern Mariana Islands"
          ],
          [
           "Palau"
          ],
          [
           "Papua New Guinea"
          ],
          [
           "Philippines"
          ],
          [
           "Samoa"
          ],
          [
           "Singapore"
          ],
          [
           "Solomon Islands"
          ],
          [
           "Thailand"
          ],
          [
           "Timor-Leste"
          ],
          [
           "Tonga"
          ],
          [
           "Tuvalu"
          ],
          [
           "Vanuatu"
          ],
          [
           "Vietnam"
          ]
         ],
         "hovertemplate": "Region=East Asia & Pacific<br>GDP2018=%{x}<br>Expectancy2018=%{y}<br>Country=%{customdata[0]}<extra></extra>",
         "legendgroup": "East Asia & Pacific",
         "marker": {
          "color": "#ab63fa",
          "symbol": "circle"
         },
         "mode": "markers",
         "name": "East Asia & Pacific",
         "orientation": "v",
         "showlegend": true,
         "type": "scatter",
         "x": [
          11466.6907058505,
          57354.9640455891,
          31628.328791434906,
          1512.12670972847,
          9976.67713725865,
          6317.4878527697,
          null,
          35712.5621350321,
          48543.4009905733,
          3893.8464247557104,
          39159.4235633952,
          1698.25628626739,
          null,
          33422.9442100836,
          2542.4865281792,
          87208.535912643,
          11377.4550023015,
          3788.16359372058,
          3568.291015625,
          4134.98719823511,
          1418.1776234719598,
          9762.38930182711,
          null,
          42949.9305849512,
          23258.6758552794,
          15660.674596526498,
          2801.37399744404,
          3252.09232413346,
          4188.52834612851,
          66188.7793961798,
          2441.51739308263,
          7295.47561612095,
          1230.2281911588,
          4740.79214895188,
          3700.74426252192,
          3125.25798900649,
          2566.59694958511
         ],
         "xaxis": "x",
         "y": [
          null,
          82.74878048780491,
          75.722,
          69.57,
          76.704,
          67.34100000000001,
          77.462,
          79.859,
          84.9341463414634,
          71.509,
          84.2109756097561,
          68.116,
          72.095,
          82.62682926829271,
          67.61,
          84.118,
          75.997,
          null,
          67.755,
          69.689,
          66.867,
          null,
          77.14878048780491,
          81.85853658536591,
          null,
          null,
          64.263,
          71.095,
          73.187,
          83.14634146341459,
          72.835,
          76.931,
          69.26,
          70.801,
          null,
          70.32300000000001,
          75.317
         ],
         "yaxis": "y"
        },
        {
         "customdata": [
          [
           "Angola"
          ],
          [
           "Benin"
          ],
          [
           "Botswana"
          ],
          [
           "Burkina Faso"
          ],
          [
           "Burundi"
          ],
          [
           "Cabo Verde"
          ],
          [
           "Cameroon"
          ],
          [
           "Central African Republic"
          ],
          [
           "Chad"
          ],
          [
           "Comoros"
          ],
          [
           "Congo, Dem. Rep."
          ],
          [
           "Congo, Rep."
          ],
          [
           "Côte d'Ivoire"
          ],
          [
           "Equatorial Guinea"
          ],
          [
           "Eritrea"
          ],
          [
           "Ethiopia"
          ],
          [
           "Gabon"
          ],
          [
           "Gambia, The"
          ],
          [
           "Ghana"
          ],
          [
           "Guinea"
          ],
          [
           "Guinea-Bissau"
          ],
          [
           "Kenya"
          ],
          [
           "Lesotho"
          ],
          [
           "Liberia"
          ],
          [
           "Madagascar"
          ],
          [
           "Malawi"
          ],
          [
           "Mali"
          ],
          [
           "Mauritania"
          ],
          [
           "Mauritius"
          ],
          [
           "Mozambique"
          ],
          [
           "Namibia"
          ],
          [
           "Niger"
          ],
          [
           "Nigeria"
          ],
          [
           "Rwanda"
          ],
          [
           "São Tomé and Principe"
          ],
          [
           "Senegal"
          ],
          [
           "Seychelles"
          ],
          [
           "Sierra Leone"
          ],
          [
           "Somalia"
          ],
          [
           "South Africa"
          ],
          [
           "South Sudan"
          ],
          [
           "Sudan"
          ],
          [
           "Eswatini"
          ],
          [
           "Tanzania"
          ],
          [
           "Togo"
          ],
          [
           "Uganda"
          ],
          [
           "Zambia"
          ],
          [
           "Zimbabwe"
          ]
         ],
         "hovertemplate": "Region=Sub-Saharan Africa<br>GDP2018=%{x}<br>Expectancy2018=%{y}<br>Country=%{customdata[0]}<extra></extra>",
         "legendgroup": "Sub-Saharan Africa",
         "marker": {
          "color": "#FFA15A",
          "symbol": "circle"
         },
         "mode": "markers",
         "name": "Sub-Saharan Africa",
         "orientation": "v",
         "showlegend": true,
         "type": "scatter",
         "x": [
          3289.64666408633,
          1240.82946441954,
          8279.60173877574,
          813.096848960038,
          271.752044376648,
          3617.32748873182,
          1534.49370193468,
          475.95360987194505,
          726.149881109447,
          1415.95531263535,
          557.064418324276,
          2577.70170504152,
          2314.05068144953,
          10144.1958108456,
          null,
          771.523813864476,
          7956.6278155868595,
          732.717513775219,
          2202.31216442504,
          878.599613250501,
          778.349910210043,
          1707.98680529003,
          1221.88376322756,
          677.322178545363,
          527.501326141803,
          381.258987601084,
          894.8021868580059,
          1600.87646860561,
          11208.3438184474,
          503.318727177274,
          5495.4289253345205,
          572.427154260028,
          2027.77797925505,
          783.287184222986,
          1953.58828993582,
          1465.59100640191,
          16390.8249080053,
          533.991184258936,
          null,
          6374.02819575944,
          null,
          623.867252394076,
          4106.1971526456,
          1060.99461489421,
          679.97276057805,
          770.452453254239,
          1516.39066079862,
          1683.74057709465
         ],
         "xaxis": "x",
         "y": [
          60.782,
          61.47,
          69.275,
          61.174,
          61.247,
          72.782,
          58.92100000000001,
          52.805,
          53.977,
          64.118,
          60.368,
          64.29,
          57.422,
          58.402,
          65.941,
          66.24,
          66.187,
          61.735,
          63.78,
          61.185,
          58.003,
          66.342,
          53.705,
          63.73,
          66.681,
          63.798,
          58.893,
          64.704,
          74.4163414634146,
          60.163,
          63.373000000000005,
          62.024,
          54.332,
          68.7,
          70.17,
          67.665,
          72.84146341463409,
          54.309,
          57.068000000000005,
          63.857,
          57.604,
          65.095,
          59.401,
          65.015,
          60.76,
          62.973,
          63.51,
          61.195
         ],
         "yaxis": "y"
        },
        {
         "customdata": [
          [
           "Antigua and Barbuda"
          ],
          [
           "Argentina"
          ],
          [
           "Aruba"
          ],
          [
           "Bahamas, The"
          ],
          [
           "Barbados"
          ],
          [
           "Belize"
          ],
          [
           "Bolivia"
          ],
          [
           "Brazil"
          ],
          [
           "British Virgin Islands"
          ],
          [
           "Cayman Islands"
          ],
          [
           "Chile"
          ],
          [
           "Colombia"
          ],
          [
           "Costa Rica"
          ],
          [
           "Cuba"
          ],
          [
           "Curaçao"
          ],
          [
           "Dominica"
          ],
          [
           "Dominican Republic"
          ],
          [
           "Ecuador"
          ],
          [
           "El Salvador"
          ],
          [
           "Grenada"
          ],
          [
           "Guatemala"
          ],
          [
           "Guyana"
          ],
          [
           "Haiti"
          ],
          [
           "Honduras"
          ],
          [
           "Jamaica"
          ],
          [
           "Mexico"
          ],
          [
           "Nicaragua"
          ],
          [
           "Panama"
          ],
          [
           "Paraguay"
          ],
          [
           "Peru"
          ],
          [
           "Puerto Rico"
          ],
          [
           "Sint Maarten (Dutch part)"
          ],
          [
           "St. Kitts and Nevis"
          ],
          [
           "St. Lucia"
          ],
          [
           "St. Martin (French part)"
          ],
          [
           "St. Vincent and the Grenadines"
          ],
          [
           "Suriname"
          ],
          [
           "Trinidad and Tobago"
          ],
          [
           "Turks and Caicos Islands"
          ],
          [
           "Uruguay"
          ],
          [
           "Venezuela, RB"
          ],
          [
           "Virgin Islands (U.S.)"
          ]
         ],
         "hovertemplate": "Region=Latin America & Caribbean<br>GDP2018=%{x}<br>Expectancy2018=%{y}<br>Country=%{customdata[0]}<extra></extra>",
         "legendgroup": "Latin America & Caribbean",
         "marker": {
          "color": "#19d3f3",
          "symbol": "circle"
         },
         "mode": "markers",
         "name": "Latin America & Caribbean",
         "orientation": "v",
         "showlegend": true,
         "type": "scatter",
         "x": [
          16672.744239576397,
          11633.498008646498,
          null,
          33767.5033710196,
          17745.1934649963,
          4884.7341615523,
          3548.59015508448,
          9001.23424863499,
          null,
          85975.0247395242,
          15924.7942393064,
          6716.91159778134,
          12112.1344206452,
          8821.81889125004,
          19573.892645136,
          7693.878870144141,
          8050.63044036673,
          6295.93539868079,
          4067.65944881154,
          10485.9071571796,
          4472.89237082577,
          6145.8424106799,
          1435.35175551073,
          2505.7767518956,
          5354.2368587703,
          9686.51378326598,
          2020.5519299638104,
          15592.573678922,
          5805.67561638869,
          6941.235847630121,
          31621.893470000497,
          29160.1038110689,
          19276.5212674439,
          11357.8890096382,
          null,
          7361.4009618002,
          6015.16460686684,
          17129.9130902577,
          29554.705960440697,
          17277.9701105496,
          null,
          null
         ],
         "xaxis": "x",
         "y": [
          76.885,
          76.52,
          76.152,
          73.752,
          79.081,
          74.49600000000001,
          71.23899999999999,
          75.672,
          null,
          null,
          80.042,
          77.109,
          80.095,
          78.726,
          null,
          null,
          73.892,
          76.8,
          73.096,
          72.384,
          74.063,
          69.774,
          63.66,
          75.08800000000001,
          74.368,
          74.992,
          74.275,
          78.329,
          74.131,
          76.516,
          79.7781951219512,
          null,
          null,
          76.057,
          79.87073170731709,
          72.415,
          71.57,
          73.38,
          null,
          77.77,
          72.128,
          79.5682926829268
         ],
         "yaxis": "y"
        },
        {
         "customdata": [
          [
           "Bermuda"
          ],
          [
           "Canada"
          ],
          [
           "United States"
          ]
         ],
         "hovertemplate": "Region=North America<br>GDP2018=%{x}<br>Expectancy2018=%{y}<br>Country=%{customdata[0]}<extra></extra>",
         "legendgroup": "North America",
         "marker": {
          "color": "#FF6692",
          "symbol": "circle"
         },
         "mode": "markers",
         "name": "North America",
         "orientation": "v",
         "showlegend": true,
         "type": "scatter",
         "x": [
          113021.417396746,
          46313.17137129611,
          62996.4712852605
         ],
         "xaxis": "x",
         "y": [
          81.6517073170732,
          81.94878048780491,
          78.5390243902439
         ],
         "yaxis": "y"
        }
       ],
       "layout": {
        "height": 500,
        "legend": {
         "title": {
          "text": "Region"
         },
         "tracegroupgap": 0
        },
        "template": {
         "data": {
          "bar": [
           {
            "error_x": {
             "color": "#2a3f5f"
            },
            "error_y": {
             "color": "#2a3f5f"
            },
            "marker": {
             "line": {
              "color": "#E5ECF6",
              "width": 0.5
             },
             "pattern": {
              "fillmode": "overlay",
              "size": 10,
              "solidity": 0.2
             }
            },
            "type": "bar"
           }
          ],
          "barpolar": [
           {
            "marker": {
             "line": {
              "color": "#E5ECF6",
              "width": 0.5
             },
             "pattern": {
              "fillmode": "overlay",
              "size": 10,
              "solidity": 0.2
             }
            },
            "type": "barpolar"
           }
          ],
          "carpet": [
           {
            "aaxis": {
             "endlinecolor": "#2a3f5f",
             "gridcolor": "white",
             "linecolor": "white",
             "minorgridcolor": "white",
             "startlinecolor": "#2a3f5f"
            },
            "baxis": {
             "endlinecolor": "#2a3f5f",
             "gridcolor": "white",
             "linecolor": "white",
             "minorgridcolor": "white",
             "startlinecolor": "#2a3f5f"
            },
            "type": "carpet"
           }
          ],
          "choropleth": [
           {
            "colorbar": {
             "outlinewidth": 0,
             "ticks": ""
            },
            "type": "choropleth"
           }
          ],
          "contour": [
           {
            "colorbar": {
             "outlinewidth": 0,
             "ticks": ""
            },
            "colorscale": [
             [
              0,
              "#0d0887"
             ],
             [
              0.1111111111111111,
              "#46039f"
             ],
             [
              0.2222222222222222,
              "#7201a8"
             ],
             [
              0.3333333333333333,
              "#9c179e"
             ],
             [
              0.4444444444444444,
              "#bd3786"
             ],
             [
              0.5555555555555556,
              "#d8576b"
             ],
             [
              0.6666666666666666,
              "#ed7953"
             ],
             [
              0.7777777777777778,
              "#fb9f3a"
             ],
             [
              0.8888888888888888,
              "#fdca26"
             ],
             [
              1,
              "#f0f921"
             ]
            ],
            "type": "contour"
           }
          ],
          "contourcarpet": [
           {
            "colorbar": {
             "outlinewidth": 0,
             "ticks": ""
            },
            "type": "contourcarpet"
           }
          ],
          "heatmap": [
           {
            "colorbar": {
             "outlinewidth": 0,
             "ticks": ""
            },
            "colorscale": [
             [
              0,
              "#0d0887"
             ],
             [
              0.1111111111111111,
              "#46039f"
             ],
             [
              0.2222222222222222,
              "#7201a8"
             ],
             [
              0.3333333333333333,
              "#9c179e"
             ],
             [
              0.4444444444444444,
              "#bd3786"
             ],
             [
              0.5555555555555556,
              "#d8576b"
             ],
             [
              0.6666666666666666,
              "#ed7953"
             ],
             [
              0.7777777777777778,
              "#fb9f3a"
             ],
             [
              0.8888888888888888,
              "#fdca26"
             ],
             [
              1,
              "#f0f921"
             ]
            ],
            "type": "heatmap"
           }
          ],
          "heatmapgl": [
           {
            "colorbar": {
             "outlinewidth": 0,
             "ticks": ""
            },
            "colorscale": [
             [
              0,
              "#0d0887"
             ],
             [
              0.1111111111111111,
              "#46039f"
             ],
             [
              0.2222222222222222,
              "#7201a8"
             ],
             [
              0.3333333333333333,
              "#9c179e"
             ],
             [
              0.4444444444444444,
              "#bd3786"
             ],
             [
              0.5555555555555556,
              "#d8576b"
             ],
             [
              0.6666666666666666,
              "#ed7953"
             ],
             [
              0.7777777777777778,
              "#fb9f3a"
             ],
             [
              0.8888888888888888,
              "#fdca26"
             ],
             [
              1,
              "#f0f921"
             ]
            ],
            "type": "heatmapgl"
           }
          ],
          "histogram": [
           {
            "marker": {
             "pattern": {
              "fillmode": "overlay",
              "size": 10,
              "solidity": 0.2
             }
            },
            "type": "histogram"
           }
          ],
          "histogram2d": [
           {
            "colorbar": {
             "outlinewidth": 0,
             "ticks": ""
            },
            "colorscale": [
             [
              0,
              "#0d0887"
             ],
             [
              0.1111111111111111,
              "#46039f"
             ],
             [
              0.2222222222222222,
              "#7201a8"
             ],
             [
              0.3333333333333333,
              "#9c179e"
             ],
             [
              0.4444444444444444,
              "#bd3786"
             ],
             [
              0.5555555555555556,
              "#d8576b"
             ],
             [
              0.6666666666666666,
              "#ed7953"
             ],
             [
              0.7777777777777778,
              "#fb9f3a"
             ],
             [
              0.8888888888888888,
              "#fdca26"
             ],
             [
              1,
              "#f0f921"
             ]
            ],
            "type": "histogram2d"
           }
          ],
          "histogram2dcontour": [
           {
            "colorbar": {
             "outlinewidth": 0,
             "ticks": ""
            },
            "colorscale": [
             [
              0,
              "#0d0887"
             ],
             [
              0.1111111111111111,
              "#46039f"
             ],
             [
              0.2222222222222222,
              "#7201a8"
             ],
             [
              0.3333333333333333,
              "#9c179e"
             ],
             [
              0.4444444444444444,
              "#bd3786"
             ],
             [
              0.5555555555555556,
              "#d8576b"
             ],
             [
              0.6666666666666666,
              "#ed7953"
             ],
             [
              0.7777777777777778,
              "#fb9f3a"
             ],
             [
              0.8888888888888888,
              "#fdca26"
             ],
             [
              1,
              "#f0f921"
             ]
            ],
            "type": "histogram2dcontour"
           }
          ],
          "mesh3d": [
           {
            "colorbar": {
             "outlinewidth": 0,
             "ticks": ""
            },
            "type": "mesh3d"
           }
          ],
          "parcoords": [
           {
            "line": {
             "colorbar": {
              "outlinewidth": 0,
              "ticks": ""
             }
            },
            "type": "parcoords"
           }
          ],
          "pie": [
           {
            "automargin": true,
            "type": "pie"
           }
          ],
          "scatter": [
           {
            "fillpattern": {
             "fillmode": "overlay",
             "size": 10,
             "solidity": 0.2
            },
            "type": "scatter"
           }
          ],
          "scatter3d": [
           {
            "line": {
             "colorbar": {
              "outlinewidth": 0,
              "ticks": ""
             }
            },
            "marker": {
             "colorbar": {
              "outlinewidth": 0,
              "ticks": ""
             }
            },
            "type": "scatter3d"
           }
          ],
          "scattercarpet": [
           {
            "marker": {
             "colorbar": {
              "outlinewidth": 0,
              "ticks": ""
             }
            },
            "type": "scattercarpet"
           }
          ],
          "scattergeo": [
           {
            "marker": {
             "colorbar": {
              "outlinewidth": 0,
              "ticks": ""
             }
            },
            "type": "scattergeo"
           }
          ],
          "scattergl": [
           {
            "marker": {
             "colorbar": {
              "outlinewidth": 0,
              "ticks": ""
             }
            },
            "type": "scattergl"
           }
          ],
          "scattermapbox": [
           {
            "marker": {
             "colorbar": {
              "outlinewidth": 0,
              "ticks": ""
             }
            },
            "type": "scattermapbox"
           }
          ],
          "scatterpolar": [
           {
            "marker": {
             "colorbar": {
              "outlinewidth": 0,
              "ticks": ""
             }
            },
            "type": "scatterpolar"
           }
          ],
          "scatterpolargl": [
           {
            "marker": {
             "colorbar": {
              "outlinewidth": 0,
              "ticks": ""
             }
            },
            "type": "scatterpolargl"
           }
          ],
          "scatterternary": [
           {
            "marker": {
             "colorbar": {
              "outlinewidth": 0,
              "ticks": ""
             }
            },
            "type": "scatterternary"
           }
          ],
          "surface": [
           {
            "colorbar": {
             "outlinewidth": 0,
             "ticks": ""
            },
            "colorscale": [
             [
              0,
              "#0d0887"
             ],
             [
              0.1111111111111111,
              "#46039f"
             ],
             [
              0.2222222222222222,
              "#7201a8"
             ],
             [
              0.3333333333333333,
              "#9c179e"
             ],
             [
              0.4444444444444444,
              "#bd3786"
             ],
             [
              0.5555555555555556,
              "#d8576b"
             ],
             [
              0.6666666666666666,
              "#ed7953"
             ],
             [
              0.7777777777777778,
              "#fb9f3a"
             ],
             [
              0.8888888888888888,
              "#fdca26"
             ],
             [
              1,
              "#f0f921"
             ]
            ],
            "type": "surface"
           }
          ],
          "table": [
           {
            "cells": {
             "fill": {
              "color": "#EBF0F8"
             },
             "line": {
              "color": "white"
             }
            },
            "header": {
             "fill": {
              "color": "#C8D4E3"
             },
             "line": {
              "color": "white"
             }
            },
            "type": "table"
           }
          ]
         },
         "layout": {
          "annotationdefaults": {
           "arrowcolor": "#2a3f5f",
           "arrowhead": 0,
           "arrowwidth": 1
          },
          "autotypenumbers": "strict",
          "coloraxis": {
           "colorbar": {
            "outlinewidth": 0,
            "ticks": ""
           }
          },
          "colorscale": {
           "diverging": [
            [
             0,
             "#8e0152"
            ],
            [
             0.1,
             "#c51b7d"
            ],
            [
             0.2,
             "#de77ae"
            ],
            [
             0.3,
             "#f1b6da"
            ],
            [
             0.4,
             "#fde0ef"
            ],
            [
             0.5,
             "#f7f7f7"
            ],
            [
             0.6,
             "#e6f5d0"
            ],
            [
             0.7,
             "#b8e186"
            ],
            [
             0.8,
             "#7fbc41"
            ],
            [
             0.9,
             "#4d9221"
            ],
            [
             1,
             "#276419"
            ]
           ],
           "sequential": [
            [
             0,
             "#0d0887"
            ],
            [
             0.1111111111111111,
             "#46039f"
            ],
            [
             0.2222222222222222,
             "#7201a8"
            ],
            [
             0.3333333333333333,
             "#9c179e"
            ],
            [
             0.4444444444444444,
             "#bd3786"
            ],
            [
             0.5555555555555556,
             "#d8576b"
            ],
            [
             0.6666666666666666,
             "#ed7953"
            ],
            [
             0.7777777777777778,
             "#fb9f3a"
            ],
            [
             0.8888888888888888,
             "#fdca26"
            ],
            [
             1,
             "#f0f921"
            ]
           ],
           "sequentialminus": [
            [
             0,
             "#0d0887"
            ],
            [
             0.1111111111111111,
             "#46039f"
            ],
            [
             0.2222222222222222,
             "#7201a8"
            ],
            [
             0.3333333333333333,
             "#9c179e"
            ],
            [
             0.4444444444444444,
             "#bd3786"
            ],
            [
             0.5555555555555556,
             "#d8576b"
            ],
            [
             0.6666666666666666,
             "#ed7953"
            ],
            [
             0.7777777777777778,
             "#fb9f3a"
            ],
            [
             0.8888888888888888,
             "#fdca26"
            ],
            [
             1,
             "#f0f921"
            ]
           ]
          },
          "colorway": [
           "#636efa",
           "#EF553B",
           "#00cc96",
           "#ab63fa",
           "#FFA15A",
           "#19d3f3",
           "#FF6692",
           "#B6E880",
           "#FF97FF",
           "#FECB52"
          ],
          "font": {
           "color": "#2a3f5f"
          },
          "geo": {
           "bgcolor": "white",
           "lakecolor": "white",
           "landcolor": "#E5ECF6",
           "showlakes": true,
           "showland": true,
           "subunitcolor": "white"
          },
          "hoverlabel": {
           "align": "left"
          },
          "hovermode": "closest",
          "mapbox": {
           "style": "light"
          },
          "paper_bgcolor": "white",
          "plot_bgcolor": "#E5ECF6",
          "polar": {
           "angularaxis": {
            "gridcolor": "white",
            "linecolor": "white",
            "ticks": ""
           },
           "bgcolor": "#E5ECF6",
           "radialaxis": {
            "gridcolor": "white",
            "linecolor": "white",
            "ticks": ""
           }
          },
          "scene": {
           "xaxis": {
            "backgroundcolor": "#E5ECF6",
            "gridcolor": "white",
            "gridwidth": 2,
            "linecolor": "white",
            "showbackground": true,
            "ticks": "",
            "zerolinecolor": "white"
           },
           "yaxis": {
            "backgroundcolor": "#E5ECF6",
            "gridcolor": "white",
            "gridwidth": 2,
            "linecolor": "white",
            "showbackground": true,
            "ticks": "",
            "zerolinecolor": "white"
           },
           "zaxis": {
            "backgroundcolor": "#E5ECF6",
            "gridcolor": "white",
            "gridwidth": 2,
            "linecolor": "white",
            "showbackground": true,
            "ticks": "",
            "zerolinecolor": "white"
           }
          },
          "shapedefaults": {
           "line": {
            "color": "#2a3f5f"
           }
          },
          "ternary": {
           "aaxis": {
            "gridcolor": "white",
            "linecolor": "white",
            "ticks": ""
           },
           "baxis": {
            "gridcolor": "white",
            "linecolor": "white",
            "ticks": ""
           },
           "bgcolor": "#E5ECF6",
           "caxis": {
            "gridcolor": "white",
            "linecolor": "white",
            "ticks": ""
           }
          },
          "title": {
           "x": 0.05
          },
          "xaxis": {
           "automargin": true,
           "gridcolor": "white",
           "linecolor": "white",
           "ticks": "",
           "title": {
            "standoff": 15
           },
           "zerolinecolor": "white",
           "zerolinewidth": 2
          },
          "yaxis": {
           "automargin": true,
           "gridcolor": "white",
           "linecolor": "white",
           "ticks": "",
           "title": {
            "standoff": 15
           },
           "zerolinecolor": "white",
           "zerolinewidth": 2
          }
         }
        },
        "title": {
         "text": "Country indicators 2018"
        },
        "width": 800,
        "xaxis": {
         "anchor": "y",
         "domain": [
          0,
          1
         ],
         "title": {
          "text": "GDP2018"
         },
         "type": "log"
        },
        "yaxis": {
         "anchor": "x",
         "domain": [
          0,
          1
         ],
         "title": {
          "text": "Expectancy2018"
         }
        }
       }
      }
     },
     "metadata": {},
     "output_type": "display_data"
    }
   ],
   "source": [
    "import plotly.express as px\n",
    "import pandas as pd\n",
    "url = 'http://compbio.fmph.uniba.sk/vyuka/viz/images/9/9d/World_bank.csv'\n",
    "countries = pd.read_csv(url)\n",
    "\n",
    "px.scatter(\n",
    "        countries, x=\"GDP2018\", y=\"Expectancy2018\", color=\"Region\", \n",
    "        hover_data=['Country'],\n",
    "        title=\"Country indicators 2018\", log_x=True, \n",
    "        width=800, height=500\n",
    "    )"
   ]
  },
  {
   "cell_type": "markdown",
   "metadata": {
    "id": "gvI6fVZlih3m"
   },
   "source": [
    "Example 2: Life expectancy data provided free by the [Gapminder foundation](https://www.gapminder.org/data/)  under the CC-BY license.\n",
    "\n",
    "Compare data along the x coordinate.\n"
   ]
  },
  {
   "cell_type": "code",
   "execution_count": 2,
   "metadata": {
    "executionInfo": {
     "elapsed": 4672,
     "status": "ok",
     "timestamp": 1620077207924,
     "user": {
      "displayName": "Brona Brejova",
      "photoUrl": "https://lh3.googleusercontent.com/a-/AOh14GjGyr69ecECqZOZ-_5-o1v7SpP5TdLQGU7-pHl4UQ=s64",
      "userId": "10789993073610145432"
     },
     "user_tz": -120
    },
    "id": "qX8hCng9ibAn"
   },
   "outputs": [],
   "source": [
    "url=\"http://compbio.fmph.uniba.sk/vyuka/viz/images/3/33/Gapminder_life_expectancy_years.csv\"\n",
    "orig_expectancy = pd.read_csv(url)\n",
    "expectancy = pd.melt(orig_expectancy, id_vars=[\"country\"], var_name=\"year\")\n",
    "expectancy['year'] = expectancy['year'].astype(int)"
   ]
  },
  {
   "cell_type": "code",
   "execution_count": 3,
   "metadata": {
    "colab": {
     "base_uri": "https://localhost:8080/",
     "height": 517
    },
    "executionInfo": {
     "elapsed": 5450,
     "status": "ok",
     "timestamp": 1620077208707,
     "user": {
      "displayName": "Brona Brejova",
      "photoUrl": "https://lh3.googleusercontent.com/a-/AOh14GjGyr69ecECqZOZ-_5-o1v7SpP5TdLQGU7-pHl4UQ=s64",
      "userId": "10789993073610145432"
     },
     "user_tz": -120
    },
    "id": "FkR3NSDX-Eor",
    "outputId": "55d1c6bf-3987-45cd-c2cb-b2ce664601a1"
   },
   "outputs": [
    {
     "data": {
      "application/vnd.plotly.v1+json": {
       "config": {
        "plotlyServerURL": "https://plot.ly"
       },
       "data": [
        {
         "hovertemplate": "country=France<br>year=%{x}<br>value=%{y}<extra></extra>",
         "legendgroup": "France",
         "line": {
          "color": "#636efa",
          "dash": "solid"
         },
         "marker": {
          "symbol": "circle"
         },
         "mode": "lines",
         "name": "France",
         "orientation": "v",
         "showlegend": true,
         "type": "scatter",
         "x": [
          1900,
          1901,
          1902,
          1903,
          1904,
          1905,
          1906,
          1907,
          1908,
          1909,
          1910,
          1911,
          1912,
          1913,
          1914,
          1915,
          1916,
          1917,
          1918,
          1919,
          1920,
          1921,
          1922,
          1923,
          1924,
          1925,
          1926,
          1927,
          1928,
          1929,
          1930,
          1931,
          1932,
          1933,
          1934,
          1935,
          1936,
          1937,
          1938,
          1939,
          1940,
          1941,
          1942,
          1943,
          1944,
          1945,
          1946,
          1947,
          1948,
          1949,
          1950,
          1951,
          1952,
          1953,
          1954,
          1955,
          1956,
          1957,
          1958,
          1959,
          1960,
          1961,
          1962,
          1963,
          1964,
          1965,
          1966,
          1967,
          1968,
          1969,
          1970,
          1971,
          1972,
          1973,
          1974,
          1975,
          1976,
          1977,
          1978,
          1979,
          1980,
          1981,
          1982,
          1983,
          1984,
          1985,
          1986,
          1987,
          1988,
          1989,
          1990,
          1991,
          1992,
          1993,
          1994,
          1995,
          1996,
          1997,
          1998,
          1999,
          2000,
          2001,
          2002,
          2003,
          2004,
          2005,
          2006,
          2007,
          2008,
          2009,
          2010,
          2011,
          2012,
          2013,
          2014,
          2015,
          2016,
          2017,
          2018,
          2019,
          2020,
          2021
         ],
         "xaxis": "x",
         "y": [
          45.1,
          47,
          48,
          48.5,
          48.1,
          48.4,
          47.8,
          48.3,
          49.4,
          50.1,
          51.4,
          48.2,
          51.7,
          51.4,
          37.9,
          35.7,
          39.6,
          42.6,
          34.4,
          47.6,
          51.7,
          52.8,
          55,
          54.7,
          55.4,
          54.5,
          54.1,
          55.9,
          55.5,
          54.4,
          57,
          57,
          57.4,
          57.8,
          58.5,
          58.4,
          58.9,
          59.3,
          59.1,
          59.7,
          49.5,
          57.8,
          57.5,
          53.4,
          47.3,
          55.1,
          62.5,
          64.1,
          66,
          65,
          66.5,
          66.3,
          67.5,
          67.5,
          68.4,
          68.6,
          68.7,
          69.1,
          70.3,
          70.3,
          70.6,
          71.2,
          70.7,
          70.5,
          71.5,
          71.3,
          71.7,
          71.7,
          71.7,
          71.5,
          72.3,
          72.5,
          72.7,
          72.9,
          73.1,
          73.1,
          73.4,
          73.7,
          74,
          74.3,
          74.5,
          74.7,
          74.9,
          75.1,
          75.5,
          75.7,
          76,
          76.3,
          76.6,
          76.8,
          77,
          77.2,
          77.4,
          77.5,
          77.8,
          78,
          78.3,
          78.7,
          78.6,
          78.8,
          79.1,
          79.2,
          79.4,
          79.6,
          80.2,
          80.4,
          80.7,
          81,
          81.1,
          81.2,
          81.4,
          81.6,
          81.8,
          82.1,
          82.5,
          82.5,
          82.8,
          82.8,
          83,
          83.1,
          83.2,
          83.3
         ],
         "yaxis": "y"
        },
        {
         "hovertemplate": "country=Slovak Republic<br>year=%{x}<br>value=%{y}<extra></extra>",
         "legendgroup": "Slovak Republic",
         "line": {
          "color": "#EF553B",
          "dash": "solid"
         },
         "marker": {
          "symbol": "circle"
         },
         "mode": "lines",
         "name": "Slovak Republic",
         "orientation": "v",
         "showlegend": true,
         "type": "scatter",
         "x": [
          1900,
          1901,
          1902,
          1903,
          1904,
          1905,
          1906,
          1907,
          1908,
          1909,
          1910,
          1911,
          1912,
          1913,
          1914,
          1915,
          1916,
          1917,
          1918,
          1919,
          1920,
          1921,
          1922,
          1923,
          1924,
          1925,
          1926,
          1927,
          1928,
          1929,
          1930,
          1931,
          1932,
          1933,
          1934,
          1935,
          1936,
          1937,
          1938,
          1939,
          1940,
          1941,
          1942,
          1943,
          1944,
          1945,
          1946,
          1947,
          1948,
          1949,
          1950,
          1951,
          1952,
          1953,
          1954,
          1955,
          1956,
          1957,
          1958,
          1959,
          1960,
          1961,
          1962,
          1963,
          1964,
          1965,
          1966,
          1967,
          1968,
          1969,
          1970,
          1971,
          1972,
          1973,
          1974,
          1975,
          1976,
          1977,
          1978,
          1979,
          1980,
          1981,
          1982,
          1983,
          1984,
          1985,
          1986,
          1987,
          1988,
          1989,
          1990,
          1991,
          1992,
          1993,
          1994,
          1995,
          1996,
          1997,
          1998,
          1999,
          2000,
          2001,
          2002,
          2003,
          2004,
          2005,
          2006,
          2007,
          2008,
          2009,
          2010,
          2011,
          2012,
          2013,
          2014,
          2015,
          2016,
          2017,
          2018,
          2019,
          2020,
          2021
         ],
         "xaxis": "x",
         "y": [
          37.9,
          38.2,
          38.5,
          38.8,
          39.1,
          39.4,
          39.7,
          40,
          40.3,
          40.6,
          40.9,
          41.2,
          41.5,
          41.8,
          42.1,
          42.4,
          42.7,
          43,
          31.9,
          43.6,
          43.9,
          44.2,
          44.8,
          45.5,
          46.1,
          46.7,
          47.4,
          48,
          48.6,
          49.3,
          49.9,
          50.4,
          50.8,
          51.3,
          51.8,
          52.3,
          52.7,
          53.2,
          53.8,
          54.1,
          54,
          53.8,
          52,
          47.5,
          42.5,
          40.5,
          54,
          58,
          59,
          60.3,
          60.9,
          61.3,
          64.4,
          65.7,
          66.7,
          67.8,
          68.4,
          67.5,
          69.3,
          69,
          70.3,
          70.8,
          70.3,
          70.7,
          71.1,
          70.3,
          70.4,
          71,
          70.5,
          69.8,
          69.7,
          69.8,
          70,
          70,
          70.2,
          70.3,
          70.4,
          70.5,
          70.4,
          70.6,
          70.5,
          70.6,
          70.7,
          70.6,
          70.7,
          70.7,
          70.9,
          70.9,
          71,
          71,
          71,
          71.1,
          71.5,
          72,
          72.5,
          72.5,
          73,
          72.8,
          72.8,
          73.1,
          73.5,
          73.7,
          73.9,
          74,
          74.4,
          74.3,
          74.5,
          74.5,
          74.9,
          75.2,
          75.6,
          75.9,
          76.2,
          76.6,
          76.8,
          76.7,
          77.2,
          77.4,
          77.6,
          77.7,
          77.9,
          78
         ],
         "yaxis": "y"
        }
       ],
       "layout": {
        "height": 500,
        "hovermode": "x unified",
        "legend": {
         "title": {
          "text": "country"
         },
         "tracegroupgap": 0
        },
        "template": {
         "data": {
          "bar": [
           {
            "error_x": {
             "color": "#2a3f5f"
            },
            "error_y": {
             "color": "#2a3f5f"
            },
            "marker": {
             "line": {
              "color": "#E5ECF6",
              "width": 0.5
             },
             "pattern": {
              "fillmode": "overlay",
              "size": 10,
              "solidity": 0.2
             }
            },
            "type": "bar"
           }
          ],
          "barpolar": [
           {
            "marker": {
             "line": {
              "color": "#E5ECF6",
              "width": 0.5
             },
             "pattern": {
              "fillmode": "overlay",
              "size": 10,
              "solidity": 0.2
             }
            },
            "type": "barpolar"
           }
          ],
          "carpet": [
           {
            "aaxis": {
             "endlinecolor": "#2a3f5f",
             "gridcolor": "white",
             "linecolor": "white",
             "minorgridcolor": "white",
             "startlinecolor": "#2a3f5f"
            },
            "baxis": {
             "endlinecolor": "#2a3f5f",
             "gridcolor": "white",
             "linecolor": "white",
             "minorgridcolor": "white",
             "startlinecolor": "#2a3f5f"
            },
            "type": "carpet"
           }
          ],
          "choropleth": [
           {
            "colorbar": {
             "outlinewidth": 0,
             "ticks": ""
            },
            "type": "choropleth"
           }
          ],
          "contour": [
           {
            "colorbar": {
             "outlinewidth": 0,
             "ticks": ""
            },
            "colorscale": [
             [
              0,
              "#0d0887"
             ],
             [
              0.1111111111111111,
              "#46039f"
             ],
             [
              0.2222222222222222,
              "#7201a8"
             ],
             [
              0.3333333333333333,
              "#9c179e"
             ],
             [
              0.4444444444444444,
              "#bd3786"
             ],
             [
              0.5555555555555556,
              "#d8576b"
             ],
             [
              0.6666666666666666,
              "#ed7953"
             ],
             [
              0.7777777777777778,
              "#fb9f3a"
             ],
             [
              0.8888888888888888,
              "#fdca26"
             ],
             [
              1,
              "#f0f921"
             ]
            ],
            "type": "contour"
           }
          ],
          "contourcarpet": [
           {
            "colorbar": {
             "outlinewidth": 0,
             "ticks": ""
            },
            "type": "contourcarpet"
           }
          ],
          "heatmap": [
           {
            "colorbar": {
             "outlinewidth": 0,
             "ticks": ""
            },
            "colorscale": [
             [
              0,
              "#0d0887"
             ],
             [
              0.1111111111111111,
              "#46039f"
             ],
             [
              0.2222222222222222,
              "#7201a8"
             ],
             [
              0.3333333333333333,
              "#9c179e"
             ],
             [
              0.4444444444444444,
              "#bd3786"
             ],
             [
              0.5555555555555556,
              "#d8576b"
             ],
             [
              0.6666666666666666,
              "#ed7953"
             ],
             [
              0.7777777777777778,
              "#fb9f3a"
             ],
             [
              0.8888888888888888,
              "#fdca26"
             ],
             [
              1,
              "#f0f921"
             ]
            ],
            "type": "heatmap"
           }
          ],
          "heatmapgl": [
           {
            "colorbar": {
             "outlinewidth": 0,
             "ticks": ""
            },
            "colorscale": [
             [
              0,
              "#0d0887"
             ],
             [
              0.1111111111111111,
              "#46039f"
             ],
             [
              0.2222222222222222,
              "#7201a8"
             ],
             [
              0.3333333333333333,
              "#9c179e"
             ],
             [
              0.4444444444444444,
              "#bd3786"
             ],
             [
              0.5555555555555556,
              "#d8576b"
             ],
             [
              0.6666666666666666,
              "#ed7953"
             ],
             [
              0.7777777777777778,
              "#fb9f3a"
             ],
             [
              0.8888888888888888,
              "#fdca26"
             ],
             [
              1,
              "#f0f921"
             ]
            ],
            "type": "heatmapgl"
           }
          ],
          "histogram": [
           {
            "marker": {
             "pattern": {
              "fillmode": "overlay",
              "size": 10,
              "solidity": 0.2
             }
            },
            "type": "histogram"
           }
          ],
          "histogram2d": [
           {
            "colorbar": {
             "outlinewidth": 0,
             "ticks": ""
            },
            "colorscale": [
             [
              0,
              "#0d0887"
             ],
             [
              0.1111111111111111,
              "#46039f"
             ],
             [
              0.2222222222222222,
              "#7201a8"
             ],
             [
              0.3333333333333333,
              "#9c179e"
             ],
             [
              0.4444444444444444,
              "#bd3786"
             ],
             [
              0.5555555555555556,
              "#d8576b"
             ],
             [
              0.6666666666666666,
              "#ed7953"
             ],
             [
              0.7777777777777778,
              "#fb9f3a"
             ],
             [
              0.8888888888888888,
              "#fdca26"
             ],
             [
              1,
              "#f0f921"
             ]
            ],
            "type": "histogram2d"
           }
          ],
          "histogram2dcontour": [
           {
            "colorbar": {
             "outlinewidth": 0,
             "ticks": ""
            },
            "colorscale": [
             [
              0,
              "#0d0887"
             ],
             [
              0.1111111111111111,
              "#46039f"
             ],
             [
              0.2222222222222222,
              "#7201a8"
             ],
             [
              0.3333333333333333,
              "#9c179e"
             ],
             [
              0.4444444444444444,
              "#bd3786"
             ],
             [
              0.5555555555555556,
              "#d8576b"
             ],
             [
              0.6666666666666666,
              "#ed7953"
             ],
             [
              0.7777777777777778,
              "#fb9f3a"
             ],
             [
              0.8888888888888888,
              "#fdca26"
             ],
             [
              1,
              "#f0f921"
             ]
            ],
            "type": "histogram2dcontour"
           }
          ],
          "mesh3d": [
           {
            "colorbar": {
             "outlinewidth": 0,
             "ticks": ""
            },
            "type": "mesh3d"
           }
          ],
          "parcoords": [
           {
            "line": {
             "colorbar": {
              "outlinewidth": 0,
              "ticks": ""
             }
            },
            "type": "parcoords"
           }
          ],
          "pie": [
           {
            "automargin": true,
            "type": "pie"
           }
          ],
          "scatter": [
           {
            "fillpattern": {
             "fillmode": "overlay",
             "size": 10,
             "solidity": 0.2
            },
            "type": "scatter"
           }
          ],
          "scatter3d": [
           {
            "line": {
             "colorbar": {
              "outlinewidth": 0,
              "ticks": ""
             }
            },
            "marker": {
             "colorbar": {
              "outlinewidth": 0,
              "ticks": ""
             }
            },
            "type": "scatter3d"
           }
          ],
          "scattercarpet": [
           {
            "marker": {
             "colorbar": {
              "outlinewidth": 0,
              "ticks": ""
             }
            },
            "type": "scattercarpet"
           }
          ],
          "scattergeo": [
           {
            "marker": {
             "colorbar": {
              "outlinewidth": 0,
              "ticks": ""
             }
            },
            "type": "scattergeo"
           }
          ],
          "scattergl": [
           {
            "marker": {
             "colorbar": {
              "outlinewidth": 0,
              "ticks": ""
             }
            },
            "type": "scattergl"
           }
          ],
          "scattermapbox": [
           {
            "marker": {
             "colorbar": {
              "outlinewidth": 0,
              "ticks": ""
             }
            },
            "type": "scattermapbox"
           }
          ],
          "scatterpolar": [
           {
            "marker": {
             "colorbar": {
              "outlinewidth": 0,
              "ticks": ""
             }
            },
            "type": "scatterpolar"
           }
          ],
          "scatterpolargl": [
           {
            "marker": {
             "colorbar": {
              "outlinewidth": 0,
              "ticks": ""
             }
            },
            "type": "scatterpolargl"
           }
          ],
          "scatterternary": [
           {
            "marker": {
             "colorbar": {
              "outlinewidth": 0,
              "ticks": ""
             }
            },
            "type": "scatterternary"
           }
          ],
          "surface": [
           {
            "colorbar": {
             "outlinewidth": 0,
             "ticks": ""
            },
            "colorscale": [
             [
              0,
              "#0d0887"
             ],
             [
              0.1111111111111111,
              "#46039f"
             ],
             [
              0.2222222222222222,
              "#7201a8"
             ],
             [
              0.3333333333333333,
              "#9c179e"
             ],
             [
              0.4444444444444444,
              "#bd3786"
             ],
             [
              0.5555555555555556,
              "#d8576b"
             ],
             [
              0.6666666666666666,
              "#ed7953"
             ],
             [
              0.7777777777777778,
              "#fb9f3a"
             ],
             [
              0.8888888888888888,
              "#fdca26"
             ],
             [
              1,
              "#f0f921"
             ]
            ],
            "type": "surface"
           }
          ],
          "table": [
           {
            "cells": {
             "fill": {
              "color": "#EBF0F8"
             },
             "line": {
              "color": "white"
             }
            },
            "header": {
             "fill": {
              "color": "#C8D4E3"
             },
             "line": {
              "color": "white"
             }
            },
            "type": "table"
           }
          ]
         },
         "layout": {
          "annotationdefaults": {
           "arrowcolor": "#2a3f5f",
           "arrowhead": 0,
           "arrowwidth": 1
          },
          "autotypenumbers": "strict",
          "coloraxis": {
           "colorbar": {
            "outlinewidth": 0,
            "ticks": ""
           }
          },
          "colorscale": {
           "diverging": [
            [
             0,
             "#8e0152"
            ],
            [
             0.1,
             "#c51b7d"
            ],
            [
             0.2,
             "#de77ae"
            ],
            [
             0.3,
             "#f1b6da"
            ],
            [
             0.4,
             "#fde0ef"
            ],
            [
             0.5,
             "#f7f7f7"
            ],
            [
             0.6,
             "#e6f5d0"
            ],
            [
             0.7,
             "#b8e186"
            ],
            [
             0.8,
             "#7fbc41"
            ],
            [
             0.9,
             "#4d9221"
            ],
            [
             1,
             "#276419"
            ]
           ],
           "sequential": [
            [
             0,
             "#0d0887"
            ],
            [
             0.1111111111111111,
             "#46039f"
            ],
            [
             0.2222222222222222,
             "#7201a8"
            ],
            [
             0.3333333333333333,
             "#9c179e"
            ],
            [
             0.4444444444444444,
             "#bd3786"
            ],
            [
             0.5555555555555556,
             "#d8576b"
            ],
            [
             0.6666666666666666,
             "#ed7953"
            ],
            [
             0.7777777777777778,
             "#fb9f3a"
            ],
            [
             0.8888888888888888,
             "#fdca26"
            ],
            [
             1,
             "#f0f921"
            ]
           ],
           "sequentialminus": [
            [
             0,
             "#0d0887"
            ],
            [
             0.1111111111111111,
             "#46039f"
            ],
            [
             0.2222222222222222,
             "#7201a8"
            ],
            [
             0.3333333333333333,
             "#9c179e"
            ],
            [
             0.4444444444444444,
             "#bd3786"
            ],
            [
             0.5555555555555556,
             "#d8576b"
            ],
            [
             0.6666666666666666,
             "#ed7953"
            ],
            [
             0.7777777777777778,
             "#fb9f3a"
            ],
            [
             0.8888888888888888,
             "#fdca26"
            ],
            [
             1,
             "#f0f921"
            ]
           ]
          },
          "colorway": [
           "#636efa",
           "#EF553B",
           "#00cc96",
           "#ab63fa",
           "#FFA15A",
           "#19d3f3",
           "#FF6692",
           "#B6E880",
           "#FF97FF",
           "#FECB52"
          ],
          "font": {
           "color": "#2a3f5f"
          },
          "geo": {
           "bgcolor": "white",
           "lakecolor": "white",
           "landcolor": "#E5ECF6",
           "showlakes": true,
           "showland": true,
           "subunitcolor": "white"
          },
          "hoverlabel": {
           "align": "left"
          },
          "hovermode": "closest",
          "mapbox": {
           "style": "light"
          },
          "paper_bgcolor": "white",
          "plot_bgcolor": "#E5ECF6",
          "polar": {
           "angularaxis": {
            "gridcolor": "white",
            "linecolor": "white",
            "ticks": ""
           },
           "bgcolor": "#E5ECF6",
           "radialaxis": {
            "gridcolor": "white",
            "linecolor": "white",
            "ticks": ""
           }
          },
          "scene": {
           "xaxis": {
            "backgroundcolor": "#E5ECF6",
            "gridcolor": "white",
            "gridwidth": 2,
            "linecolor": "white",
            "showbackground": true,
            "ticks": "",
            "zerolinecolor": "white"
           },
           "yaxis": {
            "backgroundcolor": "#E5ECF6",
            "gridcolor": "white",
            "gridwidth": 2,
            "linecolor": "white",
            "showbackground": true,
            "ticks": "",
            "zerolinecolor": "white"
           },
           "zaxis": {
            "backgroundcolor": "#E5ECF6",
            "gridcolor": "white",
            "gridwidth": 2,
            "linecolor": "white",
            "showbackground": true,
            "ticks": "",
            "zerolinecolor": "white"
           }
          },
          "shapedefaults": {
           "line": {
            "color": "#2a3f5f"
           }
          },
          "ternary": {
           "aaxis": {
            "gridcolor": "white",
            "linecolor": "white",
            "ticks": ""
           },
           "baxis": {
            "gridcolor": "white",
            "linecolor": "white",
            "ticks": ""
           },
           "bgcolor": "#E5ECF6",
           "caxis": {
            "gridcolor": "white",
            "linecolor": "white",
            "ticks": ""
           }
          },
          "title": {
           "x": 0.05
          },
          "xaxis": {
           "automargin": true,
           "gridcolor": "white",
           "linecolor": "white",
           "ticks": "",
           "title": {
            "standoff": 15
           },
           "zerolinecolor": "white",
           "zerolinewidth": 2
          },
          "yaxis": {
           "automargin": true,
           "gridcolor": "white",
           "linecolor": "white",
           "ticks": "",
           "title": {
            "standoff": 15
           },
           "zerolinecolor": "white",
           "zerolinewidth": 2
          }
         }
        },
        "title": {
         "text": "Life expectancy"
        },
        "width": 800,
        "xaxis": {
         "anchor": "y",
         "domain": [
          0,
          1
         ],
         "title": {
          "text": "year"
         }
        },
        "yaxis": {
         "anchor": "x",
         "domain": [
          0,
          1
         ],
         "title": {
          "text": "value"
         }
        }
       }
      }
     },
     "metadata": {},
     "output_type": "display_data"
    }
   ],
   "source": [
    "selected = expectancy.query(\"country=='Slovak Republic' or country=='France'\")\n",
    "fig=px.line(\n",
    "        selected, x=\"year\", y=\"value\", color=\"country\", \n",
    "        title=\"Life expectancy\", width=800, height=500\n",
    "    )\n",
    "fig.update_layout(hovermode=\"x unified\")"
   ]
  },
  {
   "cell_type": "markdown",
   "metadata": {
    "id": "4blhP3tvpqe3"
   },
   "source": [
    "### More interaction with Dash by Plotly\n",
    "\n",
    "* Dash library by Plotly allows adding control elements (selectors, sliders, buttons, ...)\n",
    "* We have seen an example in L01"
   ]
  },
  {
   "cell_type": "markdown",
   "metadata": {
    "id": "86pfglJisN3y"
   },
   "source": [
    "## Other visualization tools\n",
    "\n",
    "Non-programmers typically create plots in spreadsheets:\n",
    "* Excel ([examples](https://support.microsoft.com/en-us/office/available-chart-types-in-office-a6187218-807e-4103-9e0a-27cdb19afb90))\n",
    "* Google sheets ([examples](https://support.google.com/docs/answer/190718))\n",
    "\n",
    "System R: programming language for statistical computing\n",
    "* Together with Python, very popular in data science\n",
    "* Built-in plots\n",
    "* Also other libraries, notably [ggplot2](https://ggplot2.tidyverse.org/) based on system called Grammar of Graphics ([cheatsheet](https://github.com/rstudio/cheatsheets/raw/master/data-visualization-2.1.pdf))\n",
    "\n",
    "Javascript\n",
    "* Programming language popular in web programming\n",
    "* Google charts for Javascript ([examples](https://developers.google.com/chart/interactive/docs/gallery))\n",
    "* [D3.js](https://d3js.org/) library (Data-Driven Documents)\n",
    "\n",
    "Tableau \n",
    "* Advanced visualization tools, commercial\n",
    "* [Gallery](https://www.tableau.com/solutions/gallery)\n",
    " \n",
    "Microsoft Power BI\n",
    "* Interactive data visualization software with a focus on business intelligence\n",
    "* An [example](https://powerbi.microsoft.com/en-us/power-bi-visuals/)"
   ]
  },
  {
   "cell_type": "markdown",
   "metadata": {
    "id": "YKYICgXG2b6l"
   },
   "source": [
    "## Several specialized visualization types"
   ]
  },
  {
   "cell_type": "markdown",
   "metadata": {
    "id": "dEg34PBa6f90"
   },
   "source": [
    "### UML diagrams in computer science\n",
    "\n",
    "* Display relationships between different classes or other components and aspects of software\n",
    "\n",
    "<img src=\"https://upload.wikimedia.org/wikipedia/commons/thumb/e/ed/UML_diagrams_overview.svg/800px-UML_diagrams_overview.svg.png\">\n",
    "\n",
    "<small>https://commons.wikimedia.org/wiki/File:UML_diagrams_overview.svg Derfel73; Pmerson</small>"
   ]
  },
  {
   "cell_type": "markdown",
   "metadata": {
    "id": "z0vktsX_7Pls"
   },
   "source": [
    "### Waterfall chart\n",
    "\n",
    "* Used in bussiness analysis: financial, inventory, human resources etc.\n",
    "* Displays effects decreasing or increasing a given value\n",
    "* The first and last columns are bars displaying starting and final value\n",
    "* Intermediate columns float, displaying changes from previous total\n",
    "* [Description](https://www.storytellingwithdata.com/blog/2020/11/16/what-is-a-waterfall)\n",
    "\n",
    "<img src=\"https://upload.wikimedia.org/wikipedia/commons/3/3f/Waterfallchart_ex2.jpg\">\n",
    "\n",
    "<small>https://commons.wikimedia.org/wiki/File:Waterfallchart_ex2.jpg FusionCharts Blog, CC BY-SA 4.0</small>"
   ]
  },
  {
   "cell_type": "markdown",
   "metadata": {
    "id": "myX1Q_769TeF"
   },
   "source": [
    "### Funnel charts\n",
    "\n",
    "* Display losses within a business process, e.g from website visit to actual purchase\n",
    "* Horizontal bar chart with centered bars\n",
    "* Beware: different from [funnel plot](https://www.ncbi.nlm.nih.gov/pmc/articles/PMC2127453/pdf/9310563.pdf) in medical meta-analyses of multiple publications"
   ]
  },
  {
   "cell_type": "code",
   "execution_count": 4,
   "metadata": {
    "colab": {
     "base_uri": "https://localhost:8080/",
     "height": 542
    },
    "executionInfo": {
     "elapsed": 9205,
     "status": "ok",
     "timestamp": 1620077212478,
     "user": {
      "displayName": "Brona Brejova",
      "photoUrl": "https://lh3.googleusercontent.com/a-/AOh14GjGyr69ecECqZOZ-_5-o1v7SpP5TdLQGU7-pHl4UQ=s64",
      "userId": "10789993073610145432"
     },
     "user_tz": -120
    },
    "id": "nUfICAeI9zsM",
    "outputId": "f24d9926-71d5-4507-ab7b-73cdc088f43a"
   },
   "outputs": [
    {
     "data": {
      "application/vnd.plotly.v1+json": {
       "config": {
        "plotlyServerURL": "https://plot.ly"
       },
       "data": [
        {
         "hovertemplate": "number=%{x}<br>stage=%{y}<extra></extra>",
         "legendgroup": "",
         "marker": {
          "color": "#636efa"
         },
         "name": "",
         "orientation": "h",
         "showlegend": false,
         "type": "funnel",
         "x": [
          39,
          27.4,
          20.6,
          11,
          2
         ],
         "xaxis": "x",
         "y": [
          "Website visit",
          "Downloads",
          "Potential customers",
          "Requested price",
          "invoice sent"
         ],
         "yaxis": "y"
        }
       ],
       "layout": {
        "legend": {
         "tracegroupgap": 0
        },
        "margin": {
         "t": 60
        },
        "template": {
         "data": {
          "bar": [
           {
            "error_x": {
             "color": "#2a3f5f"
            },
            "error_y": {
             "color": "#2a3f5f"
            },
            "marker": {
             "line": {
              "color": "#E5ECF6",
              "width": 0.5
             },
             "pattern": {
              "fillmode": "overlay",
              "size": 10,
              "solidity": 0.2
             }
            },
            "type": "bar"
           }
          ],
          "barpolar": [
           {
            "marker": {
             "line": {
              "color": "#E5ECF6",
              "width": 0.5
             },
             "pattern": {
              "fillmode": "overlay",
              "size": 10,
              "solidity": 0.2
             }
            },
            "type": "barpolar"
           }
          ],
          "carpet": [
           {
            "aaxis": {
             "endlinecolor": "#2a3f5f",
             "gridcolor": "white",
             "linecolor": "white",
             "minorgridcolor": "white",
             "startlinecolor": "#2a3f5f"
            },
            "baxis": {
             "endlinecolor": "#2a3f5f",
             "gridcolor": "white",
             "linecolor": "white",
             "minorgridcolor": "white",
             "startlinecolor": "#2a3f5f"
            },
            "type": "carpet"
           }
          ],
          "choropleth": [
           {
            "colorbar": {
             "outlinewidth": 0,
             "ticks": ""
            },
            "type": "choropleth"
           }
          ],
          "contour": [
           {
            "colorbar": {
             "outlinewidth": 0,
             "ticks": ""
            },
            "colorscale": [
             [
              0,
              "#0d0887"
             ],
             [
              0.1111111111111111,
              "#46039f"
             ],
             [
              0.2222222222222222,
              "#7201a8"
             ],
             [
              0.3333333333333333,
              "#9c179e"
             ],
             [
              0.4444444444444444,
              "#bd3786"
             ],
             [
              0.5555555555555556,
              "#d8576b"
             ],
             [
              0.6666666666666666,
              "#ed7953"
             ],
             [
              0.7777777777777778,
              "#fb9f3a"
             ],
             [
              0.8888888888888888,
              "#fdca26"
             ],
             [
              1,
              "#f0f921"
             ]
            ],
            "type": "contour"
           }
          ],
          "contourcarpet": [
           {
            "colorbar": {
             "outlinewidth": 0,
             "ticks": ""
            },
            "type": "contourcarpet"
           }
          ],
          "heatmap": [
           {
            "colorbar": {
             "outlinewidth": 0,
             "ticks": ""
            },
            "colorscale": [
             [
              0,
              "#0d0887"
             ],
             [
              0.1111111111111111,
              "#46039f"
             ],
             [
              0.2222222222222222,
              "#7201a8"
             ],
             [
              0.3333333333333333,
              "#9c179e"
             ],
             [
              0.4444444444444444,
              "#bd3786"
             ],
             [
              0.5555555555555556,
              "#d8576b"
             ],
             [
              0.6666666666666666,
              "#ed7953"
             ],
             [
              0.7777777777777778,
              "#fb9f3a"
             ],
             [
              0.8888888888888888,
              "#fdca26"
             ],
             [
              1,
              "#f0f921"
             ]
            ],
            "type": "heatmap"
           }
          ],
          "heatmapgl": [
           {
            "colorbar": {
             "outlinewidth": 0,
             "ticks": ""
            },
            "colorscale": [
             [
              0,
              "#0d0887"
             ],
             [
              0.1111111111111111,
              "#46039f"
             ],
             [
              0.2222222222222222,
              "#7201a8"
             ],
             [
              0.3333333333333333,
              "#9c179e"
             ],
             [
              0.4444444444444444,
              "#bd3786"
             ],
             [
              0.5555555555555556,
              "#d8576b"
             ],
             [
              0.6666666666666666,
              "#ed7953"
             ],
             [
              0.7777777777777778,
              "#fb9f3a"
             ],
             [
              0.8888888888888888,
              "#fdca26"
             ],
             [
              1,
              "#f0f921"
             ]
            ],
            "type": "heatmapgl"
           }
          ],
          "histogram": [
           {
            "marker": {
             "pattern": {
              "fillmode": "overlay",
              "size": 10,
              "solidity": 0.2
             }
            },
            "type": "histogram"
           }
          ],
          "histogram2d": [
           {
            "colorbar": {
             "outlinewidth": 0,
             "ticks": ""
            },
            "colorscale": [
             [
              0,
              "#0d0887"
             ],
             [
              0.1111111111111111,
              "#46039f"
             ],
             [
              0.2222222222222222,
              "#7201a8"
             ],
             [
              0.3333333333333333,
              "#9c179e"
             ],
             [
              0.4444444444444444,
              "#bd3786"
             ],
             [
              0.5555555555555556,
              "#d8576b"
             ],
             [
              0.6666666666666666,
              "#ed7953"
             ],
             [
              0.7777777777777778,
              "#fb9f3a"
             ],
             [
              0.8888888888888888,
              "#fdca26"
             ],
             [
              1,
              "#f0f921"
             ]
            ],
            "type": "histogram2d"
           }
          ],
          "histogram2dcontour": [
           {
            "colorbar": {
             "outlinewidth": 0,
             "ticks": ""
            },
            "colorscale": [
             [
              0,
              "#0d0887"
             ],
             [
              0.1111111111111111,
              "#46039f"
             ],
             [
              0.2222222222222222,
              "#7201a8"
             ],
             [
              0.3333333333333333,
              "#9c179e"
             ],
             [
              0.4444444444444444,
              "#bd3786"
             ],
             [
              0.5555555555555556,
              "#d8576b"
             ],
             [
              0.6666666666666666,
              "#ed7953"
             ],
             [
              0.7777777777777778,
              "#fb9f3a"
             ],
             [
              0.8888888888888888,
              "#fdca26"
             ],
             [
              1,
              "#f0f921"
             ]
            ],
            "type": "histogram2dcontour"
           }
          ],
          "mesh3d": [
           {
            "colorbar": {
             "outlinewidth": 0,
             "ticks": ""
            },
            "type": "mesh3d"
           }
          ],
          "parcoords": [
           {
            "line": {
             "colorbar": {
              "outlinewidth": 0,
              "ticks": ""
             }
            },
            "type": "parcoords"
           }
          ],
          "pie": [
           {
            "automargin": true,
            "type": "pie"
           }
          ],
          "scatter": [
           {
            "fillpattern": {
             "fillmode": "overlay",
             "size": 10,
             "solidity": 0.2
            },
            "type": "scatter"
           }
          ],
          "scatter3d": [
           {
            "line": {
             "colorbar": {
              "outlinewidth": 0,
              "ticks": ""
             }
            },
            "marker": {
             "colorbar": {
              "outlinewidth": 0,
              "ticks": ""
             }
            },
            "type": "scatter3d"
           }
          ],
          "scattercarpet": [
           {
            "marker": {
             "colorbar": {
              "outlinewidth": 0,
              "ticks": ""
             }
            },
            "type": "scattercarpet"
           }
          ],
          "scattergeo": [
           {
            "marker": {
             "colorbar": {
              "outlinewidth": 0,
              "ticks": ""
             }
            },
            "type": "scattergeo"
           }
          ],
          "scattergl": [
           {
            "marker": {
             "colorbar": {
              "outlinewidth": 0,
              "ticks": ""
             }
            },
            "type": "scattergl"
           }
          ],
          "scattermapbox": [
           {
            "marker": {
             "colorbar": {
              "outlinewidth": 0,
              "ticks": ""
             }
            },
            "type": "scattermapbox"
           }
          ],
          "scatterpolar": [
           {
            "marker": {
             "colorbar": {
              "outlinewidth": 0,
              "ticks": ""
             }
            },
            "type": "scatterpolar"
           }
          ],
          "scatterpolargl": [
           {
            "marker": {
             "colorbar": {
              "outlinewidth": 0,
              "ticks": ""
             }
            },
            "type": "scatterpolargl"
           }
          ],
          "scatterternary": [
           {
            "marker": {
             "colorbar": {
              "outlinewidth": 0,
              "ticks": ""
             }
            },
            "type": "scatterternary"
           }
          ],
          "surface": [
           {
            "colorbar": {
             "outlinewidth": 0,
             "ticks": ""
            },
            "colorscale": [
             [
              0,
              "#0d0887"
             ],
             [
              0.1111111111111111,
              "#46039f"
             ],
             [
              0.2222222222222222,
              "#7201a8"
             ],
             [
              0.3333333333333333,
              "#9c179e"
             ],
             [
              0.4444444444444444,
              "#bd3786"
             ],
             [
              0.5555555555555556,
              "#d8576b"
             ],
             [
              0.6666666666666666,
              "#ed7953"
             ],
             [
              0.7777777777777778,
              "#fb9f3a"
             ],
             [
              0.8888888888888888,
              "#fdca26"
             ],
             [
              1,
              "#f0f921"
             ]
            ],
            "type": "surface"
           }
          ],
          "table": [
           {
            "cells": {
             "fill": {
              "color": "#EBF0F8"
             },
             "line": {
              "color": "white"
             }
            },
            "header": {
             "fill": {
              "color": "#C8D4E3"
             },
             "line": {
              "color": "white"
             }
            },
            "type": "table"
           }
          ]
         },
         "layout": {
          "annotationdefaults": {
           "arrowcolor": "#2a3f5f",
           "arrowhead": 0,
           "arrowwidth": 1
          },
          "autotypenumbers": "strict",
          "coloraxis": {
           "colorbar": {
            "outlinewidth": 0,
            "ticks": ""
           }
          },
          "colorscale": {
           "diverging": [
            [
             0,
             "#8e0152"
            ],
            [
             0.1,
             "#c51b7d"
            ],
            [
             0.2,
             "#de77ae"
            ],
            [
             0.3,
             "#f1b6da"
            ],
            [
             0.4,
             "#fde0ef"
            ],
            [
             0.5,
             "#f7f7f7"
            ],
            [
             0.6,
             "#e6f5d0"
            ],
            [
             0.7,
             "#b8e186"
            ],
            [
             0.8,
             "#7fbc41"
            ],
            [
             0.9,
             "#4d9221"
            ],
            [
             1,
             "#276419"
            ]
           ],
           "sequential": [
            [
             0,
             "#0d0887"
            ],
            [
             0.1111111111111111,
             "#46039f"
            ],
            [
             0.2222222222222222,
             "#7201a8"
            ],
            [
             0.3333333333333333,
             "#9c179e"
            ],
            [
             0.4444444444444444,
             "#bd3786"
            ],
            [
             0.5555555555555556,
             "#d8576b"
            ],
            [
             0.6666666666666666,
             "#ed7953"
            ],
            [
             0.7777777777777778,
             "#fb9f3a"
            ],
            [
             0.8888888888888888,
             "#fdca26"
            ],
            [
             1,
             "#f0f921"
            ]
           ],
           "sequentialminus": [
            [
             0,
             "#0d0887"
            ],
            [
             0.1111111111111111,
             "#46039f"
            ],
            [
             0.2222222222222222,
             "#7201a8"
            ],
            [
             0.3333333333333333,
             "#9c179e"
            ],
            [
             0.4444444444444444,
             "#bd3786"
            ],
            [
             0.5555555555555556,
             "#d8576b"
            ],
            [
             0.6666666666666666,
             "#ed7953"
            ],
            [
             0.7777777777777778,
             "#fb9f3a"
            ],
            [
             0.8888888888888888,
             "#fdca26"
            ],
            [
             1,
             "#f0f921"
            ]
           ]
          },
          "colorway": [
           "#636efa",
           "#EF553B",
           "#00cc96",
           "#ab63fa",
           "#FFA15A",
           "#19d3f3",
           "#FF6692",
           "#B6E880",
           "#FF97FF",
           "#FECB52"
          ],
          "font": {
           "color": "#2a3f5f"
          },
          "geo": {
           "bgcolor": "white",
           "lakecolor": "white",
           "landcolor": "#E5ECF6",
           "showlakes": true,
           "showland": true,
           "subunitcolor": "white"
          },
          "hoverlabel": {
           "align": "left"
          },
          "hovermode": "closest",
          "mapbox": {
           "style": "light"
          },
          "paper_bgcolor": "white",
          "plot_bgcolor": "#E5ECF6",
          "polar": {
           "angularaxis": {
            "gridcolor": "white",
            "linecolor": "white",
            "ticks": ""
           },
           "bgcolor": "#E5ECF6",
           "radialaxis": {
            "gridcolor": "white",
            "linecolor": "white",
            "ticks": ""
           }
          },
          "scene": {
           "xaxis": {
            "backgroundcolor": "#E5ECF6",
            "gridcolor": "white",
            "gridwidth": 2,
            "linecolor": "white",
            "showbackground": true,
            "ticks": "",
            "zerolinecolor": "white"
           },
           "yaxis": {
            "backgroundcolor": "#E5ECF6",
            "gridcolor": "white",
            "gridwidth": 2,
            "linecolor": "white",
            "showbackground": true,
            "ticks": "",
            "zerolinecolor": "white"
           },
           "zaxis": {
            "backgroundcolor": "#E5ECF6",
            "gridcolor": "white",
            "gridwidth": 2,
            "linecolor": "white",
            "showbackground": true,
            "ticks": "",
            "zerolinecolor": "white"
           }
          },
          "shapedefaults": {
           "line": {
            "color": "#2a3f5f"
           }
          },
          "ternary": {
           "aaxis": {
            "gridcolor": "white",
            "linecolor": "white",
            "ticks": ""
           },
           "baxis": {
            "gridcolor": "white",
            "linecolor": "white",
            "ticks": ""
           },
           "bgcolor": "#E5ECF6",
           "caxis": {
            "gridcolor": "white",
            "linecolor": "white",
            "ticks": ""
           }
          },
          "title": {
           "x": 0.05
          },
          "xaxis": {
           "automargin": true,
           "gridcolor": "white",
           "linecolor": "white",
           "ticks": "",
           "title": {
            "standoff": 15
           },
           "zerolinecolor": "white",
           "zerolinewidth": 2
          },
          "yaxis": {
           "automargin": true,
           "gridcolor": "white",
           "linecolor": "white",
           "ticks": "",
           "title": {
            "standoff": 15
           },
           "zerolinecolor": "white",
           "zerolinewidth": 2
          }
         }
        },
        "xaxis": {
         "anchor": "y",
         "domain": [
          0,
          1
         ],
         "title": {
          "text": "number"
         }
        },
        "yaxis": {
         "anchor": "x",
         "domain": [
          0,
          1
         ],
         "title": {
          "text": "stage"
         }
        }
       }
      }
     },
     "metadata": {},
     "output_type": "display_data"
    }
   ],
   "source": [
    "# example from https://plotly.com/python/funnel-charts/\n",
    "data = dict(\n",
    "    number=[39, 27.4, 20.6, 11, 2],\n",
    "    stage=[\"Website visit\", \"Downloads\", \"Potential customers\", \"Requested price\", \"invoice sent\"])\n",
    "fig = px.funnel(data, x='number', y='stage')\n",
    "fig.show()"
   ]
  },
  {
   "cell_type": "markdown",
   "metadata": {
    "id": "Pp2J8Q3G_s4l"
   },
   "source": [
    "### Gantt chart\n",
    "\n",
    "* Used in management to display project schedule with different tasks and their planned duration\n",
    "* Can also display current status of tasks and their dependencies\n",
    "\n",
    "<img src=\"https://upload.wikimedia.org/wikipedia/commons/thumb/5/57/GanttChartAnatomy.svg/640px-GanttChartAnatomy.svg.png\">\n",
    "\n",
    "<small>https://commons.wikimedia.org/wiki/File:GanttChartAnatomy.svg</small>\n"
   ]
  },
  {
   "cell_type": "markdown",
   "metadata": {},
   "source": [
    "### Candlestick chart\n",
    "\n",
    "* Similar to boxplot, used in financial data, e.g. stocks, currency exchange rates\n",
    "* Line: minimum and maximum, box: opening and close, color: increase or decrease\n",
    "            \n",
    "<img src=\"https://upload.wikimedia.org/wikipedia/commons/3/3c/Candlestick_Chart_in_MetaTrader_5.png\" width=\"400px\">\n",
    "\n",
    "<small>https://commons.wikimedia.org/wiki/File:Candlestick_Chart_in_MetaTrader_5.png</small>"
   ]
  }
 ],
 "metadata": {
  "colab": {
   "authorship_tag": "ABX9TyOIYHivNurJ7L9lFYgKfUHO",
   "collapsed_sections": [],
   "name": "L11_Miscelaneous.ipynb",
   "provenance": []
  },
  "kernelspec": {
   "display_name": "Python 3 (ipykernel)",
   "language": "python",
   "name": "python3"
  },
  "language_info": {
   "codemirror_mode": {
    "name": "ipython",
    "version": 3
   },
   "file_extension": ".py",
   "mimetype": "text/x-python",
   "name": "python",
   "nbconvert_exporter": "python",
   "pygments_lexer": "ipython3",
   "version": "3.10.12"
  }
 },
 "nbformat": 4,
 "nbformat_minor": 1
}
